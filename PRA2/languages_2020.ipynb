{
 "cells": [
  {
   "cell_type": "code",
   "execution_count": 1,
   "id": "demanding-tobago",
   "metadata": {
    "execution": {
     "iopub.execute_input": "2022-06-03T21:38:24.322534Z",
     "iopub.status.busy": "2022-06-03T21:38:24.321739Z",
     "iopub.status.idle": "2022-06-03T21:38:24.565982Z",
     "shell.execute_reply": "2022-06-03T21:38:24.565530Z"
    },
    "papermill": {
     "duration": 0.280359,
     "end_time": "2022-06-03T21:38:24.566119",
     "exception": false,
     "start_time": "2022-06-03T21:38:24.285760",
     "status": "completed"
    },
    "tags": []
   },
   "outputs": [],
   "source": [
    "#!pip install matplotlib-venn\n",
    "import numpy as np\n",
    "import pandas as pd\n",
    "import zipfile\n",
    "import json"
   ]
  },
  {
   "cell_type": "code",
   "execution_count": 2,
   "id": "occupational-velvet",
   "metadata": {
    "execution": {
     "iopub.execute_input": "2022-06-03T21:38:24.618294Z",
     "iopub.status.busy": "2022-06-03T21:38:24.617749Z",
     "iopub.status.idle": "2022-06-03T21:38:24.620166Z",
     "shell.execute_reply": "2022-06-03T21:38:24.620640Z"
    },
    "papermill": {
     "duration": 0.032806,
     "end_time": "2022-06-03T21:38:24.620803",
     "exception": false,
     "start_time": "2022-06-03T21:38:24.587997",
     "status": "completed"
    },
    "tags": []
   },
   "outputs": [],
   "source": [
    "comp = {'Monthly': 12, 'Yearly': 1, 'Weekly':52}\n",
    "\n",
    "def comp_level(x):\n",
    "    if x[salaryType] != x[salaryType]:\n",
    "        return x[salaryType]   \n",
    "    return x[salary] * comp[x[salaryType]] / x[0]"
   ]
  },
  {
   "cell_type": "code",
   "execution_count": 3,
   "id": "chinese-programming",
   "metadata": {
    "execution": {
     "iopub.execute_input": "2022-06-03T21:38:24.655805Z",
     "iopub.status.busy": "2022-06-03T21:38:24.655255Z",
     "iopub.status.idle": "2022-06-03T21:38:24.658347Z",
     "shell.execute_reply": "2022-06-03T21:38:24.657863Z"
    },
    "papermill": {
     "duration": 0.022731,
     "end_time": "2022-06-03T21:38:24.658489",
     "exception": false,
     "start_time": "2022-06-03T21:38:24.635758",
     "status": "completed"
    },
    "tags": [
     "parameters"
    ]
   },
   "outputs": [],
   "source": [
    "year = 2021\n",
    "colworked = 'LanguageHaveWorkedWith'\n",
    "colwanted = 'LanguageWantToWorkWith'\n",
    "currency = 'Currency'\n",
    "salarytype = 'SalaryType'\n",
    "salary = 'Salary'"
   ]
  },
  {
   "cell_type": "code",
   "execution_count": 4,
   "id": "united-tender",
   "metadata": {
    "execution": {
     "iopub.execute_input": "2022-06-03T21:38:24.691048Z",
     "iopub.status.busy": "2022-06-03T21:38:24.690155Z",
     "iopub.status.idle": "2022-06-03T21:38:24.691975Z",
     "shell.execute_reply": "2022-06-03T21:38:24.692378Z"
    },
    "papermill": {
     "duration": 0.021037,
     "end_time": "2022-06-03T21:38:24.692534",
     "exception": false,
     "start_time": "2022-06-03T21:38:24.671497",
     "status": "completed"
    },
    "tags": [
     "injected-parameters"
    ]
   },
   "outputs": [],
   "source": [
    "# Parameters\n",
    "year = 2020\n",
    "colworked = \"LanguageWorkedWith\"\n",
    "colwanted = \"LanguageDesireNextYear\"\n",
    "currency = \"CurrencySymbol\"\n",
    "salary = \"CompTotal\"\n",
    "salaryType = \"CompFreq\"\n"
   ]
  },
  {
   "cell_type": "markdown",
   "id": "lined-browse",
   "metadata": {
    "papermill": {
     "duration": 0.012554,
     "end_time": "2022-06-03T21:38:24.718486",
     "exception": false,
     "start_time": "2022-06-03T21:38:24.705932",
     "status": "completed"
    },
    "tags": []
   },
   "source": [
    "Cargamos los datos y mostramos su contenido"
   ]
  },
  {
   "cell_type": "code",
   "execution_count": 5,
   "id": "headed-competition",
   "metadata": {
    "execution": {
     "iopub.execute_input": "2022-06-03T21:38:24.748168Z",
     "iopub.status.busy": "2022-06-03T21:38:24.747648Z",
     "iopub.status.idle": "2022-06-03T21:38:26.135871Z",
     "shell.execute_reply": "2022-06-03T21:38:26.135290Z"
    },
    "papermill": {
     "duration": 1.40445,
     "end_time": "2022-06-03T21:38:26.136019",
     "exception": false,
     "start_time": "2022-06-03T21:38:24.731569",
     "status": "completed"
    },
    "tags": []
   },
   "outputs": [],
   "source": [
    "\n",
    "zf = zipfile.ZipFile(f'data/in/stack-overflow-developer-survey-{year}.zip') \n",
    "devs = pd.read_csv(zf.open('survey_results_public.csv'))\n",
    "# Cargamos los ratios de conversion de las monedas a 1 de Diciembre de cada año.\n",
    "with open(f'data/rates/rates-{year}.json', 'r') as f:\n",
    "  data = json.loads(f.read())\n",
    "rates = pd.json_normalize(data['rates']).transpose()"
   ]
  },
  {
   "cell_type": "markdown",
   "id": "early-arcade",
   "metadata": {
    "papermill": {
     "duration": 0.013901,
     "end_time": "2022-06-03T21:38:26.164936",
     "exception": false,
     "start_time": "2022-06-03T21:38:26.151035",
     "status": "completed"
    },
    "tags": []
   },
   "source": [
    "Eliminamos los nulos de las dos  propiedades que nos intersan"
   ]
  },
  {
   "cell_type": "code",
   "execution_count": 6,
   "id": "genuine-copyright",
   "metadata": {
    "execution": {
     "iopub.execute_input": "2022-06-03T21:38:26.209969Z",
     "iopub.status.busy": "2022-06-03T21:38:26.205034Z",
     "iopub.status.idle": "2022-06-03T21:38:26.212941Z",
     "shell.execute_reply": "2022-06-03T21:38:26.212470Z"
    },
    "papermill": {
     "duration": 0.03124,
     "end_time": "2022-06-03T21:38:26.213068",
     "exception": false,
     "start_time": "2022-06-03T21:38:26.181828",
     "status": "completed"
    },
    "tags": []
   },
   "outputs": [],
   "source": [
    "devs[colworked] = devs[colworked].fillna(\"\")\n",
    "devs[colwanted] = devs[colwanted].fillna(\"\")\n",
    "devs[salary]= devs[salary].replace(\"nan\", np.NaN)\n",
    "devs[salary]= pd.to_numeric(devs[salary], errors='coerce')"
   ]
  },
  {
   "cell_type": "code",
   "execution_count": 7,
   "id": "specialized-carpet",
   "metadata": {
    "execution": {
     "iopub.execute_input": "2022-06-03T21:38:26.260990Z",
     "iopub.status.busy": "2022-06-03T21:38:26.260522Z",
     "iopub.status.idle": "2022-06-03T21:38:28.771852Z",
     "shell.execute_reply": "2022-06-03T21:38:28.771426Z"
    },
    "papermill": {
     "duration": 2.544918,
     "end_time": "2022-06-03T21:38:28.771978",
     "exception": false,
     "start_time": "2022-06-03T21:38:26.227060",
     "status": "completed"
    },
    "tags": []
   },
   "outputs": [],
   "source": [
    "lang_worked = devs[colworked].str.replace(' ', '').str.get_dummies(sep=';')\n",
    "lang_want = devs[colwanted].str.replace(' ', '').str.get_dummies(sep=';')"
   ]
  },
  {
   "cell_type": "markdown",
   "id": "entire-craft",
   "metadata": {
    "papermill": {
     "duration": 0.023992,
     "end_time": "2022-06-03T21:38:28.820381",
     "exception": false,
     "start_time": "2022-06-03T21:38:28.796389",
     "status": "completed"
    },
    "tags": []
   },
   "source": [
    "Se nivela la compensacion para obtener el valor anual aproximado en USD, aplicando el cambio de divisa cargado del año"
   ]
  },
  {
   "cell_type": "code",
   "execution_count": 8,
   "id": "intimate-rwanda",
   "metadata": {
    "execution": {
     "iopub.execute_input": "2022-06-03T21:38:28.874407Z",
     "iopub.status.busy": "2022-06-03T21:38:28.868119Z",
     "iopub.status.idle": "2022-06-03T21:38:30.478114Z",
     "shell.execute_reply": "2022-06-03T21:38:30.478545Z"
    },
    "papermill": {
     "duration": 1.636488,
     "end_time": "2022-06-03T21:38:30.478724",
     "exception": false,
     "start_time": "2022-06-03T21:38:28.842236",
     "status": "completed"
    },
    "tags": []
   },
   "outputs": [],
   "source": [
    "if currency:\n",
    "    devs[currency] = devs[currency].str[:3]\n",
    "    devs = pd.merge(devs, rates, left_on=currency, right_index=True)\n",
    "    devs['CompTotalUSD'] = devs.apply(comp_level, axis=1)\n",
    "else:\n",
    "    devs['CompTotalUSD'] = devs[salary]\n"
   ]
  },
  {
   "cell_type": "markdown",
   "id": "noted-stuart",
   "metadata": {
    "papermill": {
     "duration": 0.021852,
     "end_time": "2022-06-03T21:38:30.520112",
     "exception": false,
     "start_time": "2022-06-03T21:38:30.498260",
     "status": "completed"
    },
    "tags": []
   },
   "source": [
    "Obtenemos el dataframe con los distintos lenguajes y su compensacion"
   ]
  },
  {
   "cell_type": "code",
   "execution_count": 9,
   "id": "silent-council",
   "metadata": {
    "execution": {
     "iopub.execute_input": "2022-06-03T21:38:30.561322Z",
     "iopub.status.busy": "2022-06-03T21:38:30.560799Z",
     "iopub.status.idle": "2022-06-03T21:38:30.623966Z",
     "shell.execute_reply": "2022-06-03T21:38:30.623339Z"
    },
    "papermill": {
     "duration": 0.084236,
     "end_time": "2022-06-03T21:38:30.624144",
     "exception": false,
     "start_time": "2022-06-03T21:38:30.539908",
     "status": "completed"
    },
    "tags": []
   },
   "outputs": [],
   "source": [
    "comps = lang_worked.multiply( devs['CompTotalUSD']/1000, axis=\"index\").round(decimals=0).replace(0, np.NaN).median().astype('int')"
   ]
  },
  {
   "cell_type": "markdown",
   "id": "adopted-construction",
   "metadata": {
    "papermill": {
     "duration": 0.014963,
     "end_time": "2022-06-03T21:38:30.653415",
     "exception": false,
     "start_time": "2022-06-03T21:38:30.638452",
     "status": "completed"
    },
    "tags": []
   },
   "source": [
    "Calculamos el porcentaje de uso de cada lenguaje respecto del total.\n",
    "Como vamos a comparar años distintos con encuestados distintos por año, el porcentaje anual es una forma de nivelar y poder realizar la comparacion."
   ]
  },
  {
   "cell_type": "code",
   "execution_count": 10,
   "id": "amber-cargo",
   "metadata": {
    "execution": {
     "iopub.execute_input": "2022-06-03T21:38:30.684978Z",
     "iopub.status.busy": "2022-06-03T21:38:30.684391Z",
     "iopub.status.idle": "2022-06-03T21:38:30.690668Z",
     "shell.execute_reply": "2022-06-03T21:38:30.691105Z"
    },
    "papermill": {
     "duration": 0.023267,
     "end_time": "2022-06-03T21:38:30.691258",
     "exception": false,
     "start_time": "2022-06-03T21:38:30.667991",
     "status": "completed"
    },
    "tags": []
   },
   "outputs": [],
   "source": [
    "worked = lang_worked.sum() / len(lang_worked)\n",
    "wanted = lang_want.sum() / len(lang_want)"
   ]
  },
  {
   "cell_type": "markdown",
   "id": "weird-review",
   "metadata": {
    "papermill": {
     "duration": 0.01297,
     "end_time": "2022-06-03T21:38:30.717116",
     "exception": false,
     "start_time": "2022-06-03T21:38:30.704146",
     "status": "completed"
    },
    "tags": []
   },
   "source": [
    "Unimos los dataframes de lenguajes trabajados en el año, lenguajes en los que se quiere trabajar, la compensacion y el año."
   ]
  },
  {
   "cell_type": "code",
   "execution_count": 11,
   "id": "tutorial-journalism",
   "metadata": {
    "execution": {
     "iopub.execute_input": "2022-06-03T21:38:30.751887Z",
     "iopub.status.busy": "2022-06-03T21:38:30.751153Z",
     "iopub.status.idle": "2022-06-03T21:38:30.753497Z",
     "shell.execute_reply": "2022-06-03T21:38:30.753036Z"
    },
    "papermill": {
     "duration": 0.023138,
     "end_time": "2022-06-03T21:38:30.753620",
     "exception": false,
     "start_time": "2022-06-03T21:38:30.730482",
     "status": "completed"
    },
    "tags": []
   },
   "outputs": [],
   "source": [
    "w_df = pd.DataFrame(worked, columns= ['Worked'])\n",
    "wa_df = pd.DataFrame(wanted, columns= ['Wanted'])\n",
    "langs = pd.concat([w_df, wa_df, comps], axis=1)\n",
    "langs['Year'] = year"
   ]
  },
  {
   "cell_type": "markdown",
   "id": "cardiovascular-anthony",
   "metadata": {
    "papermill": {
     "duration": 0.014395,
     "end_time": "2022-06-03T21:38:30.781936",
     "exception": false,
     "start_time": "2022-06-03T21:38:30.767541",
     "status": "completed"
    },
    "tags": []
   },
   "source": [
    "Exportamos los datos procesados del año."
   ]
  },
  {
   "cell_type": "code",
   "execution_count": 12,
   "id": "spanish-sacramento",
   "metadata": {
    "execution": {
     "iopub.execute_input": "2022-06-03T21:38:30.812776Z",
     "iopub.status.busy": "2022-06-03T21:38:30.811877Z",
     "iopub.status.idle": "2022-06-03T21:38:30.815523Z",
     "shell.execute_reply": "2022-06-03T21:38:30.815096Z"
    },
    "papermill": {
     "duration": 0.020922,
     "end_time": "2022-06-03T21:38:30.815652",
     "exception": false,
     "start_time": "2022-06-03T21:38:30.794730",
     "status": "completed"
    },
    "tags": []
   },
   "outputs": [],
   "source": [
    "langs.to_csv(f'data/out/{year}.csv')"
   ]
  },
  {
   "cell_type": "code",
   "execution_count": null,
   "id": "finished-scene",
   "metadata": {
    "papermill": {
     "duration": 0.012945,
     "end_time": "2022-06-03T21:38:30.840923",
     "exception": false,
     "start_time": "2022-06-03T21:38:30.827978",
     "status": "completed"
    },
    "tags": []
   },
   "outputs": [],
   "source": []
  }
 ],
 "metadata": {
  "celltoolbar": "Tags",
  "interpreter": {
   "hash": "9e4d46cb2e7439cd377379e4187049771cc0b6089dc8d4ad323c0b3c23302069"
  },
  "kernelspec": {
   "display_name": "Python 3 (ipykernel)",
   "language": "python",
   "name": "python3"
  },
  "language_info": {
   "codemirror_mode": {
    "name": "ipython",
    "version": 3
   },
   "file_extension": ".py",
   "mimetype": "text/x-python",
   "name": "python",
   "nbconvert_exporter": "python",
   "pygments_lexer": "ipython3",
   "version": "3.9.1"
  },
  "papermill": {
   "default_parameters": {},
   "duration": 7.592037,
   "end_time": "2022-06-03T21:38:31.164130",
   "environment_variables": {},
   "exception": null,
   "input_path": "so_template_2017_2021.ipynb",
   "output_path": "languages_2020.ipynb",
   "parameters": {
    "colwanted": "LanguageDesireNextYear",
    "colworked": "LanguageWorkedWith",
    "currency": "CurrencySymbol",
    "salary": "CompTotal",
    "salaryType": "CompFreq",
    "year": 2020
   },
   "start_time": "2022-06-03T21:38:23.572093",
   "version": "2.3.4"
  }
 },
 "nbformat": 4,
 "nbformat_minor": 5
}