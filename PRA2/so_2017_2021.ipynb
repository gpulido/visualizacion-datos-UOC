{
 "cells": [
  {
   "cell_type": "code",
   "execution_count": 41,
   "metadata": {},
   "outputs": [],
   "source": [
    "#!pip install matplotlib-venn\n",
    "import numpy as np\n",
    "import pandas as pd\n",
    "import zipfile\n",
    "from collections import defaultdict\n",
    "from matplotlib import pyplot as plt\n",
    "%matplotlib inline"
   ]
  },
  {
   "cell_type": "markdown",
   "metadata": {},
   "source": [
    "Cargamos los datos y mostramos su contenido"
   ]
  },
  {
   "cell_type": "code",
   "execution_count": 42,
   "metadata": {},
   "outputs": [],
   "source": [
    "\n",
    "# year = 2021\n",
    "# colworked = 'LanguageHaveWorkedWith'\n",
    "# colwanted = 'LanguageWantToWorkWith'\n",
    "\n",
    "# year = 2020\n",
    "# colworked = 'LanguageWorkedWith'\n",
    "# colwanted = 'LanguageDesireNextYear'\n",
    "\n",
    "\n",
    "# year = 2019\n",
    "# colworked = 'LanguageWorkedWith'\n",
    "# colwanted = 'LanguageDesireNextYear'\n",
    "\n",
    "# year = 2018\n",
    "# colworked = 'LanguageWorkedWith'\n",
    "# colwanted = 'LanguageDesireNextYear'\n",
    "\n",
    "year = 2017\n",
    "colworked = 'HaveWorkedLanguage'\n",
    "colwanted = 'WantWorkLanguage'\n",
    "\n",
    "# year = 2016\n",
    "# colworked = 'tech_do'\n",
    "# colwanted = 'tech_want'\n",
    "\n",
    "\n",
    "zf = zipfile.ZipFile(f'data/in/stack-overflow-developer-survey-{year}.zip') \n",
    "devs = pd.read_csv(zf.open('survey_results_public.csv'))\n",
    "comps =pd.read_csv(f'compensations/{year}.csv', sep=\";\", index_col='Lang')"
   ]
  },
  {
   "cell_type": "markdown",
   "metadata": {},
   "source": [
    "Eliminamos los nulos de las dos  propiedades que nos intersan"
   ]
  },
  {
   "cell_type": "code",
   "execution_count": 43,
   "metadata": {},
   "outputs": [],
   "source": [
    "devs[colworked] = devs[colworked].fillna(\"\")\n",
    "devs[colwanted] = devs[colwanted].fillna(\"\")"
   ]
  },
  {
   "cell_type": "code",
   "execution_count": 50,
   "metadata": {},
   "outputs": [],
   "source": [
    "lang_worked = devs[colworked].str.replace(' ', '').str.get_dummies(sep=';')\n",
    "lang_want = devs[colwanted].str.replace(' ', '').str.get_dummies(sep=';')"
   ]
  },
  {
   "cell_type": "code",
   "execution_count": null,
   "metadata": {},
   "outputs": [],
   "source": [
    "worked = lang_worked.sum() / len(lang_worked)\n",
    "wanted = lang_want.sum() / len(lang_want)"
   ]
  },
  {
   "cell_type": "code",
   "execution_count": null,
   "metadata": {},
   "outputs": [],
   "source": [
    "w_df = pd.DataFrame(worked, columns= ['Worked'])\n",
    "wa_df = pd.DataFrame(wanted, columns= ['Wanted'])"
   ]
  },
  {
   "cell_type": "code",
   "execution_count": null,
   "metadata": {},
   "outputs": [],
   "source": [
    "langs = pd.concat([w_df, wa_df, comps], axis=1)\n",
    "langs['Year'] = year"
   ]
  },
  {
   "cell_type": "code",
   "execution_count": null,
   "metadata": {},
   "outputs": [],
   "source": [
    "langs.to_csv(f'data/out/{year}.csv')"
   ]
  }
 ],
 "metadata": {
  "interpreter": {
   "hash": "9e4d46cb2e7439cd377379e4187049771cc0b6089dc8d4ad323c0b3c23302069"
  },
  "kernelspec": {
   "display_name": "Python 3.8.3 ('base')",
   "language": "python",
   "name": "python3"
  },
  "language_info": {
   "codemirror_mode": {
    "name": "ipython",
    "version": 3
   },
   "file_extension": ".py",
   "mimetype": "text/x-python",
   "name": "python",
   "nbconvert_exporter": "python",
   "pygments_lexer": "ipython3",
   "version": "3.8.5"
  }
 },
 "nbformat": 4,
 "nbformat_minor": 4
}
