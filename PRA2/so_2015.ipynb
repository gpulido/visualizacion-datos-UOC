{
 "cells": [
  {
   "cell_type": "code",
   "execution_count": 1,
   "metadata": {},
   "outputs": [],
   "source": [
    "#!pip install matplotlib-venn\n",
    "import numpy as np\n",
    "import pandas as pd\n",
    "import zipfile\n",
    "from collections import defaultdict\n",
    "from matplotlib import pyplot as plt\n",
    "%matplotlib inline"
   ]
  },
  {
   "cell_type": "markdown",
   "metadata": {},
   "source": [
    "Cargamos los datos y mostramos su contenido"
   ]
  },
  {
   "cell_type": "code",
   "execution_count": 41,
   "metadata": {},
   "outputs": [],
   "source": [
    "year = 2015\n",
    "name = \"Stack Overflow Developer Survey Responses.csv\"\n",
    "\n",
    "zf = zipfile.ZipFile(f'data/in/stack-overflow-developer-survey-{year}.zip') \n",
    "\n",
    "devs = pd.read_csv(zf.open(f'{year} {name}'), low_memory=False, header=1)"
   ]
  },
  {
   "cell_type": "code",
   "execution_count": 42,
   "metadata": {},
   "outputs": [
    {
     "name": "stdout",
     "output_type": "stream",
     "text": [
      "Response\n",
      "Other (please specify)\n",
      "Response.1\n",
      "Response.2\n",
      "Response.3\n",
      "Response.4\n",
      "Response.5\n",
      "Response.6\n",
      "Response.7\n",
      "Response.8\n",
      "Response.9\n",
      "Response.10\n",
      "Response.11\n",
      "iPhone\n",
      "iPad\n",
      "Android Phone\n",
      "Android Tablet\n",
      "Windows Phone\n",
      "Other\n",
      "No mobile app\n",
      "Developing new features\n",
      "Refactoring / code quality\n",
      "Fixing bugs\n",
      "Technical support\n",
      "Meetings\n",
      "Learning new skills\n",
      "Surfing the Internet\n",
      "Looking for a new job\n",
      "Using Stack Exchange\n",
      "I can recommend or request products\n",
      "I influence purchasing decisions, but don't have final approval\n",
      "I have a discretionary budget at my disposal\n",
      "I can buy anything I want without asking anyone\n",
      "No Involvement\n",
      "Hardware\n",
      "Servers\n",
      "Software\n",
      "User Equipment: Monitors, PCs, Laptops\n",
      "Consultants\n",
      "Recruitment Tools & Services\n",
      "Other.1\n",
      "Response.12\n",
      "C\n",
      "C++\n",
      "C#\n",
      "Java\n",
      "JavaScript\n",
      "Node.js\n",
      "Objective-C\n",
      "PHP\n",
      "Python\n",
      "Ruby\n",
      "SQL\n",
      "Other (please specify).1\n",
      "Node.js.1\n",
      "Haskell\n",
      "CoffeeScript\n",
      "Dart\n",
      "C++11\n",
      "Redis\n",
      "MongoDB\n",
      "F#\n",
      "Go\n",
      "Hadoop\n",
      "AngularJS\n",
      "Cordova\n",
      "Arduino / Raspberry Pi\n",
      "Response.13\n",
      "iPhone.1\n",
      "Android Phone.1\n",
      "Windows Phone.1\n",
      "iPad.1\n",
      "Android Tablet.1\n",
      "Kindle Fire\n",
      "Windows Tablet\n",
      "PS3\n",
      "PS4\n",
      "Xbox 360\n",
      "Xbox One\n",
      "Wii\n",
      "Wii U\n",
      "Other (please specify).2\n",
      "Response.14\n",
      "Response.15\n",
      "Other (please specify).3\n",
      "Response.16\n",
      "Response.17\n",
      "Email\n",
      "LinkedIn Inmail\n",
      "Phone\n",
      "Stack Overflow Careers Message\n",
      "Twitter\n",
      "Message is personalized to me\n",
      "Mentions my code or Stack Overflow activity\n",
      "Includes salary information\n",
      "Describes the team I will work on\n",
      "Describes company culture\n",
      "Describes benefits / perks of the work environment\n",
      "Link to a Stack Overflow Careers Company Page or other source of more information about the company (videos, articles, etc)\n",
      "Response.18\n",
      "Response.19\n",
      "Response.20\n",
      "The ads are relevant\n",
      "The ads are entertaining\n",
      "The ads are Informative\n",
      "I click on ads that interest me\n",
      "I've taken a trial/purchased a product from ads\n",
      "I like that I can indicate ads I want to see less of\n",
      "What ads? I use an ad blocker\n",
      "Response.21\n",
      "Response.22\n",
      "Open-Ended Response\n",
      "Response.23\n",
      "Read other people's questions to solve my problems\n",
      "Ask questions to solve problems\n",
      "Answer questions I know the answer to\n",
      "Looking for a job\n",
      "Build my online reputation\n",
      "Other (please specify).4\n",
      "Response.24\n"
     ]
    }
   ],
   "source": [
    "for col in devs.columns:\n",
    "    print(col)"
   ]
  },
  {
   "cell_type": "code",
   "execution_count": 15,
   "metadata": {},
   "outputs": [],
   "source": [
    "current_columns = [col for col in devs.columns if col.startswith(\"Current Lang & Tech:\")]\n",
    "future_columns = [col for col in devs.columns if col.startswith(\"Future Lang & Tech:\")]\n"
   ]
  },
  {
   "cell_type": "code",
   "execution_count": 22,
   "metadata": {},
   "outputs": [],
   "source": [
    "lang_worked = devs[current_columns].notnull().astype('int')\n",
    "lang_worked.columns = lang_worked.columns.str.replace(r\"Current Lang & Tech: \", \"\")\n",
    "lang_want = devs[future_columns].notnull().astype('int')\n",
    "lang_want.columns = lang_worked.columns.str.replace(r\"Future Lang & Tech: \", \"\")"
   ]
  },
  {
   "cell_type": "code",
   "execution_count": 35,
   "metadata": {},
   "outputs": [],
   "source": [
    "devs['Compensation: midpoint'] = pd.to_numeric(devs['Compensation: midpoint'], errors='coerce')"
   ]
  },
  {
   "cell_type": "code",
   "execution_count": 36,
   "metadata": {},
   "outputs": [],
   "source": [
    "comps = lang_worked.multiply( devs['Compensation: midpoint']/1000, axis=\"index\").round(decimals=0).replace(0, np.NaN).median().astype('int')"
   ]
  },
  {
   "cell_type": "code",
   "execution_count": 37,
   "metadata": {},
   "outputs": [],
   "source": [
    "worked = lang_worked.sum() / len(lang_worked)\n",
    "wanted = lang_want.sum() / len(lang_want)"
   ]
  },
  {
   "cell_type": "code",
   "execution_count": 38,
   "metadata": {},
   "outputs": [],
   "source": [
    "w_df = pd.DataFrame(worked, columns= ['Worked'])\n",
    "wa_df = pd.DataFrame(wanted, columns= ['Wanted'])"
   ]
  },
  {
   "cell_type": "code",
   "execution_count": 39,
   "metadata": {},
   "outputs": [],
   "source": [
    "langs = pd.concat([w_df, wa_df, comps], axis=1)\n",
    "langs['Year'] = year"
   ]
  },
  {
   "cell_type": "code",
   "execution_count": 40,
   "metadata": {},
   "outputs": [],
   "source": [
    "langs.to_csv(f'data/out/{year}.csv')"
   ]
  }
 ],
 "metadata": {
  "interpreter": {
   "hash": "9e4d46cb2e7439cd377379e4187049771cc0b6089dc8d4ad323c0b3c23302069"
  },
  "kernelspec": {
   "display_name": "Python 3.8.3 ('base')",
   "language": "python",
   "name": "python3"
  },
  "language_info": {
   "codemirror_mode": {
    "name": "ipython",
    "version": 3
   },
   "file_extension": ".py",
   "mimetype": "text/x-python",
   "name": "python",
   "nbconvert_exporter": "python",
   "pygments_lexer": "ipython3",
   "version": "3.8.5"
  }
 },
 "nbformat": 4,
 "nbformat_minor": 4
}
