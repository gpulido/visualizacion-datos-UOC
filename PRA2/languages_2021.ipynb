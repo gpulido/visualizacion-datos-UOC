{
 "cells": [
  {
   "cell_type": "code",
   "execution_count": 1,
   "id": "unlike-survival",
   "metadata": {
    "execution": {
     "iopub.execute_input": "2022-06-03T21:38:13.942383Z",
     "iopub.status.busy": "2022-06-03T21:38:13.941899Z",
     "iopub.status.idle": "2022-06-03T21:38:14.167481Z",
     "shell.execute_reply": "2022-06-03T21:38:14.166312Z"
    },
    "papermill": {
     "duration": 0.258497,
     "end_time": "2022-06-03T21:38:14.167771",
     "exception": false,
     "start_time": "2022-06-03T21:38:13.909274",
     "status": "completed"
    },
    "tags": []
   },
   "outputs": [],
   "source": [
    "#!pip install matplotlib-venn\n",
    "import numpy as np\n",
    "import pandas as pd\n",
    "import zipfile\n",
    "import json"
   ]
  },
  {
   "cell_type": "code",
   "execution_count": 2,
   "id": "recreational-establishment",
   "metadata": {
    "execution": {
     "iopub.execute_input": "2022-06-03T21:38:14.226709Z",
     "iopub.status.busy": "2022-06-03T21:38:14.226192Z",
     "iopub.status.idle": "2022-06-03T21:38:14.228319Z",
     "shell.execute_reply": "2022-06-03T21:38:14.228720Z"
    },
    "papermill": {
     "duration": 0.032689,
     "end_time": "2022-06-03T21:38:14.228902",
     "exception": false,
     "start_time": "2022-06-03T21:38:14.196213",
     "status": "completed"
    },
    "tags": []
   },
   "outputs": [],
   "source": [
    "comp = {'Monthly': 12, 'Yearly': 1, 'Weekly':52}\n",
    "\n",
    "def comp_level(x):\n",
    "    if x[salaryType] != x[salaryType]:\n",
    "        return x[salaryType]   \n",
    "    return x[salary] * comp[x[salaryType]] / x[0]"
   ]
  },
  {
   "cell_type": "code",
   "execution_count": 3,
   "id": "homeless-specific",
   "metadata": {
    "execution": {
     "iopub.execute_input": "2022-06-03T21:38:14.261101Z",
     "iopub.status.busy": "2022-06-03T21:38:14.260574Z",
     "iopub.status.idle": "2022-06-03T21:38:14.262227Z",
     "shell.execute_reply": "2022-06-03T21:38:14.262672Z"
    },
    "papermill": {
     "duration": 0.019141,
     "end_time": "2022-06-03T21:38:14.262837",
     "exception": false,
     "start_time": "2022-06-03T21:38:14.243696",
     "status": "completed"
    },
    "tags": [
     "parameters"
    ]
   },
   "outputs": [],
   "source": [
    "year = 2021\n",
    "colworked = 'LanguageHaveWorkedWith'\n",
    "colwanted = 'LanguageWantToWorkWith'\n",
    "currency = 'Currency'\n",
    "salarytype = 'SalaryType'\n",
    "salary = 'Salary'"
   ]
  },
  {
   "cell_type": "code",
   "execution_count": 4,
   "id": "deadly-chapel",
   "metadata": {
    "execution": {
     "iopub.execute_input": "2022-06-03T21:38:14.298350Z",
     "iopub.status.busy": "2022-06-03T21:38:14.297861Z",
     "iopub.status.idle": "2022-06-03T21:38:14.299960Z",
     "shell.execute_reply": "2022-06-03T21:38:14.299548Z"
    },
    "papermill": {
     "duration": 0.022637,
     "end_time": "2022-06-03T21:38:14.300136",
     "exception": false,
     "start_time": "2022-06-03T21:38:14.277499",
     "status": "completed"
    },
    "tags": [
     "injected-parameters"
    ]
   },
   "outputs": [],
   "source": [
    "# Parameters\n",
    "year = 2021\n",
    "colworked = \"LanguageHaveWorkedWith\"\n",
    "colwanted = \"LanguageWantToWorkWith\"\n",
    "currency = \"Currency\"\n",
    "salary = \"CompTotal\"\n",
    "salaryType = \"CompFreq\"\n"
   ]
  },
  {
   "cell_type": "markdown",
   "id": "brazilian-moral",
   "metadata": {
    "papermill": {
     "duration": 0.012207,
     "end_time": "2022-06-03T21:38:14.325466",
     "exception": false,
     "start_time": "2022-06-03T21:38:14.313259",
     "status": "completed"
    },
    "tags": []
   },
   "source": [
    "Cargamos los datos y mostramos su contenido"
   ]
  },
  {
   "cell_type": "code",
   "execution_count": 5,
   "id": "narrow-finance",
   "metadata": {
    "execution": {
     "iopub.execute_input": "2022-06-03T21:38:14.357618Z",
     "iopub.status.busy": "2022-06-03T21:38:14.357145Z",
     "iopub.status.idle": "2022-06-03T21:38:15.710368Z",
     "shell.execute_reply": "2022-06-03T21:38:15.709303Z"
    },
    "papermill": {
     "duration": 1.372929,
     "end_time": "2022-06-03T21:38:15.710639",
     "exception": false,
     "start_time": "2022-06-03T21:38:14.337710",
     "status": "completed"
    },
    "tags": []
   },
   "outputs": [],
   "source": [
    "\n",
    "zf = zipfile.ZipFile(f'data/in/stack-overflow-developer-survey-{year}.zip') \n",
    "devs = pd.read_csv(zf.open('survey_results_public.csv'))\n",
    "# Cargamos los ratios de conversion de las monedas a 1 de Diciembre de cada año.\n",
    "with open(f'data/rates/rates-{year}.json', 'r') as f:\n",
    "  data = json.loads(f.read())\n",
    "rates = pd.json_normalize(data['rates']).transpose()"
   ]
  },
  {
   "cell_type": "markdown",
   "id": "obvious-friendship",
   "metadata": {
    "papermill": {
     "duration": 0.013351,
     "end_time": "2022-06-03T21:38:15.738212",
     "exception": false,
     "start_time": "2022-06-03T21:38:15.724861",
     "status": "completed"
    },
    "tags": []
   },
   "source": [
    "Eliminamos los nulos de las dos  propiedades que nos intersan"
   ]
  },
  {
   "cell_type": "code",
   "execution_count": 6,
   "id": "interpreted-broadcast",
   "metadata": {
    "execution": {
     "iopub.execute_input": "2022-06-03T21:38:15.783438Z",
     "iopub.status.busy": "2022-06-03T21:38:15.782922Z",
     "iopub.status.idle": "2022-06-03T21:38:15.794432Z",
     "shell.execute_reply": "2022-06-03T21:38:15.794035Z"
    },
    "papermill": {
     "duration": 0.033804,
     "end_time": "2022-06-03T21:38:15.794561",
     "exception": false,
     "start_time": "2022-06-03T21:38:15.760757",
     "status": "completed"
    },
    "tags": []
   },
   "outputs": [],
   "source": [
    "devs[colworked] = devs[colworked].fillna(\"\")\n",
    "devs[colwanted] = devs[colwanted].fillna(\"\")\n",
    "devs[salary]= devs[salary].replace(\"nan\", np.NaN)\n",
    "devs[salary]= pd.to_numeric(devs[salary], errors='coerce')"
   ]
  },
  {
   "cell_type": "code",
   "execution_count": 7,
   "id": "quantitative-chick",
   "metadata": {
    "execution": {
     "iopub.execute_input": "2022-06-03T21:38:15.836859Z",
     "iopub.status.busy": "2022-06-03T21:38:15.829870Z",
     "iopub.status.idle": "2022-06-03T21:38:20.761560Z",
     "shell.execute_reply": "2022-06-03T21:38:20.761932Z"
    },
    "papermill": {
     "duration": 4.954918,
     "end_time": "2022-06-03T21:38:20.762090",
     "exception": false,
     "start_time": "2022-06-03T21:38:15.807172",
     "status": "completed"
    },
    "tags": []
   },
   "outputs": [],
   "source": [
    "lang_worked = devs[colworked].str.replace(' ', '').str.get_dummies(sep=';')\n",
    "lang_want = devs[colwanted].str.replace(' ', '').str.get_dummies(sep=';')"
   ]
  },
  {
   "cell_type": "markdown",
   "id": "excess-buyer",
   "metadata": {
    "papermill": {
     "duration": 0.025129,
     "end_time": "2022-06-03T21:38:20.815378",
     "exception": false,
     "start_time": "2022-06-03T21:38:20.790249",
     "status": "completed"
    },
    "tags": []
   },
   "source": [
    "Se nivela la compensacion para obtener el valor anual aproximado en USD, aplicando el cambio de divisa cargado del año"
   ]
  },
  {
   "cell_type": "code",
   "execution_count": 8,
   "id": "wrapped-filename",
   "metadata": {
    "execution": {
     "iopub.execute_input": "2022-06-03T21:38:20.855693Z",
     "iopub.status.busy": "2022-06-03T21:38:20.855163Z",
     "iopub.status.idle": "2022-06-03T21:38:22.755921Z",
     "shell.execute_reply": "2022-06-03T21:38:22.755510Z"
    },
    "papermill": {
     "duration": 1.924023,
     "end_time": "2022-06-03T21:38:22.756047",
     "exception": false,
     "start_time": "2022-06-03T21:38:20.832024",
     "status": "completed"
    },
    "tags": []
   },
   "outputs": [],
   "source": [
    "if currency:\n",
    "    devs[currency] = devs[currency].str[:3]\n",
    "    devs = pd.merge(devs, rates, left_on=currency, right_index=True)\n",
    "    devs['CompTotalUSD'] = devs.apply(comp_level, axis=1)\n",
    "else:\n",
    "    devs['CompTotalUSD'] = devs[salary]\n"
   ]
  },
  {
   "cell_type": "markdown",
   "id": "forced-symphony",
   "metadata": {
    "papermill": {
     "duration": 0.016218,
     "end_time": "2022-06-03T21:38:22.785222",
     "exception": false,
     "start_time": "2022-06-03T21:38:22.769004",
     "status": "completed"
    },
    "tags": []
   },
   "source": [
    "Obtenemos el dataframe con los distintos lenguajes y su compensacion"
   ]
  },
  {
   "cell_type": "code",
   "execution_count": 9,
   "id": "innovative-bradley",
   "metadata": {
    "execution": {
     "iopub.execute_input": "2022-06-03T21:38:22.823386Z",
     "iopub.status.busy": "2022-06-03T21:38:22.822903Z",
     "iopub.status.idle": "2022-06-03T21:38:22.929687Z",
     "shell.execute_reply": "2022-06-03T21:38:22.928630Z"
    },
    "papermill": {
     "duration": 0.125658,
     "end_time": "2022-06-03T21:38:22.929964",
     "exception": false,
     "start_time": "2022-06-03T21:38:22.804306",
     "status": "completed"
    },
    "tags": []
   },
   "outputs": [],
   "source": [
    "comps = lang_worked.multiply( devs['CompTotalUSD']/1000, axis=\"index\").round(decimals=0).replace(0, np.NaN).median().astype('int')"
   ]
  },
  {
   "cell_type": "markdown",
   "id": "acceptable-latvia",
   "metadata": {
    "papermill": {
     "duration": 0.014091,
     "end_time": "2022-06-03T21:38:22.960522",
     "exception": false,
     "start_time": "2022-06-03T21:38:22.946431",
     "status": "completed"
    },
    "tags": []
   },
   "source": [
    "Calculamos el porcentaje de uso de cada lenguaje respecto del total.\n",
    "Como vamos a comparar años distintos con encuestados distintos por año, el porcentaje anual es una forma de nivelar y poder realizar la comparacion."
   ]
  },
  {
   "cell_type": "code",
   "execution_count": 10,
   "id": "divine-opposition",
   "metadata": {
    "execution": {
     "iopub.execute_input": "2022-06-03T21:38:22.994257Z",
     "iopub.status.busy": "2022-06-03T21:38:22.993567Z",
     "iopub.status.idle": "2022-06-03T21:38:23.002411Z",
     "shell.execute_reply": "2022-06-03T21:38:23.001929Z"
    },
    "papermill": {
     "duration": 0.027257,
     "end_time": "2022-06-03T21:38:23.002537",
     "exception": false,
     "start_time": "2022-06-03T21:38:22.975280",
     "status": "completed"
    },
    "tags": []
   },
   "outputs": [],
   "source": [
    "worked = lang_worked.sum() / len(lang_worked)\n",
    "wanted = lang_want.sum() / len(lang_want)"
   ]
  },
  {
   "cell_type": "markdown",
   "id": "fifth-values",
   "metadata": {
    "papermill": {
     "duration": 0.012605,
     "end_time": "2022-06-03T21:38:23.027850",
     "exception": false,
     "start_time": "2022-06-03T21:38:23.015245",
     "status": "completed"
    },
    "tags": []
   },
   "source": [
    "Unimos los dataframes de lenguajes trabajados en el año, lenguajes en los que se quiere trabajar, la compensacion y el año."
   ]
  },
  {
   "cell_type": "code",
   "execution_count": 11,
   "id": "gothic-facing",
   "metadata": {
    "execution": {
     "iopub.execute_input": "2022-06-03T21:38:23.061140Z",
     "iopub.status.busy": "2022-06-03T21:38:23.060481Z",
     "iopub.status.idle": "2022-06-03T21:38:23.062533Z",
     "shell.execute_reply": "2022-06-03T21:38:23.062938Z"
    },
    "papermill": {
     "duration": 0.023086,
     "end_time": "2022-06-03T21:38:23.063087",
     "exception": false,
     "start_time": "2022-06-03T21:38:23.040001",
     "status": "completed"
    },
    "tags": []
   },
   "outputs": [],
   "source": [
    "w_df = pd.DataFrame(worked, columns= ['Worked'])\n",
    "wa_df = pd.DataFrame(wanted, columns= ['Wanted'])\n",
    "langs = pd.concat([w_df, wa_df, comps], axis=1)\n",
    "langs['Year'] = year"
   ]
  },
  {
   "cell_type": "markdown",
   "id": "creative-birth",
   "metadata": {
    "papermill": {
     "duration": 0.012718,
     "end_time": "2022-06-03T21:38:23.089014",
     "exception": false,
     "start_time": "2022-06-03T21:38:23.076296",
     "status": "completed"
    },
    "tags": []
   },
   "source": [
    "Exportamos los datos procesados del año."
   ]
  },
  {
   "cell_type": "code",
   "execution_count": 12,
   "id": "beneficial-amendment",
   "metadata": {
    "execution": {
     "iopub.execute_input": "2022-06-03T21:38:23.119314Z",
     "iopub.status.busy": "2022-06-03T21:38:23.118524Z",
     "iopub.status.idle": "2022-06-03T21:38:23.124048Z",
     "shell.execute_reply": "2022-06-03T21:38:23.123569Z"
    },
    "papermill": {
     "duration": 0.021722,
     "end_time": "2022-06-03T21:38:23.124167",
     "exception": false,
     "start_time": "2022-06-03T21:38:23.102445",
     "status": "completed"
    },
    "tags": []
   },
   "outputs": [],
   "source": [
    "langs.to_csv(f'data/out/{year}.csv')"
   ]
  },
  {
   "cell_type": "code",
   "execution_count": null,
   "id": "smoking-netherlands",
   "metadata": {
    "papermill": {
     "duration": 0.01251,
     "end_time": "2022-06-03T21:38:23.149219",
     "exception": false,
     "start_time": "2022-06-03T21:38:23.136709",
     "status": "completed"
    },
    "tags": []
   },
   "outputs": [],
   "source": []
  }
 ],
 "metadata": {
  "celltoolbar": "Tags",
  "interpreter": {
   "hash": "9e4d46cb2e7439cd377379e4187049771cc0b6089dc8d4ad323c0b3c23302069"
  },
  "kernelspec": {
   "display_name": "Python 3 (ipykernel)",
   "language": "python",
   "name": "python3"
  },
  "language_info": {
   "codemirror_mode": {
    "name": "ipython",
    "version": 3
   },
   "file_extension": ".py",
   "mimetype": "text/x-python",
   "name": "python",
   "nbconvert_exporter": "python",
   "pygments_lexer": "ipython3",
   "version": "3.9.1"
  },
  "papermill": {
   "default_parameters": {},
   "duration": 10.249852,
   "end_time": "2022-06-03T21:38:23.472662",
   "environment_variables": {},
   "exception": null,
   "input_path": "so_template_2017_2021.ipynb",
   "output_path": "languages_2021.ipynb",
   "parameters": {
    "colwanted": "LanguageWantToWorkWith",
    "colworked": "LanguageHaveWorkedWith",
    "currency": "Currency",
    "salary": "CompTotal",
    "salaryType": "CompFreq",
    "year": 2021
   },
   "start_time": "2022-06-03T21:38:13.222810",
   "version": "2.3.4"
  }
 },
 "nbformat": 4,
 "nbformat_minor": 5
}