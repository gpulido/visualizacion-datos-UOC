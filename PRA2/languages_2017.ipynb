{
 "cells": [
  {
   "cell_type": "code",
   "execution_count": 1,
   "id": "discrete-attitude",
   "metadata": {
    "execution": {
     "iopub.execute_input": "2022-06-03T21:31:13.635025Z",
     "iopub.status.busy": "2022-06-03T21:31:13.634524Z",
     "iopub.status.idle": "2022-06-03T21:31:13.898369Z",
     "shell.execute_reply": "2022-06-03T21:31:13.897819Z"
    },
    "papermill": {
     "duration": 0.283388,
     "end_time": "2022-06-03T21:31:13.898506",
     "exception": false,
     "start_time": "2022-06-03T21:31:13.615118",
     "status": "completed"
    },
    "tags": []
   },
   "outputs": [],
   "source": [
    "#!pip install matplotlib-venn\n",
    "import numpy as np\n",
    "import pandas as pd\n",
    "import zipfile\n",
    "import json"
   ]
  },
  {
   "cell_type": "code",
   "execution_count": 2,
   "id": "accepting-pilot",
   "metadata": {
    "execution": {
     "iopub.execute_input": "2022-06-03T21:31:13.944908Z",
     "iopub.status.busy": "2022-06-03T21:31:13.944406Z",
     "iopub.status.idle": "2022-06-03T21:31:13.946438Z",
     "shell.execute_reply": "2022-06-03T21:31:13.946821Z"
    },
    "papermill": {
     "duration": 0.027284,
     "end_time": "2022-06-03T21:31:13.946988",
     "exception": false,
     "start_time": "2022-06-03T21:31:13.919704",
     "status": "completed"
    },
    "tags": []
   },
   "outputs": [],
   "source": [
    "comp = {'Monthly': 12, 'Yearly': 1, 'Weekly':52}\n",
    "\n",
    "def comp_level(x):\n",
    "    if x[salaryType] != x[salaryType]:\n",
    "        return x[salaryType]   \n",
    "    return x[salary] * comp[x[salaryType]] / x[0]"
   ]
  },
  {
   "cell_type": "code",
   "execution_count": 3,
   "id": "absolute-circle",
   "metadata": {
    "execution": {
     "iopub.execute_input": "2022-06-03T21:31:13.986083Z",
     "iopub.status.busy": "2022-06-03T21:31:13.985333Z",
     "iopub.status.idle": "2022-06-03T21:31:13.990491Z",
     "shell.execute_reply": "2022-06-03T21:31:13.990048Z"
    },
    "papermill": {
     "duration": 0.02702,
     "end_time": "2022-06-03T21:31:13.990634",
     "exception": false,
     "start_time": "2022-06-03T21:31:13.963614",
     "status": "completed"
    },
    "tags": [
     "parameters"
    ]
   },
   "outputs": [],
   "source": [
    "year = 2021\n",
    "colworked = 'LanguageHaveWorkedWith'\n",
    "colwanted = 'LanguageWantToWorkWith'\n",
    "currency = 'Currency'\n",
    "salarytype = 'SalaryType'\n",
    "salary = 'Salary'"
   ]
  },
  {
   "cell_type": "code",
   "execution_count": 4,
   "id": "promotional-acting",
   "metadata": {
    "execution": {
     "iopub.execute_input": "2022-06-03T21:31:14.026488Z",
     "iopub.status.busy": "2022-06-03T21:31:14.025976Z",
     "iopub.status.idle": "2022-06-03T21:31:14.028250Z",
     "shell.execute_reply": "2022-06-03T21:31:14.028638Z"
    },
    "papermill": {
     "duration": 0.019058,
     "end_time": "2022-06-03T21:31:14.028794",
     "exception": false,
     "start_time": "2022-06-03T21:31:14.009736",
     "status": "completed"
    },
    "tags": [
     "injected-parameters"
    ]
   },
   "outputs": [],
   "source": [
    "# Parameters\n",
    "year = 2017\n",
    "colworked = \"HaveWorkedLanguage\"\n",
    "colwanted = \"WantWorkLanguage\"\n",
    "currency = None\n",
    "salary = \"Salary\"\n",
    "salaryType = \"SalaryType\"\n"
   ]
  },
  {
   "cell_type": "markdown",
   "id": "furnished-helmet",
   "metadata": {
    "papermill": {
     "duration": 0.014403,
     "end_time": "2022-06-03T21:31:14.061398",
     "exception": false,
     "start_time": "2022-06-03T21:31:14.046995",
     "status": "completed"
    },
    "tags": []
   },
   "source": [
    "Cargamos los datos y mostramos su contenido"
   ]
  },
  {
   "cell_type": "code",
   "execution_count": 5,
   "id": "passing-federal",
   "metadata": {
    "execution": {
     "iopub.execute_input": "2022-06-03T21:31:14.090626Z",
     "iopub.status.busy": "2022-06-03T21:31:14.090148Z",
     "iopub.status.idle": "2022-06-03T21:31:15.804021Z",
     "shell.execute_reply": "2022-06-03T21:31:15.803625Z"
    },
    "papermill": {
     "duration": 1.729295,
     "end_time": "2022-06-03T21:31:15.804148",
     "exception": false,
     "start_time": "2022-06-03T21:31:14.074853",
     "status": "completed"
    },
    "tags": []
   },
   "outputs": [],
   "source": [
    "\n",
    "zf = zipfile.ZipFile(f'data/in/stack-overflow-developer-survey-{year}.zip') \n",
    "devs = pd.read_csv(zf.open('survey_results_public.csv'))\n",
    "# Cargamos los ratios de conversion de las monedas a 1 de Diciembre de cada año.\n",
    "with open(f'data/rates/rates-{year}.json', 'r') as f:\n",
    "  data = json.loads(f.read())\n",
    "rates = pd.json_normalize(data['rates']).transpose()"
   ]
  },
  {
   "cell_type": "markdown",
   "id": "acquired-cherry",
   "metadata": {
    "papermill": {
     "duration": 0.013627,
     "end_time": "2022-06-03T21:31:15.830710",
     "exception": false,
     "start_time": "2022-06-03T21:31:15.817083",
     "status": "completed"
    },
    "tags": []
   },
   "source": [
    "Eliminamos los nulos de las dos  propiedades que nos intersan"
   ]
  },
  {
   "cell_type": "code",
   "execution_count": 6,
   "id": "japanese-pizza",
   "metadata": {
    "execution": {
     "iopub.execute_input": "2022-06-03T21:31:15.867798Z",
     "iopub.status.busy": "2022-06-03T21:31:15.867230Z",
     "iopub.status.idle": "2022-06-03T21:31:15.870372Z",
     "shell.execute_reply": "2022-06-03T21:31:15.869853Z"
    },
    "papermill": {
     "duration": 0.027022,
     "end_time": "2022-06-03T21:31:15.870510",
     "exception": false,
     "start_time": "2022-06-03T21:31:15.843488",
     "status": "completed"
    },
    "tags": []
   },
   "outputs": [],
   "source": [
    "devs[colworked] = devs[colworked].fillna(\"\")\n",
    "devs[colwanted] = devs[colwanted].fillna(\"\")\n",
    "devs[salary]= devs[salary].replace(\"nan\", np.NaN)\n",
    "devs[salary]= pd.to_numeric(devs[salary], errors='coerce')"
   ]
  },
  {
   "cell_type": "code",
   "execution_count": 7,
   "id": "agricultural-denver",
   "metadata": {
    "execution": {
     "iopub.execute_input": "2022-06-03T21:31:15.916692Z",
     "iopub.status.busy": "2022-06-03T21:31:15.911705Z",
     "iopub.status.idle": "2022-06-03T21:31:18.571887Z",
     "shell.execute_reply": "2022-06-03T21:31:18.571461Z"
    },
    "papermill": {
     "duration": 2.685934,
     "end_time": "2022-06-03T21:31:18.572016",
     "exception": false,
     "start_time": "2022-06-03T21:31:15.886082",
     "status": "completed"
    },
    "tags": []
   },
   "outputs": [],
   "source": [
    "lang_worked = devs[colworked].str.replace(' ', '').str.get_dummies(sep=';')\n",
    "lang_want = devs[colwanted].str.replace(' ', '').str.get_dummies(sep=';')"
   ]
  },
  {
   "cell_type": "markdown",
   "id": "confused-inventory",
   "metadata": {
    "papermill": {
     "duration": 0.023131,
     "end_time": "2022-06-03T21:31:18.619691",
     "exception": false,
     "start_time": "2022-06-03T21:31:18.596560",
     "status": "completed"
    },
    "tags": []
   },
   "source": [
    "Se nivela la compensacion para obtener el valor anual aproximado en USD, aplicando el cambio de divisa cargado del año"
   ]
  },
  {
   "cell_type": "code",
   "execution_count": 8,
   "id": "solved-hanging",
   "metadata": {
    "execution": {
     "iopub.execute_input": "2022-06-03T21:31:18.668269Z",
     "iopub.status.busy": "2022-06-03T21:31:18.667674Z",
     "iopub.status.idle": "2022-06-03T21:31:18.670383Z",
     "shell.execute_reply": "2022-06-03T21:31:18.670764Z"
    },
    "papermill": {
     "duration": 0.028019,
     "end_time": "2022-06-03T21:31:18.670921",
     "exception": false,
     "start_time": "2022-06-03T21:31:18.642902",
     "status": "completed"
    },
    "tags": []
   },
   "outputs": [],
   "source": [
    "if currency:\n",
    "    devs[currency] = devs[currency].str[:3]\n",
    "    devs = pd.merge(devs, rates, left_on=currency, right_index=True)\n",
    "    devs['CompTotalUSD'] = devs.apply(comp_level, axis=1)\n",
    "else:\n",
    "    devs['CompTotalUSD'] = devs[salary]\n"
   ]
  },
  {
   "cell_type": "markdown",
   "id": "southwest-wildlife",
   "metadata": {
    "papermill": {
     "duration": 0.014034,
     "end_time": "2022-06-03T21:31:18.697890",
     "exception": false,
     "start_time": "2022-06-03T21:31:18.683856",
     "status": "completed"
    },
    "tags": []
   },
   "source": [
    "Obtenemos el dataframe con los distintos lenguajes y su compensacion"
   ]
  },
  {
   "cell_type": "code",
   "execution_count": 9,
   "id": "manual-butler",
   "metadata": {
    "execution": {
     "iopub.execute_input": "2022-06-03T21:31:18.732131Z",
     "iopub.status.busy": "2022-06-03T21:31:18.731547Z",
     "iopub.status.idle": "2022-06-03T21:31:18.781214Z",
     "shell.execute_reply": "2022-06-03T21:31:18.781573Z"
    },
    "papermill": {
     "duration": 0.066621,
     "end_time": "2022-06-03T21:31:18.781726",
     "exception": false,
     "start_time": "2022-06-03T21:31:18.715105",
     "status": "completed"
    },
    "tags": []
   },
   "outputs": [],
   "source": [
    "comps = lang_worked.multiply( devs['CompTotalUSD']/1000, axis=\"index\").round(decimals=0).replace(0, np.NaN).median().astype('int')"
   ]
  },
  {
   "cell_type": "markdown",
   "id": "australian-scanning",
   "metadata": {
    "papermill": {
     "duration": 0.011504,
     "end_time": "2022-06-03T21:31:18.804595",
     "exception": false,
     "start_time": "2022-06-03T21:31:18.793091",
     "status": "completed"
    },
    "tags": []
   },
   "source": [
    "Calculamos el porcentaje de uso de cada lenguaje respecto del total.\n",
    "Como vamos a comparar años distintos con encuestados distintos por año, el porcentaje anual es una forma de nivelar y poder realizar la comparacion."
   ]
  },
  {
   "cell_type": "code",
   "execution_count": 10,
   "id": "residential-camel",
   "metadata": {
    "execution": {
     "iopub.execute_input": "2022-06-03T21:31:18.834553Z",
     "iopub.status.busy": "2022-06-03T21:31:18.833890Z",
     "iopub.status.idle": "2022-06-03T21:31:18.841956Z",
     "shell.execute_reply": "2022-06-03T21:31:18.841477Z"
    },
    "papermill": {
     "duration": 0.024735,
     "end_time": "2022-06-03T21:31:18.842101",
     "exception": false,
     "start_time": "2022-06-03T21:31:18.817366",
     "status": "completed"
    },
    "tags": []
   },
   "outputs": [],
   "source": [
    "worked = lang_worked.sum() / len(lang_worked)\n",
    "wanted = lang_want.sum() / len(lang_want)"
   ]
  },
  {
   "cell_type": "markdown",
   "id": "reserved-mattress",
   "metadata": {
    "papermill": {
     "duration": 0.014237,
     "end_time": "2022-06-03T21:31:18.873166",
     "exception": false,
     "start_time": "2022-06-03T21:31:18.858929",
     "status": "completed"
    },
    "tags": []
   },
   "source": [
    "Unimos los dataframes de lenguajes trabajados en el año, lenguajes en los que se quiere trabajar, la compensacion y el año."
   ]
  },
  {
   "cell_type": "code",
   "execution_count": 11,
   "id": "amended-burden",
   "metadata": {
    "execution": {
     "iopub.execute_input": "2022-06-03T21:31:18.906368Z",
     "iopub.status.busy": "2022-06-03T21:31:18.905908Z",
     "iopub.status.idle": "2022-06-03T21:31:18.908667Z",
     "shell.execute_reply": "2022-06-03T21:31:18.908198Z"
    },
    "papermill": {
     "duration": 0.02374,
     "end_time": "2022-06-03T21:31:18.908789",
     "exception": false,
     "start_time": "2022-06-03T21:31:18.885049",
     "status": "completed"
    },
    "tags": []
   },
   "outputs": [],
   "source": [
    "w_df = pd.DataFrame(worked, columns= ['Worked'])\n",
    "wa_df = pd.DataFrame(wanted, columns= ['Wanted'])\n",
    "langs = pd.concat([w_df, wa_df, comps], axis=1)\n",
    "langs['Year'] = year"
   ]
  },
  {
   "cell_type": "markdown",
   "id": "assured-angle",
   "metadata": {
    "papermill": {
     "duration": 0.01463,
     "end_time": "2022-06-03T21:31:18.942128",
     "exception": false,
     "start_time": "2022-06-03T21:31:18.927498",
     "status": "completed"
    },
    "tags": []
   },
   "source": [
    "Exportamos los datos procesados del año."
   ]
  },
  {
   "cell_type": "code",
   "execution_count": 12,
   "id": "cloudy-petroleum",
   "metadata": {
    "execution": {
     "iopub.execute_input": "2022-06-03T21:31:18.970339Z",
     "iopub.status.busy": "2022-06-03T21:31:18.969836Z",
     "iopub.status.idle": "2022-06-03T21:31:18.975890Z",
     "shell.execute_reply": "2022-06-03T21:31:18.976265Z"
    },
    "papermill": {
     "duration": 0.02163,
     "end_time": "2022-06-03T21:31:18.976421",
     "exception": false,
     "start_time": "2022-06-03T21:31:18.954791",
     "status": "completed"
    },
    "tags": []
   },
   "outputs": [],
   "source": [
    "langs.to_csv(f'data/out/{year}.csv')"
   ]
  },
  {
   "cell_type": "code",
   "execution_count": null,
   "id": "chief-clark",
   "metadata": {
    "papermill": {
     "duration": 0.012936,
     "end_time": "2022-06-03T21:31:19.001629",
     "exception": false,
     "start_time": "2022-06-03T21:31:18.988693",
     "status": "completed"
    },
    "tags": []
   },
   "outputs": [],
   "source": []
  }
 ],
 "metadata": {
  "celltoolbar": "Tags",
  "interpreter": {
   "hash": "9e4d46cb2e7439cd377379e4187049771cc0b6089dc8d4ad323c0b3c23302069"
  },
  "kernelspec": {
   "display_name": "Python 3 (ipykernel)",
   "language": "python",
   "name": "python3"
  },
  "language_info": {
   "codemirror_mode": {
    "name": "ipython",
    "version": 3
   },
   "file_extension": ".py",
   "mimetype": "text/x-python",
   "name": "python",
   "nbconvert_exporter": "python",
   "pygments_lexer": "ipython3",
   "version": "3.9.1"
  },
  "papermill": {
   "default_parameters": {},
   "duration": 6.383951,
   "end_time": "2022-06-03T21:31:19.325669",
   "environment_variables": {},
   "exception": null,
   "input_path": "so_template_2017_2021.ipynb",
   "output_path": "languages_2017.ipynb",
   "parameters": {
    "colwanted": "WantWorkLanguage",
    "colworked": "HaveWorkedLanguage",
    "currency": null,
    "salary": "Salary",
    "salaryType": "SalaryType",
    "year": 2017
   },
   "start_time": "2022-06-03T21:31:12.941718",
   "version": "2.3.4"
  }
 },
 "nbformat": 4,
 "nbformat_minor": 5
}