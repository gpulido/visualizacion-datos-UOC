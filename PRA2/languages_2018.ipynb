{
 "cells": [
  {
   "cell_type": "code",
   "execution_count": 1,
   "id": "sunset-documentation",
   "metadata": {
    "execution": {
     "iopub.execute_input": "2022-06-03T21:30:59.537505Z",
     "iopub.status.busy": "2022-06-03T21:30:59.536646Z",
     "iopub.status.idle": "2022-06-03T21:30:59.776682Z",
     "shell.execute_reply": "2022-06-03T21:30:59.777057Z"
    },
    "papermill": {
     "duration": 0.271581,
     "end_time": "2022-06-03T21:30:59.777260",
     "exception": false,
     "start_time": "2022-06-03T21:30:59.505679",
     "status": "completed"
    },
    "tags": []
   },
   "outputs": [],
   "source": [
    "#!pip install matplotlib-venn\n",
    "import numpy as np\n",
    "import pandas as pd\n",
    "import zipfile\n",
    "import json"
   ]
  },
  {
   "cell_type": "code",
   "execution_count": 2,
   "id": "diagnostic-component",
   "metadata": {
    "execution": {
     "iopub.execute_input": "2022-06-03T21:30:59.822803Z",
     "iopub.status.busy": "2022-06-03T21:30:59.822282Z",
     "iopub.status.idle": "2022-06-03T21:30:59.824662Z",
     "shell.execute_reply": "2022-06-03T21:30:59.824229Z"
    },
    "papermill": {
     "duration": 0.032943,
     "end_time": "2022-06-03T21:30:59.824789",
     "exception": false,
     "start_time": "2022-06-03T21:30:59.791846",
     "status": "completed"
    },
    "tags": []
   },
   "outputs": [],
   "source": [
    "comp = {'Monthly': 12, 'Yearly': 1, 'Weekly':52}\n",
    "\n",
    "def comp_level(x):\n",
    "    if x[salaryType] != x[salaryType]:\n",
    "        return x[salaryType]   \n",
    "    return x[salary] * comp[x[salaryType]] / x[0]"
   ]
  },
  {
   "cell_type": "code",
   "execution_count": 3,
   "id": "virgin-request",
   "metadata": {
    "execution": {
     "iopub.execute_input": "2022-06-03T21:30:59.854491Z",
     "iopub.status.busy": "2022-06-03T21:30:59.853677Z",
     "iopub.status.idle": "2022-06-03T21:30:59.855368Z",
     "shell.execute_reply": "2022-06-03T21:30:59.855975Z"
    },
    "papermill": {
     "duration": 0.020407,
     "end_time": "2022-06-03T21:30:59.856188",
     "exception": false,
     "start_time": "2022-06-03T21:30:59.835781",
     "status": "completed"
    },
    "tags": [
     "parameters"
    ]
   },
   "outputs": [],
   "source": [
    "year = 2021\n",
    "colworked = 'LanguageHaveWorkedWith'\n",
    "colwanted = 'LanguageWantToWorkWith'\n",
    "currency = 'Currency'\n",
    "salarytype = 'SalaryType'\n",
    "salary = 'Salary'"
   ]
  },
  {
   "cell_type": "code",
   "execution_count": 4,
   "id": "designed-doctor",
   "metadata": {
    "execution": {
     "iopub.execute_input": "2022-06-03T21:30:59.889408Z",
     "iopub.status.busy": "2022-06-03T21:30:59.888759Z",
     "iopub.status.idle": "2022-06-03T21:30:59.890514Z",
     "shell.execute_reply": "2022-06-03T21:30:59.890922Z"
    },
    "papermill": {
     "duration": 0.01803,
     "end_time": "2022-06-03T21:30:59.891059",
     "exception": false,
     "start_time": "2022-06-03T21:30:59.873029",
     "status": "completed"
    },
    "tags": [
     "injected-parameters"
    ]
   },
   "outputs": [],
   "source": [
    "# Parameters\n",
    "year = 2018\n",
    "colworked = \"LanguageWorkedWith\"\n",
    "colwanted = \"LanguageDesireNextYear\"\n",
    "currency = \"CurrencySymbol\"\n",
    "salary = \"Salary\"\n",
    "salaryType = \"SalaryType\"\n"
   ]
  },
  {
   "cell_type": "markdown",
   "id": "executed-chosen",
   "metadata": {
    "papermill": {
     "duration": 0.012905,
     "end_time": "2022-06-03T21:30:59.917294",
     "exception": false,
     "start_time": "2022-06-03T21:30:59.904389",
     "status": "completed"
    },
    "tags": []
   },
   "source": [
    "Cargamos los datos y mostramos su contenido"
   ]
  },
  {
   "cell_type": "code",
   "execution_count": 5,
   "id": "civil-surname",
   "metadata": {
    "execution": {
     "iopub.execute_input": "2022-06-03T21:30:59.947897Z",
     "iopub.status.busy": "2022-06-03T21:30:59.947138Z",
     "iopub.status.idle": "2022-06-03T21:31:02.946979Z",
     "shell.execute_reply": "2022-06-03T21:31:02.946517Z"
    },
    "papermill": {
     "duration": 3.017131,
     "end_time": "2022-06-03T21:31:02.947098",
     "exception": false,
     "start_time": "2022-06-03T21:30:59.929967",
     "status": "completed"
    },
    "tags": []
   },
   "outputs": [
    {
     "name": "stderr",
     "output_type": "stream",
     "text": [
      "/home/gpt/app/anaconda3/envs/uoc20202pec1/lib/python3.9/site-packages/IPython/core/interactiveshell.py:3165: DtypeWarning: Columns (8,12,13,14,15,16,50,51,52,53,55,56,57,58,59,60,61,62,63,64,65,66,67,68,69,70,71,72,73,74,75,76,77,78,79,80,81,82,83,84,85,93,94,95,96,97,98,99,100,101,102,103,104,105,106,107,108,109,110,111,112,113,114,115,116,117,118,119,120,121,122,123,124,125,126,127,128) have mixed types.Specify dtype option on import or set low_memory=False.\n",
      "  has_raised = await self.run_ast_nodes(code_ast.body, cell_name,\n"
     ]
    }
   ],
   "source": [
    "\n",
    "zf = zipfile.ZipFile(f'data/in/stack-overflow-developer-survey-{year}.zip') \n",
    "devs = pd.read_csv(zf.open('survey_results_public.csv'))\n",
    "# Cargamos los ratios de conversion de las monedas a 1 de Diciembre de cada año.\n",
    "with open(f'data/rates/rates-{year}.json', 'r') as f:\n",
    "  data = json.loads(f.read())\n",
    "rates = pd.json_normalize(data['rates']).transpose()"
   ]
  },
  {
   "cell_type": "markdown",
   "id": "deadly-seating",
   "metadata": {
    "papermill": {
     "duration": 0.024516,
     "end_time": "2022-06-03T21:31:02.993309",
     "exception": false,
     "start_time": "2022-06-03T21:31:02.968793",
     "status": "completed"
    },
    "tags": []
   },
   "source": [
    "Eliminamos los nulos de las dos  propiedades que nos intersan"
   ]
  },
  {
   "cell_type": "code",
   "execution_count": 6,
   "id": "appointed-vienna",
   "metadata": {
    "execution": {
     "iopub.execute_input": "2022-06-03T21:31:03.039265Z",
     "iopub.status.busy": "2022-06-03T21:31:03.037979Z",
     "iopub.status.idle": "2022-06-03T21:31:03.154060Z",
     "shell.execute_reply": "2022-06-03T21:31:03.153111Z"
    },
    "papermill": {
     "duration": 0.140247,
     "end_time": "2022-06-03T21:31:03.154334",
     "exception": false,
     "start_time": "2022-06-03T21:31:03.014087",
     "status": "completed"
    },
    "tags": []
   },
   "outputs": [],
   "source": [
    "devs[colworked] = devs[colworked].fillna(\"\")\n",
    "devs[colwanted] = devs[colwanted].fillna(\"\")\n",
    "devs[salary]= devs[salary].replace(\"nan\", np.NaN)\n",
    "devs[salary]= pd.to_numeric(devs[salary], errors='coerce')"
   ]
  },
  {
   "cell_type": "code",
   "execution_count": 7,
   "id": "excited-classroom",
   "metadata": {
    "execution": {
     "iopub.execute_input": "2022-06-03T21:31:03.197922Z",
     "iopub.status.busy": "2022-06-03T21:31:03.197406Z",
     "iopub.status.idle": "2022-06-03T21:31:08.638418Z",
     "shell.execute_reply": "2022-06-03T21:31:08.637415Z"
    },
    "papermill": {
     "duration": 5.466604,
     "end_time": "2022-06-03T21:31:08.638690",
     "exception": false,
     "start_time": "2022-06-03T21:31:03.172086",
     "status": "completed"
    },
    "tags": []
   },
   "outputs": [],
   "source": [
    "lang_worked = devs[colworked].str.replace(' ', '').str.get_dummies(sep=';')\n",
    "lang_want = devs[colwanted].str.replace(' ', '').str.get_dummies(sep=';')"
   ]
  },
  {
   "cell_type": "markdown",
   "id": "traditional-moldova",
   "metadata": {
    "papermill": {
     "duration": 0.027741,
     "end_time": "2022-06-03T21:31:08.696084",
     "exception": false,
     "start_time": "2022-06-03T21:31:08.668343",
     "status": "completed"
    },
    "tags": []
   },
   "source": [
    "Se nivela la compensacion para obtener el valor anual aproximado en USD, aplicando el cambio de divisa cargado del año"
   ]
  },
  {
   "cell_type": "code",
   "execution_count": 8,
   "id": "textile-flash",
   "metadata": {
    "execution": {
     "iopub.execute_input": "2022-06-03T21:31:08.744949Z",
     "iopub.status.busy": "2022-06-03T21:31:08.744475Z",
     "iopub.status.idle": "2022-06-03T21:31:11.055205Z",
     "shell.execute_reply": "2022-06-03T21:31:11.054168Z"
    },
    "papermill": {
     "duration": 2.336094,
     "end_time": "2022-06-03T21:31:11.055475",
     "exception": false,
     "start_time": "2022-06-03T21:31:08.719381",
     "status": "completed"
    },
    "tags": []
   },
   "outputs": [],
   "source": [
    "if currency:\n",
    "    devs[currency] = devs[currency].str[:3]\n",
    "    devs = pd.merge(devs, rates, left_on=currency, right_index=True)\n",
    "    devs['CompTotalUSD'] = devs.apply(comp_level, axis=1)\n",
    "else:\n",
    "    devs['CompTotalUSD'] = devs[salary]\n"
   ]
  },
  {
   "cell_type": "markdown",
   "id": "wicked-price",
   "metadata": {
    "papermill": {
     "duration": 0.028555,
     "end_time": "2022-06-03T21:31:11.113615",
     "exception": false,
     "start_time": "2022-06-03T21:31:11.085060",
     "status": "completed"
    },
    "tags": []
   },
   "source": [
    "Obtenemos el dataframe con los distintos lenguajes y su compensacion"
   ]
  },
  {
   "cell_type": "code",
   "execution_count": 9,
   "id": "funny-yukon",
   "metadata": {
    "execution": {
     "iopub.execute_input": "2022-06-03T21:31:11.156894Z",
     "iopub.status.busy": "2022-06-03T21:31:11.156401Z",
     "iopub.status.idle": "2022-06-03T21:31:11.268031Z",
     "shell.execute_reply": "2022-06-03T21:31:11.267634Z"
    },
    "papermill": {
     "duration": 0.133034,
     "end_time": "2022-06-03T21:31:11.268158",
     "exception": false,
     "start_time": "2022-06-03T21:31:11.135124",
     "status": "completed"
    },
    "tags": []
   },
   "outputs": [],
   "source": [
    "comps = lang_worked.multiply( devs['CompTotalUSD']/1000, axis=\"index\").round(decimals=0).replace(0, np.NaN).median().astype('int')"
   ]
  },
  {
   "cell_type": "markdown",
   "id": "native-sewing",
   "metadata": {
    "papermill": {
     "duration": 0.017462,
     "end_time": "2022-06-03T21:31:11.301093",
     "exception": false,
     "start_time": "2022-06-03T21:31:11.283631",
     "status": "completed"
    },
    "tags": []
   },
   "source": [
    "Calculamos el porcentaje de uso de cada lenguaje respecto del total.\n",
    "Como vamos a comparar años distintos con encuestados distintos por año, el porcentaje anual es una forma de nivelar y poder realizar la comparacion."
   ]
  },
  {
   "cell_type": "code",
   "execution_count": 10,
   "id": "interstate-pierce",
   "metadata": {
    "execution": {
     "iopub.execute_input": "2022-06-03T21:31:11.338318Z",
     "iopub.status.busy": "2022-06-03T21:31:11.337659Z",
     "iopub.status.idle": "2022-06-03T21:31:11.347049Z",
     "shell.execute_reply": "2022-06-03T21:31:11.346534Z"
    },
    "papermill": {
     "duration": 0.028973,
     "end_time": "2022-06-03T21:31:11.347190",
     "exception": false,
     "start_time": "2022-06-03T21:31:11.318217",
     "status": "completed"
    },
    "tags": []
   },
   "outputs": [],
   "source": [
    "worked = lang_worked.sum() / len(lang_worked)\n",
    "wanted = lang_want.sum() / len(lang_want)"
   ]
  },
  {
   "cell_type": "markdown",
   "id": "indonesian-dietary",
   "metadata": {
    "papermill": {
     "duration": 0.013437,
     "end_time": "2022-06-03T21:31:11.374593",
     "exception": false,
     "start_time": "2022-06-03T21:31:11.361156",
     "status": "completed"
    },
    "tags": []
   },
   "source": [
    "Unimos los dataframes de lenguajes trabajados en el año, lenguajes en los que se quiere trabajar, la compensacion y el año."
   ]
  },
  {
   "cell_type": "code",
   "execution_count": 11,
   "id": "processed-array",
   "metadata": {
    "execution": {
     "iopub.execute_input": "2022-06-03T21:31:11.409299Z",
     "iopub.status.busy": "2022-06-03T21:31:11.408813Z",
     "iopub.status.idle": "2022-06-03T21:31:11.410611Z",
     "shell.execute_reply": "2022-06-03T21:31:11.411019Z"
    },
    "papermill": {
     "duration": 0.022603,
     "end_time": "2022-06-03T21:31:11.411168",
     "exception": false,
     "start_time": "2022-06-03T21:31:11.388565",
     "status": "completed"
    },
    "tags": []
   },
   "outputs": [],
   "source": [
    "w_df = pd.DataFrame(worked, columns= ['Worked'])\n",
    "wa_df = pd.DataFrame(wanted, columns= ['Wanted'])\n",
    "langs = pd.concat([w_df, wa_df, comps], axis=1)\n",
    "langs['Year'] = year"
   ]
  },
  {
   "cell_type": "markdown",
   "id": "oriented-creator",
   "metadata": {
    "papermill": {
     "duration": 0.012259,
     "end_time": "2022-06-03T21:31:11.435315",
     "exception": false,
     "start_time": "2022-06-03T21:31:11.423056",
     "status": "completed"
    },
    "tags": []
   },
   "source": [
    "Exportamos los datos procesados del año."
   ]
  },
  {
   "cell_type": "code",
   "execution_count": 12,
   "id": "median-biology",
   "metadata": {
    "execution": {
     "iopub.execute_input": "2022-06-03T21:31:11.466696Z",
     "iopub.status.busy": "2022-06-03T21:31:11.466214Z",
     "iopub.status.idle": "2022-06-03T21:31:11.471735Z",
     "shell.execute_reply": "2022-06-03T21:31:11.472125Z"
    },
    "papermill": {
     "duration": 0.024709,
     "end_time": "2022-06-03T21:31:11.472274",
     "exception": false,
     "start_time": "2022-06-03T21:31:11.447565",
     "status": "completed"
    },
    "tags": []
   },
   "outputs": [],
   "source": [
    "langs.to_csv(f'data/out/{year}.csv')"
   ]
  },
  {
   "cell_type": "code",
   "execution_count": null,
   "id": "republican-commissioner",
   "metadata": {
    "papermill": {
     "duration": 0.012551,
     "end_time": "2022-06-03T21:31:11.497086",
     "exception": false,
     "start_time": "2022-06-03T21:31:11.484535",
     "status": "completed"
    },
    "tags": []
   },
   "outputs": [],
   "source": []
  }
 ],
 "metadata": {
  "celltoolbar": "Tags",
  "interpreter": {
   "hash": "9e4d46cb2e7439cd377379e4187049771cc0b6089dc8d4ad323c0b3c23302069"
  },
  "kernelspec": {
   "display_name": "Python 3 (ipykernel)",
   "language": "python",
   "name": "python3"
  },
  "language_info": {
   "codemirror_mode": {
    "name": "ipython",
    "version": 3
   },
   "file_extension": ".py",
   "mimetype": "text/x-python",
   "name": "python",
   "nbconvert_exporter": "python",
   "pygments_lexer": "ipython3",
   "version": "3.9.1"
  },
  "papermill": {
   "default_parameters": {},
   "duration": 14.067896,
   "end_time": "2022-06-03T21:31:12.877021",
   "environment_variables": {},
   "exception": null,
   "input_path": "so_template_2017_2021.ipynb",
   "output_path": "languages_2018.ipynb",
   "parameters": {
    "colwanted": "LanguageDesireNextYear",
    "colworked": "LanguageWorkedWith",
    "currency": "CurrencySymbol",
    "salary": "Salary",
    "salaryType": "SalaryType",
    "year": 2018
   },
   "start_time": "2022-06-03T21:30:58.809125",
   "version": "2.3.4"
  }
 },
 "nbformat": 4,
 "nbformat_minor": 5
}