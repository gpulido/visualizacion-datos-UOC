{
 "cells": [
  {
   "cell_type": "code",
   "execution_count": 1,
   "metadata": {},
   "outputs": [],
   "source": [
    "import requests"
   ]
  },
  {
   "cell_type": "code",
   "execution_count": null,
   "metadata": {},
   "outputs": [],
   "source": [
    "url = 'https://info.stackoverflowsolutions.com/rs/719-EMH-566/images/stack-overflow-developer-survey-2021.zip'\n",
    "r = requests.get(url, allow_redirects=True)\n",
    "open('surveys/stack-overflow-developer-survey-2021.zip', 'wb').write(r.content)"
   ]
  },
  {
   "cell_type": "code",
   "execution_count": null,
   "metadata": {},
   "outputs": [],
   "source": [
    "url = 'https://info.stackoverflowsolutions.com/rs/719-EMH-566/images/stack-overflow-developer-survey-2020.zip'\n",
    "r = requests.get(url, allow_redirects=True)\n",
    "open('surveys/stack-overflow-developer-survey-2020.zip', 'wb').write(r.content)\n"
   ]
  },
  {
   "cell_type": "code",
   "execution_count": null,
   "metadata": {},
   "outputs": [],
   "source": [
    "\n",
    "url = 'https://info.stackoverflowsolutions.com/rs/719-EMH-566/images/stack-overflow-developer-survey-2018.zip'\n",
    "r = requests.get(url, allow_redirects=True)\n",
    "open('surveys/stack-overflow-developer-survey-2018.zip', 'wb').write(r.content)"
   ]
  },
  {
   "cell_type": "code",
   "execution_count": null,
   "metadata": {},
   "outputs": [],
   "source": [
    "\n",
    "url = 'https://info.stackoverflowsolutions.com/rs/719-EMH-566/images/stack-overflow-developer-survey-2017.zip'\n",
    "r = requests.get(url, allow_redirects=True)\n",
    "open('surveys/stack-overflow-developer-survey-2017.zip', 'wb').write(r.content)"
   ]
  },
  {
   "cell_type": "code",
   "execution_count": null,
   "metadata": {},
   "outputs": [],
   "source": [
    "url = 'https://info.stackoverflowsolutions.com/rs/719-EMH-566/images/stack-overflow-developer-survey-2016.zip'\n",
    "r = requests.get(url, allow_redirects=True)\n",
    "open('surveys/stack-overflow-developer-survey-2016.zip', 'wb').write(r.content)"
   ]
  },
  {
   "cell_type": "code",
   "execution_count": 4,
   "metadata": {},
   "outputs": [
    {
     "data": {
      "text/plain": [
       "1915462"
      ]
     },
     "execution_count": 4,
     "metadata": {},
     "output_type": "execute_result"
    }
   ],
   "source": [
    "\n",
    "url = 'https://info.stackoverflowsolutions.com/rs/719-EMH-566/images/stack-overflow-developer-survey-2015.zip'\n",
    "r = requests.get(url, allow_redirects=True)\n",
    "open('surveys/stack-overflow-developer-survey-2015.zip', 'wb').write(r.content)"
   ]
  },
  {
   "cell_type": "code",
   "execution_count": 3,
   "metadata": {},
   "outputs": [],
   "source": [
    "\n",
    "for year in ['2021', '2020', '2019', '2018', '2017']:\n",
    "    url = f'https://openexchangerates.org/api/historical/{year}-12-01.json?app_id=39fac5c12c77401f9140e8f31a2697f3'\n",
    "    r = requests.get(url, allow_redirects=True)\n",
    "    open(f'rates/rates-{year}.json', 'wb').write(r.content)"
   ]
  }
 ],
 "metadata": {
  "interpreter": {
   "hash": "9632bbff48cb8477aa8aceedb6270cad35498c301c11f47772efcfac689e8932"
  },
  "kernelspec": {
   "display_name": "Python 3.8.5 64-bit ('base': conda)",
   "language": "python",
   "name": "python3"
  },
  "language_info": {
   "codemirror_mode": {
    "name": "ipython",
    "version": 3
   },
   "file_extension": ".py",
   "mimetype": "text/x-python",
   "name": "python",
   "nbconvert_exporter": "python",
   "pygments_lexer": "ipython3",
   "version": "3.8.5"
  },
  "orig_nbformat": 4
 },
 "nbformat": 4,
 "nbformat_minor": 2
}
