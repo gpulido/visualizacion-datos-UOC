{
 "cells": [
  {
   "cell_type": "code",
   "execution_count": 1,
   "id": "sunrise-playback",
   "metadata": {
    "execution": {
     "iopub.execute_input": "2022-06-06T00:49:31.646310Z",
     "iopub.status.busy": "2022-06-06T00:49:31.645739Z",
     "iopub.status.idle": "2022-06-06T00:49:31.884308Z",
     "shell.execute_reply": "2022-06-06T00:49:31.884705Z"
    },
    "papermill": {
     "duration": 0.26311,
     "end_time": "2022-06-06T00:49:31.884929",
     "exception": false,
     "start_time": "2022-06-06T00:49:31.621819",
     "status": "completed"
    },
    "tags": []
   },
   "outputs": [],
   "source": [
    "#!pip install matplotlib-venn\n",
    "import numpy as np\n",
    "import pandas as pd\n",
    "import zipfile\n",
    "import json"
   ]
  },
  {
   "cell_type": "code",
   "execution_count": 2,
   "id": "complimentary-ocean",
   "metadata": {
    "execution": {
     "iopub.execute_input": "2022-06-06T00:49:31.919242Z",
     "iopub.status.busy": "2022-06-06T00:49:31.918335Z",
     "iopub.status.idle": "2022-06-06T00:49:31.920237Z",
     "shell.execute_reply": "2022-06-06T00:49:31.920756Z"
    },
    "papermill": {
     "duration": 0.02125,
     "end_time": "2022-06-06T00:49:31.920922",
     "exception": false,
     "start_time": "2022-06-06T00:49:31.899672",
     "status": "completed"
    },
    "tags": []
   },
   "outputs": [],
   "source": [
    "comp = {'Monthly': 12, 'Yearly': 1, 'Weekly':52}\n",
    "\n",
    "def comp_level(x):\n",
    "    if x[salaryType] != x[salaryType]:\n",
    "        return x[salaryType]   \n",
    "    return x[salary] * comp[x[salaryType]] / x[0]"
   ]
  },
  {
   "cell_type": "code",
   "execution_count": 3,
   "id": "fitted-request",
   "metadata": {
    "execution": {
     "iopub.execute_input": "2022-06-06T00:49:31.949313Z",
     "iopub.status.busy": "2022-06-06T00:49:31.948573Z",
     "iopub.status.idle": "2022-06-06T00:49:31.950590Z",
     "shell.execute_reply": "2022-06-06T00:49:31.950996Z"
    },
    "papermill": {
     "duration": 0.018647,
     "end_time": "2022-06-06T00:49:31.951155",
     "exception": false,
     "start_time": "2022-06-06T00:49:31.932508",
     "status": "completed"
    },
    "tags": [
     "parameters"
    ]
   },
   "outputs": [],
   "source": [
    "year = 2021\n",
    "category= 'Programming'\n",
    "colworked = 'LanguageHaveWorkedWith'\n",
    "colwanted = 'LanguageWantToWorkWith'\n",
    "currency = 'Currency'\n",
    "salary = \"CompTotal\"\n",
    "salaryType = \"CompFreq\""
   ]
  },
  {
   "cell_type": "code",
   "execution_count": 4,
   "id": "solar-exemption",
   "metadata": {
    "execution": {
     "iopub.execute_input": "2022-06-06T00:49:31.978650Z",
     "iopub.status.busy": "2022-06-06T00:49:31.978152Z",
     "iopub.status.idle": "2022-06-06T00:49:31.980007Z",
     "shell.execute_reply": "2022-06-06T00:49:31.980373Z"
    },
    "papermill": {
     "duration": 0.017953,
     "end_time": "2022-06-06T00:49:31.980536",
     "exception": false,
     "start_time": "2022-06-06T00:49:31.962583",
     "status": "completed"
    },
    "tags": [
     "injected-parameters"
    ]
   },
   "outputs": [],
   "source": [
    "# Parameters\n",
    "year = 2020\n",
    "colworked = \"LanguageWorkedWith\"\n",
    "colwanted = \"LanguageDesireNextYear\"\n",
    "currency = \"CurrencySymbol\"\n",
    "salary = \"CompTotal\"\n",
    "salaryType = \"CompFreq\"\n",
    "category = \"Programming\"\n"
   ]
  },
  {
   "cell_type": "markdown",
   "id": "cross-transfer",
   "metadata": {
    "papermill": {
     "duration": 0.011455,
     "end_time": "2022-06-06T00:49:32.003071",
     "exception": false,
     "start_time": "2022-06-06T00:49:31.991616",
     "status": "completed"
    },
    "tags": []
   },
   "source": [
    "Cargamos los datos y mostramos su contenido"
   ]
  },
  {
   "cell_type": "code",
   "execution_count": 5,
   "id": "important-belly",
   "metadata": {
    "execution": {
     "iopub.execute_input": "2022-06-06T00:49:32.032410Z",
     "iopub.status.busy": "2022-06-06T00:49:32.031685Z",
     "iopub.status.idle": "2022-06-06T00:49:33.431352Z",
     "shell.execute_reply": "2022-06-06T00:49:33.431711Z"
    },
    "papermill": {
     "duration": 1.416481,
     "end_time": "2022-06-06T00:49:33.431867",
     "exception": false,
     "start_time": "2022-06-06T00:49:32.015386",
     "status": "completed"
    },
    "tags": []
   },
   "outputs": [],
   "source": [
    "\n",
    "zf = zipfile.ZipFile(f'../surveys/stack-overflow-developer-survey-{year}.zip') \n",
    "devs = pd.read_csv(zf.open('survey_results_public.csv'))\n",
    "# Cargamos los ratios de conversion de las monedas a 1 de Diciembre de cada año.\n",
    "with open(f'../rates/rates-{year}.json', 'r') as f:\n",
    "  data = json.loads(f.read())\n",
    "rates = pd.json_normalize(data['rates']).transpose()"
   ]
  },
  {
   "cell_type": "markdown",
   "id": "sitting-registrar",
   "metadata": {
    "papermill": {
     "duration": 0.012645,
     "end_time": "2022-06-06T00:49:33.456287",
     "exception": false,
     "start_time": "2022-06-06T00:49:33.443642",
     "status": "completed"
    },
    "tags": []
   },
   "source": [
    "Eliminamos los nulos de las dos  propiedades que nos intersan"
   ]
  },
  {
   "cell_type": "code",
   "execution_count": 6,
   "id": "adjusted-howard",
   "metadata": {
    "execution": {
     "iopub.execute_input": "2022-06-06T00:49:33.489353Z",
     "iopub.status.busy": "2022-06-06T00:49:33.488622Z",
     "iopub.status.idle": "2022-06-06T00:49:33.499379Z",
     "shell.execute_reply": "2022-06-06T00:49:33.498816Z"
    },
    "papermill": {
     "duration": 0.031221,
     "end_time": "2022-06-06T00:49:33.499520",
     "exception": false,
     "start_time": "2022-06-06T00:49:33.468299",
     "status": "completed"
    },
    "tags": []
   },
   "outputs": [],
   "source": [
    "devs[colworked] = devs[colworked].fillna(\"\")\n",
    "devs[colwanted] = devs[colwanted].fillna(\"\")\n",
    "devs[salary]= devs[salary].replace(\"nan\", np.NaN)\n",
    "devs[salary]= pd.to_numeric(devs[salary], errors='coerce')"
   ]
  },
  {
   "cell_type": "code",
   "execution_count": 7,
   "id": "departmental-landscape",
   "metadata": {
    "execution": {
     "iopub.execute_input": "2022-06-06T00:49:33.557936Z",
     "iopub.status.busy": "2022-06-06T00:49:33.552904Z",
     "iopub.status.idle": "2022-06-06T00:49:36.205642Z",
     "shell.execute_reply": "2022-06-06T00:49:36.204828Z"
    },
    "papermill": {
     "duration": 2.692707,
     "end_time": "2022-06-06T00:49:36.205856",
     "exception": false,
     "start_time": "2022-06-06T00:49:33.513149",
     "status": "completed"
    },
    "tags": []
   },
   "outputs": [],
   "source": [
    "lang_worked = devs[colworked].str.replace(' ', '').str.get_dummies(sep=';')\n",
    "lang_want = devs[colwanted].str.replace(' ', '').str.get_dummies(sep=';')"
   ]
  },
  {
   "cell_type": "markdown",
   "id": "limiting-handling",
   "metadata": {
    "papermill": {
     "duration": 0.015968,
     "end_time": "2022-06-06T00:49:36.242716",
     "exception": false,
     "start_time": "2022-06-06T00:49:36.226748",
     "status": "completed"
    },
    "tags": []
   },
   "source": [
    "Se nivela la compensacion para obtener el valor anual aproximado en USD, aplicando el cambio de divisa cargado del año"
   ]
  },
  {
   "cell_type": "code",
   "execution_count": 8,
   "id": "restricted-apartment",
   "metadata": {
    "execution": {
     "iopub.execute_input": "2022-06-06T00:49:36.280886Z",
     "iopub.status.busy": "2022-06-06T00:49:36.277175Z",
     "iopub.status.idle": "2022-06-06T00:49:37.825133Z",
     "shell.execute_reply": "2022-06-06T00:49:37.826587Z"
    },
    "papermill": {
     "duration": 1.570038,
     "end_time": "2022-06-06T00:49:37.827054",
     "exception": false,
     "start_time": "2022-06-06T00:49:36.257016",
     "status": "completed"
    },
    "tags": []
   },
   "outputs": [],
   "source": [
    "if currency:\n",
    "    devs[currency] = devs[currency].str[:3]\n",
    "    devs = pd.merge(devs, rates, left_on=currency, right_index=True)\n",
    "    devs['CompTotalUSD'] = devs.apply(comp_level, axis=1)\n",
    "else:\n",
    "    devs['CompTotalUSD'] = devs[salary]\n"
   ]
  },
  {
   "cell_type": "markdown",
   "id": "offensive-waste",
   "metadata": {
    "papermill": {
     "duration": 0.01987,
     "end_time": "2022-06-06T00:49:37.868736",
     "exception": false,
     "start_time": "2022-06-06T00:49:37.848866",
     "status": "completed"
    },
    "tags": []
   },
   "source": [
    "Obtenemos el dataframe con los distintos lenguajes y su compensacion"
   ]
  },
  {
   "cell_type": "code",
   "execution_count": 9,
   "id": "medical-habitat",
   "metadata": {
    "execution": {
     "iopub.execute_input": "2022-06-06T00:49:37.902148Z",
     "iopub.status.busy": "2022-06-06T00:49:37.901410Z",
     "iopub.status.idle": "2022-06-06T00:49:37.961646Z",
     "shell.execute_reply": "2022-06-06T00:49:37.960905Z"
    },
    "papermill": {
     "duration": 0.078523,
     "end_time": "2022-06-06T00:49:37.961877",
     "exception": false,
     "start_time": "2022-06-06T00:49:37.883354",
     "status": "completed"
    },
    "tags": []
   },
   "outputs": [],
   "source": [
    "comps = lang_worked.multiply( devs['CompTotalUSD']/1000, axis=\"index\").round(decimals=0).replace(0, np.NaN).median().astype('int')"
   ]
  },
  {
   "cell_type": "markdown",
   "id": "intense-minister",
   "metadata": {
    "papermill": {
     "duration": 0.01322,
     "end_time": "2022-06-06T00:49:37.993734",
     "exception": false,
     "start_time": "2022-06-06T00:49:37.980514",
     "status": "completed"
    },
    "tags": []
   },
   "source": [
    "Calculamos el porcentaje de uso de cada lenguaje respecto del total.\n",
    "Como vamos a comparar años distintos con encuestados distintos por año, el porcentaje anual es una forma de nivelar y poder realizar la comparacion."
   ]
  },
  {
   "cell_type": "code",
   "execution_count": 10,
   "id": "standing-watershed",
   "metadata": {
    "execution": {
     "iopub.execute_input": "2022-06-06T00:49:38.027112Z",
     "iopub.status.busy": "2022-06-06T00:49:38.026179Z",
     "iopub.status.idle": "2022-06-06T00:49:38.033355Z",
     "shell.execute_reply": "2022-06-06T00:49:38.032738Z"
    },
    "papermill": {
     "duration": 0.022907,
     "end_time": "2022-06-06T00:49:38.033502",
     "exception": false,
     "start_time": "2022-06-06T00:49:38.010595",
     "status": "completed"
    },
    "tags": []
   },
   "outputs": [],
   "source": [
    "worked = lang_worked.sum() / len(lang_worked)\n",
    "wanted = lang_want.sum() / len(lang_want)"
   ]
  },
  {
   "cell_type": "markdown",
   "id": "designing-denmark",
   "metadata": {
    "papermill": {
     "duration": 0.011511,
     "end_time": "2022-06-06T00:49:38.057701",
     "exception": false,
     "start_time": "2022-06-06T00:49:38.046190",
     "status": "completed"
    },
    "tags": []
   },
   "source": [
    "Unimos los dataframes de lenguajes trabajados en el año, lenguajes en los que se quiere trabajar, la compensacion y el año."
   ]
  },
  {
   "cell_type": "code",
   "execution_count": 11,
   "id": "understanding-therapy",
   "metadata": {
    "execution": {
     "iopub.execute_input": "2022-06-06T00:49:38.102858Z",
     "iopub.status.busy": "2022-06-06T00:49:38.101876Z",
     "iopub.status.idle": "2022-06-06T00:49:38.104713Z",
     "shell.execute_reply": "2022-06-06T00:49:38.105102Z"
    },
    "papermill": {
     "duration": 0.036142,
     "end_time": "2022-06-06T00:49:38.105272",
     "exception": false,
     "start_time": "2022-06-06T00:49:38.069130",
     "status": "completed"
    },
    "tags": []
   },
   "outputs": [],
   "source": [
    "w_df = pd.DataFrame(worked, columns= ['Worked'])\n",
    "w_df['Worked_per'] = (w_df['Worked'] * 100).round(1)\n",
    "wa_df = pd.DataFrame(wanted, columns= ['Wanted'])\n",
    "wa_df['Wanted_per'] = (w_df['Worked'] * 100).round(1)\n",
    "langs = pd.concat([w_df, wa_df, comps], axis=1)\n",
    "langs['Year'] = year\n",
    "langs.rename(columns={0: \"Salary\"}, inplace = True)\n",
    "langs['Category'] = category"
   ]
  },
  {
   "cell_type": "markdown",
   "id": "altered-burst",
   "metadata": {
    "papermill": {
     "duration": 0.013029,
     "end_time": "2022-06-06T00:49:38.132334",
     "exception": false,
     "start_time": "2022-06-06T00:49:38.119305",
     "status": "completed"
    },
    "tags": []
   },
   "source": [
    "Exportamos los datos procesados del año."
   ]
  },
  {
   "cell_type": "code",
   "execution_count": 12,
   "id": "quantitative-munich",
   "metadata": {
    "execution": {
     "iopub.execute_input": "2022-06-06T00:49:38.162791Z",
     "iopub.status.busy": "2022-06-06T00:49:38.162209Z",
     "iopub.status.idle": "2022-06-06T00:49:38.165767Z",
     "shell.execute_reply": "2022-06-06T00:49:38.166146Z"
    },
    "papermill": {
     "duration": 0.019302,
     "end_time": "2022-06-06T00:49:38.166293",
     "exception": false,
     "start_time": "2022-06-06T00:49:38.146991",
     "status": "completed"
    },
    "tags": []
   },
   "outputs": [],
   "source": [
    "langs.to_csv(f'../out/{year}_{category}.csv', index=True, index_label='Language')"
   ]
  }
 ],
 "metadata": {
  "celltoolbar": "Tags",
  "interpreter": {
   "hash": "9e4d46cb2e7439cd377379e4187049771cc0b6089dc8d4ad323c0b3c23302069"
  },
  "kernelspec": {
   "display_name": "Python 3 (ipykernel)",
   "language": "python",
   "name": "python3"
  },
  "language_info": {
   "codemirror_mode": {
    "name": "ipython",
    "version": 3
   },
   "file_extension": ".py",
   "mimetype": "text/x-python",
   "name": "python",
   "nbconvert_exporter": "python",
   "pygments_lexer": "ipython3",
   "version": "3.9.1"
  },
  "papermill": {
   "default_parameters": {},
   "duration": 7.688767,
   "end_time": "2022-06-06T00:49:38.487982",
   "environment_variables": {},
   "exception": null,
   "input_path": "data/jupyters/so_template_2017_2021.ipynb",
   "output_path": "data/jupyters/2020_Programming.ipynb",
   "parameters": {
    "category": "Programming",
    "colwanted": "LanguageDesireNextYear",
    "colworked": "LanguageWorkedWith",
    "currency": "CurrencySymbol",
    "salary": "CompTotal",
    "salaryType": "CompFreq",
    "year": 2020
   },
   "start_time": "2022-06-06T00:49:30.799215",
   "version": "2.3.4"
  }
 },
 "nbformat": 4,
 "nbformat_minor": 5
}