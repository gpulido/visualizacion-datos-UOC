{
 "cells": [
  {
   "cell_type": "code",
   "execution_count": 1,
   "id": "regulation-maine",
   "metadata": {
    "execution": {
     "iopub.execute_input": "2022-06-06T00:51:22.040793Z",
     "iopub.status.busy": "2022-06-06T00:51:22.040269Z",
     "iopub.status.idle": "2022-06-06T00:51:22.279997Z",
     "shell.execute_reply": "2022-06-06T00:51:22.279549Z"
    },
    "papermill": {
     "duration": 0.266279,
     "end_time": "2022-06-06T00:51:22.280137",
     "exception": false,
     "start_time": "2022-06-06T00:51:22.013858",
     "status": "completed"
    },
    "tags": []
   },
   "outputs": [],
   "source": [
    "#!pip install matplotlib-venn\n",
    "import numpy as np\n",
    "import pandas as pd\n",
    "import zipfile\n",
    "import json"
   ]
  },
  {
   "cell_type": "code",
   "execution_count": 2,
   "id": "cubic-publication",
   "metadata": {
    "execution": {
     "iopub.execute_input": "2022-06-06T00:51:22.334497Z",
     "iopub.status.busy": "2022-06-06T00:51:22.333815Z",
     "iopub.status.idle": "2022-06-06T00:51:22.336568Z",
     "shell.execute_reply": "2022-06-06T00:51:22.335991Z"
    },
    "papermill": {
     "duration": 0.03738,
     "end_time": "2022-06-06T00:51:22.336700",
     "exception": false,
     "start_time": "2022-06-06T00:51:22.299320",
     "status": "completed"
    },
    "tags": []
   },
   "outputs": [],
   "source": [
    "comp = {'Monthly': 12, 'Yearly': 1, 'Weekly':52}\n",
    "\n",
    "def comp_level(x):\n",
    "    if x[salaryType] != x[salaryType]:\n",
    "        return x[salaryType]   \n",
    "    return x[salary] * comp[x[salaryType]] / x[0]"
   ]
  },
  {
   "cell_type": "code",
   "execution_count": 3,
   "id": "visible-script",
   "metadata": {
    "execution": {
     "iopub.execute_input": "2022-06-06T00:51:22.367710Z",
     "iopub.status.busy": "2022-06-06T00:51:22.367166Z",
     "iopub.status.idle": "2022-06-06T00:51:22.369234Z",
     "shell.execute_reply": "2022-06-06T00:51:22.369729Z"
    },
    "papermill": {
     "duration": 0.01877,
     "end_time": "2022-06-06T00:51:22.369876",
     "exception": false,
     "start_time": "2022-06-06T00:51:22.351106",
     "status": "completed"
    },
    "tags": [
     "parameters"
    ]
   },
   "outputs": [],
   "source": [
    "year = 2021\n",
    "category= 'Programming'\n",
    "colworked = 'LanguageHaveWorkedWith'\n",
    "colwanted = 'LanguageWantToWorkWith'\n",
    "currency = 'Currency'\n",
    "salary = \"CompTotal\"\n",
    "salaryType = \"CompFreq\""
   ]
  },
  {
   "cell_type": "code",
   "execution_count": 4,
   "id": "disturbed-piece",
   "metadata": {
    "execution": {
     "iopub.execute_input": "2022-06-06T00:51:22.396682Z",
     "iopub.status.busy": "2022-06-06T00:51:22.396053Z",
     "iopub.status.idle": "2022-06-06T00:51:22.397786Z",
     "shell.execute_reply": "2022-06-06T00:51:22.398187Z"
    },
    "papermill": {
     "duration": 0.017553,
     "end_time": "2022-06-06T00:51:22.398322",
     "exception": false,
     "start_time": "2022-06-06T00:51:22.380769",
     "status": "completed"
    },
    "tags": [
     "injected-parameters"
    ]
   },
   "outputs": [],
   "source": [
    "# Parameters\n",
    "year = 2018\n",
    "colworked = \"FrameworkWorkedWith\"\n",
    "colwanted = \"FrameworkDesireNextYear\"\n",
    "currency = \"CurrencySymbol\"\n",
    "salary = \"Salary\"\n",
    "salaryType = \"SalaryType\"\n",
    "category = \"Webframe\"\n"
   ]
  },
  {
   "cell_type": "markdown",
   "id": "experienced-arcade",
   "metadata": {
    "papermill": {
     "duration": 0.011712,
     "end_time": "2022-06-06T00:51:22.423256",
     "exception": false,
     "start_time": "2022-06-06T00:51:22.411544",
     "status": "completed"
    },
    "tags": []
   },
   "source": [
    "Cargamos los datos y mostramos su contenido"
   ]
  },
  {
   "cell_type": "code",
   "execution_count": 5,
   "id": "broadband-waterproof",
   "metadata": {
    "execution": {
     "iopub.execute_input": "2022-06-06T00:51:22.454376Z",
     "iopub.status.busy": "2022-06-06T00:51:22.453451Z",
     "iopub.status.idle": "2022-06-06T00:51:25.558570Z",
     "shell.execute_reply": "2022-06-06T00:51:25.557575Z"
    },
    "papermill": {
     "duration": 3.121876,
     "end_time": "2022-06-06T00:51:25.558860",
     "exception": false,
     "start_time": "2022-06-06T00:51:22.436984",
     "status": "completed"
    },
    "tags": []
   },
   "outputs": [
    {
     "name": "stderr",
     "output_type": "stream",
     "text": [
      "/home/gpt/app/anaconda3/envs/uoc20202pec1/lib/python3.9/site-packages/IPython/core/interactiveshell.py:3165: DtypeWarning: Columns (8,12,13,14,15,16,50,51,52,53,55,56,57,58,59,60,61,62,63,64,65,66,67,68,69,70,71,72,73,74,75,76,77,78,79,80,81,82,83,84,85,93,94,95,96,97,98,99,100,101,102,103,104,105,106,107,108,109,110,111,112,113,114,115,116,117,118,119,120,121,122,123,124,125,126,127,128) have mixed types.Specify dtype option on import or set low_memory=False.\n",
      "  has_raised = await self.run_ast_nodes(code_ast.body, cell_name,\n"
     ]
    }
   ],
   "source": [
    "\n",
    "zf = zipfile.ZipFile(f'../surveys/stack-overflow-developer-survey-{year}.zip') \n",
    "devs = pd.read_csv(zf.open('survey_results_public.csv'))\n",
    "# Cargamos los ratios de conversion de las monedas a 1 de Diciembre de cada año.\n",
    "with open(f'../rates/rates-{year}.json', 'r') as f:\n",
    "  data = json.loads(f.read())\n",
    "rates = pd.json_normalize(data['rates']).transpose()"
   ]
  },
  {
   "cell_type": "markdown",
   "id": "introductory-cabin",
   "metadata": {
    "papermill": {
     "duration": 0.0262,
     "end_time": "2022-06-06T00:51:25.608033",
     "exception": false,
     "start_time": "2022-06-06T00:51:25.581833",
     "status": "completed"
    },
    "tags": []
   },
   "source": [
    "Eliminamos los nulos de las dos  propiedades que nos intersan"
   ]
  },
  {
   "cell_type": "code",
   "execution_count": 6,
   "id": "angry-costs",
   "metadata": {
    "execution": {
     "iopub.execute_input": "2022-06-06T00:51:25.660066Z",
     "iopub.status.busy": "2022-06-06T00:51:25.653122Z",
     "iopub.status.idle": "2022-06-06T00:51:25.767300Z",
     "shell.execute_reply": "2022-06-06T00:51:25.766433Z"
    },
    "papermill": {
     "duration": 0.140736,
     "end_time": "2022-06-06T00:51:25.767468",
     "exception": false,
     "start_time": "2022-06-06T00:51:25.626732",
     "status": "completed"
    },
    "tags": []
   },
   "outputs": [],
   "source": [
    "devs[colworked] = devs[colworked].fillna(\"\")\n",
    "devs[colwanted] = devs[colwanted].fillna(\"\")\n",
    "devs[salary]= devs[salary].replace(\"nan\", np.NaN)\n",
    "devs[salary]= pd.to_numeric(devs[salary], errors='coerce')"
   ]
  },
  {
   "cell_type": "code",
   "execution_count": 7,
   "id": "homeless-nelson",
   "metadata": {
    "execution": {
     "iopub.execute_input": "2022-06-06T00:51:25.816682Z",
     "iopub.status.busy": "2022-06-06T00:51:25.815878Z",
     "iopub.status.idle": "2022-06-06T00:51:27.795339Z",
     "shell.execute_reply": "2022-06-06T00:51:27.794945Z"
    },
    "papermill": {
     "duration": 2.011119,
     "end_time": "2022-06-06T00:51:27.795466",
     "exception": false,
     "start_time": "2022-06-06T00:51:25.784347",
     "status": "completed"
    },
    "tags": []
   },
   "outputs": [],
   "source": [
    "lang_worked = devs[colworked].str.replace(' ', '').str.get_dummies(sep=';')\n",
    "lang_want = devs[colwanted].str.replace(' ', '').str.get_dummies(sep=';')"
   ]
  },
  {
   "cell_type": "markdown",
   "id": "restricted-immunology",
   "metadata": {
    "papermill": {
     "duration": 0.027249,
     "end_time": "2022-06-06T00:51:27.847214",
     "exception": false,
     "start_time": "2022-06-06T00:51:27.819965",
     "status": "completed"
    },
    "tags": []
   },
   "source": [
    "Se nivela la compensacion para obtener el valor anual aproximado en USD, aplicando el cambio de divisa cargado del año"
   ]
  },
  {
   "cell_type": "code",
   "execution_count": 8,
   "id": "broadband-india",
   "metadata": {
    "execution": {
     "iopub.execute_input": "2022-06-06T00:51:27.884476Z",
     "iopub.status.busy": "2022-06-06T00:51:27.883995Z",
     "iopub.status.idle": "2022-06-06T00:51:30.275630Z",
     "shell.execute_reply": "2022-06-06T00:51:30.274610Z"
    },
    "papermill": {
     "duration": 2.412337,
     "end_time": "2022-06-06T00:51:30.275902",
     "exception": false,
     "start_time": "2022-06-06T00:51:27.863565",
     "status": "completed"
    },
    "tags": []
   },
   "outputs": [],
   "source": [
    "if currency:\n",
    "    devs[currency] = devs[currency].str[:3]\n",
    "    devs = pd.merge(devs, rates, left_on=currency, right_index=True)\n",
    "    devs['CompTotalUSD'] = devs.apply(comp_level, axis=1)\n",
    "else:\n",
    "    devs['CompTotalUSD'] = devs[salary]\n"
   ]
  },
  {
   "cell_type": "markdown",
   "id": "automatic-insertion",
   "metadata": {
    "papermill": {
     "duration": 0.01803,
     "end_time": "2022-06-06T00:51:30.321494",
     "exception": false,
     "start_time": "2022-06-06T00:51:30.303464",
     "status": "completed"
    },
    "tags": []
   },
   "source": [
    "Obtenemos el dataframe con los distintos lenguajes y su compensacion"
   ]
  },
  {
   "cell_type": "code",
   "execution_count": 9,
   "id": "recognized-independence",
   "metadata": {
    "execution": {
     "iopub.execute_input": "2022-06-06T00:51:30.358089Z",
     "iopub.status.busy": "2022-06-06T00:51:30.357580Z",
     "iopub.status.idle": "2022-06-06T00:51:30.409921Z",
     "shell.execute_reply": "2022-06-06T00:51:30.409482Z"
    },
    "papermill": {
     "duration": 0.070008,
     "end_time": "2022-06-06T00:51:30.410052",
     "exception": false,
     "start_time": "2022-06-06T00:51:30.340044",
     "status": "completed"
    },
    "tags": []
   },
   "outputs": [],
   "source": [
    "comps = lang_worked.multiply( devs['CompTotalUSD']/1000, axis=\"index\").round(decimals=0).replace(0, np.NaN).median().astype('int')"
   ]
  },
  {
   "cell_type": "markdown",
   "id": "subtle-disposal",
   "metadata": {
    "papermill": {
     "duration": 0.012977,
     "end_time": "2022-06-06T00:51:30.436395",
     "exception": false,
     "start_time": "2022-06-06T00:51:30.423418",
     "status": "completed"
    },
    "tags": []
   },
   "source": [
    "Calculamos el porcentaje de uso de cada lenguaje respecto del total.\n",
    "Como vamos a comparar años distintos con encuestados distintos por año, el porcentaje anual es una forma de nivelar y poder realizar la comparacion."
   ]
  },
  {
   "cell_type": "code",
   "execution_count": 10,
   "id": "dated-filter",
   "metadata": {
    "execution": {
     "iopub.execute_input": "2022-06-06T00:51:30.468291Z",
     "iopub.status.busy": "2022-06-06T00:51:30.467753Z",
     "iopub.status.idle": "2022-06-06T00:51:30.473748Z",
     "shell.execute_reply": "2022-06-06T00:51:30.474398Z"
    },
    "papermill": {
     "duration": 0.024095,
     "end_time": "2022-06-06T00:51:30.474636",
     "exception": false,
     "start_time": "2022-06-06T00:51:30.450541",
     "status": "completed"
    },
    "tags": []
   },
   "outputs": [],
   "source": [
    "worked = lang_worked.sum() / len(lang_worked)\n",
    "wanted = lang_want.sum() / len(lang_want)"
   ]
  },
  {
   "cell_type": "markdown",
   "id": "failing-davis",
   "metadata": {
    "papermill": {
     "duration": 0.016865,
     "end_time": "2022-06-06T00:51:30.513322",
     "exception": false,
     "start_time": "2022-06-06T00:51:30.496457",
     "status": "completed"
    },
    "tags": []
   },
   "source": [
    "Unimos los dataframes de lenguajes trabajados en el año, lenguajes en los que se quiere trabajar, la compensacion y el año."
   ]
  },
  {
   "cell_type": "code",
   "execution_count": 11,
   "id": "promising-panel",
   "metadata": {
    "execution": {
     "iopub.execute_input": "2022-06-06T00:51:30.554119Z",
     "iopub.status.busy": "2022-06-06T00:51:30.553629Z",
     "iopub.status.idle": "2022-06-06T00:51:30.555539Z",
     "shell.execute_reply": "2022-06-06T00:51:30.555897Z"
    },
    "papermill": {
     "duration": 0.029596,
     "end_time": "2022-06-06T00:51:30.556053",
     "exception": false,
     "start_time": "2022-06-06T00:51:30.526457",
     "status": "completed"
    },
    "tags": []
   },
   "outputs": [],
   "source": [
    "w_df = pd.DataFrame(worked, columns= ['Worked'])\n",
    "w_df['Worked_per'] = (w_df['Worked'] * 100).round(1)\n",
    "wa_df = pd.DataFrame(wanted, columns= ['Wanted'])\n",
    "wa_df['Wanted_per'] = (w_df['Worked'] * 100).round(1)\n",
    "langs = pd.concat([w_df, wa_df, comps], axis=1)\n",
    "langs['Year'] = year\n",
    "langs.rename(columns={0: \"Salary\"}, inplace = True)\n",
    "langs['Category'] = category"
   ]
  },
  {
   "cell_type": "markdown",
   "id": "toxic-walter",
   "metadata": {
    "papermill": {
     "duration": 0.011726,
     "end_time": "2022-06-06T00:51:30.579741",
     "exception": false,
     "start_time": "2022-06-06T00:51:30.568015",
     "status": "completed"
    },
    "tags": []
   },
   "source": [
    "Exportamos los datos procesados del año."
   ]
  },
  {
   "cell_type": "code",
   "execution_count": 12,
   "id": "decreased-empire",
   "metadata": {
    "execution": {
     "iopub.execute_input": "2022-06-06T00:51:30.609033Z",
     "iopub.status.busy": "2022-06-06T00:51:30.608225Z",
     "iopub.status.idle": "2022-06-06T00:51:30.612718Z",
     "shell.execute_reply": "2022-06-06T00:51:30.612312Z"
    },
    "papermill": {
     "duration": 0.021017,
     "end_time": "2022-06-06T00:51:30.612844",
     "exception": false,
     "start_time": "2022-06-06T00:51:30.591827",
     "status": "completed"
    },
    "tags": []
   },
   "outputs": [],
   "source": [
    "langs.to_csv(f'../out/{year}_{category}.csv', index=True, index_label='Language')"
   ]
  }
 ],
 "metadata": {
  "celltoolbar": "Tags",
  "interpreter": {
   "hash": "9e4d46cb2e7439cd377379e4187049771cc0b6089dc8d4ad323c0b3c23302069"
  },
  "kernelspec": {
   "display_name": "Python 3 (ipykernel)",
   "language": "python",
   "name": "python3"
  },
  "language_info": {
   "codemirror_mode": {
    "name": "ipython",
    "version": 3
   },
   "file_extension": ".py",
   "mimetype": "text/x-python",
   "name": "python",
   "nbconvert_exporter": "python",
   "pygments_lexer": "ipython3",
   "version": "3.9.1"
  },
  "papermill": {
   "default_parameters": {},
   "duration": 9.781182,
   "end_time": "2022-06-06T00:51:31.034661",
   "environment_variables": {},
   "exception": null,
   "input_path": "data/jupyters/so_template_2017_2021.ipynb",
   "output_path": "data/jupyters/2018_Webframe.ipynb",
   "parameters": {
    "category": "Webframe",
    "colwanted": "FrameworkDesireNextYear",
    "colworked": "FrameworkWorkedWith",
    "currency": "CurrencySymbol",
    "salary": "Salary",
    "salaryType": "SalaryType",
    "year": 2018
   },
   "start_time": "2022-06-06T00:51:21.253479",
   "version": "2.3.4"
  }
 },
 "nbformat": 4,
 "nbformat_minor": 5
}