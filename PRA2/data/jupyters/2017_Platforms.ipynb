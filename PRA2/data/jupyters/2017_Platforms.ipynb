{
 "cells": [
  {
   "cell_type": "code",
   "execution_count": 1,
   "id": "honest-breath",
   "metadata": {
    "execution": {
     "iopub.execute_input": "2022-06-06T00:51:58.893109Z",
     "iopub.status.busy": "2022-06-06T00:51:58.892592Z",
     "iopub.status.idle": "2022-06-06T00:51:59.124589Z",
     "shell.execute_reply": "2022-06-06T00:51:59.123389Z"
    },
    "papermill": {
     "duration": 0.249904,
     "end_time": "2022-06-06T00:51:59.124889",
     "exception": false,
     "start_time": "2022-06-06T00:51:58.874985",
     "status": "completed"
    },
    "tags": []
   },
   "outputs": [],
   "source": [
    "#!pip install matplotlib-venn\n",
    "import numpy as np\n",
    "import pandas as pd\n",
    "import zipfile\n",
    "import json"
   ]
  },
  {
   "cell_type": "code",
   "execution_count": 2,
   "id": "cheap-layout",
   "metadata": {
    "execution": {
     "iopub.execute_input": "2022-06-06T00:51:59.184979Z",
     "iopub.status.busy": "2022-06-06T00:51:59.183921Z",
     "iopub.status.idle": "2022-06-06T00:51:59.186795Z",
     "shell.execute_reply": "2022-06-06T00:51:59.186211Z"
    },
    "papermill": {
     "duration": 0.034759,
     "end_time": "2022-06-06T00:51:59.186993",
     "exception": false,
     "start_time": "2022-06-06T00:51:59.152234",
     "status": "completed"
    },
    "tags": []
   },
   "outputs": [],
   "source": [
    "comp = {'Monthly': 12, 'Yearly': 1, 'Weekly':52}\n",
    "\n",
    "def comp_level(x):\n",
    "    if x[salaryType] != x[salaryType]:\n",
    "        return x[salaryType]   \n",
    "    return x[salary] * comp[x[salaryType]] / x[0]"
   ]
  },
  {
   "cell_type": "code",
   "execution_count": 3,
   "id": "special-grammar",
   "metadata": {
    "execution": {
     "iopub.execute_input": "2022-06-06T00:51:59.223993Z",
     "iopub.status.busy": "2022-06-06T00:51:59.223270Z",
     "iopub.status.idle": "2022-06-06T00:51:59.224998Z",
     "shell.execute_reply": "2022-06-06T00:51:59.225390Z"
    },
    "papermill": {
     "duration": 0.021519,
     "end_time": "2022-06-06T00:51:59.225550",
     "exception": false,
     "start_time": "2022-06-06T00:51:59.204031",
     "status": "completed"
    },
    "tags": [
     "parameters"
    ]
   },
   "outputs": [],
   "source": [
    "year = 2021\n",
    "category= 'Programming'\n",
    "colworked = 'LanguageHaveWorkedWith'\n",
    "colwanted = 'LanguageWantToWorkWith'\n",
    "currency = 'Currency'\n",
    "salary = \"CompTotal\"\n",
    "salaryType = \"CompFreq\""
   ]
  },
  {
   "cell_type": "code",
   "execution_count": 4,
   "id": "knowing-seller",
   "metadata": {
    "execution": {
     "iopub.execute_input": "2022-06-06T00:51:59.255537Z",
     "iopub.status.busy": "2022-06-06T00:51:59.255033Z",
     "iopub.status.idle": "2022-06-06T00:51:59.257078Z",
     "shell.execute_reply": "2022-06-06T00:51:59.257460Z"
    },
    "papermill": {
     "duration": 0.017827,
     "end_time": "2022-06-06T00:51:59.257613",
     "exception": false,
     "start_time": "2022-06-06T00:51:59.239786",
     "status": "completed"
    },
    "tags": [
     "injected-parameters"
    ]
   },
   "outputs": [],
   "source": [
    "# Parameters\n",
    "year = 2017\n",
    "colworked = \"HaveWorkedPlatform\"\n",
    "colwanted = \"WantWorkPlatform\"\n",
    "currency = None\n",
    "salary = \"Salary\"\n",
    "salaryType = \"SalaryType\"\n",
    "category = \"Platforms\"\n"
   ]
  },
  {
   "cell_type": "markdown",
   "id": "applied-notebook",
   "metadata": {
    "papermill": {
     "duration": 0.012744,
     "end_time": "2022-06-06T00:51:59.283658",
     "exception": false,
     "start_time": "2022-06-06T00:51:59.270914",
     "status": "completed"
    },
    "tags": []
   },
   "source": [
    "Cargamos los datos y mostramos su contenido"
   ]
  },
  {
   "cell_type": "code",
   "execution_count": 5,
   "id": "registered-composer",
   "metadata": {
    "execution": {
     "iopub.execute_input": "2022-06-06T00:51:59.315988Z",
     "iopub.status.busy": "2022-06-06T00:51:59.315114Z",
     "iopub.status.idle": "2022-06-06T00:52:00.982341Z",
     "shell.execute_reply": "2022-06-06T00:52:00.982706Z"
    },
    "papermill": {
     "duration": 1.686156,
     "end_time": "2022-06-06T00:52:00.982890",
     "exception": false,
     "start_time": "2022-06-06T00:51:59.296734",
     "status": "completed"
    },
    "tags": []
   },
   "outputs": [],
   "source": [
    "\n",
    "zf = zipfile.ZipFile(f'../surveys/stack-overflow-developer-survey-{year}.zip') \n",
    "devs = pd.read_csv(zf.open('survey_results_public.csv'))\n",
    "# Cargamos los ratios de conversion de las monedas a 1 de Diciembre de cada año.\n",
    "with open(f'../rates/rates-{year}.json', 'r') as f:\n",
    "  data = json.loads(f.read())\n",
    "rates = pd.json_normalize(data['rates']).transpose()"
   ]
  },
  {
   "cell_type": "markdown",
   "id": "accessory-parallel",
   "metadata": {
    "papermill": {
     "duration": 0.015689,
     "end_time": "2022-06-06T00:52:01.011225",
     "exception": false,
     "start_time": "2022-06-06T00:52:00.995536",
     "status": "completed"
    },
    "tags": []
   },
   "source": [
    "Eliminamos los nulos de las dos  propiedades que nos intersan"
   ]
  },
  {
   "cell_type": "code",
   "execution_count": 6,
   "id": "flying-abraham",
   "metadata": {
    "execution": {
     "iopub.execute_input": "2022-06-06T00:52:01.055737Z",
     "iopub.status.busy": "2022-06-06T00:52:01.051531Z",
     "iopub.status.idle": "2022-06-06T00:52:01.060156Z",
     "shell.execute_reply": "2022-06-06T00:52:01.060555Z"
    },
    "papermill": {
     "duration": 0.033662,
     "end_time": "2022-06-06T00:52:01.060714",
     "exception": false,
     "start_time": "2022-06-06T00:52:01.027052",
     "status": "completed"
    },
    "tags": []
   },
   "outputs": [],
   "source": [
    "devs[colworked] = devs[colworked].fillna(\"\")\n",
    "devs[colwanted] = devs[colwanted].fillna(\"\")\n",
    "devs[salary]= devs[salary].replace(\"nan\", np.NaN)\n",
    "devs[salary]= pd.to_numeric(devs[salary], errors='coerce')"
   ]
  },
  {
   "cell_type": "code",
   "execution_count": 7,
   "id": "everyday-soccer",
   "metadata": {
    "execution": {
     "iopub.execute_input": "2022-06-06T00:52:01.098475Z",
     "iopub.status.busy": "2022-06-06T00:52:01.093722Z",
     "iopub.status.idle": "2022-06-06T00:52:02.366463Z",
     "shell.execute_reply": "2022-06-06T00:52:02.366880Z"
    },
    "papermill": {
     "duration": 1.29401,
     "end_time": "2022-06-06T00:52:02.367044",
     "exception": false,
     "start_time": "2022-06-06T00:52:01.073034",
     "status": "completed"
    },
    "tags": []
   },
   "outputs": [],
   "source": [
    "lang_worked = devs[colworked].str.replace(' ', '').str.get_dummies(sep=';')\n",
    "lang_want = devs[colwanted].str.replace(' ', '').str.get_dummies(sep=';')"
   ]
  },
  {
   "cell_type": "markdown",
   "id": "progressive-abuse",
   "metadata": {
    "papermill": {
     "duration": 0.017463,
     "end_time": "2022-06-06T00:52:02.398231",
     "exception": false,
     "start_time": "2022-06-06T00:52:02.380768",
     "status": "completed"
    },
    "tags": []
   },
   "source": [
    "Se nivela la compensacion para obtener el valor anual aproximado en USD, aplicando el cambio de divisa cargado del año"
   ]
  },
  {
   "cell_type": "code",
   "execution_count": 8,
   "id": "forward-customer",
   "metadata": {
    "execution": {
     "iopub.execute_input": "2022-06-06T00:52:02.437880Z",
     "iopub.status.busy": "2022-06-06T00:52:02.437403Z",
     "iopub.status.idle": "2022-06-06T00:52:02.439546Z",
     "shell.execute_reply": "2022-06-06T00:52:02.439156Z"
    },
    "papermill": {
     "duration": 0.024236,
     "end_time": "2022-06-06T00:52:02.439668",
     "exception": false,
     "start_time": "2022-06-06T00:52:02.415432",
     "status": "completed"
    },
    "tags": []
   },
   "outputs": [],
   "source": [
    "if currency:\n",
    "    devs[currency] = devs[currency].str[:3]\n",
    "    devs = pd.merge(devs, rates, left_on=currency, right_index=True)\n",
    "    devs['CompTotalUSD'] = devs.apply(comp_level, axis=1)\n",
    "else:\n",
    "    devs['CompTotalUSD'] = devs[salary]\n"
   ]
  },
  {
   "cell_type": "markdown",
   "id": "attempted-nashville",
   "metadata": {
    "papermill": {
     "duration": 0.011568,
     "end_time": "2022-06-06T00:52:02.462216",
     "exception": false,
     "start_time": "2022-06-06T00:52:02.450648",
     "status": "completed"
    },
    "tags": []
   },
   "source": [
    "Obtenemos el dataframe con los distintos lenguajes y su compensacion"
   ]
  },
  {
   "cell_type": "code",
   "execution_count": 9,
   "id": "registered-addiction",
   "metadata": {
    "execution": {
     "iopub.execute_input": "2022-06-06T00:52:02.490680Z",
     "iopub.status.busy": "2022-06-06T00:52:02.490093Z",
     "iopub.status.idle": "2022-06-06T00:52:02.515066Z",
     "shell.execute_reply": "2022-06-06T00:52:02.515492Z"
    },
    "papermill": {
     "duration": 0.042364,
     "end_time": "2022-06-06T00:52:02.515649",
     "exception": false,
     "start_time": "2022-06-06T00:52:02.473285",
     "status": "completed"
    },
    "tags": []
   },
   "outputs": [],
   "source": [
    "comps = lang_worked.multiply( devs['CompTotalUSD']/1000, axis=\"index\").round(decimals=0).replace(0, np.NaN).median().astype('int')"
   ]
  },
  {
   "cell_type": "markdown",
   "id": "persistent-ending",
   "metadata": {
    "papermill": {
     "duration": 0.012854,
     "end_time": "2022-06-06T00:52:02.541038",
     "exception": false,
     "start_time": "2022-06-06T00:52:02.528184",
     "status": "completed"
    },
    "tags": []
   },
   "source": [
    "Calculamos el porcentaje de uso de cada lenguaje respecto del total.\n",
    "Como vamos a comparar años distintos con encuestados distintos por año, el porcentaje anual es una forma de nivelar y poder realizar la comparacion."
   ]
  },
  {
   "cell_type": "code",
   "execution_count": 10,
   "id": "restricted-lewis",
   "metadata": {
    "execution": {
     "iopub.execute_input": "2022-06-06T00:52:02.572398Z",
     "iopub.status.busy": "2022-06-06T00:52:02.571871Z",
     "iopub.status.idle": "2022-06-06T00:52:02.577037Z",
     "shell.execute_reply": "2022-06-06T00:52:02.577401Z"
    },
    "papermill": {
     "duration": 0.022037,
     "end_time": "2022-06-06T00:52:02.577575",
     "exception": false,
     "start_time": "2022-06-06T00:52:02.555538",
     "status": "completed"
    },
    "tags": []
   },
   "outputs": [],
   "source": [
    "worked = lang_worked.sum() / len(lang_worked)\n",
    "wanted = lang_want.sum() / len(lang_want)"
   ]
  },
  {
   "cell_type": "markdown",
   "id": "english-mills",
   "metadata": {
    "papermill": {
     "duration": 0.013098,
     "end_time": "2022-06-06T00:52:02.602123",
     "exception": false,
     "start_time": "2022-06-06T00:52:02.589025",
     "status": "completed"
    },
    "tags": []
   },
   "source": [
    "Unimos los dataframes de lenguajes trabajados en el año, lenguajes en los que se quiere trabajar, la compensacion y el año."
   ]
  },
  {
   "cell_type": "code",
   "execution_count": 11,
   "id": "homeless-finnish",
   "metadata": {
    "execution": {
     "iopub.execute_input": "2022-06-06T00:52:02.637862Z",
     "iopub.status.busy": "2022-06-06T00:52:02.637388Z",
     "iopub.status.idle": "2022-06-06T00:52:02.639705Z",
     "shell.execute_reply": "2022-06-06T00:52:02.639320Z"
    },
    "papermill": {
     "duration": 0.024839,
     "end_time": "2022-06-06T00:52:02.639832",
     "exception": false,
     "start_time": "2022-06-06T00:52:02.614993",
     "status": "completed"
    },
    "tags": []
   },
   "outputs": [],
   "source": [
    "w_df = pd.DataFrame(worked, columns= ['Worked'])\n",
    "w_df['Worked_per'] = (w_df['Worked'] * 100).round(1)\n",
    "wa_df = pd.DataFrame(wanted, columns= ['Wanted'])\n",
    "wa_df['Wanted_per'] = (w_df['Worked'] * 100).round(1)\n",
    "langs = pd.concat([w_df, wa_df, comps], axis=1)\n",
    "langs['Year'] = year\n",
    "langs.rename(columns={0: \"Salary\"}, inplace = True)\n",
    "langs['Category'] = category"
   ]
  },
  {
   "cell_type": "markdown",
   "id": "constant-failing",
   "metadata": {
    "papermill": {
     "duration": 0.012699,
     "end_time": "2022-06-06T00:52:02.666111",
     "exception": false,
     "start_time": "2022-06-06T00:52:02.653412",
     "status": "completed"
    },
    "tags": []
   },
   "source": [
    "Exportamos los datos procesados del año."
   ]
  },
  {
   "cell_type": "code",
   "execution_count": 12,
   "id": "breeding-lottery",
   "metadata": {
    "execution": {
     "iopub.execute_input": "2022-06-06T00:52:02.699933Z",
     "iopub.status.busy": "2022-06-06T00:52:02.699434Z",
     "iopub.status.idle": "2022-06-06T00:52:02.703777Z",
     "shell.execute_reply": "2022-06-06T00:52:02.703366Z"
    },
    "papermill": {
     "duration": 0.023436,
     "end_time": "2022-06-06T00:52:02.703906",
     "exception": false,
     "start_time": "2022-06-06T00:52:02.680470",
     "status": "completed"
    },
    "tags": []
   },
   "outputs": [],
   "source": [
    "langs.to_csv(f'../out/{year}_{category}.csv', index=True, index_label='Language')"
   ]
  }
 ],
 "metadata": {
  "celltoolbar": "Tags",
  "interpreter": {
   "hash": "9e4d46cb2e7439cd377379e4187049771cc0b6089dc8d4ad323c0b3c23302069"
  },
  "kernelspec": {
   "display_name": "Python 3 (ipykernel)",
   "language": "python",
   "name": "python3"
  },
  "language_info": {
   "codemirror_mode": {
    "name": "ipython",
    "version": 3
   },
   "file_extension": ".py",
   "mimetype": "text/x-python",
   "name": "python",
   "nbconvert_exporter": "python",
   "pygments_lexer": "ipython3",
   "version": "3.9.1"
  },
  "papermill": {
   "default_parameters": {},
   "duration": 4.852328,
   "end_time": "2022-06-06T00:52:03.024465",
   "environment_variables": {},
   "exception": null,
   "input_path": "data/jupyters/so_template_2017_2021.ipynb",
   "output_path": "data/jupyters/2017_Platforms.ipynb",
   "parameters": {
    "category": "Platforms",
    "colwanted": "WantWorkPlatform",
    "colworked": "HaveWorkedPlatform",
    "currency": null,
    "salary": "Salary",
    "salaryType": "SalaryType",
    "year": 2017
   },
   "start_time": "2022-06-06T00:51:58.172137",
   "version": "2.3.4"
  }
 },
 "nbformat": 4,
 "nbformat_minor": 5
}