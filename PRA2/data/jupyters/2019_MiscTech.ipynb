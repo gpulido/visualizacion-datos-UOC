{
 "cells": [
  {
   "cell_type": "code",
   "execution_count": 1,
   "id": "stuffed-cricket",
   "metadata": {
    "execution": {
     "iopub.execute_input": "2022-06-06T00:50:38.186679Z",
     "iopub.status.busy": "2022-06-06T00:50:38.186187Z",
     "iopub.status.idle": "2022-06-06T00:50:38.420977Z",
     "shell.execute_reply": "2022-06-06T00:50:38.420426Z"
    },
    "papermill": {
     "duration": 0.250521,
     "end_time": "2022-06-06T00:50:38.421120",
     "exception": false,
     "start_time": "2022-06-06T00:50:38.170599",
     "status": "completed"
    },
    "tags": []
   },
   "outputs": [],
   "source": [
    "#!pip install matplotlib-venn\n",
    "import numpy as np\n",
    "import pandas as pd\n",
    "import zipfile\n",
    "import json"
   ]
  },
  {
   "cell_type": "code",
   "execution_count": 2,
   "id": "thousand-rouge",
   "metadata": {
    "execution": {
     "iopub.execute_input": "2022-06-06T00:50:38.462046Z",
     "iopub.status.busy": "2022-06-06T00:50:38.461477Z",
     "iopub.status.idle": "2022-06-06T00:50:38.463176Z",
     "shell.execute_reply": "2022-06-06T00:50:38.463561Z"
    },
    "papermill": {
     "duration": 0.025303,
     "end_time": "2022-06-06T00:50:38.463715",
     "exception": false,
     "start_time": "2022-06-06T00:50:38.438412",
     "status": "completed"
    },
    "tags": []
   },
   "outputs": [],
   "source": [
    "comp = {'Monthly': 12, 'Yearly': 1, 'Weekly':52}\n",
    "\n",
    "def comp_level(x):\n",
    "    if x[salaryType] != x[salaryType]:\n",
    "        return x[salaryType]   \n",
    "    return x[salary] * comp[x[salaryType]] / x[0]"
   ]
  },
  {
   "cell_type": "code",
   "execution_count": 3,
   "id": "suffering-lighting",
   "metadata": {
    "execution": {
     "iopub.execute_input": "2022-06-06T00:50:38.492925Z",
     "iopub.status.busy": "2022-06-06T00:50:38.492420Z",
     "iopub.status.idle": "2022-06-06T00:50:38.494663Z",
     "shell.execute_reply": "2022-06-06T00:50:38.494267Z"
    },
    "papermill": {
     "duration": 0.017025,
     "end_time": "2022-06-06T00:50:38.494799",
     "exception": false,
     "start_time": "2022-06-06T00:50:38.477774",
     "status": "completed"
    },
    "tags": [
     "parameters"
    ]
   },
   "outputs": [],
   "source": [
    "year = 2021\n",
    "category= 'Programming'\n",
    "colworked = 'LanguageHaveWorkedWith'\n",
    "colwanted = 'LanguageWantToWorkWith'\n",
    "currency = 'Currency'\n",
    "salary = \"CompTotal\"\n",
    "salaryType = \"CompFreq\""
   ]
  },
  {
   "cell_type": "code",
   "execution_count": 4,
   "id": "blocked-laptop",
   "metadata": {
    "execution": {
     "iopub.execute_input": "2022-06-06T00:50:38.521415Z",
     "iopub.status.busy": "2022-06-06T00:50:38.520938Z",
     "iopub.status.idle": "2022-06-06T00:50:38.523203Z",
     "shell.execute_reply": "2022-06-06T00:50:38.522800Z"
    },
    "papermill": {
     "duration": 0.017544,
     "end_time": "2022-06-06T00:50:38.523326",
     "exception": false,
     "start_time": "2022-06-06T00:50:38.505782",
     "status": "completed"
    },
    "tags": [
     "injected-parameters"
    ]
   },
   "outputs": [],
   "source": [
    "# Parameters\n",
    "year = 2019\n",
    "colworked = \"MiscTechWorkedWith\"\n",
    "colwanted = \"MiscTechDesireNextYear\"\n",
    "currency = \"CurrencySymbol\"\n",
    "salary = \"CompTotal\"\n",
    "salaryType = \"CompFreq\"\n",
    "category = \"MiscTech\"\n"
   ]
  },
  {
   "cell_type": "markdown",
   "id": "equal-southwest",
   "metadata": {
    "papermill": {
     "duration": 0.011014,
     "end_time": "2022-06-06T00:50:38.544999",
     "exception": false,
     "start_time": "2022-06-06T00:50:38.533985",
     "status": "completed"
    },
    "tags": []
   },
   "source": [
    "Cargamos los datos y mostramos su contenido"
   ]
  },
  {
   "cell_type": "code",
   "execution_count": 5,
   "id": "level-pakistan",
   "metadata": {
    "execution": {
     "iopub.execute_input": "2022-06-06T00:50:38.574504Z",
     "iopub.status.busy": "2022-06-06T00:50:38.573809Z",
     "iopub.status.idle": "2022-06-06T00:50:41.170346Z",
     "shell.execute_reply": "2022-06-06T00:50:41.169931Z"
    },
    "papermill": {
     "duration": 2.613389,
     "end_time": "2022-06-06T00:50:41.170481",
     "exception": false,
     "start_time": "2022-06-06T00:50:38.557092",
     "status": "completed"
    },
    "tags": []
   },
   "outputs": [],
   "source": [
    "\n",
    "zf = zipfile.ZipFile(f'../surveys/stack-overflow-developer-survey-{year}.zip') \n",
    "devs = pd.read_csv(zf.open('survey_results_public.csv'))\n",
    "# Cargamos los ratios de conversion de las monedas a 1 de Diciembre de cada año.\n",
    "with open(f'../rates/rates-{year}.json', 'r') as f:\n",
    "  data = json.loads(f.read())\n",
    "rates = pd.json_normalize(data['rates']).transpose()"
   ]
  },
  {
   "cell_type": "markdown",
   "id": "steady-tokyo",
   "metadata": {
    "papermill": {
     "duration": 0.016439,
     "end_time": "2022-06-06T00:50:41.201216",
     "exception": false,
     "start_time": "2022-06-06T00:50:41.184777",
     "status": "completed"
    },
    "tags": []
   },
   "source": [
    "Eliminamos los nulos de las dos  propiedades que nos intersan"
   ]
  },
  {
   "cell_type": "code",
   "execution_count": 6,
   "id": "scenic-result",
   "metadata": {
    "execution": {
     "iopub.execute_input": "2022-06-06T00:50:41.249123Z",
     "iopub.status.busy": "2022-06-06T00:50:41.242649Z",
     "iopub.status.idle": "2022-06-06T00:50:41.252929Z",
     "shell.execute_reply": "2022-06-06T00:50:41.252348Z"
    },
    "papermill": {
     "duration": 0.03543,
     "end_time": "2022-06-06T00:50:41.253080",
     "exception": false,
     "start_time": "2022-06-06T00:50:41.217650",
     "status": "completed"
    },
    "tags": []
   },
   "outputs": [],
   "source": [
    "devs[colworked] = devs[colworked].fillna(\"\")\n",
    "devs[colwanted] = devs[colwanted].fillna(\"\")\n",
    "devs[salary]= devs[salary].replace(\"nan\", np.NaN)\n",
    "devs[salary]= pd.to_numeric(devs[salary], errors='coerce')"
   ]
  },
  {
   "cell_type": "code",
   "execution_count": 7,
   "id": "chronic-update",
   "metadata": {
    "execution": {
     "iopub.execute_input": "2022-06-06T00:50:41.299985Z",
     "iopub.status.busy": "2022-06-06T00:50:41.292028Z",
     "iopub.status.idle": "2022-06-06T00:50:43.953942Z",
     "shell.execute_reply": "2022-06-06T00:50:43.954866Z"
    },
    "papermill": {
     "duration": 2.68688,
     "end_time": "2022-06-06T00:50:43.955130",
     "exception": false,
     "start_time": "2022-06-06T00:50:41.268250",
     "status": "completed"
    },
    "tags": []
   },
   "outputs": [],
   "source": [
    "lang_worked = devs[colworked].str.replace(' ', '').str.get_dummies(sep=';')\n",
    "lang_want = devs[colwanted].str.replace(' ', '').str.get_dummies(sep=';')"
   ]
  },
  {
   "cell_type": "markdown",
   "id": "united-engineer",
   "metadata": {
    "papermill": {
     "duration": 0.020882,
     "end_time": "2022-06-06T00:50:43.997231",
     "exception": false,
     "start_time": "2022-06-06T00:50:43.976349",
     "status": "completed"
    },
    "tags": []
   },
   "source": [
    "Se nivela la compensacion para obtener el valor anual aproximado en USD, aplicando el cambio de divisa cargado del año"
   ]
  },
  {
   "cell_type": "code",
   "execution_count": 8,
   "id": "genetic-norwegian",
   "metadata": {
    "execution": {
     "iopub.execute_input": "2022-06-06T00:50:44.048598Z",
     "iopub.status.busy": "2022-06-06T00:50:44.047813Z",
     "iopub.status.idle": "2022-06-06T00:50:46.695071Z",
     "shell.execute_reply": "2022-06-06T00:50:46.694198Z"
    },
    "papermill": {
     "duration": 2.679088,
     "end_time": "2022-06-06T00:50:46.695288",
     "exception": false,
     "start_time": "2022-06-06T00:50:44.016200",
     "status": "completed"
    },
    "tags": []
   },
   "outputs": [],
   "source": [
    "if currency:\n",
    "    devs[currency] = devs[currency].str[:3]\n",
    "    devs = pd.merge(devs, rates, left_on=currency, right_index=True)\n",
    "    devs['CompTotalUSD'] = devs.apply(comp_level, axis=1)\n",
    "else:\n",
    "    devs['CompTotalUSD'] = devs[salary]\n"
   ]
  },
  {
   "cell_type": "markdown",
   "id": "documented-motor",
   "metadata": {
    "papermill": {
     "duration": 0.012569,
     "end_time": "2022-06-06T00:50:46.725997",
     "exception": false,
     "start_time": "2022-06-06T00:50:46.713428",
     "status": "completed"
    },
    "tags": []
   },
   "source": [
    "Obtenemos el dataframe con los distintos lenguajes y su compensacion"
   ]
  },
  {
   "cell_type": "code",
   "execution_count": 9,
   "id": "mighty-label",
   "metadata": {
    "execution": {
     "iopub.execute_input": "2022-06-06T00:50:46.758996Z",
     "iopub.status.busy": "2022-06-06T00:50:46.758446Z",
     "iopub.status.idle": "2022-06-06T00:50:46.820574Z",
     "shell.execute_reply": "2022-06-06T00:50:46.820133Z"
    },
    "papermill": {
     "duration": 0.082048,
     "end_time": "2022-06-06T00:50:46.820707",
     "exception": false,
     "start_time": "2022-06-06T00:50:46.738659",
     "status": "completed"
    },
    "tags": []
   },
   "outputs": [],
   "source": [
    "comps = lang_worked.multiply( devs['CompTotalUSD']/1000, axis=\"index\").round(decimals=0).replace(0, np.NaN).median().astype('int')"
   ]
  },
  {
   "cell_type": "markdown",
   "id": "painful-click",
   "metadata": {
    "papermill": {
     "duration": 0.011929,
     "end_time": "2022-06-06T00:50:46.845452",
     "exception": false,
     "start_time": "2022-06-06T00:50:46.833523",
     "status": "completed"
    },
    "tags": []
   },
   "source": [
    "Calculamos el porcentaje de uso de cada lenguaje respecto del total.\n",
    "Como vamos a comparar años distintos con encuestados distintos por año, el porcentaje anual es una forma de nivelar y poder realizar la comparacion."
   ]
  },
  {
   "cell_type": "code",
   "execution_count": 10,
   "id": "indonesian-producer",
   "metadata": {
    "execution": {
     "iopub.execute_input": "2022-06-06T00:50:46.877706Z",
     "iopub.status.busy": "2022-06-06T00:50:46.877103Z",
     "iopub.status.idle": "2022-06-06T00:50:46.883720Z",
     "shell.execute_reply": "2022-06-06T00:50:46.884176Z"
    },
    "papermill": {
     "duration": 0.023947,
     "end_time": "2022-06-06T00:50:46.884405",
     "exception": false,
     "start_time": "2022-06-06T00:50:46.860458",
     "status": "completed"
    },
    "tags": []
   },
   "outputs": [],
   "source": [
    "worked = lang_worked.sum() / len(lang_worked)\n",
    "wanted = lang_want.sum() / len(lang_want)"
   ]
  },
  {
   "cell_type": "markdown",
   "id": "consecutive-justice",
   "metadata": {
    "papermill": {
     "duration": 0.011752,
     "end_time": "2022-06-06T00:50:46.907936",
     "exception": false,
     "start_time": "2022-06-06T00:50:46.896184",
     "status": "completed"
    },
    "tags": []
   },
   "source": [
    "Unimos los dataframes de lenguajes trabajados en el año, lenguajes en los que se quiere trabajar, la compensacion y el año."
   ]
  },
  {
   "cell_type": "code",
   "execution_count": 11,
   "id": "registered-allah",
   "metadata": {
    "execution": {
     "iopub.execute_input": "2022-06-06T00:50:46.949622Z",
     "iopub.status.busy": "2022-06-06T00:50:46.945341Z",
     "iopub.status.idle": "2022-06-06T00:50:46.951615Z",
     "shell.execute_reply": "2022-06-06T00:50:46.952047Z"
    },
    "papermill": {
     "duration": 0.031055,
     "end_time": "2022-06-06T00:50:46.952213",
     "exception": false,
     "start_time": "2022-06-06T00:50:46.921158",
     "status": "completed"
    },
    "tags": []
   },
   "outputs": [],
   "source": [
    "w_df = pd.DataFrame(worked, columns= ['Worked'])\n",
    "w_df['Worked_per'] = (w_df['Worked'] * 100).round(1)\n",
    "wa_df = pd.DataFrame(wanted, columns= ['Wanted'])\n",
    "wa_df['Wanted_per'] = (w_df['Worked'] * 100).round(1)\n",
    "langs = pd.concat([w_df, wa_df, comps], axis=1)\n",
    "langs['Year'] = year\n",
    "langs.rename(columns={0: \"Salary\"}, inplace = True)\n",
    "langs['Category'] = category"
   ]
  },
  {
   "cell_type": "markdown",
   "id": "authentic-concentration",
   "metadata": {
    "papermill": {
     "duration": 0.012036,
     "end_time": "2022-06-06T00:50:46.977626",
     "exception": false,
     "start_time": "2022-06-06T00:50:46.965590",
     "status": "completed"
    },
    "tags": []
   },
   "source": [
    "Exportamos los datos procesados del año."
   ]
  },
  {
   "cell_type": "code",
   "execution_count": 12,
   "id": "crude-declaration",
   "metadata": {
    "execution": {
     "iopub.execute_input": "2022-06-06T00:50:47.010084Z",
     "iopub.status.busy": "2022-06-06T00:50:47.009397Z",
     "iopub.status.idle": "2022-06-06T00:50:47.013779Z",
     "shell.execute_reply": "2022-06-06T00:50:47.013371Z"
    },
    "papermill": {
     "duration": 0.021757,
     "end_time": "2022-06-06T00:50:47.013906",
     "exception": false,
     "start_time": "2022-06-06T00:50:46.992149",
     "status": "completed"
    },
    "tags": []
   },
   "outputs": [],
   "source": [
    "langs.to_csv(f'../out/{year}_{category}.csv', index=True, index_label='Language')"
   ]
  }
 ],
 "metadata": {
  "celltoolbar": "Tags",
  "interpreter": {
   "hash": "9e4d46cb2e7439cd377379e4187049771cc0b6089dc8d4ad323c0b3c23302069"
  },
  "kernelspec": {
   "display_name": "Python 3 (ipykernel)",
   "language": "python",
   "name": "python3"
  },
  "language_info": {
   "codemirror_mode": {
    "name": "ipython",
    "version": 3
   },
   "file_extension": ".py",
   "mimetype": "text/x-python",
   "name": "python",
   "nbconvert_exporter": "python",
   "pygments_lexer": "ipython3",
   "version": "3.9.1"
  },
  "papermill": {
   "default_parameters": {},
   "duration": 9.982925,
   "end_time": "2022-06-06T00:50:47.337751",
   "environment_variables": {},
   "exception": null,
   "input_path": "data/jupyters/so_template_2017_2021.ipynb",
   "output_path": "data/jupyters/2019_MiscTech.ipynb",
   "parameters": {
    "category": "MiscTech",
    "colwanted": "MiscTechDesireNextYear",
    "colworked": "MiscTechWorkedWith",
    "currency": "CurrencySymbol",
    "salary": "CompTotal",
    "salaryType": "CompFreq",
    "year": 2019
   },
   "start_time": "2022-06-06T00:50:37.354826",
   "version": "2.3.4"
  }
 },
 "nbformat": 4,
 "nbformat_minor": 5
}