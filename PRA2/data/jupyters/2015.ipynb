{
 "cells": [
  {
   "cell_type": "code",
   "execution_count": 1,
   "id": "presidential-latest",
   "metadata": {
    "execution": {
     "iopub.execute_input": "2022-06-06T00:57:38.818812Z",
     "iopub.status.busy": "2022-06-06T00:57:38.817913Z",
     "iopub.status.idle": "2022-06-06T00:57:39.050609Z",
     "shell.execute_reply": "2022-06-06T00:57:39.051022Z"
    },
    "papermill": {
     "duration": 0.245917,
     "end_time": "2022-06-06T00:57:39.051264",
     "exception": false,
     "start_time": "2022-06-06T00:57:38.805347",
     "status": "completed"
    },
    "tags": []
   },
   "outputs": [],
   "source": [
    "#!pip install matplotlib-venn\n",
    "import numpy as np\n",
    "import pandas as pd\n",
    "import zipfile"
   ]
  },
  {
   "cell_type": "markdown",
   "id": "twelve-handle",
   "metadata": {
    "papermill": {
     "duration": 0.008098,
     "end_time": "2022-06-06T00:57:39.070759",
     "exception": false,
     "start_time": "2022-06-06T00:57:39.062661",
     "status": "completed"
    },
    "tags": []
   },
   "source": [
    "Cargamos los datos "
   ]
  },
  {
   "cell_type": "code",
   "execution_count": 2,
   "id": "norwegian-fourth",
   "metadata": {
    "execution": {
     "iopub.execute_input": "2022-06-06T00:57:39.094020Z",
     "iopub.status.busy": "2022-06-06T00:57:39.093434Z",
     "iopub.status.idle": "2022-06-06T00:57:40.027242Z",
     "shell.execute_reply": "2022-06-06T00:57:40.026760Z"
    },
    "papermill": {
     "duration": 0.946687,
     "end_time": "2022-06-06T00:57:40.027395",
     "exception": false,
     "start_time": "2022-06-06T00:57:39.080708",
     "status": "completed"
    },
    "tags": []
   },
   "outputs": [],
   "source": [
    "year = 2015\n",
    "category = 'Programming'\n",
    "name = \"Stack Overflow Developer Survey Responses.csv\"\n",
    "\n",
    "zf = zipfile.ZipFile(f'../surveys/stack-overflow-developer-survey-{year}.zip') \n",
    "\n",
    "devs = pd.read_csv(zf.open(f'{year} {name}'), low_memory=False, header=1)"
   ]
  },
  {
   "cell_type": "code",
   "execution_count": 3,
   "id": "sharing-connection",
   "metadata": {
    "execution": {
     "iopub.execute_input": "2022-06-06T00:57:40.051185Z",
     "iopub.status.busy": "2022-06-06T00:57:40.050307Z",
     "iopub.status.idle": "2022-06-06T00:57:40.052624Z",
     "shell.execute_reply": "2022-06-06T00:57:40.052158Z"
    },
    "papermill": {
     "duration": 0.015667,
     "end_time": "2022-06-06T00:57:40.052764",
     "exception": false,
     "start_time": "2022-06-06T00:57:40.037097",
     "status": "completed"
    },
    "tags": []
   },
   "outputs": [],
   "source": [
    "current_columns = [col for col in devs.columns if col.startswith(\"Current Lang & Tech:\")]\n",
    "future_columns = [col for col in devs.columns if col.startswith(\"Future Lang & Tech:\")]"
   ]
  },
  {
   "cell_type": "code",
   "execution_count": 4,
   "id": "broad-belize",
   "metadata": {
    "execution": {
     "iopub.execute_input": "2022-06-06T00:57:40.081996Z",
     "iopub.status.busy": "2022-06-06T00:57:40.073928Z",
     "iopub.status.idle": "2022-06-06T00:57:40.178797Z",
     "shell.execute_reply": "2022-06-06T00:57:40.178301Z"
    },
    "papermill": {
     "duration": 0.119391,
     "end_time": "2022-06-06T00:57:40.178961",
     "exception": false,
     "start_time": "2022-06-06T00:57:40.059570",
     "status": "completed"
    },
    "tags": []
   },
   "outputs": [],
   "source": [
    "lang_worked = devs[current_columns].notnull().astype('int')\n",
    "lang_worked.columns = lang_worked.columns.str.replace(r\"Current Lang & Tech: \", \"\")\n",
    "lang_want = devs[future_columns].notnull().astype('int')\n",
    "lang_want.columns = lang_worked.columns.str.replace(r\"Future Lang & Tech: \", \"\")"
   ]
  },
  {
   "cell_type": "code",
   "execution_count": 5,
   "id": "precious-homeless",
   "metadata": {
    "execution": {
     "iopub.execute_input": "2022-06-06T00:57:40.264081Z",
     "iopub.status.busy": "2022-06-06T00:57:40.263589Z",
     "iopub.status.idle": "2022-06-06T00:57:40.265839Z",
     "shell.execute_reply": "2022-06-06T00:57:40.265339Z"
    },
    "papermill": {
     "duration": 0.078814,
     "end_time": "2022-06-06T00:57:40.265978",
     "exception": false,
     "start_time": "2022-06-06T00:57:40.187164",
     "status": "completed"
    },
    "tags": []
   },
   "outputs": [],
   "source": [
    "devs['Compensation: midpoint'] = pd.to_numeric(devs['Compensation: midpoint'], errors='coerce')"
   ]
  },
  {
   "cell_type": "code",
   "execution_count": 6,
   "id": "potential-collector",
   "metadata": {
    "execution": {
     "iopub.execute_input": "2022-06-06T00:57:40.288342Z",
     "iopub.status.busy": "2022-06-06T00:57:40.287861Z",
     "iopub.status.idle": "2022-06-06T00:57:40.340406Z",
     "shell.execute_reply": "2022-06-06T00:57:40.339971Z"
    },
    "papermill": {
     "duration": 0.066974,
     "end_time": "2022-06-06T00:57:40.340540",
     "exception": false,
     "start_time": "2022-06-06T00:57:40.273566",
     "status": "completed"
    },
    "tags": []
   },
   "outputs": [],
   "source": [
    "comps = lang_worked.multiply( devs['Compensation: midpoint']/1000, axis=\"index\").round(decimals=0).replace(0, np.NaN).median().astype('int')"
   ]
  },
  {
   "cell_type": "code",
   "execution_count": 7,
   "id": "imposed-opera",
   "metadata": {
    "execution": {
     "iopub.execute_input": "2022-06-06T00:57:40.364820Z",
     "iopub.status.busy": "2022-06-06T00:57:40.364238Z",
     "iopub.status.idle": "2022-06-06T00:57:40.370585Z",
     "shell.execute_reply": "2022-06-06T00:57:40.370150Z"
    },
    "papermill": {
     "duration": 0.019402,
     "end_time": "2022-06-06T00:57:40.370718",
     "exception": false,
     "start_time": "2022-06-06T00:57:40.351316",
     "status": "completed"
    },
    "tags": []
   },
   "outputs": [],
   "source": [
    "worked = lang_worked.sum() / len(lang_worked)\n",
    "wanted = lang_want.sum() / len(lang_want)"
   ]
  },
  {
   "cell_type": "code",
   "execution_count": 8,
   "id": "genetic-ability",
   "metadata": {
    "execution": {
     "iopub.execute_input": "2022-06-06T00:57:40.400371Z",
     "iopub.status.busy": "2022-06-06T00:57:40.399532Z",
     "iopub.status.idle": "2022-06-06T00:57:40.402511Z",
     "shell.execute_reply": "2022-06-06T00:57:40.403273Z"
    },
    "papermill": {
     "duration": 0.025518,
     "end_time": "2022-06-06T00:57:40.403535",
     "exception": false,
     "start_time": "2022-06-06T00:57:40.378017",
     "status": "completed"
    },
    "tags": []
   },
   "outputs": [],
   "source": [
    "w_df = pd.DataFrame(worked, columns= ['Worked'])\n",
    "w_df['Worked_per'] = (w_df['Worked'] * 100).round(1)\n",
    "wa_df = pd.DataFrame(wanted, columns= ['Wanted'])\n",
    "wa_df['Wanted_per'] = (w_df['Worked'] * 100).round(1)\n",
    "langs = pd.concat([w_df, wa_df, comps], axis=1)\n",
    "langs = pd.concat([w_df, wa_df, comps], axis=1)\n",
    "langs['Year'] = year\n",
    "langs.rename(columns = {0:'Salary'}, inplace = True)\n",
    "langs['Category'] = category"
   ]
  },
  {
   "cell_type": "code",
   "execution_count": 9,
   "id": "affecting-sector",
   "metadata": {
    "execution": {
     "iopub.execute_input": "2022-06-06T00:57:40.422515Z",
     "iopub.status.busy": "2022-06-06T00:57:40.422008Z",
     "iopub.status.idle": "2022-06-06T00:57:40.426495Z",
     "shell.execute_reply": "2022-06-06T00:57:40.426063Z"
    },
    "papermill": {
     "duration": 0.015549,
     "end_time": "2022-06-06T00:57:40.426629",
     "exception": false,
     "start_time": "2022-06-06T00:57:40.411080",
     "status": "completed"
    },
    "tags": []
   },
   "outputs": [],
   "source": [
    "langs.to_csv(f'../out/{year}.csv', index=True, index_label='Language')"
   ]
  }
 ],
 "metadata": {
  "interpreter": {
   "hash": "9e4d46cb2e7439cd377379e4187049771cc0b6089dc8d4ad323c0b3c23302069"
  },
  "kernelspec": {
   "display_name": "Python 3.8.3 ('base')",
   "language": "python",
   "name": "python3"
  },
  "language_info": {
   "codemirror_mode": {
    "name": "ipython",
    "version": 3
   },
   "file_extension": ".py",
   "mimetype": "text/x-python",
   "name": "python",
   "nbconvert_exporter": "python",
   "pygments_lexer": "ipython3",
   "version": "3.9.1"
  },
  "papermill": {
   "default_parameters": {},
   "duration": 2.629576,
   "end_time": "2022-06-06T00:57:40.742949",
   "environment_variables": {},
   "exception": null,
   "input_path": "data/jupyters/so_2015.ipynb",
   "output_path": "data/jupyters/2015.ipynb",
   "parameters": {},
   "start_time": "2022-06-06T00:57:38.113373",
   "version": "2.3.4"
  }
 },
 "nbformat": 4,
 "nbformat_minor": 5
}