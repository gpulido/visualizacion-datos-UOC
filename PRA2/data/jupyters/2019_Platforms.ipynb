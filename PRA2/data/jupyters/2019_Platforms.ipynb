{
 "cells": [
  {
   "cell_type": "code",
   "execution_count": 1,
   "id": "fleet-vertical",
   "metadata": {
    "execution": {
     "iopub.execute_input": "2022-06-06T00:50:48.153581Z",
     "iopub.status.busy": "2022-06-06T00:50:48.153017Z",
     "iopub.status.idle": "2022-06-06T00:50:48.376142Z",
     "shell.execute_reply": "2022-06-06T00:50:48.376503Z"
    },
    "papermill": {
     "duration": 0.243847,
     "end_time": "2022-06-06T00:50:48.376722",
     "exception": false,
     "start_time": "2022-06-06T00:50:48.132875",
     "status": "completed"
    },
    "tags": []
   },
   "outputs": [],
   "source": [
    "#!pip install matplotlib-venn\n",
    "import numpy as np\n",
    "import pandas as pd\n",
    "import zipfile\n",
    "import json"
   ]
  },
  {
   "cell_type": "code",
   "execution_count": 2,
   "id": "friendly-norway",
   "metadata": {
    "execution": {
     "iopub.execute_input": "2022-06-06T00:50:48.417561Z",
     "iopub.status.busy": "2022-06-06T00:50:48.417064Z",
     "iopub.status.idle": "2022-06-06T00:50:48.419852Z",
     "shell.execute_reply": "2022-06-06T00:50:48.419063Z"
    },
    "papermill": {
     "duration": 0.030154,
     "end_time": "2022-06-06T00:50:48.420192",
     "exception": false,
     "start_time": "2022-06-06T00:50:48.390038",
     "status": "completed"
    },
    "tags": []
   },
   "outputs": [],
   "source": [
    "comp = {'Monthly': 12, 'Yearly': 1, 'Weekly':52}\n",
    "\n",
    "def comp_level(x):\n",
    "    if x[salaryType] != x[salaryType]:\n",
    "        return x[salaryType]   \n",
    "    return x[salary] * comp[x[salaryType]] / x[0]"
   ]
  },
  {
   "cell_type": "code",
   "execution_count": 3,
   "id": "collect-translator",
   "metadata": {
    "execution": {
     "iopub.execute_input": "2022-06-06T00:50:48.454718Z",
     "iopub.status.busy": "2022-06-06T00:50:48.454036Z",
     "iopub.status.idle": "2022-06-06T00:50:48.456261Z",
     "shell.execute_reply": "2022-06-06T00:50:48.455846Z"
    },
    "papermill": {
     "duration": 0.018271,
     "end_time": "2022-06-06T00:50:48.456391",
     "exception": false,
     "start_time": "2022-06-06T00:50:48.438120",
     "status": "completed"
    },
    "tags": [
     "parameters"
    ]
   },
   "outputs": [],
   "source": [
    "year = 2021\n",
    "category= 'Programming'\n",
    "colworked = 'LanguageHaveWorkedWith'\n",
    "colwanted = 'LanguageWantToWorkWith'\n",
    "currency = 'Currency'\n",
    "salary = \"CompTotal\"\n",
    "salaryType = \"CompFreq\""
   ]
  },
  {
   "cell_type": "code",
   "execution_count": 4,
   "id": "responsible-ontario",
   "metadata": {
    "execution": {
     "iopub.execute_input": "2022-06-06T00:50:48.489194Z",
     "iopub.status.busy": "2022-06-06T00:50:48.488600Z",
     "iopub.status.idle": "2022-06-06T00:50:48.490421Z",
     "shell.execute_reply": "2022-06-06T00:50:48.490792Z"
    },
    "papermill": {
     "duration": 0.021409,
     "end_time": "2022-06-06T00:50:48.490978",
     "exception": false,
     "start_time": "2022-06-06T00:50:48.469569",
     "status": "completed"
    },
    "tags": [
     "injected-parameters"
    ]
   },
   "outputs": [],
   "source": [
    "# Parameters\n",
    "year = 2019\n",
    "colworked = \"PlatformWorkedWith\"\n",
    "colwanted = \"PlatformDesireNextYear\"\n",
    "currency = \"CurrencySymbol\"\n",
    "salary = \"CompTotal\"\n",
    "salaryType = \"CompFreq\"\n",
    "category = \"Platforms\"\n"
   ]
  },
  {
   "cell_type": "markdown",
   "id": "official-samba",
   "metadata": {
    "papermill": {
     "duration": 0.012267,
     "end_time": "2022-06-06T00:50:48.517914",
     "exception": false,
     "start_time": "2022-06-06T00:50:48.505647",
     "status": "completed"
    },
    "tags": []
   },
   "source": [
    "Cargamos los datos y mostramos su contenido"
   ]
  },
  {
   "cell_type": "code",
   "execution_count": 5,
   "id": "local-stack",
   "metadata": {
    "execution": {
     "iopub.execute_input": "2022-06-06T00:50:48.546611Z",
     "iopub.status.busy": "2022-06-06T00:50:48.546147Z",
     "iopub.status.idle": "2022-06-06T00:50:51.067500Z",
     "shell.execute_reply": "2022-06-06T00:50:51.068013Z"
    },
    "papermill": {
     "duration": 2.537394,
     "end_time": "2022-06-06T00:50:51.068170",
     "exception": false,
     "start_time": "2022-06-06T00:50:48.530776",
     "status": "completed"
    },
    "tags": []
   },
   "outputs": [],
   "source": [
    "\n",
    "zf = zipfile.ZipFile(f'../surveys/stack-overflow-developer-survey-{year}.zip') \n",
    "devs = pd.read_csv(zf.open('survey_results_public.csv'))\n",
    "# Cargamos los ratios de conversion de las monedas a 1 de Diciembre de cada año.\n",
    "with open(f'../rates/rates-{year}.json', 'r') as f:\n",
    "  data = json.loads(f.read())\n",
    "rates = pd.json_normalize(data['rates']).transpose()"
   ]
  },
  {
   "cell_type": "markdown",
   "id": "intimate-approval",
   "metadata": {
    "papermill": {
     "duration": 0.019353,
     "end_time": "2022-06-06T00:50:51.104566",
     "exception": false,
     "start_time": "2022-06-06T00:50:51.085213",
     "status": "completed"
    },
    "tags": []
   },
   "source": [
    "Eliminamos los nulos de las dos  propiedades que nos intersan"
   ]
  },
  {
   "cell_type": "code",
   "execution_count": 6,
   "id": "protective-married",
   "metadata": {
    "execution": {
     "iopub.execute_input": "2022-06-06T00:50:51.152659Z",
     "iopub.status.busy": "2022-06-06T00:50:51.151247Z",
     "iopub.status.idle": "2022-06-06T00:50:51.158546Z",
     "shell.execute_reply": "2022-06-06T00:50:51.157970Z"
    },
    "papermill": {
     "duration": 0.036466,
     "end_time": "2022-06-06T00:50:51.158694",
     "exception": false,
     "start_time": "2022-06-06T00:50:51.122228",
     "status": "completed"
    },
    "tags": []
   },
   "outputs": [],
   "source": [
    "devs[colworked] = devs[colworked].fillna(\"\")\n",
    "devs[colwanted] = devs[colwanted].fillna(\"\")\n",
    "devs[salary]= devs[salary].replace(\"nan\", np.NaN)\n",
    "devs[salary]= pd.to_numeric(devs[salary], errors='coerce')"
   ]
  },
  {
   "cell_type": "code",
   "execution_count": 7,
   "id": "rough-psychiatry",
   "metadata": {
    "execution": {
     "iopub.execute_input": "2022-06-06T00:50:51.199834Z",
     "iopub.status.busy": "2022-06-06T00:50:51.192820Z",
     "iopub.status.idle": "2022-06-06T00:50:53.630756Z",
     "shell.execute_reply": "2022-06-06T00:50:53.629678Z"
    },
    "papermill": {
     "duration": 2.459659,
     "end_time": "2022-06-06T00:50:53.631065",
     "exception": false,
     "start_time": "2022-06-06T00:50:51.171406",
     "status": "completed"
    },
    "tags": []
   },
   "outputs": [],
   "source": [
    "lang_worked = devs[colworked].str.replace(' ', '').str.get_dummies(sep=';')\n",
    "lang_want = devs[colwanted].str.replace(' ', '').str.get_dummies(sep=';')"
   ]
  },
  {
   "cell_type": "markdown",
   "id": "transparent-journalism",
   "metadata": {
    "papermill": {
     "duration": 0.016219,
     "end_time": "2022-06-06T00:50:53.671475",
     "exception": false,
     "start_time": "2022-06-06T00:50:53.655256",
     "status": "completed"
    },
    "tags": []
   },
   "source": [
    "Se nivela la compensacion para obtener el valor anual aproximado en USD, aplicando el cambio de divisa cargado del año"
   ]
  },
  {
   "cell_type": "code",
   "execution_count": 8,
   "id": "renewable-mozambique",
   "metadata": {
    "execution": {
     "iopub.execute_input": "2022-06-06T00:50:53.724164Z",
     "iopub.status.busy": "2022-06-06T00:50:53.719118Z",
     "iopub.status.idle": "2022-06-06T00:50:56.270620Z",
     "shell.execute_reply": "2022-06-06T00:50:56.271472Z"
    },
    "papermill": {
     "duration": 2.581482,
     "end_time": "2022-06-06T00:50:56.271793",
     "exception": false,
     "start_time": "2022-06-06T00:50:53.690311",
     "status": "completed"
    },
    "tags": []
   },
   "outputs": [],
   "source": [
    "if currency:\n",
    "    devs[currency] = devs[currency].str[:3]\n",
    "    devs = pd.merge(devs, rates, left_on=currency, right_index=True)\n",
    "    devs['CompTotalUSD'] = devs.apply(comp_level, axis=1)\n",
    "else:\n",
    "    devs['CompTotalUSD'] = devs[salary]\n"
   ]
  },
  {
   "cell_type": "markdown",
   "id": "colored-footwear",
   "metadata": {
    "papermill": {
     "duration": 0.020362,
     "end_time": "2022-06-06T00:50:56.320029",
     "exception": false,
     "start_time": "2022-06-06T00:50:56.299667",
     "status": "completed"
    },
    "tags": []
   },
   "source": [
    "Obtenemos el dataframe con los distintos lenguajes y su compensacion"
   ]
  },
  {
   "cell_type": "code",
   "execution_count": 9,
   "id": "played-apollo",
   "metadata": {
    "execution": {
     "iopub.execute_input": "2022-06-06T00:50:56.361281Z",
     "iopub.status.busy": "2022-06-06T00:50:56.360788Z",
     "iopub.status.idle": "2022-06-06T00:50:56.421058Z",
     "shell.execute_reply": "2022-06-06T00:50:56.421426Z"
    },
    "papermill": {
     "duration": 0.080627,
     "end_time": "2022-06-06T00:50:56.421583",
     "exception": false,
     "start_time": "2022-06-06T00:50:56.340956",
     "status": "completed"
    },
    "tags": []
   },
   "outputs": [],
   "source": [
    "comps = lang_worked.multiply( devs['CompTotalUSD']/1000, axis=\"index\").round(decimals=0).replace(0, np.NaN).median().astype('int')"
   ]
  },
  {
   "cell_type": "markdown",
   "id": "practical-yellow",
   "metadata": {
    "papermill": {
     "duration": 0.016411,
     "end_time": "2022-06-06T00:50:56.452027",
     "exception": false,
     "start_time": "2022-06-06T00:50:56.435616",
     "status": "completed"
    },
    "tags": []
   },
   "source": [
    "Calculamos el porcentaje de uso de cada lenguaje respecto del total.\n",
    "Como vamos a comparar años distintos con encuestados distintos por año, el porcentaje anual es una forma de nivelar y poder realizar la comparacion."
   ]
  },
  {
   "cell_type": "code",
   "execution_count": 10,
   "id": "extreme-imperial",
   "metadata": {
    "execution": {
     "iopub.execute_input": "2022-06-06T00:50:56.487042Z",
     "iopub.status.busy": "2022-06-06T00:50:56.486198Z",
     "iopub.status.idle": "2022-06-06T00:50:56.493840Z",
     "shell.execute_reply": "2022-06-06T00:50:56.493322Z"
    },
    "papermill": {
     "duration": 0.025991,
     "end_time": "2022-06-06T00:50:56.493975",
     "exception": false,
     "start_time": "2022-06-06T00:50:56.467984",
     "status": "completed"
    },
    "tags": []
   },
   "outputs": [],
   "source": [
    "worked = lang_worked.sum() / len(lang_worked)\n",
    "wanted = lang_want.sum() / len(lang_want)"
   ]
  },
  {
   "cell_type": "markdown",
   "id": "smaller-auckland",
   "metadata": {
    "papermill": {
     "duration": 0.013494,
     "end_time": "2022-06-06T00:50:56.520523",
     "exception": false,
     "start_time": "2022-06-06T00:50:56.507029",
     "status": "completed"
    },
    "tags": []
   },
   "source": [
    "Unimos los dataframes de lenguajes trabajados en el año, lenguajes en los que se quiere trabajar, la compensacion y el año."
   ]
  },
  {
   "cell_type": "code",
   "execution_count": 11,
   "id": "black-relevance",
   "metadata": {
    "execution": {
     "iopub.execute_input": "2022-06-06T00:50:56.561110Z",
     "iopub.status.busy": "2022-06-06T00:50:56.560629Z",
     "iopub.status.idle": "2022-06-06T00:50:56.562903Z",
     "shell.execute_reply": "2022-06-06T00:50:56.563262Z"
    },
    "papermill": {
     "duration": 0.031254,
     "end_time": "2022-06-06T00:50:56.563413",
     "exception": false,
     "start_time": "2022-06-06T00:50:56.532159",
     "status": "completed"
    },
    "tags": []
   },
   "outputs": [],
   "source": [
    "w_df = pd.DataFrame(worked, columns= ['Worked'])\n",
    "w_df['Worked_per'] = (w_df['Worked'] * 100).round(1)\n",
    "wa_df = pd.DataFrame(wanted, columns= ['Wanted'])\n",
    "wa_df['Wanted_per'] = (w_df['Worked'] * 100).round(1)\n",
    "langs = pd.concat([w_df, wa_df, comps], axis=1)\n",
    "langs['Year'] = year\n",
    "langs.rename(columns={0: \"Salary\"}, inplace = True)\n",
    "langs['Category'] = category"
   ]
  },
  {
   "cell_type": "markdown",
   "id": "occupied-payment",
   "metadata": {
    "papermill": {
     "duration": 0.012333,
     "end_time": "2022-06-06T00:50:56.588470",
     "exception": false,
     "start_time": "2022-06-06T00:50:56.576137",
     "status": "completed"
    },
    "tags": []
   },
   "source": [
    "Exportamos los datos procesados del año."
   ]
  },
  {
   "cell_type": "code",
   "execution_count": 12,
   "id": "joined-somerset",
   "metadata": {
    "execution": {
     "iopub.execute_input": "2022-06-06T00:50:56.625475Z",
     "iopub.status.busy": "2022-06-06T00:50:56.624454Z",
     "iopub.status.idle": "2022-06-06T00:50:56.627409Z",
     "shell.execute_reply": "2022-06-06T00:50:56.627800Z"
    },
    "papermill": {
     "duration": 0.025561,
     "end_time": "2022-06-06T00:50:56.627952",
     "exception": false,
     "start_time": "2022-06-06T00:50:56.602391",
     "status": "completed"
    },
    "tags": []
   },
   "outputs": [],
   "source": [
    "langs.to_csv(f'../out/{year}_{category}.csv', index=True, index_label='Language')"
   ]
  }
 ],
 "metadata": {
  "celltoolbar": "Tags",
  "interpreter": {
   "hash": "9e4d46cb2e7439cd377379e4187049771cc0b6089dc8d4ad323c0b3c23302069"
  },
  "kernelspec": {
   "display_name": "Python 3 (ipykernel)",
   "language": "python",
   "name": "python3"
  },
  "language_info": {
   "codemirror_mode": {
    "name": "ipython",
    "version": 3
   },
   "file_extension": ".py",
   "mimetype": "text/x-python",
   "name": "python",
   "nbconvert_exporter": "python",
   "pygments_lexer": "ipython3",
   "version": "3.9.1"
  },
  "papermill": {
   "default_parameters": {},
   "duration": 9.51836,
   "end_time": "2022-06-06T00:50:56.953687",
   "environment_variables": {},
   "exception": null,
   "input_path": "data/jupyters/so_template_2017_2021.ipynb",
   "output_path": "data/jupyters/2019_Platforms.ipynb",
   "parameters": {
    "category": "Platforms",
    "colwanted": "PlatformDesireNextYear",
    "colworked": "PlatformWorkedWith",
    "currency": "CurrencySymbol",
    "salary": "CompTotal",
    "salaryType": "CompFreq",
    "year": 2019
   },
   "start_time": "2022-06-06T00:50:47.435327",
   "version": "2.3.4"
  }
 },
 "nbformat": 4,
 "nbformat_minor": 5
}