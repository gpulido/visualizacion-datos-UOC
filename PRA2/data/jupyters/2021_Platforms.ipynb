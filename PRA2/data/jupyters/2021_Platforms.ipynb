{
 "cells": [
  {
   "cell_type": "code",
   "execution_count": 1,
   "id": "otherwise-explanation",
   "metadata": {
    "execution": {
     "iopub.execute_input": "2022-06-06T00:49:24.043713Z",
     "iopub.status.busy": "2022-06-06T00:49:24.043067Z",
     "iopub.status.idle": "2022-06-06T00:49:24.284909Z",
     "shell.execute_reply": "2022-06-06T00:49:24.285270Z"
    },
    "papermill": {
     "duration": 0.266353,
     "end_time": "2022-06-06T00:49:24.285486",
     "exception": false,
     "start_time": "2022-06-06T00:49:24.019133",
     "status": "completed"
    },
    "tags": []
   },
   "outputs": [],
   "source": [
    "#!pip install matplotlib-venn\n",
    "import numpy as np\n",
    "import pandas as pd\n",
    "import zipfile\n",
    "import json"
   ]
  },
  {
   "cell_type": "code",
   "execution_count": 2,
   "id": "incorporated-threshold",
   "metadata": {
    "execution": {
     "iopub.execute_input": "2022-06-06T00:49:24.322289Z",
     "iopub.status.busy": "2022-06-06T00:49:24.321731Z",
     "iopub.status.idle": "2022-06-06T00:49:24.325737Z",
     "shell.execute_reply": "2022-06-06T00:49:24.326139Z"
    },
    "papermill": {
     "duration": 0.02228,
     "end_time": "2022-06-06T00:49:24.326302",
     "exception": false,
     "start_time": "2022-06-06T00:49:24.304022",
     "status": "completed"
    },
    "tags": []
   },
   "outputs": [],
   "source": [
    "comp = {'Monthly': 12, 'Yearly': 1, 'Weekly':52}\n",
    "\n",
    "def comp_level(x):\n",
    "    if x[salaryType] != x[salaryType]:\n",
    "        return x[salaryType]   \n",
    "    return x[salary] * comp[x[salaryType]] / x[0]"
   ]
  },
  {
   "cell_type": "code",
   "execution_count": 3,
   "id": "exotic-backup",
   "metadata": {
    "execution": {
     "iopub.execute_input": "2022-06-06T00:49:24.355209Z",
     "iopub.status.busy": "2022-06-06T00:49:24.354586Z",
     "iopub.status.idle": "2022-06-06T00:49:24.357056Z",
     "shell.execute_reply": "2022-06-06T00:49:24.357469Z"
    },
    "papermill": {
     "duration": 0.019377,
     "end_time": "2022-06-06T00:49:24.357631",
     "exception": false,
     "start_time": "2022-06-06T00:49:24.338254",
     "status": "completed"
    },
    "tags": [
     "parameters"
    ]
   },
   "outputs": [],
   "source": [
    "year = 2021\n",
    "category= 'Programming'\n",
    "colworked = 'LanguageHaveWorkedWith'\n",
    "colwanted = 'LanguageWantToWorkWith'\n",
    "currency = 'Currency'\n",
    "salary = \"CompTotal\"\n",
    "salaryType = \"CompFreq\""
   ]
  },
  {
   "cell_type": "code",
   "execution_count": 4,
   "id": "oriental-salvation",
   "metadata": {
    "execution": {
     "iopub.execute_input": "2022-06-06T00:49:24.383557Z",
     "iopub.status.busy": "2022-06-06T00:49:24.383080Z",
     "iopub.status.idle": "2022-06-06T00:49:24.385156Z",
     "shell.execute_reply": "2022-06-06T00:49:24.385522Z"
    },
    "papermill": {
     "duration": 0.017417,
     "end_time": "2022-06-06T00:49:24.385656",
     "exception": false,
     "start_time": "2022-06-06T00:49:24.368239",
     "status": "completed"
    },
    "tags": [
     "injected-parameters"
    ]
   },
   "outputs": [],
   "source": [
    "# Parameters\n",
    "year = 2021\n",
    "colworked = \"ToolsTechHaveWorkedWith\"\n",
    "colwanted = \"ToolsTechWantToWorkWith\"\n",
    "currency = \"Currency\"\n",
    "salary = \"CompTotal\"\n",
    "salaryType = \"CompFreq\"\n",
    "category = \"Platforms\"\n"
   ]
  },
  {
   "cell_type": "markdown",
   "id": "burning-allah",
   "metadata": {
    "papermill": {
     "duration": 0.012815,
     "end_time": "2022-06-06T00:49:24.409582",
     "exception": false,
     "start_time": "2022-06-06T00:49:24.396767",
     "status": "completed"
    },
    "tags": []
   },
   "source": [
    "Cargamos los datos y mostramos su contenido"
   ]
  },
  {
   "cell_type": "code",
   "execution_count": 5,
   "id": "federal-nebraska",
   "metadata": {
    "execution": {
     "iopub.execute_input": "2022-06-06T00:49:24.442884Z",
     "iopub.status.busy": "2022-06-06T00:49:24.442356Z",
     "iopub.status.idle": "2022-06-06T00:49:25.819719Z",
     "shell.execute_reply": "2022-06-06T00:49:25.820391Z"
    },
    "papermill": {
     "duration": 1.398675,
     "end_time": "2022-06-06T00:49:25.820654",
     "exception": false,
     "start_time": "2022-06-06T00:49:24.421979",
     "status": "completed"
    },
    "tags": []
   },
   "outputs": [],
   "source": [
    "\n",
    "zf = zipfile.ZipFile(f'../surveys/stack-overflow-developer-survey-{year}.zip') \n",
    "devs = pd.read_csv(zf.open('survey_results_public.csv'))\n",
    "# Cargamos los ratios de conversion de las monedas a 1 de Diciembre de cada año.\n",
    "with open(f'../rates/rates-{year}.json', 'r') as f:\n",
    "  data = json.loads(f.read())\n",
    "rates = pd.json_normalize(data['rates']).transpose()"
   ]
  },
  {
   "cell_type": "markdown",
   "id": "moved-occurrence",
   "metadata": {
    "papermill": {
     "duration": 0.015697,
     "end_time": "2022-06-06T00:49:25.850814",
     "exception": false,
     "start_time": "2022-06-06T00:49:25.835117",
     "status": "completed"
    },
    "tags": []
   },
   "source": [
    "Eliminamos los nulos de las dos  propiedades que nos intersan"
   ]
  },
  {
   "cell_type": "code",
   "execution_count": 6,
   "id": "heated-graduate",
   "metadata": {
    "execution": {
     "iopub.execute_input": "2022-06-06T00:49:25.901261Z",
     "iopub.status.busy": "2022-06-06T00:49:25.900384Z",
     "iopub.status.idle": "2022-06-06T00:49:25.919440Z",
     "shell.execute_reply": "2022-06-06T00:49:25.918806Z"
    },
    "papermill": {
     "duration": 0.047225,
     "end_time": "2022-06-06T00:49:25.919631",
     "exception": false,
     "start_time": "2022-06-06T00:49:25.872406",
     "status": "completed"
    },
    "tags": []
   },
   "outputs": [],
   "source": [
    "devs[colworked] = devs[colworked].fillna(\"\")\n",
    "devs[colwanted] = devs[colwanted].fillna(\"\")\n",
    "devs[salary]= devs[salary].replace(\"nan\", np.NaN)\n",
    "devs[salary]= pd.to_numeric(devs[salary], errors='coerce')"
   ]
  },
  {
   "cell_type": "code",
   "execution_count": 7,
   "id": "confidential-supervision",
   "metadata": {
    "execution": {
     "iopub.execute_input": "2022-06-06T00:49:25.956677Z",
     "iopub.status.busy": "2022-06-06T00:49:25.956024Z",
     "iopub.status.idle": "2022-06-06T00:49:27.922030Z",
     "shell.execute_reply": "2022-06-06T00:49:27.921245Z"
    },
    "papermill": {
     "duration": 1.990064,
     "end_time": "2022-06-06T00:49:27.922343",
     "exception": false,
     "start_time": "2022-06-06T00:49:25.932279",
     "status": "completed"
    },
    "tags": []
   },
   "outputs": [],
   "source": [
    "lang_worked = devs[colworked].str.replace(' ', '').str.get_dummies(sep=';')\n",
    "lang_want = devs[colwanted].str.replace(' ', '').str.get_dummies(sep=';')"
   ]
  },
  {
   "cell_type": "markdown",
   "id": "prostate-opinion",
   "metadata": {
    "papermill": {
     "duration": 0.015099,
     "end_time": "2022-06-06T00:49:27.954349",
     "exception": false,
     "start_time": "2022-06-06T00:49:27.939250",
     "status": "completed"
    },
    "tags": []
   },
   "source": [
    "Se nivela la compensacion para obtener el valor anual aproximado en USD, aplicando el cambio de divisa cargado del año"
   ]
  },
  {
   "cell_type": "code",
   "execution_count": 8,
   "id": "serious-circulation",
   "metadata": {
    "execution": {
     "iopub.execute_input": "2022-06-06T00:49:27.992782Z",
     "iopub.status.busy": "2022-06-06T00:49:27.992261Z",
     "iopub.status.idle": "2022-06-06T00:49:30.083075Z",
     "shell.execute_reply": "2022-06-06T00:49:30.082592Z"
    },
    "papermill": {
     "duration": 2.113792,
     "end_time": "2022-06-06T00:49:30.083211",
     "exception": false,
     "start_time": "2022-06-06T00:49:27.969419",
     "status": "completed"
    },
    "tags": []
   },
   "outputs": [],
   "source": [
    "if currency:\n",
    "    devs[currency] = devs[currency].str[:3]\n",
    "    devs = pd.merge(devs, rates, left_on=currency, right_index=True)\n",
    "    devs['CompTotalUSD'] = devs.apply(comp_level, axis=1)\n",
    "else:\n",
    "    devs['CompTotalUSD'] = devs[salary]\n"
   ]
  },
  {
   "cell_type": "markdown",
   "id": "usual-rates",
   "metadata": {
    "papermill": {
     "duration": 0.019377,
     "end_time": "2022-06-06T00:49:30.116023",
     "exception": false,
     "start_time": "2022-06-06T00:49:30.096646",
     "status": "completed"
    },
    "tags": []
   },
   "source": [
    "Obtenemos el dataframe con los distintos lenguajes y su compensacion"
   ]
  },
  {
   "cell_type": "code",
   "execution_count": 9,
   "id": "appointed-consent",
   "metadata": {
    "execution": {
     "iopub.execute_input": "2022-06-06T00:49:30.148447Z",
     "iopub.status.busy": "2022-06-06T00:49:30.147791Z",
     "iopub.status.idle": "2022-06-06T00:49:30.208308Z",
     "shell.execute_reply": "2022-06-06T00:49:30.209003Z"
    },
    "papermill": {
     "duration": 0.079549,
     "end_time": "2022-06-06T00:49:30.209259",
     "exception": false,
     "start_time": "2022-06-06T00:49:30.129710",
     "status": "completed"
    },
    "tags": []
   },
   "outputs": [],
   "source": [
    "comps = lang_worked.multiply( devs['CompTotalUSD']/1000, axis=\"index\").round(decimals=0).replace(0, np.NaN).median().astype('int')"
   ]
  },
  {
   "cell_type": "markdown",
   "id": "cloudy-performer",
   "metadata": {
    "papermill": {
     "duration": 0.013441,
     "end_time": "2022-06-06T00:49:30.244505",
     "exception": false,
     "start_time": "2022-06-06T00:49:30.231064",
     "status": "completed"
    },
    "tags": []
   },
   "source": [
    "Calculamos el porcentaje de uso de cada lenguaje respecto del total.\n",
    "Como vamos a comparar años distintos con encuestados distintos por año, el porcentaje anual es una forma de nivelar y poder realizar la comparacion."
   ]
  },
  {
   "cell_type": "code",
   "execution_count": 10,
   "id": "equipped-nation",
   "metadata": {
    "execution": {
     "iopub.execute_input": "2022-06-06T00:49:30.276440Z",
     "iopub.status.busy": "2022-06-06T00:49:30.275599Z",
     "iopub.status.idle": "2022-06-06T00:49:30.281942Z",
     "shell.execute_reply": "2022-06-06T00:49:30.281446Z"
    },
    "papermill": {
     "duration": 0.023853,
     "end_time": "2022-06-06T00:49:30.282072",
     "exception": false,
     "start_time": "2022-06-06T00:49:30.258219",
     "status": "completed"
    },
    "tags": []
   },
   "outputs": [],
   "source": [
    "worked = lang_worked.sum() / len(lang_worked)\n",
    "wanted = lang_want.sum() / len(lang_want)"
   ]
  },
  {
   "cell_type": "markdown",
   "id": "interior-bullet",
   "metadata": {
    "papermill": {
     "duration": 0.012536,
     "end_time": "2022-06-06T00:49:30.307037",
     "exception": false,
     "start_time": "2022-06-06T00:49:30.294501",
     "status": "completed"
    },
    "tags": []
   },
   "source": [
    "Unimos los dataframes de lenguajes trabajados en el año, lenguajes en los que se quiere trabajar, la compensacion y el año."
   ]
  },
  {
   "cell_type": "code",
   "execution_count": 11,
   "id": "confused-switzerland",
   "metadata": {
    "execution": {
     "iopub.execute_input": "2022-06-06T00:49:30.344178Z",
     "iopub.status.busy": "2022-06-06T00:49:30.343689Z",
     "iopub.status.idle": "2022-06-06T00:49:30.345911Z",
     "shell.execute_reply": "2022-06-06T00:49:30.345515Z"
    },
    "papermill": {
     "duration": 0.026507,
     "end_time": "2022-06-06T00:49:30.346044",
     "exception": false,
     "start_time": "2022-06-06T00:49:30.319537",
     "status": "completed"
    },
    "tags": []
   },
   "outputs": [],
   "source": [
    "w_df = pd.DataFrame(worked, columns= ['Worked'])\n",
    "w_df['Worked_per'] = (w_df['Worked'] * 100).round(1)\n",
    "wa_df = pd.DataFrame(wanted, columns= ['Wanted'])\n",
    "wa_df['Wanted_per'] = (w_df['Worked'] * 100).round(1)\n",
    "langs = pd.concat([w_df, wa_df, comps], axis=1)\n",
    "langs['Year'] = year\n",
    "langs.rename(columns={0: \"Salary\"}, inplace = True)\n",
    "langs['Category'] = category"
   ]
  },
  {
   "cell_type": "markdown",
   "id": "median-camera",
   "metadata": {
    "papermill": {
     "duration": 0.012291,
     "end_time": "2022-06-06T00:49:30.372358",
     "exception": false,
     "start_time": "2022-06-06T00:49:30.360067",
     "status": "completed"
    },
    "tags": []
   },
   "source": [
    "Exportamos los datos procesados del año."
   ]
  },
  {
   "cell_type": "code",
   "execution_count": 12,
   "id": "adopted-musical",
   "metadata": {
    "execution": {
     "iopub.execute_input": "2022-06-06T00:49:30.403155Z",
     "iopub.status.busy": "2022-06-06T00:49:30.402471Z",
     "iopub.status.idle": "2022-06-06T00:49:30.407216Z",
     "shell.execute_reply": "2022-06-06T00:49:30.406752Z"
    },
    "papermill": {
     "duration": 0.021975,
     "end_time": "2022-06-06T00:49:30.407351",
     "exception": false,
     "start_time": "2022-06-06T00:49:30.385376",
     "status": "completed"
    },
    "tags": []
   },
   "outputs": [],
   "source": [
    "langs.to_csv(f'../out/{year}_{category}.csv', index=True, index_label='Language')"
   ]
  }
 ],
 "metadata": {
  "celltoolbar": "Tags",
  "interpreter": {
   "hash": "9e4d46cb2e7439cd377379e4187049771cc0b6089dc8d4ad323c0b3c23302069"
  },
  "kernelspec": {
   "display_name": "Python 3 (ipykernel)",
   "language": "python",
   "name": "python3"
  },
  "language_info": {
   "codemirror_mode": {
    "name": "ipython",
    "version": 3
   },
   "file_extension": ".py",
   "mimetype": "text/x-python",
   "name": "python",
   "nbconvert_exporter": "python",
   "pygments_lexer": "ipython3",
   "version": "3.9.1"
  },
  "papermill": {
   "default_parameters": {},
   "duration": 7.457583,
   "end_time": "2022-06-06T00:49:30.726883",
   "environment_variables": {},
   "exception": null,
   "input_path": "data/jupyters/so_template_2017_2021.ipynb",
   "output_path": "data/jupyters/2021_Platforms.ipynb",
   "parameters": {
    "category": "Platforms",
    "colwanted": "ToolsTechWantToWorkWith",
    "colworked": "ToolsTechHaveWorkedWith",
    "currency": "Currency",
    "salary": "CompTotal",
    "salaryType": "CompFreq",
    "year": 2021
   },
   "start_time": "2022-06-06T00:49:23.269300",
   "version": "2.3.4"
  }
 },
 "nbformat": 4,
 "nbformat_minor": 5
}