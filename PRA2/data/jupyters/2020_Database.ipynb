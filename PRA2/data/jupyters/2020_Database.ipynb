{
 "cells": [
  {
   "cell_type": "code",
   "execution_count": 1,
   "id": "popular-addition",
   "metadata": {
    "execution": {
     "iopub.execute_input": "2022-06-06T00:49:39.306228Z",
     "iopub.status.busy": "2022-06-06T00:49:39.305704Z",
     "iopub.status.idle": "2022-06-06T00:49:39.544518Z",
     "shell.execute_reply": "2022-06-06T00:49:39.543717Z"
    },
    "papermill": {
     "duration": 0.265704,
     "end_time": "2022-06-06T00:49:39.544724",
     "exception": false,
     "start_time": "2022-06-06T00:49:39.279020",
     "status": "completed"
    },
    "tags": []
   },
   "outputs": [],
   "source": [
    "#!pip install matplotlib-venn\n",
    "import numpy as np\n",
    "import pandas as pd\n",
    "import zipfile\n",
    "import json"
   ]
  },
  {
   "cell_type": "code",
   "execution_count": 2,
   "id": "cooked-rates",
   "metadata": {
    "execution": {
     "iopub.execute_input": "2022-06-06T00:49:39.593863Z",
     "iopub.status.busy": "2022-06-06T00:49:39.593348Z",
     "iopub.status.idle": "2022-06-06T00:49:39.595628Z",
     "shell.execute_reply": "2022-06-06T00:49:39.595193Z"
    },
    "papermill": {
     "duration": 0.027772,
     "end_time": "2022-06-06T00:49:39.595763",
     "exception": false,
     "start_time": "2022-06-06T00:49:39.567991",
     "status": "completed"
    },
    "tags": []
   },
   "outputs": [],
   "source": [
    "comp = {'Monthly': 12, 'Yearly': 1, 'Weekly':52}\n",
    "\n",
    "def comp_level(x):\n",
    "    if x[salaryType] != x[salaryType]:\n",
    "        return x[salaryType]   \n",
    "    return x[salary] * comp[x[salaryType]] / x[0]"
   ]
  },
  {
   "cell_type": "code",
   "execution_count": 3,
   "id": "charitable-blank",
   "metadata": {
    "execution": {
     "iopub.execute_input": "2022-06-06T00:49:39.633652Z",
     "iopub.status.busy": "2022-06-06T00:49:39.632904Z",
     "iopub.status.idle": "2022-06-06T00:49:39.634694Z",
     "shell.execute_reply": "2022-06-06T00:49:39.635338Z"
    },
    "papermill": {
     "duration": 0.025451,
     "end_time": "2022-06-06T00:49:39.635609",
     "exception": false,
     "start_time": "2022-06-06T00:49:39.610158",
     "status": "completed"
    },
    "tags": [
     "parameters"
    ]
   },
   "outputs": [],
   "source": [
    "year = 2021\n",
    "category= 'Programming'\n",
    "colworked = 'LanguageHaveWorkedWith'\n",
    "colwanted = 'LanguageWantToWorkWith'\n",
    "currency = 'Currency'\n",
    "salary = \"CompTotal\"\n",
    "salaryType = \"CompFreq\""
   ]
  },
  {
   "cell_type": "code",
   "execution_count": 4,
   "id": "downtown-fountain",
   "metadata": {
    "execution": {
     "iopub.execute_input": "2022-06-06T00:49:39.677985Z",
     "iopub.status.busy": "2022-06-06T00:49:39.677216Z",
     "iopub.status.idle": "2022-06-06T00:49:39.678916Z",
     "shell.execute_reply": "2022-06-06T00:49:39.679543Z"
    },
    "papermill": {
     "duration": 0.025372,
     "end_time": "2022-06-06T00:49:39.679769",
     "exception": false,
     "start_time": "2022-06-06T00:49:39.654397",
     "status": "completed"
    },
    "tags": [
     "injected-parameters"
    ]
   },
   "outputs": [],
   "source": [
    "# Parameters\n",
    "year = 2020\n",
    "colworked = \"DatabaseWorkedWith\"\n",
    "colwanted = \"DatabaseDesireNextYear\"\n",
    "currency = \"CurrencySymbol\"\n",
    "salary = \"CompTotal\"\n",
    "salaryType = \"CompFreq\"\n",
    "category = \"Database\"\n"
   ]
  },
  {
   "cell_type": "markdown",
   "id": "negative-worry",
   "metadata": {
    "papermill": {
     "duration": 0.014185,
     "end_time": "2022-06-06T00:49:39.714213",
     "exception": false,
     "start_time": "2022-06-06T00:49:39.700028",
     "status": "completed"
    },
    "tags": []
   },
   "source": [
    "Cargamos los datos y mostramos su contenido"
   ]
  },
  {
   "cell_type": "code",
   "execution_count": 5,
   "id": "hired-coffee",
   "metadata": {
    "execution": {
     "iopub.execute_input": "2022-06-06T00:49:39.743652Z",
     "iopub.status.busy": "2022-06-06T00:49:39.743137Z",
     "iopub.status.idle": "2022-06-06T00:49:41.113776Z",
     "shell.execute_reply": "2022-06-06T00:49:41.112784Z"
    },
    "papermill": {
     "duration": 1.387299,
     "end_time": "2022-06-06T00:49:41.114047",
     "exception": false,
     "start_time": "2022-06-06T00:49:39.726748",
     "status": "completed"
    },
    "tags": []
   },
   "outputs": [],
   "source": [
    "\n",
    "zf = zipfile.ZipFile(f'../surveys/stack-overflow-developer-survey-{year}.zip') \n",
    "devs = pd.read_csv(zf.open('survey_results_public.csv'))\n",
    "# Cargamos los ratios de conversion de las monedas a 1 de Diciembre de cada año.\n",
    "with open(f'../rates/rates-{year}.json', 'r') as f:\n",
    "  data = json.loads(f.read())\n",
    "rates = pd.json_normalize(data['rates']).transpose()"
   ]
  },
  {
   "cell_type": "markdown",
   "id": "documentary-berlin",
   "metadata": {
    "papermill": {
     "duration": 0.014253,
     "end_time": "2022-06-06T00:49:41.142095",
     "exception": false,
     "start_time": "2022-06-06T00:49:41.127842",
     "status": "completed"
    },
    "tags": []
   },
   "source": [
    "Eliminamos los nulos de las dos  propiedades que nos intersan"
   ]
  },
  {
   "cell_type": "code",
   "execution_count": 6,
   "id": "minor-agriculture",
   "metadata": {
    "execution": {
     "iopub.execute_input": "2022-06-06T00:49:41.179270Z",
     "iopub.status.busy": "2022-06-06T00:49:41.175564Z",
     "iopub.status.idle": "2022-06-06T00:49:41.184075Z",
     "shell.execute_reply": "2022-06-06T00:49:41.183571Z"
    },
    "papermill": {
     "duration": 0.028734,
     "end_time": "2022-06-06T00:49:41.184208",
     "exception": false,
     "start_time": "2022-06-06T00:49:41.155474",
     "status": "completed"
    },
    "tags": []
   },
   "outputs": [],
   "source": [
    "devs[colworked] = devs[colworked].fillna(\"\")\n",
    "devs[colwanted] = devs[colwanted].fillna(\"\")\n",
    "devs[salary]= devs[salary].replace(\"nan\", np.NaN)\n",
    "devs[salary]= pd.to_numeric(devs[salary], errors='coerce')"
   ]
  },
  {
   "cell_type": "code",
   "execution_count": 7,
   "id": "plain-calendar",
   "metadata": {
    "execution": {
     "iopub.execute_input": "2022-06-06T00:49:41.221932Z",
     "iopub.status.busy": "2022-06-06T00:49:41.216786Z",
     "iopub.status.idle": "2022-06-06T00:49:42.714493Z",
     "shell.execute_reply": "2022-06-06T00:49:42.713597Z"
    },
    "papermill": {
     "duration": 1.518821,
     "end_time": "2022-06-06T00:49:42.714764",
     "exception": false,
     "start_time": "2022-06-06T00:49:41.195943",
     "status": "completed"
    },
    "tags": []
   },
   "outputs": [],
   "source": [
    "lang_worked = devs[colworked].str.replace(' ', '').str.get_dummies(sep=';')\n",
    "lang_want = devs[colwanted].str.replace(' ', '').str.get_dummies(sep=';')"
   ]
  },
  {
   "cell_type": "markdown",
   "id": "foreign-marina",
   "metadata": {
    "papermill": {
     "duration": 0.020246,
     "end_time": "2022-06-06T00:49:42.751589",
     "exception": false,
     "start_time": "2022-06-06T00:49:42.731343",
     "status": "completed"
    },
    "tags": []
   },
   "source": [
    "Se nivela la compensacion para obtener el valor anual aproximado en USD, aplicando el cambio de divisa cargado del año"
   ]
  },
  {
   "cell_type": "code",
   "execution_count": 8,
   "id": "stock-paint",
   "metadata": {
    "execution": {
     "iopub.execute_input": "2022-06-06T00:49:42.804025Z",
     "iopub.status.busy": "2022-06-06T00:49:42.793678Z",
     "iopub.status.idle": "2022-06-06T00:49:44.294209Z",
     "shell.execute_reply": "2022-06-06T00:49:44.293102Z"
    },
    "papermill": {
     "duration": 1.524853,
     "end_time": "2022-06-06T00:49:44.294482",
     "exception": false,
     "start_time": "2022-06-06T00:49:42.769629",
     "status": "completed"
    },
    "tags": []
   },
   "outputs": [],
   "source": [
    "if currency:\n",
    "    devs[currency] = devs[currency].str[:3]\n",
    "    devs = pd.merge(devs, rates, left_on=currency, right_index=True)\n",
    "    devs['CompTotalUSD'] = devs.apply(comp_level, axis=1)\n",
    "else:\n",
    "    devs['CompTotalUSD'] = devs[salary]\n"
   ]
  },
  {
   "cell_type": "markdown",
   "id": "hidden-panel",
   "metadata": {
    "papermill": {
     "duration": 0.017239,
     "end_time": "2022-06-06T00:49:44.330625",
     "exception": false,
     "start_time": "2022-06-06T00:49:44.313386",
     "status": "completed"
    },
    "tags": []
   },
   "source": [
    "Obtenemos el dataframe con los distintos lenguajes y su compensacion"
   ]
  },
  {
   "cell_type": "code",
   "execution_count": 9,
   "id": "exciting-encyclopedia",
   "metadata": {
    "execution": {
     "iopub.execute_input": "2022-06-06T00:49:44.366711Z",
     "iopub.status.busy": "2022-06-06T00:49:44.366212Z",
     "iopub.status.idle": "2022-06-06T00:49:44.404592Z",
     "shell.execute_reply": "2022-06-06T00:49:44.404099Z"
    },
    "papermill": {
     "duration": 0.057389,
     "end_time": "2022-06-06T00:49:44.404721",
     "exception": false,
     "start_time": "2022-06-06T00:49:44.347332",
     "status": "completed"
    },
    "tags": []
   },
   "outputs": [],
   "source": [
    "comps = lang_worked.multiply( devs['CompTotalUSD']/1000, axis=\"index\").round(decimals=0).replace(0, np.NaN).median().astype('int')"
   ]
  },
  {
   "cell_type": "markdown",
   "id": "unexpected-brush",
   "metadata": {
    "papermill": {
     "duration": 0.015075,
     "end_time": "2022-06-06T00:49:44.433009",
     "exception": false,
     "start_time": "2022-06-06T00:49:44.417934",
     "status": "completed"
    },
    "tags": []
   },
   "source": [
    "Calculamos el porcentaje de uso de cada lenguaje respecto del total.\n",
    "Como vamos a comparar años distintos con encuestados distintos por año, el porcentaje anual es una forma de nivelar y poder realizar la comparacion."
   ]
  },
  {
   "cell_type": "code",
   "execution_count": 10,
   "id": "alone-robertson",
   "metadata": {
    "execution": {
     "iopub.execute_input": "2022-06-06T00:49:44.466217Z",
     "iopub.status.busy": "2022-06-06T00:49:44.465693Z",
     "iopub.status.idle": "2022-06-06T00:49:44.472714Z",
     "shell.execute_reply": "2022-06-06T00:49:44.472250Z"
    },
    "papermill": {
     "duration": 0.025463,
     "end_time": "2022-06-06T00:49:44.472853",
     "exception": false,
     "start_time": "2022-06-06T00:49:44.447390",
     "status": "completed"
    },
    "tags": []
   },
   "outputs": [],
   "source": [
    "worked = lang_worked.sum() / len(lang_worked)\n",
    "wanted = lang_want.sum() / len(lang_want)"
   ]
  },
  {
   "cell_type": "markdown",
   "id": "personal-thing",
   "metadata": {
    "papermill": {
     "duration": 0.011999,
     "end_time": "2022-06-06T00:49:44.496346",
     "exception": false,
     "start_time": "2022-06-06T00:49:44.484347",
     "status": "completed"
    },
    "tags": []
   },
   "source": [
    "Unimos los dataframes de lenguajes trabajados en el año, lenguajes en los que se quiere trabajar, la compensacion y el año."
   ]
  },
  {
   "cell_type": "code",
   "execution_count": 11,
   "id": "strategic-harvest",
   "metadata": {
    "execution": {
     "iopub.execute_input": "2022-06-06T00:49:44.534249Z",
     "iopub.status.busy": "2022-06-06T00:49:44.533755Z",
     "iopub.status.idle": "2022-06-06T00:49:44.535669Z",
     "shell.execute_reply": "2022-06-06T00:49:44.536157Z"
    },
    "papermill": {
     "duration": 0.028693,
     "end_time": "2022-06-06T00:49:44.536375",
     "exception": false,
     "start_time": "2022-06-06T00:49:44.507682",
     "status": "completed"
    },
    "tags": []
   },
   "outputs": [],
   "source": [
    "w_df = pd.DataFrame(worked, columns= ['Worked'])\n",
    "w_df['Worked_per'] = (w_df['Worked'] * 100).round(1)\n",
    "wa_df = pd.DataFrame(wanted, columns= ['Wanted'])\n",
    "wa_df['Wanted_per'] = (w_df['Worked'] * 100).round(1)\n",
    "langs = pd.concat([w_df, wa_df, comps], axis=1)\n",
    "langs['Year'] = year\n",
    "langs.rename(columns={0: \"Salary\"}, inplace = True)\n",
    "langs['Category'] = category"
   ]
  },
  {
   "cell_type": "markdown",
   "id": "effective-daily",
   "metadata": {
    "papermill": {
     "duration": 0.0129,
     "end_time": "2022-06-06T00:49:44.562871",
     "exception": false,
     "start_time": "2022-06-06T00:49:44.549971",
     "status": "completed"
    },
    "tags": []
   },
   "source": [
    "Exportamos los datos procesados del año."
   ]
  },
  {
   "cell_type": "code",
   "execution_count": 12,
   "id": "saved-security",
   "metadata": {
    "execution": {
     "iopub.execute_input": "2022-06-06T00:49:44.597965Z",
     "iopub.status.busy": "2022-06-06T00:49:44.597194Z",
     "iopub.status.idle": "2022-06-06T00:49:44.601547Z",
     "shell.execute_reply": "2022-06-06T00:49:44.601120Z"
    },
    "papermill": {
     "duration": 0.0235,
     "end_time": "2022-06-06T00:49:44.601679",
     "exception": false,
     "start_time": "2022-06-06T00:49:44.578179",
     "status": "completed"
    },
    "tags": []
   },
   "outputs": [],
   "source": [
    "langs.to_csv(f'../out/{year}_{category}.csv', index=True, index_label='Language')"
   ]
  }
 ],
 "metadata": {
  "celltoolbar": "Tags",
  "interpreter": {
   "hash": "9e4d46cb2e7439cd377379e4187049771cc0b6089dc8d4ad323c0b3c23302069"
  },
  "kernelspec": {
   "display_name": "Python 3 (ipykernel)",
   "language": "python",
   "name": "python3"
  },
  "language_info": {
   "codemirror_mode": {
    "name": "ipython",
    "version": 3
   },
   "file_extension": ".py",
   "mimetype": "text/x-python",
   "name": "python",
   "nbconvert_exporter": "python",
   "pygments_lexer": "ipython3",
   "version": "3.9.1"
  },
  "papermill": {
   "default_parameters": {},
   "duration": 6.341102,
   "end_time": "2022-06-06T00:49:44.921453",
   "environment_variables": {},
   "exception": null,
   "input_path": "data/jupyters/so_template_2017_2021.ipynb",
   "output_path": "data/jupyters/2020_Database.ipynb",
   "parameters": {
    "category": "Database",
    "colwanted": "DatabaseDesireNextYear",
    "colworked": "DatabaseWorkedWith",
    "currency": "CurrencySymbol",
    "salary": "CompTotal",
    "salaryType": "CompFreq",
    "year": 2020
   },
   "start_time": "2022-06-06T00:49:38.580351",
   "version": "2.3.4"
  }
 },
 "nbformat": 4,
 "nbformat_minor": 5
}