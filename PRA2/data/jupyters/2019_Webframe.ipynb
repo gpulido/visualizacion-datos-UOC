{
 "cells": [
  {
   "cell_type": "code",
   "execution_count": 1,
   "id": "considerable-teaching",
   "metadata": {
    "execution": {
     "iopub.execute_input": "2022-06-06T00:50:27.897656Z",
     "iopub.status.busy": "2022-06-06T00:50:27.897153Z",
     "iopub.status.idle": "2022-06-06T00:50:28.120275Z",
     "shell.execute_reply": "2022-06-06T00:50:28.119459Z"
    },
    "papermill": {
     "duration": 0.246383,
     "end_time": "2022-06-06T00:50:28.120423",
     "exception": false,
     "start_time": "2022-06-06T00:50:27.874040",
     "status": "completed"
    },
    "tags": []
   },
   "outputs": [],
   "source": [
    "#!pip install matplotlib-venn\n",
    "import numpy as np\n",
    "import pandas as pd\n",
    "import zipfile\n",
    "import json"
   ]
  },
  {
   "cell_type": "code",
   "execution_count": 2,
   "id": "corrected-medicare",
   "metadata": {
    "execution": {
     "iopub.execute_input": "2022-06-06T00:50:28.172652Z",
     "iopub.status.busy": "2022-06-06T00:50:28.171563Z",
     "iopub.status.idle": "2022-06-06T00:50:28.173927Z",
     "shell.execute_reply": "2022-06-06T00:50:28.174486Z"
    },
    "papermill": {
     "duration": 0.031083,
     "end_time": "2022-06-06T00:50:28.174664",
     "exception": false,
     "start_time": "2022-06-06T00:50:28.143581",
     "status": "completed"
    },
    "tags": []
   },
   "outputs": [],
   "source": [
    "comp = {'Monthly': 12, 'Yearly': 1, 'Weekly':52}\n",
    "\n",
    "def comp_level(x):\n",
    "    if x[salaryType] != x[salaryType]:\n",
    "        return x[salaryType]   \n",
    "    return x[salary] * comp[x[salaryType]] / x[0]"
   ]
  },
  {
   "cell_type": "code",
   "execution_count": 3,
   "id": "complete-workstation",
   "metadata": {
    "execution": {
     "iopub.execute_input": "2022-06-06T00:50:28.202003Z",
     "iopub.status.busy": "2022-06-06T00:50:28.201509Z",
     "iopub.status.idle": "2022-06-06T00:50:28.203255Z",
     "shell.execute_reply": "2022-06-06T00:50:28.203644Z"
    },
    "papermill": {
     "duration": 0.01806,
     "end_time": "2022-06-06T00:50:28.203800",
     "exception": false,
     "start_time": "2022-06-06T00:50:28.185740",
     "status": "completed"
    },
    "tags": [
     "parameters"
    ]
   },
   "outputs": [],
   "source": [
    "year = 2021\n",
    "category= 'Programming'\n",
    "colworked = 'LanguageHaveWorkedWith'\n",
    "colwanted = 'LanguageWantToWorkWith'\n",
    "currency = 'Currency'\n",
    "salary = \"CompTotal\"\n",
    "salaryType = \"CompFreq\""
   ]
  },
  {
   "cell_type": "code",
   "execution_count": 4,
   "id": "rental-volume",
   "metadata": {
    "execution": {
     "iopub.execute_input": "2022-06-06T00:50:28.230590Z",
     "iopub.status.busy": "2022-06-06T00:50:28.230113Z",
     "iopub.status.idle": "2022-06-06T00:50:28.232215Z",
     "shell.execute_reply": "2022-06-06T00:50:28.231807Z"
    },
    "papermill": {
     "duration": 0.017139,
     "end_time": "2022-06-06T00:50:28.232340",
     "exception": false,
     "start_time": "2022-06-06T00:50:28.215201",
     "status": "completed"
    },
    "tags": [
     "injected-parameters"
    ]
   },
   "outputs": [],
   "source": [
    "# Parameters\n",
    "year = 2019\n",
    "colworked = \"WebFrameWorkedWith\"\n",
    "colwanted = \"WebFrameDesireNextYear\"\n",
    "currency = \"CurrencySymbol\"\n",
    "salary = \"CompTotal\"\n",
    "salaryType = \"CompFreq\"\n",
    "category = \"Webframe\"\n"
   ]
  },
  {
   "cell_type": "markdown",
   "id": "hawaiian-triangle",
   "metadata": {
    "papermill": {
     "duration": 0.012141,
     "end_time": "2022-06-06T00:50:28.257342",
     "exception": false,
     "start_time": "2022-06-06T00:50:28.245201",
     "status": "completed"
    },
    "tags": []
   },
   "source": [
    "Cargamos los datos y mostramos su contenido"
   ]
  },
  {
   "cell_type": "code",
   "execution_count": 5,
   "id": "turned-graph",
   "metadata": {
    "execution": {
     "iopub.execute_input": "2022-06-06T00:50:28.286924Z",
     "iopub.status.busy": "2022-06-06T00:50:28.286068Z",
     "iopub.status.idle": "2022-06-06T00:50:30.851771Z",
     "shell.execute_reply": "2022-06-06T00:50:30.851228Z"
    },
    "papermill": {
     "duration": 2.582278,
     "end_time": "2022-06-06T00:50:30.851916",
     "exception": false,
     "start_time": "2022-06-06T00:50:28.269638",
     "status": "completed"
    },
    "tags": []
   },
   "outputs": [],
   "source": [
    "\n",
    "zf = zipfile.ZipFile(f'../surveys/stack-overflow-developer-survey-{year}.zip') \n",
    "devs = pd.read_csv(zf.open('survey_results_public.csv'))\n",
    "# Cargamos los ratios de conversion de las monedas a 1 de Diciembre de cada año.\n",
    "with open(f'../rates/rates-{year}.json', 'r') as f:\n",
    "  data = json.loads(f.read())\n",
    "rates = pd.json_normalize(data['rates']).transpose()"
   ]
  },
  {
   "cell_type": "markdown",
   "id": "tight-riding",
   "metadata": {
    "papermill": {
     "duration": 0.014112,
     "end_time": "2022-06-06T00:50:30.881557",
     "exception": false,
     "start_time": "2022-06-06T00:50:30.867445",
     "status": "completed"
    },
    "tags": []
   },
   "source": [
    "Eliminamos los nulos de las dos  propiedades que nos intersan"
   ]
  },
  {
   "cell_type": "code",
   "execution_count": 6,
   "id": "interesting-coupon",
   "metadata": {
    "execution": {
     "iopub.execute_input": "2022-06-06T00:50:30.926459Z",
     "iopub.status.busy": "2022-06-06T00:50:30.921195Z",
     "iopub.status.idle": "2022-06-06T00:50:30.931155Z",
     "shell.execute_reply": "2022-06-06T00:50:30.930729Z"
    },
    "papermill": {
     "duration": 0.032853,
     "end_time": "2022-06-06T00:50:30.931292",
     "exception": false,
     "start_time": "2022-06-06T00:50:30.898439",
     "status": "completed"
    },
    "tags": []
   },
   "outputs": [],
   "source": [
    "devs[colworked] = devs[colworked].fillna(\"\")\n",
    "devs[colwanted] = devs[colwanted].fillna(\"\")\n",
    "devs[salary]= devs[salary].replace(\"nan\", np.NaN)\n",
    "devs[salary]= pd.to_numeric(devs[salary], errors='coerce')"
   ]
  },
  {
   "cell_type": "code",
   "execution_count": 7,
   "id": "critical-archive",
   "metadata": {
    "execution": {
     "iopub.execute_input": "2022-06-06T00:50:30.966993Z",
     "iopub.status.busy": "2022-06-06T00:50:30.966459Z",
     "iopub.status.idle": "2022-06-06T00:50:32.956875Z",
     "shell.execute_reply": "2022-06-06T00:50:32.957262Z"
    },
    "papermill": {
     "duration": 2.012597,
     "end_time": "2022-06-06T00:50:32.957420",
     "exception": false,
     "start_time": "2022-06-06T00:50:30.944823",
     "status": "completed"
    },
    "tags": []
   },
   "outputs": [],
   "source": [
    "lang_worked = devs[colworked].str.replace(' ', '').str.get_dummies(sep=';')\n",
    "lang_want = devs[colwanted].str.replace(' ', '').str.get_dummies(sep=';')"
   ]
  },
  {
   "cell_type": "markdown",
   "id": "political-arlington",
   "metadata": {
    "papermill": {
     "duration": 0.017481,
     "end_time": "2022-06-06T00:50:32.991462",
     "exception": false,
     "start_time": "2022-06-06T00:50:32.973981",
     "status": "completed"
    },
    "tags": []
   },
   "source": [
    "Se nivela la compensacion para obtener el valor anual aproximado en USD, aplicando el cambio de divisa cargado del año"
   ]
  },
  {
   "cell_type": "code",
   "execution_count": 8,
   "id": "automotive-video",
   "metadata": {
    "execution": {
     "iopub.execute_input": "2022-06-06T00:50:33.026360Z",
     "iopub.status.busy": "2022-06-06T00:50:33.025886Z",
     "iopub.status.idle": "2022-06-06T00:50:35.666408Z",
     "shell.execute_reply": "2022-06-06T00:50:35.665951Z"
    },
    "papermill": {
     "duration": 2.660669,
     "end_time": "2022-06-06T00:50:35.666545",
     "exception": false,
     "start_time": "2022-06-06T00:50:33.005876",
     "status": "completed"
    },
    "tags": []
   },
   "outputs": [],
   "source": [
    "if currency:\n",
    "    devs[currency] = devs[currency].str[:3]\n",
    "    devs = pd.merge(devs, rates, left_on=currency, right_index=True)\n",
    "    devs['CompTotalUSD'] = devs.apply(comp_level, axis=1)\n",
    "else:\n",
    "    devs['CompTotalUSD'] = devs[salary]\n"
   ]
  },
  {
   "cell_type": "markdown",
   "id": "mental-event",
   "metadata": {
    "papermill": {
     "duration": 0.015705,
     "end_time": "2022-06-06T00:50:35.696186",
     "exception": false,
     "start_time": "2022-06-06T00:50:35.680481",
     "status": "completed"
    },
    "tags": []
   },
   "source": [
    "Obtenemos el dataframe con los distintos lenguajes y su compensacion"
   ]
  },
  {
   "cell_type": "code",
   "execution_count": 9,
   "id": "identified-hawaiian",
   "metadata": {
    "execution": {
     "iopub.execute_input": "2022-06-06T00:50:35.730402Z",
     "iopub.status.busy": "2022-06-06T00:50:35.729889Z",
     "iopub.status.idle": "2022-06-06T00:50:35.795863Z",
     "shell.execute_reply": "2022-06-06T00:50:35.795368Z"
    },
    "papermill": {
     "duration": 0.086901,
     "end_time": "2022-06-06T00:50:35.796000",
     "exception": false,
     "start_time": "2022-06-06T00:50:35.709099",
     "status": "completed"
    },
    "tags": []
   },
   "outputs": [],
   "source": [
    "comps = lang_worked.multiply( devs['CompTotalUSD']/1000, axis=\"index\").round(decimals=0).replace(0, np.NaN).median().astype('int')"
   ]
  },
  {
   "cell_type": "markdown",
   "id": "ignored-queue",
   "metadata": {
    "papermill": {
     "duration": 0.014505,
     "end_time": "2022-06-06T00:50:35.833698",
     "exception": false,
     "start_time": "2022-06-06T00:50:35.819193",
     "status": "completed"
    },
    "tags": []
   },
   "source": [
    "Calculamos el porcentaje de uso de cada lenguaje respecto del total.\n",
    "Como vamos a comparar años distintos con encuestados distintos por año, el porcentaje anual es una forma de nivelar y poder realizar la comparacion."
   ]
  },
  {
   "cell_type": "code",
   "execution_count": 10,
   "id": "cordless-theorem",
   "metadata": {
    "execution": {
     "iopub.execute_input": "2022-06-06T00:50:35.865067Z",
     "iopub.status.busy": "2022-06-06T00:50:35.864540Z",
     "iopub.status.idle": "2022-06-06T00:50:35.870460Z",
     "shell.execute_reply": "2022-06-06T00:50:35.870032Z"
    },
    "papermill": {
     "duration": 0.02283,
     "end_time": "2022-06-06T00:50:35.870592",
     "exception": false,
     "start_time": "2022-06-06T00:50:35.847762",
     "status": "completed"
    },
    "tags": []
   },
   "outputs": [],
   "source": [
    "worked = lang_worked.sum() / len(lang_worked)\n",
    "wanted = lang_want.sum() / len(lang_want)"
   ]
  },
  {
   "cell_type": "markdown",
   "id": "micro-bacon",
   "metadata": {
    "papermill": {
     "duration": 0.013224,
     "end_time": "2022-06-06T00:50:35.895825",
     "exception": false,
     "start_time": "2022-06-06T00:50:35.882601",
     "status": "completed"
    },
    "tags": []
   },
   "source": [
    "Unimos los dataframes de lenguajes trabajados en el año, lenguajes en los que se quiere trabajar, la compensacion y el año."
   ]
  },
  {
   "cell_type": "code",
   "execution_count": 11,
   "id": "metropolitan-establishment",
   "metadata": {
    "execution": {
     "iopub.execute_input": "2022-06-06T00:50:35.935643Z",
     "iopub.status.busy": "2022-06-06T00:50:35.935152Z",
     "iopub.status.idle": "2022-06-06T00:50:35.936828Z",
     "shell.execute_reply": "2022-06-06T00:50:35.937190Z"
    },
    "papermill": {
     "duration": 0.028747,
     "end_time": "2022-06-06T00:50:35.937347",
     "exception": false,
     "start_time": "2022-06-06T00:50:35.908600",
     "status": "completed"
    },
    "tags": []
   },
   "outputs": [],
   "source": [
    "w_df = pd.DataFrame(worked, columns= ['Worked'])\n",
    "w_df['Worked_per'] = (w_df['Worked'] * 100).round(1)\n",
    "wa_df = pd.DataFrame(wanted, columns= ['Wanted'])\n",
    "wa_df['Wanted_per'] = (w_df['Worked'] * 100).round(1)\n",
    "langs = pd.concat([w_df, wa_df, comps], axis=1)\n",
    "langs['Year'] = year\n",
    "langs.rename(columns={0: \"Salary\"}, inplace = True)\n",
    "langs['Category'] = category"
   ]
  },
  {
   "cell_type": "markdown",
   "id": "alternative-entry",
   "metadata": {
    "papermill": {
     "duration": 0.013158,
     "end_time": "2022-06-06T00:50:35.964099",
     "exception": false,
     "start_time": "2022-06-06T00:50:35.950941",
     "status": "completed"
    },
    "tags": []
   },
   "source": [
    "Exportamos los datos procesados del año."
   ]
  },
  {
   "cell_type": "code",
   "execution_count": 12,
   "id": "flexible-stanford",
   "metadata": {
    "execution": {
     "iopub.execute_input": "2022-06-06T00:50:35.995912Z",
     "iopub.status.busy": "2022-06-06T00:50:35.995152Z",
     "iopub.status.idle": "2022-06-06T00:50:35.999494Z",
     "shell.execute_reply": "2022-06-06T00:50:35.999883Z"
    },
    "papermill": {
     "duration": 0.021977,
     "end_time": "2022-06-06T00:50:36.000106",
     "exception": false,
     "start_time": "2022-06-06T00:50:35.978129",
     "status": "completed"
    },
    "tags": []
   },
   "outputs": [],
   "source": [
    "langs.to_csv(f'../out/{year}_{category}.csv', index=True, index_label='Language')"
   ]
  }
 ],
 "metadata": {
  "celltoolbar": "Tags",
  "interpreter": {
   "hash": "9e4d46cb2e7439cd377379e4187049771cc0b6089dc8d4ad323c0b3c23302069"
  },
  "kernelspec": {
   "display_name": "Python 3 (ipykernel)",
   "language": "python",
   "name": "python3"
  },
  "language_info": {
   "codemirror_mode": {
    "name": "ipython",
    "version": 3
   },
   "file_extension": ".py",
   "mimetype": "text/x-python",
   "name": "python",
   "nbconvert_exporter": "python",
   "pygments_lexer": "ipython3",
   "version": "3.9.1"
  },
  "papermill": {
   "default_parameters": {},
   "duration": 10.066493,
   "end_time": "2022-06-06T00:50:37.261040",
   "environment_variables": {},
   "exception": null,
   "input_path": "data/jupyters/so_template_2017_2021.ipynb",
   "output_path": "data/jupyters/2019_Webframe.ipynb",
   "parameters": {
    "category": "Webframe",
    "colwanted": "WebFrameDesireNextYear",
    "colworked": "WebFrameWorkedWith",
    "currency": "CurrencySymbol",
    "salary": "CompTotal",
    "salaryType": "CompFreq",
    "year": 2019
   },
   "start_time": "2022-06-06T00:50:27.194547",
   "version": "2.3.4"
  }
 },
 "nbformat": 4,
 "nbformat_minor": 5
}