{
 "cells": [
  {
   "cell_type": "code",
   "execution_count": 1,
   "id": "exceptional-hello",
   "metadata": {
    "execution": {
     "iopub.execute_input": "2022-06-06T00:49:00.687241Z",
     "iopub.status.busy": "2022-06-06T00:49:00.686715Z",
     "iopub.status.idle": "2022-06-06T00:49:00.930370Z",
     "shell.execute_reply": "2022-06-06T00:49:00.929844Z"
    },
    "papermill": {
     "duration": 0.262497,
     "end_time": "2022-06-06T00:49:00.930513",
     "exception": false,
     "start_time": "2022-06-06T00:49:00.668016",
     "status": "completed"
    },
    "tags": []
   },
   "outputs": [],
   "source": [
    "#!pip install matplotlib-venn\n",
    "import numpy as np\n",
    "import pandas as pd\n",
    "import zipfile\n",
    "import json"
   ]
  },
  {
   "cell_type": "code",
   "execution_count": 2,
   "id": "czech-notebook",
   "metadata": {
    "execution": {
     "iopub.execute_input": "2022-06-06T00:49:00.961571Z",
     "iopub.status.busy": "2022-06-06T00:49:00.960746Z",
     "iopub.status.idle": "2022-06-06T00:49:00.963823Z",
     "shell.execute_reply": "2022-06-06T00:49:00.963388Z"
    },
    "papermill": {
     "duration": 0.019605,
     "end_time": "2022-06-06T00:49:00.963956",
     "exception": false,
     "start_time": "2022-06-06T00:49:00.944351",
     "status": "completed"
    },
    "tags": []
   },
   "outputs": [],
   "source": [
    "comp = {'Monthly': 12, 'Yearly': 1, 'Weekly':52}\n",
    "\n",
    "def comp_level(x):\n",
    "    if x[salaryType] != x[salaryType]:\n",
    "        return x[salaryType]   \n",
    "    return x[salary] * comp[x[salaryType]] / x[0]"
   ]
  },
  {
   "cell_type": "code",
   "execution_count": 3,
   "id": "flying-israeli",
   "metadata": {
    "execution": {
     "iopub.execute_input": "2022-06-06T00:49:00.994157Z",
     "iopub.status.busy": "2022-06-06T00:49:00.993651Z",
     "iopub.status.idle": "2022-06-06T00:49:00.995320Z",
     "shell.execute_reply": "2022-06-06T00:49:00.995704Z"
    },
    "papermill": {
     "duration": 0.018658,
     "end_time": "2022-06-06T00:49:00.995880",
     "exception": false,
     "start_time": "2022-06-06T00:49:00.977222",
     "status": "completed"
    },
    "tags": [
     "parameters"
    ]
   },
   "outputs": [],
   "source": [
    "year = 2021\n",
    "category= 'Programming'\n",
    "colworked = 'LanguageHaveWorkedWith'\n",
    "colwanted = 'LanguageWantToWorkWith'\n",
    "currency = 'Currency'\n",
    "salary = \"CompTotal\"\n",
    "salaryType = \"CompFreq\""
   ]
  },
  {
   "cell_type": "code",
   "execution_count": 4,
   "id": "automotive-might",
   "metadata": {
    "execution": {
     "iopub.execute_input": "2022-06-06T00:49:01.024481Z",
     "iopub.status.busy": "2022-06-06T00:49:01.023916Z",
     "iopub.status.idle": "2022-06-06T00:49:01.025646Z",
     "shell.execute_reply": "2022-06-06T00:49:01.026036Z"
    },
    "papermill": {
     "duration": 0.017281,
     "end_time": "2022-06-06T00:49:01.026203",
     "exception": false,
     "start_time": "2022-06-06T00:49:01.008922",
     "status": "completed"
    },
    "tags": [
     "injected-parameters"
    ]
   },
   "outputs": [],
   "source": [
    "# Parameters\n",
    "year = 2021\n",
    "colworked = \"DatabaseHaveWorkedWith\"\n",
    "colwanted = \"DatabaseWantToWorkWith\"\n",
    "currency = \"Currency\"\n",
    "salary = \"CompTotal\"\n",
    "salaryType = \"CompFreq\"\n",
    "category = \"Database\"\n"
   ]
  },
  {
   "cell_type": "markdown",
   "id": "indonesian-necessity",
   "metadata": {
    "papermill": {
     "duration": 0.011937,
     "end_time": "2022-06-06T00:49:01.049096",
     "exception": false,
     "start_time": "2022-06-06T00:49:01.037159",
     "status": "completed"
    },
    "tags": []
   },
   "source": [
    "Cargamos los datos y mostramos su contenido"
   ]
  },
  {
   "cell_type": "code",
   "execution_count": 5,
   "id": "coordinated-scenario",
   "metadata": {
    "execution": {
     "iopub.execute_input": "2022-06-06T00:49:01.080292Z",
     "iopub.status.busy": "2022-06-06T00:49:01.079785Z",
     "iopub.status.idle": "2022-06-06T00:49:02.522284Z",
     "shell.execute_reply": "2022-06-06T00:49:02.522917Z"
    },
    "papermill": {
     "duration": 1.460895,
     "end_time": "2022-06-06T00:49:02.523176",
     "exception": false,
     "start_time": "2022-06-06T00:49:01.062281",
     "status": "completed"
    },
    "tags": []
   },
   "outputs": [],
   "source": [
    "\n",
    "zf = zipfile.ZipFile(f'../surveys/stack-overflow-developer-survey-{year}.zip') \n",
    "devs = pd.read_csv(zf.open('survey_results_public.csv'))\n",
    "# Cargamos los ratios de conversion de las monedas a 1 de Diciembre de cada año.\n",
    "with open(f'../rates/rates-{year}.json', 'r') as f:\n",
    "  data = json.loads(f.read())\n",
    "rates = pd.json_normalize(data['rates']).transpose()"
   ]
  },
  {
   "cell_type": "markdown",
   "id": "ecological-mozambique",
   "metadata": {
    "papermill": {
     "duration": 0.011824,
     "end_time": "2022-06-06T00:49:02.549936",
     "exception": false,
     "start_time": "2022-06-06T00:49:02.538112",
     "status": "completed"
    },
    "tags": []
   },
   "source": [
    "Eliminamos los nulos de las dos  propiedades que nos intersan"
   ]
  },
  {
   "cell_type": "code",
   "execution_count": 6,
   "id": "furnished-stewart",
   "metadata": {
    "execution": {
     "iopub.execute_input": "2022-06-06T00:49:02.589385Z",
     "iopub.status.busy": "2022-06-06T00:49:02.584351Z",
     "iopub.status.idle": "2022-06-06T00:49:02.593617Z",
     "shell.execute_reply": "2022-06-06T00:49:02.593983Z"
    },
    "papermill": {
     "duration": 0.03144,
     "end_time": "2022-06-06T00:49:02.594144",
     "exception": false,
     "start_time": "2022-06-06T00:49:02.562704",
     "status": "completed"
    },
    "tags": []
   },
   "outputs": [],
   "source": [
    "devs[colworked] = devs[colworked].fillna(\"\")\n",
    "devs[colwanted] = devs[colwanted].fillna(\"\")\n",
    "devs[salary]= devs[salary].replace(\"nan\", np.NaN)\n",
    "devs[salary]= pd.to_numeric(devs[salary], errors='coerce')"
   ]
  },
  {
   "cell_type": "code",
   "execution_count": 7,
   "id": "precise-response",
   "metadata": {
    "execution": {
     "iopub.execute_input": "2022-06-06T00:49:02.629395Z",
     "iopub.status.busy": "2022-06-06T00:49:02.628899Z",
     "iopub.status.idle": "2022-06-06T00:49:04.781575Z",
     "shell.execute_reply": "2022-06-06T00:49:04.781148Z"
    },
    "papermill": {
     "duration": 2.17433,
     "end_time": "2022-06-06T00:49:04.781705",
     "exception": false,
     "start_time": "2022-06-06T00:49:02.607375",
     "status": "completed"
    },
    "tags": []
   },
   "outputs": [],
   "source": [
    "lang_worked = devs[colworked].str.replace(' ', '').str.get_dummies(sep=';')\n",
    "lang_want = devs[colwanted].str.replace(' ', '').str.get_dummies(sep=';')"
   ]
  },
  {
   "cell_type": "markdown",
   "id": "impressive-exposure",
   "metadata": {
    "papermill": {
     "duration": 0.011584,
     "end_time": "2022-06-06T00:49:04.806085",
     "exception": false,
     "start_time": "2022-06-06T00:49:04.794501",
     "status": "completed"
    },
    "tags": []
   },
   "source": [
    "Se nivela la compensacion para obtener el valor anual aproximado en USD, aplicando el cambio de divisa cargado del año"
   ]
  },
  {
   "cell_type": "code",
   "execution_count": 8,
   "id": "sharing-sterling",
   "metadata": {
    "execution": {
     "iopub.execute_input": "2022-06-06T00:49:04.846873Z",
     "iopub.status.busy": "2022-06-06T00:49:04.846349Z",
     "iopub.status.idle": "2022-06-06T00:49:06.831433Z",
     "shell.execute_reply": "2022-06-06T00:49:06.831008Z"
    },
    "papermill": {
     "duration": 2.01197,
     "end_time": "2022-06-06T00:49:06.831562",
     "exception": false,
     "start_time": "2022-06-06T00:49:04.819592",
     "status": "completed"
    },
    "tags": []
   },
   "outputs": [],
   "source": [
    "if currency:\n",
    "    devs[currency] = devs[currency].str[:3]\n",
    "    devs = pd.merge(devs, rates, left_on=currency, right_index=True)\n",
    "    devs['CompTotalUSD'] = devs.apply(comp_level, axis=1)\n",
    "else:\n",
    "    devs['CompTotalUSD'] = devs[salary]\n"
   ]
  },
  {
   "cell_type": "markdown",
   "id": "partial-blair",
   "metadata": {
    "papermill": {
     "duration": 0.015801,
     "end_time": "2022-06-06T00:49:06.860402",
     "exception": false,
     "start_time": "2022-06-06T00:49:06.844601",
     "status": "completed"
    },
    "tags": []
   },
   "source": [
    "Obtenemos el dataframe con los distintos lenguajes y su compensacion"
   ]
  },
  {
   "cell_type": "code",
   "execution_count": 9,
   "id": "interior-gasoline",
   "metadata": {
    "execution": {
     "iopub.execute_input": "2022-06-06T00:49:06.892639Z",
     "iopub.status.busy": "2022-06-06T00:49:06.891671Z",
     "iopub.status.idle": "2022-06-06T00:49:06.940325Z",
     "shell.execute_reply": "2022-06-06T00:49:06.940807Z"
    },
    "papermill": {
     "duration": 0.06542,
     "end_time": "2022-06-06T00:49:06.940978",
     "exception": false,
     "start_time": "2022-06-06T00:49:06.875558",
     "status": "completed"
    },
    "tags": []
   },
   "outputs": [],
   "source": [
    "comps = lang_worked.multiply( devs['CompTotalUSD']/1000, axis=\"index\").round(decimals=0).replace(0, np.NaN).median().astype('int')"
   ]
  },
  {
   "cell_type": "markdown",
   "id": "hundred-classroom",
   "metadata": {
    "papermill": {
     "duration": 0.013372,
     "end_time": "2022-06-06T00:49:06.967479",
     "exception": false,
     "start_time": "2022-06-06T00:49:06.954107",
     "status": "completed"
    },
    "tags": []
   },
   "source": [
    "Calculamos el porcentaje de uso de cada lenguaje respecto del total.\n",
    "Como vamos a comparar años distintos con encuestados distintos por año, el porcentaje anual es una forma de nivelar y poder realizar la comparacion."
   ]
  },
  {
   "cell_type": "code",
   "execution_count": 10,
   "id": "satisfied-entity",
   "metadata": {
    "execution": {
     "iopub.execute_input": "2022-06-06T00:49:07.000047Z",
     "iopub.status.busy": "2022-06-06T00:49:06.999427Z",
     "iopub.status.idle": "2022-06-06T00:49:07.005169Z",
     "shell.execute_reply": "2022-06-06T00:49:07.005642Z"
    },
    "papermill": {
     "duration": 0.023137,
     "end_time": "2022-06-06T00:49:07.005865",
     "exception": false,
     "start_time": "2022-06-06T00:49:06.982728",
     "status": "completed"
    },
    "tags": []
   },
   "outputs": [],
   "source": [
    "worked = lang_worked.sum() / len(lang_worked)\n",
    "wanted = lang_want.sum() / len(lang_want)"
   ]
  },
  {
   "cell_type": "markdown",
   "id": "white-tissue",
   "metadata": {
    "papermill": {
     "duration": 0.013069,
     "end_time": "2022-06-06T00:49:07.031354",
     "exception": false,
     "start_time": "2022-06-06T00:49:07.018285",
     "status": "completed"
    },
    "tags": []
   },
   "source": [
    "Unimos los dataframes de lenguajes trabajados en el año, lenguajes en los que se quiere trabajar, la compensacion y el año."
   ]
  },
  {
   "cell_type": "code",
   "execution_count": 11,
   "id": "arbitrary-vision",
   "metadata": {
    "execution": {
     "iopub.execute_input": "2022-06-06T00:49:07.068319Z",
     "iopub.status.busy": "2022-06-06T00:49:07.067222Z",
     "iopub.status.idle": "2022-06-06T00:49:07.070353Z",
     "shell.execute_reply": "2022-06-06T00:49:07.070777Z"
    },
    "papermill": {
     "duration": 0.027373,
     "end_time": "2022-06-06T00:49:07.071001",
     "exception": false,
     "start_time": "2022-06-06T00:49:07.043628",
     "status": "completed"
    },
    "tags": []
   },
   "outputs": [],
   "source": [
    "w_df = pd.DataFrame(worked, columns= ['Worked'])\n",
    "w_df['Worked_per'] = (w_df['Worked'] * 100).round(1)\n",
    "wa_df = pd.DataFrame(wanted, columns= ['Wanted'])\n",
    "wa_df['Wanted_per'] = (w_df['Worked'] * 100).round(1)\n",
    "langs = pd.concat([w_df, wa_df, comps], axis=1)\n",
    "langs['Year'] = year\n",
    "langs.rename(columns={0: \"Salary\"}, inplace = True)\n",
    "langs['Category'] = category"
   ]
  },
  {
   "cell_type": "markdown",
   "id": "minus-adams",
   "metadata": {
    "papermill": {
     "duration": 0.014595,
     "end_time": "2022-06-06T00:49:07.099170",
     "exception": false,
     "start_time": "2022-06-06T00:49:07.084575",
     "status": "completed"
    },
    "tags": []
   },
   "source": [
    "Exportamos los datos procesados del año."
   ]
  },
  {
   "cell_type": "code",
   "execution_count": 12,
   "id": "documented-conservative",
   "metadata": {
    "execution": {
     "iopub.execute_input": "2022-06-06T00:49:07.139851Z",
     "iopub.status.busy": "2022-06-06T00:49:07.139195Z",
     "iopub.status.idle": "2022-06-06T00:49:07.143897Z",
     "shell.execute_reply": "2022-06-06T00:49:07.144293Z"
    },
    "papermill": {
     "duration": 0.026043,
     "end_time": "2022-06-06T00:49:07.144457",
     "exception": false,
     "start_time": "2022-06-06T00:49:07.118414",
     "status": "completed"
    },
    "tags": []
   },
   "outputs": [],
   "source": [
    "langs.to_csv(f'../out/{year}_{category}.csv', index=True, index_label='Language')"
   ]
  }
 ],
 "metadata": {
  "celltoolbar": "Tags",
  "interpreter": {
   "hash": "9e4d46cb2e7439cd377379e4187049771cc0b6089dc8d4ad323c0b3c23302069"
  },
  "kernelspec": {
   "display_name": "Python 3 (ipykernel)",
   "language": "python",
   "name": "python3"
  },
  "language_info": {
   "codemirror_mode": {
    "name": "ipython",
    "version": 3
   },
   "file_extension": ".py",
   "mimetype": "text/x-python",
   "name": "python",
   "nbconvert_exporter": "python",
   "pygments_lexer": "ipython3",
   "version": "3.9.1"
  },
  "papermill": {
   "default_parameters": {},
   "duration": 7.535491,
   "end_time": "2022-06-06T00:49:07.464966",
   "environment_variables": {},
   "exception": null,
   "input_path": "data/jupyters/so_template_2017_2021.ipynb",
   "output_path": "data/jupyters/2021_Database.ipynb",
   "parameters": {
    "category": "Database",
    "colwanted": "DatabaseWantToWorkWith",
    "colworked": "DatabaseHaveWorkedWith",
    "currency": "Currency",
    "salary": "CompTotal",
    "salaryType": "CompFreq",
    "year": 2021
   },
   "start_time": "2022-06-06T00:48:59.929475",
   "version": "2.3.4"
  }
 },
 "nbformat": 4,
 "nbformat_minor": 5
}