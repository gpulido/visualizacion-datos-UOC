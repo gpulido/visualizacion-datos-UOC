{
 "cells": [
  {
   "cell_type": "code",
   "execution_count": 1,
   "id": "hired-ranking",
   "metadata": {
    "execution": {
     "iopub.execute_input": "2022-06-06T00:50:07.286765Z",
     "iopub.status.busy": "2022-06-06T00:50:07.285783Z",
     "iopub.status.idle": "2022-06-06T00:50:07.529511Z",
     "shell.execute_reply": "2022-06-06T00:50:07.529883Z"
    },
    "papermill": {
     "duration": 0.262608,
     "end_time": "2022-06-06T00:50:07.530106",
     "exception": false,
     "start_time": "2022-06-06T00:50:07.267498",
     "status": "completed"
    },
    "tags": []
   },
   "outputs": [],
   "source": [
    "#!pip install matplotlib-venn\n",
    "import numpy as np\n",
    "import pandas as pd\n",
    "import zipfile\n",
    "import json"
   ]
  },
  {
   "cell_type": "code",
   "execution_count": 2,
   "id": "opening-paste",
   "metadata": {
    "execution": {
     "iopub.execute_input": "2022-06-06T00:50:07.575749Z",
     "iopub.status.busy": "2022-06-06T00:50:07.575241Z",
     "iopub.status.idle": "2022-06-06T00:50:07.577234Z",
     "shell.execute_reply": "2022-06-06T00:50:07.577628Z"
    },
    "papermill": {
     "duration": 0.032199,
     "end_time": "2022-06-06T00:50:07.577789",
     "exception": false,
     "start_time": "2022-06-06T00:50:07.545590",
     "status": "completed"
    },
    "tags": []
   },
   "outputs": [],
   "source": [
    "comp = {'Monthly': 12, 'Yearly': 1, 'Weekly':52}\n",
    "\n",
    "def comp_level(x):\n",
    "    if x[salaryType] != x[salaryType]:\n",
    "        return x[salaryType]   \n",
    "    return x[salary] * comp[x[salaryType]] / x[0]"
   ]
  },
  {
   "cell_type": "code",
   "execution_count": 3,
   "id": "optional-briefs",
   "metadata": {
    "execution": {
     "iopub.execute_input": "2022-06-06T00:50:07.609174Z",
     "iopub.status.busy": "2022-06-06T00:50:07.608707Z",
     "iopub.status.idle": "2022-06-06T00:50:07.610264Z",
     "shell.execute_reply": "2022-06-06T00:50:07.610669Z"
    },
    "papermill": {
     "duration": 0.019756,
     "end_time": "2022-06-06T00:50:07.610817",
     "exception": false,
     "start_time": "2022-06-06T00:50:07.591061",
     "status": "completed"
    },
    "tags": [
     "parameters"
    ]
   },
   "outputs": [],
   "source": [
    "year = 2021\n",
    "category= 'Programming'\n",
    "colworked = 'LanguageHaveWorkedWith'\n",
    "colwanted = 'LanguageWantToWorkWith'\n",
    "currency = 'Currency'\n",
    "salary = \"CompTotal\"\n",
    "salaryType = \"CompFreq\""
   ]
  },
  {
   "cell_type": "code",
   "execution_count": 4,
   "id": "unauthorized-converter",
   "metadata": {
    "execution": {
     "iopub.execute_input": "2022-06-06T00:50:07.637474Z",
     "iopub.status.busy": "2022-06-06T00:50:07.636984Z",
     "iopub.status.idle": "2022-06-06T00:50:07.639164Z",
     "shell.execute_reply": "2022-06-06T00:50:07.639549Z"
    },
    "papermill": {
     "duration": 0.017138,
     "end_time": "2022-06-06T00:50:07.639706",
     "exception": false,
     "start_time": "2022-06-06T00:50:07.622568",
     "status": "completed"
    },
    "tags": [
     "injected-parameters"
    ]
   },
   "outputs": [],
   "source": [
    "# Parameters\n",
    "year = 2019\n",
    "colworked = \"LanguageWorkedWith\"\n",
    "colwanted = \"LanguageDesireNextYear\"\n",
    "currency = \"CurrencySymbol\"\n",
    "salary = \"CompTotal\"\n",
    "salaryType = \"CompFreq\"\n",
    "category = \"Programming\"\n"
   ]
  },
  {
   "cell_type": "markdown",
   "id": "absolute-kingston",
   "metadata": {
    "papermill": {
     "duration": 0.012283,
     "end_time": "2022-06-06T00:50:07.663946",
     "exception": false,
     "start_time": "2022-06-06T00:50:07.651663",
     "status": "completed"
    },
    "tags": []
   },
   "source": [
    "Cargamos los datos y mostramos su contenido"
   ]
  },
  {
   "cell_type": "code",
   "execution_count": 5,
   "id": "light-partition",
   "metadata": {
    "execution": {
     "iopub.execute_input": "2022-06-06T00:50:07.695406Z",
     "iopub.status.busy": "2022-06-06T00:50:07.694914Z",
     "iopub.status.idle": "2022-06-06T00:50:10.251861Z",
     "shell.execute_reply": "2022-06-06T00:50:10.251137Z"
    },
    "papermill": {
     "duration": 2.57267,
     "end_time": "2022-06-06T00:50:10.251993",
     "exception": false,
     "start_time": "2022-06-06T00:50:07.679323",
     "status": "completed"
    },
    "tags": []
   },
   "outputs": [],
   "source": [
    "\n",
    "zf = zipfile.ZipFile(f'../surveys/stack-overflow-developer-survey-{year}.zip') \n",
    "devs = pd.read_csv(zf.open('survey_results_public.csv'))\n",
    "# Cargamos los ratios de conversion de las monedas a 1 de Diciembre de cada año.\n",
    "with open(f'../rates/rates-{year}.json', 'r') as f:\n",
    "  data = json.loads(f.read())\n",
    "rates = pd.json_normalize(data['rates']).transpose()"
   ]
  },
  {
   "cell_type": "markdown",
   "id": "designed-cameroon",
   "metadata": {
    "papermill": {
     "duration": 0.018634,
     "end_time": "2022-06-06T00:50:10.287973",
     "exception": false,
     "start_time": "2022-06-06T00:50:10.269339",
     "status": "completed"
    },
    "tags": []
   },
   "source": [
    "Eliminamos los nulos de las dos  propiedades que nos intersan"
   ]
  },
  {
   "cell_type": "code",
   "execution_count": 6,
   "id": "noble-ordering",
   "metadata": {
    "execution": {
     "iopub.execute_input": "2022-06-06T00:50:10.334697Z",
     "iopub.status.busy": "2022-06-06T00:50:10.334030Z",
     "iopub.status.idle": "2022-06-06T00:50:10.340767Z",
     "shell.execute_reply": "2022-06-06T00:50:10.340206Z"
    },
    "papermill": {
     "duration": 0.035621,
     "end_time": "2022-06-06T00:50:10.340915",
     "exception": false,
     "start_time": "2022-06-06T00:50:10.305294",
     "status": "completed"
    },
    "tags": []
   },
   "outputs": [],
   "source": [
    "devs[colworked] = devs[colworked].fillna(\"\")\n",
    "devs[colwanted] = devs[colwanted].fillna(\"\")\n",
    "devs[salary]= devs[salary].replace(\"nan\", np.NaN)\n",
    "devs[salary]= pd.to_numeric(devs[salary], errors='coerce')"
   ]
  },
  {
   "cell_type": "code",
   "execution_count": 7,
   "id": "identified-giant",
   "metadata": {
    "execution": {
     "iopub.execute_input": "2022-06-06T00:50:10.376748Z",
     "iopub.status.busy": "2022-06-06T00:50:10.376066Z",
     "iopub.status.idle": "2022-06-06T00:50:14.414033Z",
     "shell.execute_reply": "2022-06-06T00:50:14.413502Z"
    },
    "papermill": {
     "duration": 4.060117,
     "end_time": "2022-06-06T00:50:14.414193",
     "exception": false,
     "start_time": "2022-06-06T00:50:10.354076",
     "status": "completed"
    },
    "tags": []
   },
   "outputs": [],
   "source": [
    "lang_worked = devs[colworked].str.replace(' ', '').str.get_dummies(sep=';')\n",
    "lang_want = devs[colwanted].str.replace(' ', '').str.get_dummies(sep=';')"
   ]
  },
  {
   "cell_type": "markdown",
   "id": "following-addition",
   "metadata": {
    "papermill": {
     "duration": 0.015338,
     "end_time": "2022-06-06T00:50:14.445961",
     "exception": false,
     "start_time": "2022-06-06T00:50:14.430623",
     "status": "completed"
    },
    "tags": []
   },
   "source": [
    "Se nivela la compensacion para obtener el valor anual aproximado en USD, aplicando el cambio de divisa cargado del año"
   ]
  },
  {
   "cell_type": "code",
   "execution_count": 8,
   "id": "touched-theology",
   "metadata": {
    "execution": {
     "iopub.execute_input": "2022-06-06T00:50:14.481161Z",
     "iopub.status.busy": "2022-06-06T00:50:14.480678Z",
     "iopub.status.idle": "2022-06-06T00:50:17.083774Z",
     "shell.execute_reply": "2022-06-06T00:50:17.083359Z"
    },
    "papermill": {
     "duration": 2.62533,
     "end_time": "2022-06-06T00:50:17.083901",
     "exception": false,
     "start_time": "2022-06-06T00:50:14.458571",
     "status": "completed"
    },
    "tags": []
   },
   "outputs": [],
   "source": [
    "if currency:\n",
    "    devs[currency] = devs[currency].str[:3]\n",
    "    devs = pd.merge(devs, rates, left_on=currency, right_index=True)\n",
    "    devs['CompTotalUSD'] = devs.apply(comp_level, axis=1)\n",
    "else:\n",
    "    devs['CompTotalUSD'] = devs[salary]\n"
   ]
  },
  {
   "cell_type": "markdown",
   "id": "fourth-configuration",
   "metadata": {
    "papermill": {
     "duration": 0.024594,
     "end_time": "2022-06-06T00:50:17.132568",
     "exception": false,
     "start_time": "2022-06-06T00:50:17.107974",
     "status": "completed"
    },
    "tags": []
   },
   "source": [
    "Obtenemos el dataframe con los distintos lenguajes y su compensacion"
   ]
  },
  {
   "cell_type": "code",
   "execution_count": 9,
   "id": "welsh-general",
   "metadata": {
    "execution": {
     "iopub.execute_input": "2022-06-06T00:50:17.166922Z",
     "iopub.status.busy": "2022-06-06T00:50:17.166410Z",
     "iopub.status.idle": "2022-06-06T00:50:17.255115Z",
     "shell.execute_reply": "2022-06-06T00:50:17.254533Z"
    },
    "papermill": {
     "duration": 0.106114,
     "end_time": "2022-06-06T00:50:17.255317",
     "exception": false,
     "start_time": "2022-06-06T00:50:17.149203",
     "status": "completed"
    },
    "tags": []
   },
   "outputs": [],
   "source": [
    "comps = lang_worked.multiply( devs['CompTotalUSD']/1000, axis=\"index\").round(decimals=0).replace(0, np.NaN).median().astype('int')"
   ]
  },
  {
   "cell_type": "markdown",
   "id": "agricultural-champion",
   "metadata": {
    "papermill": {
     "duration": 0.014906,
     "end_time": "2022-06-06T00:50:17.287620",
     "exception": false,
     "start_time": "2022-06-06T00:50:17.272714",
     "status": "completed"
    },
    "tags": []
   },
   "source": [
    "Calculamos el porcentaje de uso de cada lenguaje respecto del total.\n",
    "Como vamos a comparar años distintos con encuestados distintos por año, el porcentaje anual es una forma de nivelar y poder realizar la comparacion."
   ]
  },
  {
   "cell_type": "code",
   "execution_count": 10,
   "id": "binding-tuning",
   "metadata": {
    "execution": {
     "iopub.execute_input": "2022-06-06T00:50:17.324290Z",
     "iopub.status.busy": "2022-06-06T00:50:17.323571Z",
     "iopub.status.idle": "2022-06-06T00:50:17.332181Z",
     "shell.execute_reply": "2022-06-06T00:50:17.331767Z"
    },
    "papermill": {
     "duration": 0.028008,
     "end_time": "2022-06-06T00:50:17.332309",
     "exception": false,
     "start_time": "2022-06-06T00:50:17.304301",
     "status": "completed"
    },
    "tags": []
   },
   "outputs": [],
   "source": [
    "worked = lang_worked.sum() / len(lang_worked)\n",
    "wanted = lang_want.sum() / len(lang_want)"
   ]
  },
  {
   "cell_type": "markdown",
   "id": "indian-microwave",
   "metadata": {
    "papermill": {
     "duration": 0.013531,
     "end_time": "2022-06-06T00:50:17.357966",
     "exception": false,
     "start_time": "2022-06-06T00:50:17.344435",
     "status": "completed"
    },
    "tags": []
   },
   "source": [
    "Unimos los dataframes de lenguajes trabajados en el año, lenguajes en los que se quiere trabajar, la compensacion y el año."
   ]
  },
  {
   "cell_type": "code",
   "execution_count": 11,
   "id": "adapted-sperm",
   "metadata": {
    "execution": {
     "iopub.execute_input": "2022-06-06T00:50:17.396164Z",
     "iopub.status.busy": "2022-06-06T00:50:17.395657Z",
     "iopub.status.idle": "2022-06-06T00:50:17.402555Z",
     "shell.execute_reply": "2022-06-06T00:50:17.403254Z"
    },
    "papermill": {
     "duration": 0.031064,
     "end_time": "2022-06-06T00:50:17.403653",
     "exception": false,
     "start_time": "2022-06-06T00:50:17.372589",
     "status": "completed"
    },
    "tags": []
   },
   "outputs": [],
   "source": [
    "w_df = pd.DataFrame(worked, columns= ['Worked'])\n",
    "w_df['Worked_per'] = (w_df['Worked'] * 100).round(1)\n",
    "wa_df = pd.DataFrame(wanted, columns= ['Wanted'])\n",
    "wa_df['Wanted_per'] = (w_df['Worked'] * 100).round(1)\n",
    "langs = pd.concat([w_df, wa_df, comps], axis=1)\n",
    "langs['Year'] = year\n",
    "langs.rename(columns={0: \"Salary\"}, inplace = True)\n",
    "langs['Category'] = category"
   ]
  },
  {
   "cell_type": "markdown",
   "id": "australian-model",
   "metadata": {
    "papermill": {
     "duration": 0.012842,
     "end_time": "2022-06-06T00:50:17.428870",
     "exception": false,
     "start_time": "2022-06-06T00:50:17.416028",
     "status": "completed"
    },
    "tags": []
   },
   "source": [
    "Exportamos los datos procesados del año."
   ]
  },
  {
   "cell_type": "code",
   "execution_count": 12,
   "id": "married-northwest",
   "metadata": {
    "execution": {
     "iopub.execute_input": "2022-06-06T00:50:17.459465Z",
     "iopub.status.busy": "2022-06-06T00:50:17.458934Z",
     "iopub.status.idle": "2022-06-06T00:50:17.464006Z",
     "shell.execute_reply": "2022-06-06T00:50:17.464516Z"
    },
    "papermill": {
     "duration": 0.02289,
     "end_time": "2022-06-06T00:50:17.464711",
     "exception": false,
     "start_time": "2022-06-06T00:50:17.441821",
     "status": "completed"
    },
    "tags": []
   },
   "outputs": [],
   "source": [
    "langs.to_csv(f'../out/{year}_{category}.csv', index=True, index_label='Language')"
   ]
  }
 ],
 "metadata": {
  "celltoolbar": "Tags",
  "interpreter": {
   "hash": "9e4d46cb2e7439cd377379e4187049771cc0b6089dc8d4ad323c0b3c23302069"
  },
  "kernelspec": {
   "display_name": "Python 3 (ipykernel)",
   "language": "python",
   "name": "python3"
  },
  "language_info": {
   "codemirror_mode": {
    "name": "ipython",
    "version": 3
   },
   "file_extension": ".py",
   "mimetype": "text/x-python",
   "name": "python",
   "nbconvert_exporter": "python",
   "pygments_lexer": "ipython3",
   "version": "3.9.1"
  },
  "papermill": {
   "default_parameters": {},
   "duration": 11.266924,
   "end_time": "2022-06-06T00:50:17.788914",
   "environment_variables": {},
   "exception": null,
   "input_path": "data/jupyters/so_template_2017_2021.ipynb",
   "output_path": "data/jupyters/2019_Programming.ipynb",
   "parameters": {
    "category": "Programming",
    "colwanted": "LanguageDesireNextYear",
    "colworked": "LanguageWorkedWith",
    "currency": "CurrencySymbol",
    "salary": "CompTotal",
    "salaryType": "CompFreq",
    "year": 2019
   },
   "start_time": "2022-06-06T00:50:06.521990",
   "version": "2.3.4"
  }
 },
 "nbformat": 4,
 "nbformat_minor": 5
}