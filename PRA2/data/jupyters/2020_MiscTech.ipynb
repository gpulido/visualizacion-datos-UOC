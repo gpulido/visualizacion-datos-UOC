{
 "cells": [
  {
   "cell_type": "code",
   "execution_count": 1,
   "id": "gentle-philosophy",
   "metadata": {
    "execution": {
     "iopub.execute_input": "2022-06-06T00:49:52.330931Z",
     "iopub.status.busy": "2022-06-06T00:49:52.329851Z",
     "iopub.status.idle": "2022-06-06T00:49:52.565054Z",
     "shell.execute_reply": "2022-06-06T00:49:52.563997Z"
    },
    "papermill": {
     "duration": 0.25366,
     "end_time": "2022-06-06T00:49:52.565358",
     "exception": false,
     "start_time": "2022-06-06T00:49:52.311698",
     "status": "completed"
    },
    "tags": []
   },
   "outputs": [],
   "source": [
    "#!pip install matplotlib-venn\n",
    "import numpy as np\n",
    "import pandas as pd\n",
    "import zipfile\n",
    "import json"
   ]
  },
  {
   "cell_type": "code",
   "execution_count": 2,
   "id": "current-narrow",
   "metadata": {
    "execution": {
     "iopub.execute_input": "2022-06-06T00:49:52.617165Z",
     "iopub.status.busy": "2022-06-06T00:49:52.616190Z",
     "iopub.status.idle": "2022-06-06T00:49:52.618518Z",
     "shell.execute_reply": "2022-06-06T00:49:52.618038Z"
    },
    "papermill": {
     "duration": 0.027744,
     "end_time": "2022-06-06T00:49:52.618652",
     "exception": false,
     "start_time": "2022-06-06T00:49:52.590908",
     "status": "completed"
    },
    "tags": []
   },
   "outputs": [],
   "source": [
    "comp = {'Monthly': 12, 'Yearly': 1, 'Weekly':52}\n",
    "\n",
    "def comp_level(x):\n",
    "    if x[salaryType] != x[salaryType]:\n",
    "        return x[salaryType]   \n",
    "    return x[salary] * comp[x[salaryType]] / x[0]"
   ]
  },
  {
   "cell_type": "code",
   "execution_count": 3,
   "id": "allied-alberta",
   "metadata": {
    "execution": {
     "iopub.execute_input": "2022-06-06T00:49:52.649063Z",
     "iopub.status.busy": "2022-06-06T00:49:52.648557Z",
     "iopub.status.idle": "2022-06-06T00:49:52.652381Z",
     "shell.execute_reply": "2022-06-06T00:49:52.651591Z"
    },
    "papermill": {
     "duration": 0.022968,
     "end_time": "2022-06-06T00:49:52.652603",
     "exception": false,
     "start_time": "2022-06-06T00:49:52.629635",
     "status": "completed"
    },
    "tags": [
     "parameters"
    ]
   },
   "outputs": [],
   "source": [
    "year = 2021\n",
    "category= 'Programming'\n",
    "colworked = 'LanguageHaveWorkedWith'\n",
    "colwanted = 'LanguageWantToWorkWith'\n",
    "currency = 'Currency'\n",
    "salary = \"CompTotal\"\n",
    "salaryType = \"CompFreq\""
   ]
  },
  {
   "cell_type": "code",
   "execution_count": 4,
   "id": "turned-ranking",
   "metadata": {
    "execution": {
     "iopub.execute_input": "2022-06-06T00:49:52.682062Z",
     "iopub.status.busy": "2022-06-06T00:49:52.681300Z",
     "iopub.status.idle": "2022-06-06T00:49:52.683645Z",
     "shell.execute_reply": "2022-06-06T00:49:52.683239Z"
    },
    "papermill": {
     "duration": 0.018205,
     "end_time": "2022-06-06T00:49:52.683771",
     "exception": false,
     "start_time": "2022-06-06T00:49:52.665566",
     "status": "completed"
    },
    "tags": [
     "injected-parameters"
    ]
   },
   "outputs": [],
   "source": [
    "# Parameters\n",
    "year = 2020\n",
    "colworked = \"MiscTechWorkedWith\"\n",
    "colwanted = \"MiscTechDesireNextYear\"\n",
    "currency = \"CurrencySymbol\"\n",
    "salary = \"CompTotal\"\n",
    "salaryType = \"CompFreq\"\n",
    "category = \"MiscTech\"\n"
   ]
  },
  {
   "cell_type": "markdown",
   "id": "abandoned-release",
   "metadata": {
    "papermill": {
     "duration": 0.011886,
     "end_time": "2022-06-06T00:49:52.709079",
     "exception": false,
     "start_time": "2022-06-06T00:49:52.697193",
     "status": "completed"
    },
    "tags": []
   },
   "source": [
    "Cargamos los datos y mostramos su contenido"
   ]
  },
  {
   "cell_type": "code",
   "execution_count": 5,
   "id": "retired-seattle",
   "metadata": {
    "execution": {
     "iopub.execute_input": "2022-06-06T00:49:52.739442Z",
     "iopub.status.busy": "2022-06-06T00:49:52.738912Z",
     "iopub.status.idle": "2022-06-06T00:49:54.272362Z",
     "shell.execute_reply": "2022-06-06T00:49:54.273104Z"
    },
    "papermill": {
     "duration": 1.549854,
     "end_time": "2022-06-06T00:49:54.273374",
     "exception": false,
     "start_time": "2022-06-06T00:49:52.723520",
     "status": "completed"
    },
    "tags": []
   },
   "outputs": [],
   "source": [
    "\n",
    "zf = zipfile.ZipFile(f'../surveys/stack-overflow-developer-survey-{year}.zip') \n",
    "devs = pd.read_csv(zf.open('survey_results_public.csv'))\n",
    "# Cargamos los ratios de conversion de las monedas a 1 de Diciembre de cada año.\n",
    "with open(f'../rates/rates-{year}.json', 'r') as f:\n",
    "  data = json.loads(f.read())\n",
    "rates = pd.json_normalize(data['rates']).transpose()"
   ]
  },
  {
   "cell_type": "markdown",
   "id": "extraordinary-struggle",
   "metadata": {
    "papermill": {
     "duration": 0.013068,
     "end_time": "2022-06-06T00:49:54.305598",
     "exception": false,
     "start_time": "2022-06-06T00:49:54.292530",
     "status": "completed"
    },
    "tags": []
   },
   "source": [
    "Eliminamos los nulos de las dos  propiedades que nos intersan"
   ]
  },
  {
   "cell_type": "code",
   "execution_count": 6,
   "id": "front-phoenix",
   "metadata": {
    "execution": {
     "iopub.execute_input": "2022-06-06T00:49:54.339837Z",
     "iopub.status.busy": "2022-06-06T00:49:54.338881Z",
     "iopub.status.idle": "2022-06-06T00:49:54.348581Z",
     "shell.execute_reply": "2022-06-06T00:49:54.348973Z"
    },
    "papermill": {
     "duration": 0.029217,
     "end_time": "2022-06-06T00:49:54.349131",
     "exception": false,
     "start_time": "2022-06-06T00:49:54.319914",
     "status": "completed"
    },
    "tags": []
   },
   "outputs": [],
   "source": [
    "devs[colworked] = devs[colworked].fillna(\"\")\n",
    "devs[colwanted] = devs[colwanted].fillna(\"\")\n",
    "devs[salary]= devs[salary].replace(\"nan\", np.NaN)\n",
    "devs[salary]= pd.to_numeric(devs[salary], errors='coerce')"
   ]
  },
  {
   "cell_type": "code",
   "execution_count": 7,
   "id": "imperial-flight",
   "metadata": {
    "execution": {
     "iopub.execute_input": "2022-06-06T00:49:54.392826Z",
     "iopub.status.busy": "2022-06-06T00:49:54.392340Z",
     "iopub.status.idle": "2022-06-06T00:49:56.388646Z",
     "shell.execute_reply": "2022-06-06T00:49:56.387975Z"
    },
    "papermill": {
     "duration": 2.021989,
     "end_time": "2022-06-06T00:49:56.388924",
     "exception": false,
     "start_time": "2022-06-06T00:49:54.366935",
     "status": "completed"
    },
    "tags": []
   },
   "outputs": [],
   "source": [
    "lang_worked = devs[colworked].str.replace(' ', '').str.get_dummies(sep=';')\n",
    "lang_want = devs[colwanted].str.replace(' ', '').str.get_dummies(sep=';')"
   ]
  },
  {
   "cell_type": "markdown",
   "id": "emerging-ukraine",
   "metadata": {
    "papermill": {
     "duration": 0.021546,
     "end_time": "2022-06-06T00:49:56.431754",
     "exception": false,
     "start_time": "2022-06-06T00:49:56.410208",
     "status": "completed"
    },
    "tags": []
   },
   "source": [
    "Se nivela la compensacion para obtener el valor anual aproximado en USD, aplicando el cambio de divisa cargado del año"
   ]
  },
  {
   "cell_type": "code",
   "execution_count": 8,
   "id": "reported-angola",
   "metadata": {
    "execution": {
     "iopub.execute_input": "2022-06-06T00:49:56.481090Z",
     "iopub.status.busy": "2022-06-06T00:49:56.475922Z",
     "iopub.status.idle": "2022-06-06T00:49:57.958030Z",
     "shell.execute_reply": "2022-06-06T00:49:57.956924Z"
    },
    "papermill": {
     "duration": 1.508019,
     "end_time": "2022-06-06T00:49:57.958301",
     "exception": false,
     "start_time": "2022-06-06T00:49:56.450282",
     "status": "completed"
    },
    "tags": []
   },
   "outputs": [],
   "source": [
    "if currency:\n",
    "    devs[currency] = devs[currency].str[:3]\n",
    "    devs = pd.merge(devs, rates, left_on=currency, right_index=True)\n",
    "    devs['CompTotalUSD'] = devs.apply(comp_level, axis=1)\n",
    "else:\n",
    "    devs['CompTotalUSD'] = devs[salary]\n"
   ]
  },
  {
   "cell_type": "markdown",
   "id": "posted-ethnic",
   "metadata": {
    "papermill": {
     "duration": 0.021599,
     "end_time": "2022-06-06T00:49:58.002311",
     "exception": false,
     "start_time": "2022-06-06T00:49:57.980712",
     "status": "completed"
    },
    "tags": []
   },
   "source": [
    "Obtenemos el dataframe con los distintos lenguajes y su compensacion"
   ]
  },
  {
   "cell_type": "code",
   "execution_count": 9,
   "id": "practical-finger",
   "metadata": {
    "execution": {
     "iopub.execute_input": "2022-06-06T00:49:58.037629Z",
     "iopub.status.busy": "2022-06-06T00:49:58.037088Z",
     "iopub.status.idle": "2022-06-06T00:49:58.083813Z",
     "shell.execute_reply": "2022-06-06T00:49:58.084343Z"
    },
    "papermill": {
     "duration": 0.067591,
     "end_time": "2022-06-06T00:49:58.084506",
     "exception": false,
     "start_time": "2022-06-06T00:49:58.016915",
     "status": "completed"
    },
    "tags": []
   },
   "outputs": [],
   "source": [
    "comps = lang_worked.multiply( devs['CompTotalUSD']/1000, axis=\"index\").round(decimals=0).replace(0, np.NaN).median().astype('int')"
   ]
  },
  {
   "cell_type": "markdown",
   "id": "superior-health",
   "metadata": {
    "papermill": {
     "duration": 0.016085,
     "end_time": "2022-06-06T00:49:58.115457",
     "exception": false,
     "start_time": "2022-06-06T00:49:58.099372",
     "status": "completed"
    },
    "tags": []
   },
   "source": [
    "Calculamos el porcentaje de uso de cada lenguaje respecto del total.\n",
    "Como vamos a comparar años distintos con encuestados distintos por año, el porcentaje anual es una forma de nivelar y poder realizar la comparacion."
   ]
  },
  {
   "cell_type": "code",
   "execution_count": 10,
   "id": "played-culture",
   "metadata": {
    "execution": {
     "iopub.execute_input": "2022-06-06T00:49:58.147387Z",
     "iopub.status.busy": "2022-06-06T00:49:58.146752Z",
     "iopub.status.idle": "2022-06-06T00:49:58.154571Z",
     "shell.execute_reply": "2022-06-06T00:49:58.154065Z"
    },
    "papermill": {
     "duration": 0.024586,
     "end_time": "2022-06-06T00:49:58.154704",
     "exception": false,
     "start_time": "2022-06-06T00:49:58.130118",
     "status": "completed"
    },
    "tags": []
   },
   "outputs": [],
   "source": [
    "worked = lang_worked.sum() / len(lang_worked)\n",
    "wanted = lang_want.sum() / len(lang_want)"
   ]
  },
  {
   "cell_type": "markdown",
   "id": "detailed-motivation",
   "metadata": {
    "papermill": {
     "duration": 0.012499,
     "end_time": "2022-06-06T00:49:58.178647",
     "exception": false,
     "start_time": "2022-06-06T00:49:58.166148",
     "status": "completed"
    },
    "tags": []
   },
   "source": [
    "Unimos los dataframes de lenguajes trabajados en el año, lenguajes en los que se quiere trabajar, la compensacion y el año."
   ]
  },
  {
   "cell_type": "code",
   "execution_count": 11,
   "id": "mental-brisbane",
   "metadata": {
    "execution": {
     "iopub.execute_input": "2022-06-06T00:49:58.222202Z",
     "iopub.status.busy": "2022-06-06T00:49:58.221485Z",
     "iopub.status.idle": "2022-06-06T00:49:58.223134Z",
     "shell.execute_reply": "2022-06-06T00:49:58.223525Z"
    },
    "papermill": {
     "duration": 0.033302,
     "end_time": "2022-06-06T00:49:58.223679",
     "exception": false,
     "start_time": "2022-06-06T00:49:58.190377",
     "status": "completed"
    },
    "tags": []
   },
   "outputs": [],
   "source": [
    "w_df = pd.DataFrame(worked, columns= ['Worked'])\n",
    "w_df['Worked_per'] = (w_df['Worked'] * 100).round(1)\n",
    "wa_df = pd.DataFrame(wanted, columns= ['Wanted'])\n",
    "wa_df['Wanted_per'] = (w_df['Worked'] * 100).round(1)\n",
    "langs = pd.concat([w_df, wa_df, comps], axis=1)\n",
    "langs['Year'] = year\n",
    "langs.rename(columns={0: \"Salary\"}, inplace = True)\n",
    "langs['Category'] = category"
   ]
  },
  {
   "cell_type": "markdown",
   "id": "theoretical-elder",
   "metadata": {
    "papermill": {
     "duration": 0.012127,
     "end_time": "2022-06-06T00:49:58.248376",
     "exception": false,
     "start_time": "2022-06-06T00:49:58.236249",
     "status": "completed"
    },
    "tags": []
   },
   "source": [
    "Exportamos los datos procesados del año."
   ]
  },
  {
   "cell_type": "code",
   "execution_count": 12,
   "id": "digital-monthly",
   "metadata": {
    "execution": {
     "iopub.execute_input": "2022-06-06T00:49:58.282064Z",
     "iopub.status.busy": "2022-06-06T00:49:58.281281Z",
     "iopub.status.idle": "2022-06-06T00:49:58.286328Z",
     "shell.execute_reply": "2022-06-06T00:49:58.285820Z"
    },
    "papermill": {
     "duration": 0.023329,
     "end_time": "2022-06-06T00:49:58.286464",
     "exception": false,
     "start_time": "2022-06-06T00:49:58.263135",
     "status": "completed"
    },
    "tags": []
   },
   "outputs": [],
   "source": [
    "langs.to_csv(f'../out/{year}_{category}.csv', index=True, index_label='Language')"
   ]
  }
 ],
 "metadata": {
  "celltoolbar": "Tags",
  "interpreter": {
   "hash": "9e4d46cb2e7439cd377379e4187049771cc0b6089dc8d4ad323c0b3c23302069"
  },
  "kernelspec": {
   "display_name": "Python 3 (ipykernel)",
   "language": "python",
   "name": "python3"
  },
  "language_info": {
   "codemirror_mode": {
    "name": "ipython",
    "version": 3
   },
   "file_extension": ".py",
   "mimetype": "text/x-python",
   "name": "python",
   "nbconvert_exporter": "python",
   "pygments_lexer": "ipython3",
   "version": "3.9.1"
  },
  "papermill": {
   "default_parameters": {},
   "duration": 8.062785,
   "end_time": "2022-06-06T00:49:59.605349",
   "environment_variables": {},
   "exception": null,
   "input_path": "data/jupyters/so_template_2017_2021.ipynb",
   "output_path": "data/jupyters/2020_MiscTech.ipynb",
   "parameters": {
    "category": "MiscTech",
    "colwanted": "MiscTechDesireNextYear",
    "colworked": "MiscTechWorkedWith",
    "currency": "CurrencySymbol",
    "salary": "CompTotal",
    "salaryType": "CompFreq",
    "year": 2020
   },
   "start_time": "2022-06-06T00:49:51.542564",
   "version": "2.3.4"
  }
 },
 "nbformat": 4,
 "nbformat_minor": 5
}