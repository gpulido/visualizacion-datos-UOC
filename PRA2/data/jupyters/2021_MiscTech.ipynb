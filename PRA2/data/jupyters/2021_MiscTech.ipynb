{
 "cells": [
  {
   "cell_type": "code",
   "execution_count": 1,
   "id": "administrative-operations",
   "metadata": {
    "execution": {
     "iopub.execute_input": "2022-06-06T00:49:16.658289Z",
     "iopub.status.busy": "2022-06-06T00:49:16.657424Z",
     "iopub.status.idle": "2022-06-06T00:49:16.926965Z",
     "shell.execute_reply": "2022-06-06T00:49:16.927702Z"
    },
    "papermill": {
     "duration": 0.289514,
     "end_time": "2022-06-06T00:49:16.928101",
     "exception": false,
     "start_time": "2022-06-06T00:49:16.638587",
     "status": "completed"
    },
    "tags": []
   },
   "outputs": [],
   "source": [
    "#!pip install matplotlib-venn\n",
    "import numpy as np\n",
    "import pandas as pd\n",
    "import zipfile\n",
    "import json"
   ]
  },
  {
   "cell_type": "code",
   "execution_count": 2,
   "id": "regulated-synthetic",
   "metadata": {
    "execution": {
     "iopub.execute_input": "2022-06-06T00:49:16.966689Z",
     "iopub.status.busy": "2022-06-06T00:49:16.965888Z",
     "iopub.status.idle": "2022-06-06T00:49:16.970379Z",
     "shell.execute_reply": "2022-06-06T00:49:16.969634Z"
    },
    "papermill": {
     "duration": 0.025676,
     "end_time": "2022-06-06T00:49:16.970604",
     "exception": false,
     "start_time": "2022-06-06T00:49:16.944928",
     "status": "completed"
    },
    "tags": []
   },
   "outputs": [],
   "source": [
    "comp = {'Monthly': 12, 'Yearly': 1, 'Weekly':52}\n",
    "\n",
    "def comp_level(x):\n",
    "    if x[salaryType] != x[salaryType]:\n",
    "        return x[salaryType]   \n",
    "    return x[salary] * comp[x[salaryType]] / x[0]"
   ]
  },
  {
   "cell_type": "code",
   "execution_count": 3,
   "id": "brief-divorce",
   "metadata": {
    "execution": {
     "iopub.execute_input": "2022-06-06T00:49:17.011831Z",
     "iopub.status.busy": "2022-06-06T00:49:17.011352Z",
     "iopub.status.idle": "2022-06-06T00:49:17.013223Z",
     "shell.execute_reply": "2022-06-06T00:49:17.013599Z"
    },
    "papermill": {
     "duration": 0.024607,
     "end_time": "2022-06-06T00:49:17.013748",
     "exception": false,
     "start_time": "2022-06-06T00:49:16.989141",
     "status": "completed"
    },
    "tags": [
     "parameters"
    ]
   },
   "outputs": [],
   "source": [
    "year = 2021\n",
    "category= 'Programming'\n",
    "colworked = 'LanguageHaveWorkedWith'\n",
    "colwanted = 'LanguageWantToWorkWith'\n",
    "currency = 'Currency'\n",
    "salary = \"CompTotal\"\n",
    "salaryType = \"CompFreq\""
   ]
  },
  {
   "cell_type": "code",
   "execution_count": 4,
   "id": "false-southwest",
   "metadata": {
    "execution": {
     "iopub.execute_input": "2022-06-06T00:49:17.042294Z",
     "iopub.status.busy": "2022-06-06T00:49:17.041527Z",
     "iopub.status.idle": "2022-06-06T00:49:17.044154Z",
     "shell.execute_reply": "2022-06-06T00:49:17.043568Z"
    },
    "papermill": {
     "duration": 0.018768,
     "end_time": "2022-06-06T00:49:17.044376",
     "exception": false,
     "start_time": "2022-06-06T00:49:17.025608",
     "status": "completed"
    },
    "tags": [
     "injected-parameters"
    ]
   },
   "outputs": [],
   "source": [
    "# Parameters\n",
    "year = 2021\n",
    "colworked = \"MiscTechHaveWorkedWith\"\n",
    "colwanted = \"MiscTechWantToWorkWith\"\n",
    "currency = \"Currency\"\n",
    "salary = \"CompTotal\"\n",
    "salaryType = \"CompFreq\"\n",
    "category = \"MiscTech\"\n"
   ]
  },
  {
   "cell_type": "markdown",
   "id": "waiting-discount",
   "metadata": {
    "papermill": {
     "duration": 0.012236,
     "end_time": "2022-06-06T00:49:17.069452",
     "exception": false,
     "start_time": "2022-06-06T00:49:17.057216",
     "status": "completed"
    },
    "tags": []
   },
   "source": [
    "Cargamos los datos y mostramos su contenido"
   ]
  },
  {
   "cell_type": "code",
   "execution_count": 5,
   "id": "enabling-impression",
   "metadata": {
    "execution": {
     "iopub.execute_input": "2022-06-06T00:49:17.104366Z",
     "iopub.status.busy": "2022-06-06T00:49:17.103648Z",
     "iopub.status.idle": "2022-06-06T00:49:18.557158Z",
     "shell.execute_reply": "2022-06-06T00:49:18.557890Z"
    },
    "papermill": {
     "duration": 1.473942,
     "end_time": "2022-06-06T00:49:18.558134",
     "exception": false,
     "start_time": "2022-06-06T00:49:17.084192",
     "status": "completed"
    },
    "tags": []
   },
   "outputs": [],
   "source": [
    "\n",
    "zf = zipfile.ZipFile(f'../surveys/stack-overflow-developer-survey-{year}.zip') \n",
    "devs = pd.read_csv(zf.open('survey_results_public.csv'))\n",
    "# Cargamos los ratios de conversion de las monedas a 1 de Diciembre de cada año.\n",
    "with open(f'../rates/rates-{year}.json', 'r') as f:\n",
    "  data = json.loads(f.read())\n",
    "rates = pd.json_normalize(data['rates']).transpose()"
   ]
  },
  {
   "cell_type": "markdown",
   "id": "annual-library",
   "metadata": {
    "papermill": {
     "duration": 0.012104,
     "end_time": "2022-06-06T00:49:18.585234",
     "exception": false,
     "start_time": "2022-06-06T00:49:18.573130",
     "status": "completed"
    },
    "tags": []
   },
   "source": [
    "Eliminamos los nulos de las dos  propiedades que nos intersan"
   ]
  },
  {
   "cell_type": "code",
   "execution_count": 6,
   "id": "optional-provider",
   "metadata": {
    "execution": {
     "iopub.execute_input": "2022-06-06T00:49:18.631228Z",
     "iopub.status.busy": "2022-06-06T00:49:18.630302Z",
     "iopub.status.idle": "2022-06-06T00:49:18.644679Z",
     "shell.execute_reply": "2022-06-06T00:49:18.644276Z"
    },
    "papermill": {
     "duration": 0.047301,
     "end_time": "2022-06-06T00:49:18.644812",
     "exception": false,
     "start_time": "2022-06-06T00:49:18.597511",
     "status": "completed"
    },
    "tags": []
   },
   "outputs": [],
   "source": [
    "devs[colworked] = devs[colworked].fillna(\"\")\n",
    "devs[colwanted] = devs[colwanted].fillna(\"\")\n",
    "devs[salary]= devs[salary].replace(\"nan\", np.NaN)\n",
    "devs[salary]= pd.to_numeric(devs[salary], errors='coerce')"
   ]
  },
  {
   "cell_type": "code",
   "execution_count": 7,
   "id": "irish-annual",
   "metadata": {
    "execution": {
     "iopub.execute_input": "2022-06-06T00:49:18.690467Z",
     "iopub.status.busy": "2022-06-06T00:49:18.685023Z",
     "iopub.status.idle": "2022-06-06T00:49:20.538619Z",
     "shell.execute_reply": "2022-06-06T00:49:20.539123Z"
    },
    "papermill": {
     "duration": 1.882051,
     "end_time": "2022-06-06T00:49:20.539369",
     "exception": false,
     "start_time": "2022-06-06T00:49:18.657318",
     "status": "completed"
    },
    "tags": []
   },
   "outputs": [],
   "source": [
    "lang_worked = devs[colworked].str.replace(' ', '').str.get_dummies(sep=';')\n",
    "lang_want = devs[colwanted].str.replace(' ', '').str.get_dummies(sep=';')"
   ]
  },
  {
   "cell_type": "markdown",
   "id": "vocational-average",
   "metadata": {
    "papermill": {
     "duration": 0.019541,
     "end_time": "2022-06-06T00:49:20.579595",
     "exception": false,
     "start_time": "2022-06-06T00:49:20.560054",
     "status": "completed"
    },
    "tags": []
   },
   "source": [
    "Se nivela la compensacion para obtener el valor anual aproximado en USD, aplicando el cambio de divisa cargado del año"
   ]
  },
  {
   "cell_type": "code",
   "execution_count": 8,
   "id": "conservative-encyclopedia",
   "metadata": {
    "execution": {
     "iopub.execute_input": "2022-06-06T00:49:20.626946Z",
     "iopub.status.busy": "2022-06-06T00:49:20.626429Z",
     "iopub.status.idle": "2022-06-06T00:49:22.523648Z",
     "shell.execute_reply": "2022-06-06T00:49:22.522459Z"
    },
    "papermill": {
     "duration": 1.921081,
     "end_time": "2022-06-06T00:49:22.523980",
     "exception": false,
     "start_time": "2022-06-06T00:49:20.602899",
     "status": "completed"
    },
    "tags": []
   },
   "outputs": [],
   "source": [
    "if currency:\n",
    "    devs[currency] = devs[currency].str[:3]\n",
    "    devs = pd.merge(devs, rates, left_on=currency, right_index=True)\n",
    "    devs['CompTotalUSD'] = devs.apply(comp_level, axis=1)\n",
    "else:\n",
    "    devs['CompTotalUSD'] = devs[salary]\n"
   ]
  },
  {
   "cell_type": "markdown",
   "id": "serial-beatles",
   "metadata": {
    "papermill": {
     "duration": 0.021631,
     "end_time": "2022-06-06T00:49:22.566213",
     "exception": false,
     "start_time": "2022-06-06T00:49:22.544582",
     "status": "completed"
    },
    "tags": []
   },
   "source": [
    "Obtenemos el dataframe con los distintos lenguajes y su compensacion"
   ]
  },
  {
   "cell_type": "code",
   "execution_count": 9,
   "id": "increasing-captain",
   "metadata": {
    "execution": {
     "iopub.execute_input": "2022-06-06T00:49:22.609252Z",
     "iopub.status.busy": "2022-06-06T00:49:22.608756Z",
     "iopub.status.idle": "2022-06-06T00:49:22.653820Z",
     "shell.execute_reply": "2022-06-06T00:49:22.652995Z"
    },
    "papermill": {
     "duration": 0.06479,
     "end_time": "2022-06-06T00:49:22.654037",
     "exception": false,
     "start_time": "2022-06-06T00:49:22.589247",
     "status": "completed"
    },
    "tags": []
   },
   "outputs": [],
   "source": [
    "comps = lang_worked.multiply( devs['CompTotalUSD']/1000, axis=\"index\").round(decimals=0).replace(0, np.NaN).median().astype('int')"
   ]
  },
  {
   "cell_type": "markdown",
   "id": "executive-session",
   "metadata": {
    "papermill": {
     "duration": 0.014497,
     "end_time": "2022-06-06T00:49:22.688017",
     "exception": false,
     "start_time": "2022-06-06T00:49:22.673520",
     "status": "completed"
    },
    "tags": []
   },
   "source": [
    "Calculamos el porcentaje de uso de cada lenguaje respecto del total.\n",
    "Como vamos a comparar años distintos con encuestados distintos por año, el porcentaje anual es una forma de nivelar y poder realizar la comparacion."
   ]
  },
  {
   "cell_type": "code",
   "execution_count": 10,
   "id": "overhead-burlington",
   "metadata": {
    "execution": {
     "iopub.execute_input": "2022-06-06T00:49:22.719746Z",
     "iopub.status.busy": "2022-06-06T00:49:22.718951Z",
     "iopub.status.idle": "2022-06-06T00:49:22.726221Z",
     "shell.execute_reply": "2022-06-06T00:49:22.725789Z"
    },
    "papermill": {
     "duration": 0.024344,
     "end_time": "2022-06-06T00:49:22.726355",
     "exception": false,
     "start_time": "2022-06-06T00:49:22.702011",
     "status": "completed"
    },
    "tags": []
   },
   "outputs": [],
   "source": [
    "worked = lang_worked.sum() / len(lang_worked)\n",
    "wanted = lang_want.sum() / len(lang_want)"
   ]
  },
  {
   "cell_type": "markdown",
   "id": "threatened-habitat",
   "metadata": {
    "papermill": {
     "duration": 0.012234,
     "end_time": "2022-06-06T00:49:22.750164",
     "exception": false,
     "start_time": "2022-06-06T00:49:22.737930",
     "status": "completed"
    },
    "tags": []
   },
   "source": [
    "Unimos los dataframes de lenguajes trabajados en el año, lenguajes en los que se quiere trabajar, la compensacion y el año."
   ]
  },
  {
   "cell_type": "code",
   "execution_count": 11,
   "id": "interstate-story",
   "metadata": {
    "execution": {
     "iopub.execute_input": "2022-06-06T00:49:22.794308Z",
     "iopub.status.busy": "2022-06-06T00:49:22.784162Z",
     "iopub.status.idle": "2022-06-06T00:49:22.797245Z",
     "shell.execute_reply": "2022-06-06T00:49:22.796807Z"
    },
    "papermill": {
     "duration": 0.034075,
     "end_time": "2022-06-06T00:49:22.797375",
     "exception": false,
     "start_time": "2022-06-06T00:49:22.763300",
     "status": "completed"
    },
    "tags": []
   },
   "outputs": [],
   "source": [
    "w_df = pd.DataFrame(worked, columns= ['Worked'])\n",
    "w_df['Worked_per'] = (w_df['Worked'] * 100).round(1)\n",
    "wa_df = pd.DataFrame(wanted, columns= ['Wanted'])\n",
    "wa_df['Wanted_per'] = (w_df['Worked'] * 100).round(1)\n",
    "langs = pd.concat([w_df, wa_df, comps], axis=1)\n",
    "langs['Year'] = year\n",
    "langs.rename(columns={0: \"Salary\"}, inplace = True)\n",
    "langs['Category'] = category"
   ]
  },
  {
   "cell_type": "markdown",
   "id": "falling-overview",
   "metadata": {
    "papermill": {
     "duration": 0.01624,
     "end_time": "2022-06-06T00:49:22.827622",
     "exception": false,
     "start_time": "2022-06-06T00:49:22.811382",
     "status": "completed"
    },
    "tags": []
   },
   "source": [
    "Exportamos los datos procesados del año."
   ]
  },
  {
   "cell_type": "code",
   "execution_count": 12,
   "id": "herbal-bargain",
   "metadata": {
    "execution": {
     "iopub.execute_input": "2022-06-06T00:49:22.857874Z",
     "iopub.status.busy": "2022-06-06T00:49:22.857086Z",
     "iopub.status.idle": "2022-06-06T00:49:22.861054Z",
     "shell.execute_reply": "2022-06-06T00:49:22.861450Z"
    },
    "papermill": {
     "duration": 0.02009,
     "end_time": "2022-06-06T00:49:22.861611",
     "exception": false,
     "start_time": "2022-06-06T00:49:22.841521",
     "status": "completed"
    },
    "tags": []
   },
   "outputs": [],
   "source": [
    "langs.to_csv(f'../out/{year}_{category}.csv', index=True, index_label='Language')"
   ]
  }
 ],
 "metadata": {
  "celltoolbar": "Tags",
  "interpreter": {
   "hash": "9e4d46cb2e7439cd377379e4187049771cc0b6089dc8d4ad323c0b3c23302069"
  },
  "kernelspec": {
   "display_name": "Python 3 (ipykernel)",
   "language": "python",
   "name": "python3"
  },
  "language_info": {
   "codemirror_mode": {
    "name": "ipython",
    "version": 3
   },
   "file_extension": ".py",
   "mimetype": "text/x-python",
   "name": "python",
   "nbconvert_exporter": "python",
   "pygments_lexer": "ipython3",
   "version": "3.9.1"
  },
  "papermill": {
   "default_parameters": {},
   "duration": 7.26913,
   "end_time": "2022-06-06T00:49:23.183881",
   "environment_variables": {},
   "exception": null,
   "input_path": "data/jupyters/so_template_2017_2021.ipynb",
   "output_path": "data/jupyters/2021_MiscTech.ipynb",
   "parameters": {
    "category": "MiscTech",
    "colwanted": "MiscTechWantToWorkWith",
    "colworked": "MiscTechHaveWorkedWith",
    "currency": "Currency",
    "salary": "CompTotal",
    "salaryType": "CompFreq",
    "year": 2021
   },
   "start_time": "2022-06-06T00:49:15.914751",
   "version": "2.3.4"
  }
 },
 "nbformat": 4,
 "nbformat_minor": 5
}