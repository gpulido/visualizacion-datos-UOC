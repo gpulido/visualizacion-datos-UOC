{
 "cells": [
  {
   "cell_type": "code",
   "execution_count": 1,
   "id": "adolescent-polyester",
   "metadata": {
    "execution": {
     "iopub.execute_input": "2022-06-06T00:48:49.437459Z",
     "iopub.status.busy": "2022-06-06T00:48:49.436581Z",
     "iopub.status.idle": "2022-06-06T00:48:49.692800Z",
     "shell.execute_reply": "2022-06-06T00:48:49.693202Z"
    },
    "papermill": {
     "duration": 0.299117,
     "end_time": "2022-06-06T00:48:49.693448",
     "exception": false,
     "start_time": "2022-06-06T00:48:49.394331",
     "status": "completed"
    },
    "tags": []
   },
   "outputs": [],
   "source": [
    "#!pip install matplotlib-venn\n",
    "import numpy as np\n",
    "import pandas as pd\n",
    "import zipfile\n",
    "import json"
   ]
  },
  {
   "cell_type": "code",
   "execution_count": 2,
   "id": "industrial-tooth",
   "metadata": {
    "execution": {
     "iopub.execute_input": "2022-06-06T00:48:49.727064Z",
     "iopub.status.busy": "2022-06-06T00:48:49.726196Z",
     "iopub.status.idle": "2022-06-06T00:48:49.732978Z",
     "shell.execute_reply": "2022-06-06T00:48:49.733362Z"
    },
    "papermill": {
     "duration": 0.026465,
     "end_time": "2022-06-06T00:48:49.733550",
     "exception": false,
     "start_time": "2022-06-06T00:48:49.707085",
     "status": "completed"
    },
    "tags": []
   },
   "outputs": [],
   "source": [
    "comp = {'Monthly': 12, 'Yearly': 1, 'Weekly':52}\n",
    "\n",
    "def comp_level(x):\n",
    "    if x[salaryType] != x[salaryType]:\n",
    "        return x[salaryType]   \n",
    "    return x[salary] * comp[x[salaryType]] / x[0]"
   ]
  },
  {
   "cell_type": "code",
   "execution_count": 3,
   "id": "heard-decrease",
   "metadata": {
    "execution": {
     "iopub.execute_input": "2022-06-06T00:48:49.766310Z",
     "iopub.status.busy": "2022-06-06T00:48:49.765723Z",
     "iopub.status.idle": "2022-06-06T00:48:49.768453Z",
     "shell.execute_reply": "2022-06-06T00:48:49.767808Z"
    },
    "papermill": {
     "duration": 0.020244,
     "end_time": "2022-06-06T00:48:49.768647",
     "exception": false,
     "start_time": "2022-06-06T00:48:49.748403",
     "status": "completed"
    },
    "tags": [
     "parameters"
    ]
   },
   "outputs": [],
   "source": [
    "year = 2021\n",
    "category= 'Programming'\n",
    "colworked = 'LanguageHaveWorkedWith'\n",
    "colwanted = 'LanguageWantToWorkWith'\n",
    "currency = 'Currency'\n",
    "salary = \"CompTotal\"\n",
    "salaryType = \"CompFreq\""
   ]
  },
  {
   "cell_type": "code",
   "execution_count": 4,
   "id": "existing-grass",
   "metadata": {
    "execution": {
     "iopub.execute_input": "2022-06-06T00:48:49.797488Z",
     "iopub.status.busy": "2022-06-06T00:48:49.797004Z",
     "iopub.status.idle": "2022-06-06T00:48:49.799072Z",
     "shell.execute_reply": "2022-06-06T00:48:49.798626Z"
    },
    "papermill": {
     "duration": 0.018058,
     "end_time": "2022-06-06T00:48:49.799208",
     "exception": false,
     "start_time": "2022-06-06T00:48:49.781150",
     "status": "completed"
    },
    "tags": [
     "injected-parameters"
    ]
   },
   "outputs": [],
   "source": [
    "# Parameters\n",
    "year = 2021\n",
    "colworked = \"LanguageHaveWorkedWith\"\n",
    "colwanted = \"LanguageWantToWorkWith\"\n",
    "currency = \"Currency\"\n",
    "salary = \"CompTotal\"\n",
    "salaryType = \"CompFreq\"\n",
    "category = \"Programming\"\n"
   ]
  },
  {
   "cell_type": "markdown",
   "id": "premium-bookmark",
   "metadata": {
    "papermill": {
     "duration": 0.012945,
     "end_time": "2022-06-06T00:48:49.825986",
     "exception": false,
     "start_time": "2022-06-06T00:48:49.813041",
     "status": "completed"
    },
    "tags": []
   },
   "source": [
    "Cargamos los datos y mostramos su contenido"
   ]
  },
  {
   "cell_type": "code",
   "execution_count": 5,
   "id": "widespread-peter",
   "metadata": {
    "execution": {
     "iopub.execute_input": "2022-06-06T00:48:49.864043Z",
     "iopub.status.busy": "2022-06-06T00:48:49.863141Z",
     "iopub.status.idle": "2022-06-06T00:48:51.493145Z",
     "shell.execute_reply": "2022-06-06T00:48:51.492711Z"
    },
    "papermill": {
     "duration": 1.653301,
     "end_time": "2022-06-06T00:48:51.493277",
     "exception": false,
     "start_time": "2022-06-06T00:48:49.839976",
     "status": "completed"
    },
    "tags": []
   },
   "outputs": [],
   "source": [
    "\n",
    "zf = zipfile.ZipFile(f'../surveys/stack-overflow-developer-survey-{year}.zip') \n",
    "devs = pd.read_csv(zf.open('survey_results_public.csv'))\n",
    "# Cargamos los ratios de conversion de las monedas a 1 de Diciembre de cada año.\n",
    "with open(f'../rates/rates-{year}.json', 'r') as f:\n",
    "  data = json.loads(f.read())\n",
    "rates = pd.json_normalize(data['rates']).transpose()"
   ]
  },
  {
   "cell_type": "markdown",
   "id": "logical-advancement",
   "metadata": {
    "papermill": {
     "duration": 0.01491,
     "end_time": "2022-06-06T00:48:51.520944",
     "exception": false,
     "start_time": "2022-06-06T00:48:51.506034",
     "status": "completed"
    },
    "tags": []
   },
   "source": [
    "Eliminamos los nulos de las dos  propiedades que nos intersan"
   ]
  },
  {
   "cell_type": "code",
   "execution_count": 6,
   "id": "outstanding-value",
   "metadata": {
    "execution": {
     "iopub.execute_input": "2022-06-06T00:48:51.562335Z",
     "iopub.status.busy": "2022-06-06T00:48:51.561817Z",
     "iopub.status.idle": "2022-06-06T00:48:51.580308Z",
     "shell.execute_reply": "2022-06-06T00:48:51.579852Z"
    },
    "papermill": {
     "duration": 0.046162,
     "end_time": "2022-06-06T00:48:51.580440",
     "exception": false,
     "start_time": "2022-06-06T00:48:51.534278",
     "status": "completed"
    },
    "tags": []
   },
   "outputs": [],
   "source": [
    "devs[colworked] = devs[colworked].fillna(\"\")\n",
    "devs[colwanted] = devs[colwanted].fillna(\"\")\n",
    "devs[salary]= devs[salary].replace(\"nan\", np.NaN)\n",
    "devs[salary]= pd.to_numeric(devs[salary], errors='coerce')"
   ]
  },
  {
   "cell_type": "code",
   "execution_count": 7,
   "id": "roman-briefing",
   "metadata": {
    "execution": {
     "iopub.execute_input": "2022-06-06T00:48:51.619858Z",
     "iopub.status.busy": "2022-06-06T00:48:51.619056Z",
     "iopub.status.idle": "2022-06-06T00:48:56.992481Z",
     "shell.execute_reply": "2022-06-06T00:48:56.992046Z"
    },
    "papermill": {
     "duration": 5.399466,
     "end_time": "2022-06-06T00:48:56.992615",
     "exception": false,
     "start_time": "2022-06-06T00:48:51.593149",
     "status": "completed"
    },
    "tags": []
   },
   "outputs": [],
   "source": [
    "lang_worked = devs[colworked].str.replace(' ', '').str.get_dummies(sep=';')\n",
    "lang_want = devs[colwanted].str.replace(' ', '').str.get_dummies(sep=';')"
   ]
  },
  {
   "cell_type": "markdown",
   "id": "allied-population",
   "metadata": {
    "papermill": {
     "duration": 0.012626,
     "end_time": "2022-06-06T00:48:57.017682",
     "exception": false,
     "start_time": "2022-06-06T00:48:57.005056",
     "status": "completed"
    },
    "tags": []
   },
   "source": [
    "Se nivela la compensacion para obtener el valor anual aproximado en USD, aplicando el cambio de divisa cargado del año"
   ]
  },
  {
   "cell_type": "code",
   "execution_count": 8,
   "id": "dangerous-trauma",
   "metadata": {
    "execution": {
     "iopub.execute_input": "2022-06-06T00:48:57.051745Z",
     "iopub.status.busy": "2022-06-06T00:48:57.051272Z",
     "iopub.status.idle": "2022-06-06T00:48:59.151539Z",
     "shell.execute_reply": "2022-06-06T00:48:59.151031Z"
    },
    "papermill": {
     "duration": 2.119152,
     "end_time": "2022-06-06T00:48:59.151671",
     "exception": false,
     "start_time": "2022-06-06T00:48:57.032519",
     "status": "completed"
    },
    "tags": []
   },
   "outputs": [],
   "source": [
    "if currency:\n",
    "    devs[currency] = devs[currency].str[:3]\n",
    "    devs = pd.merge(devs, rates, left_on=currency, right_index=True)\n",
    "    devs['CompTotalUSD'] = devs.apply(comp_level, axis=1)\n",
    "else:\n",
    "    devs['CompTotalUSD'] = devs[salary]\n"
   ]
  },
  {
   "cell_type": "markdown",
   "id": "varied-morocco",
   "metadata": {
    "papermill": {
     "duration": 0.013101,
     "end_time": "2022-06-06T00:48:59.177872",
     "exception": false,
     "start_time": "2022-06-06T00:48:59.164771",
     "status": "completed"
    },
    "tags": []
   },
   "source": [
    "Obtenemos el dataframe con los distintos lenguajes y su compensacion"
   ]
  },
  {
   "cell_type": "code",
   "execution_count": 9,
   "id": "hundred-africa",
   "metadata": {
    "execution": {
     "iopub.execute_input": "2022-06-06T00:48:59.211182Z",
     "iopub.status.busy": "2022-06-06T00:48:59.210649Z",
     "iopub.status.idle": "2022-06-06T00:48:59.329890Z",
     "shell.execute_reply": "2022-06-06T00:48:59.329300Z"
    },
    "papermill": {
     "duration": 0.135037,
     "end_time": "2022-06-06T00:48:59.330027",
     "exception": false,
     "start_time": "2022-06-06T00:48:59.194990",
     "status": "completed"
    },
    "tags": []
   },
   "outputs": [],
   "source": [
    "comps = lang_worked.multiply( devs['CompTotalUSD']/1000, axis=\"index\").round(decimals=0).replace(0, np.NaN).median().astype('int')"
   ]
  },
  {
   "cell_type": "markdown",
   "id": "dramatic-compiler",
   "metadata": {
    "papermill": {
     "duration": 0.012559,
     "end_time": "2022-06-06T00:48:59.357171",
     "exception": false,
     "start_time": "2022-06-06T00:48:59.344612",
     "status": "completed"
    },
    "tags": []
   },
   "source": [
    "Calculamos el porcentaje de uso de cada lenguaje respecto del total.\n",
    "Como vamos a comparar años distintos con encuestados distintos por año, el porcentaje anual es una forma de nivelar y poder realizar la comparacion."
   ]
  },
  {
   "cell_type": "code",
   "execution_count": 10,
   "id": "comparable-keeping",
   "metadata": {
    "execution": {
     "iopub.execute_input": "2022-06-06T00:48:59.388720Z",
     "iopub.status.busy": "2022-06-06T00:48:59.387792Z",
     "iopub.status.idle": "2022-06-06T00:48:59.399177Z",
     "shell.execute_reply": "2022-06-06T00:48:59.398714Z"
    },
    "papermill": {
     "duration": 0.029462,
     "end_time": "2022-06-06T00:48:59.399305",
     "exception": false,
     "start_time": "2022-06-06T00:48:59.369843",
     "status": "completed"
    },
    "tags": []
   },
   "outputs": [],
   "source": [
    "worked = lang_worked.sum() / len(lang_worked)\n",
    "wanted = lang_want.sum() / len(lang_want)"
   ]
  },
  {
   "cell_type": "markdown",
   "id": "creative-single",
   "metadata": {
    "papermill": {
     "duration": 0.013817,
     "end_time": "2022-06-06T00:48:59.428790",
     "exception": false,
     "start_time": "2022-06-06T00:48:59.414973",
     "status": "completed"
    },
    "tags": []
   },
   "source": [
    "Unimos los dataframes de lenguajes trabajados en el año, lenguajes en los que se quiere trabajar, la compensacion y el año."
   ]
  },
  {
   "cell_type": "code",
   "execution_count": 11,
   "id": "twelve-french",
   "metadata": {
    "execution": {
     "iopub.execute_input": "2022-06-06T00:48:59.463075Z",
     "iopub.status.busy": "2022-06-06T00:48:59.462517Z",
     "iopub.status.idle": "2022-06-06T00:48:59.472806Z",
     "shell.execute_reply": "2022-06-06T00:48:59.473235Z"
    },
    "papermill": {
     "duration": 0.031298,
     "end_time": "2022-06-06T00:48:59.473398",
     "exception": false,
     "start_time": "2022-06-06T00:48:59.442100",
     "status": "completed"
    },
    "tags": []
   },
   "outputs": [],
   "source": [
    "w_df = pd.DataFrame(worked, columns= ['Worked'])\n",
    "w_df['Worked_per'] = (w_df['Worked'] * 100).round(1)\n",
    "wa_df = pd.DataFrame(wanted, columns= ['Wanted'])\n",
    "wa_df['Wanted_per'] = (w_df['Worked'] * 100).round(1)\n",
    "langs = pd.concat([w_df, wa_df, comps], axis=1)\n",
    "langs['Year'] = year\n",
    "langs.rename(columns={0: \"Salary\"}, inplace = True)\n",
    "langs['Category'] = category"
   ]
  },
  {
   "cell_type": "markdown",
   "id": "elementary-livestock",
   "metadata": {
    "papermill": {
     "duration": 0.013432,
     "end_time": "2022-06-06T00:48:59.500072",
     "exception": false,
     "start_time": "2022-06-06T00:48:59.486640",
     "status": "completed"
    },
    "tags": []
   },
   "source": [
    "Exportamos los datos procesados del año."
   ]
  },
  {
   "cell_type": "code",
   "execution_count": 12,
   "id": "listed-place",
   "metadata": {
    "execution": {
     "iopub.execute_input": "2022-06-06T00:48:59.531349Z",
     "iopub.status.busy": "2022-06-06T00:48:59.530519Z",
     "iopub.status.idle": "2022-06-06T00:48:59.532660Z",
     "shell.execute_reply": "2022-06-06T00:48:59.532223Z"
    },
    "papermill": {
     "duration": 0.020499,
     "end_time": "2022-06-06T00:48:59.532792",
     "exception": false,
     "start_time": "2022-06-06T00:48:59.512293",
     "status": "completed"
    },
    "tags": []
   },
   "outputs": [],
   "source": [
    "langs.to_csv(f'../out/{year}_{category}.csv', index=True, index_label='Language')"
   ]
  }
 ],
 "metadata": {
  "celltoolbar": "Tags",
  "interpreter": {
   "hash": "9e4d46cb2e7439cd377379e4187049771cc0b6089dc8d4ad323c0b3c23302069"
  },
  "kernelspec": {
   "display_name": "Python 3 (ipykernel)",
   "language": "python",
   "name": "python3"
  },
  "language_info": {
   "codemirror_mode": {
    "name": "ipython",
    "version": 3
   },
   "file_extension": ".py",
   "mimetype": "text/x-python",
   "name": "python",
   "nbconvert_exporter": "python",
   "pygments_lexer": "ipython3",
   "version": "3.9.1"
  },
  "papermill": {
   "default_parameters": {},
   "duration": 11.252349,
   "end_time": "2022-06-06T00:48:59.855373",
   "environment_variables": {},
   "exception": null,
   "input_path": "data/jupyters/so_template_2017_2021.ipynb",
   "output_path": "data/jupyters/2021_Programming.ipynb",
   "parameters": {
    "category": "Programming",
    "colwanted": "LanguageWantToWorkWith",
    "colworked": "LanguageHaveWorkedWith",
    "currency": "Currency",
    "salary": "CompTotal",
    "salaryType": "CompFreq",
    "year": 2021
   },
   "start_time": "2022-06-06T00:48:48.603024",
   "version": "2.3.4"
  }
 },
 "nbformat": 4,
 "nbformat_minor": 5
}