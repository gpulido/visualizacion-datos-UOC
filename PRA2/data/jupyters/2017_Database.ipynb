{
 "cells": [
  {
   "cell_type": "code",
   "execution_count": 1,
   "id": "august-default",
   "metadata": {
    "execution": {
     "iopub.execute_input": "2022-06-06T00:51:49.797794Z",
     "iopub.status.busy": "2022-06-06T00:51:49.797171Z",
     "iopub.status.idle": "2022-06-06T00:51:50.047727Z",
     "shell.execute_reply": "2022-06-06T00:51:50.047240Z"
    },
    "papermill": {
     "duration": 0.275698,
     "end_time": "2022-06-06T00:51:50.047882",
     "exception": false,
     "start_time": "2022-06-06T00:51:49.772184",
     "status": "completed"
    },
    "tags": []
   },
   "outputs": [],
   "source": [
    "#!pip install matplotlib-venn\n",
    "import numpy as np\n",
    "import pandas as pd\n",
    "import zipfile\n",
    "import json"
   ]
  },
  {
   "cell_type": "code",
   "execution_count": 2,
   "id": "defensive-motorcycle",
   "metadata": {
    "execution": {
     "iopub.execute_input": "2022-06-06T00:51:50.084117Z",
     "iopub.status.busy": "2022-06-06T00:51:50.083329Z",
     "iopub.status.idle": "2022-06-06T00:51:50.086620Z",
     "shell.execute_reply": "2022-06-06T00:51:50.087195Z"
    },
    "papermill": {
     "duration": 0.024297,
     "end_time": "2022-06-06T00:51:50.087361",
     "exception": false,
     "start_time": "2022-06-06T00:51:50.063064",
     "status": "completed"
    },
    "tags": []
   },
   "outputs": [],
   "source": [
    "comp = {'Monthly': 12, 'Yearly': 1, 'Weekly':52}\n",
    "\n",
    "def comp_level(x):\n",
    "    if x[salaryType] != x[salaryType]:\n",
    "        return x[salaryType]   \n",
    "    return x[salary] * comp[x[salaryType]] / x[0]"
   ]
  },
  {
   "cell_type": "code",
   "execution_count": 3,
   "id": "western-tucson",
   "metadata": {
    "execution": {
     "iopub.execute_input": "2022-06-06T00:51:50.117590Z",
     "iopub.status.busy": "2022-06-06T00:51:50.117091Z",
     "iopub.status.idle": "2022-06-06T00:51:50.119337Z",
     "shell.execute_reply": "2022-06-06T00:51:50.119752Z"
    },
    "papermill": {
     "duration": 0.019321,
     "end_time": "2022-06-06T00:51:50.119921",
     "exception": false,
     "start_time": "2022-06-06T00:51:50.100600",
     "status": "completed"
    },
    "tags": [
     "parameters"
    ]
   },
   "outputs": [],
   "source": [
    "year = 2021\n",
    "category= 'Programming'\n",
    "colworked = 'LanguageHaveWorkedWith'\n",
    "colwanted = 'LanguageWantToWorkWith'\n",
    "currency = 'Currency'\n",
    "salary = \"CompTotal\"\n",
    "salaryType = \"CompFreq\""
   ]
  },
  {
   "cell_type": "code",
   "execution_count": 4,
   "id": "fourth-structure",
   "metadata": {
    "execution": {
     "iopub.execute_input": "2022-06-06T00:51:50.147968Z",
     "iopub.status.busy": "2022-06-06T00:51:50.147469Z",
     "iopub.status.idle": "2022-06-06T00:51:50.149957Z",
     "shell.execute_reply": "2022-06-06T00:51:50.149519Z"
    },
    "papermill": {
     "duration": 0.018668,
     "end_time": "2022-06-06T00:51:50.150092",
     "exception": false,
     "start_time": "2022-06-06T00:51:50.131424",
     "status": "completed"
    },
    "tags": [
     "injected-parameters"
    ]
   },
   "outputs": [],
   "source": [
    "# Parameters\n",
    "year = 2017\n",
    "colworked = \"HaveWorkedDatabase\"\n",
    "colwanted = \"WantWorkDatabase\"\n",
    "currency = None\n",
    "salary = \"Salary\"\n",
    "salaryType = \"SalaryType\"\n",
    "category = \"Database\"\n"
   ]
  },
  {
   "cell_type": "markdown",
   "id": "senior-particle",
   "metadata": {
    "papermill": {
     "duration": 0.011451,
     "end_time": "2022-06-06T00:51:50.173859",
     "exception": false,
     "start_time": "2022-06-06T00:51:50.162408",
     "status": "completed"
    },
    "tags": []
   },
   "source": [
    "Cargamos los datos y mostramos su contenido"
   ]
  },
  {
   "cell_type": "code",
   "execution_count": 5,
   "id": "promising-script",
   "metadata": {
    "execution": {
     "iopub.execute_input": "2022-06-06T00:51:50.206735Z",
     "iopub.status.busy": "2022-06-06T00:51:50.205953Z",
     "iopub.status.idle": "2022-06-06T00:51:51.884742Z",
     "shell.execute_reply": "2022-06-06T00:51:51.884087Z"
    },
    "papermill": {
     "duration": 1.696751,
     "end_time": "2022-06-06T00:51:51.884953",
     "exception": false,
     "start_time": "2022-06-06T00:51:50.188202",
     "status": "completed"
    },
    "tags": []
   },
   "outputs": [],
   "source": [
    "\n",
    "zf = zipfile.ZipFile(f'../surveys/stack-overflow-developer-survey-{year}.zip') \n",
    "devs = pd.read_csv(zf.open('survey_results_public.csv'))\n",
    "# Cargamos los ratios de conversion de las monedas a 1 de Diciembre de cada año.\n",
    "with open(f'../rates/rates-{year}.json', 'r') as f:\n",
    "  data = json.loads(f.read())\n",
    "rates = pd.json_normalize(data['rates']).transpose()"
   ]
  },
  {
   "cell_type": "markdown",
   "id": "isolated-punch",
   "metadata": {
    "papermill": {
     "duration": 0.014627,
     "end_time": "2022-06-06T00:51:51.915671",
     "exception": false,
     "start_time": "2022-06-06T00:51:51.901044",
     "status": "completed"
    },
    "tags": []
   },
   "source": [
    "Eliminamos los nulos de las dos  propiedades que nos intersan"
   ]
  },
  {
   "cell_type": "code",
   "execution_count": 6,
   "id": "medical-residence",
   "metadata": {
    "execution": {
     "iopub.execute_input": "2022-06-06T00:51:51.950135Z",
     "iopub.status.busy": "2022-06-06T00:51:51.949621Z",
     "iopub.status.idle": "2022-06-06T00:51:51.957387Z",
     "shell.execute_reply": "2022-06-06T00:51:51.956964Z"
    },
    "papermill": {
     "duration": 0.028269,
     "end_time": "2022-06-06T00:51:51.957524",
     "exception": false,
     "start_time": "2022-06-06T00:51:51.929255",
     "status": "completed"
    },
    "tags": []
   },
   "outputs": [],
   "source": [
    "devs[colworked] = devs[colworked].fillna(\"\")\n",
    "devs[colwanted] = devs[colwanted].fillna(\"\")\n",
    "devs[salary]= devs[salary].replace(\"nan\", np.NaN)\n",
    "devs[salary]= pd.to_numeric(devs[salary], errors='coerce')"
   ]
  },
  {
   "cell_type": "code",
   "execution_count": 7,
   "id": "engaged-saying",
   "metadata": {
    "execution": {
     "iopub.execute_input": "2022-06-06T00:51:51.988230Z",
     "iopub.status.busy": "2022-06-06T00:51:51.987736Z",
     "iopub.status.idle": "2022-06-06T00:51:52.815271Z",
     "shell.execute_reply": "2022-06-06T00:51:52.814537Z"
    },
    "papermill": {
     "duration": 0.84602,
     "end_time": "2022-06-06T00:51:52.815410",
     "exception": false,
     "start_time": "2022-06-06T00:51:51.969390",
     "status": "completed"
    },
    "tags": []
   },
   "outputs": [],
   "source": [
    "lang_worked = devs[colworked].str.replace(' ', '').str.get_dummies(sep=';')\n",
    "lang_want = devs[colwanted].str.replace(' ', '').str.get_dummies(sep=';')"
   ]
  },
  {
   "cell_type": "markdown",
   "id": "authorized-tutorial",
   "metadata": {
    "papermill": {
     "duration": 0.014132,
     "end_time": "2022-06-06T00:51:52.843233",
     "exception": false,
     "start_time": "2022-06-06T00:51:52.829101",
     "status": "completed"
    },
    "tags": []
   },
   "source": [
    "Se nivela la compensacion para obtener el valor anual aproximado en USD, aplicando el cambio de divisa cargado del año"
   ]
  },
  {
   "cell_type": "code",
   "execution_count": 8,
   "id": "soviet-roots",
   "metadata": {
    "execution": {
     "iopub.execute_input": "2022-06-06T00:51:52.878833Z",
     "iopub.status.busy": "2022-06-06T00:51:52.878343Z",
     "iopub.status.idle": "2022-06-06T00:51:52.880447Z",
     "shell.execute_reply": "2022-06-06T00:51:52.879976Z"
    },
    "papermill": {
     "duration": 0.021396,
     "end_time": "2022-06-06T00:51:52.880580",
     "exception": false,
     "start_time": "2022-06-06T00:51:52.859184",
     "status": "completed"
    },
    "tags": []
   },
   "outputs": [],
   "source": [
    "if currency:\n",
    "    devs[currency] = devs[currency].str[:3]\n",
    "    devs = pd.merge(devs, rates, left_on=currency, right_index=True)\n",
    "    devs['CompTotalUSD'] = devs.apply(comp_level, axis=1)\n",
    "else:\n",
    "    devs['CompTotalUSD'] = devs[salary]\n"
   ]
  },
  {
   "cell_type": "markdown",
   "id": "interested-example",
   "metadata": {
    "papermill": {
     "duration": 0.012491,
     "end_time": "2022-06-06T00:51:52.904937",
     "exception": false,
     "start_time": "2022-06-06T00:51:52.892446",
     "status": "completed"
    },
    "tags": []
   },
   "source": [
    "Obtenemos el dataframe con los distintos lenguajes y su compensacion"
   ]
  },
  {
   "cell_type": "code",
   "execution_count": 9,
   "id": "alleged-scotland",
   "metadata": {
    "execution": {
     "iopub.execute_input": "2022-06-06T00:51:52.933940Z",
     "iopub.status.busy": "2022-06-06T00:51:52.933402Z",
     "iopub.status.idle": "2022-06-06T00:51:52.955205Z",
     "shell.execute_reply": "2022-06-06T00:51:52.954680Z"
    },
    "papermill": {
     "duration": 0.038187,
     "end_time": "2022-06-06T00:51:52.955333",
     "exception": false,
     "start_time": "2022-06-06T00:51:52.917146",
     "status": "completed"
    },
    "tags": []
   },
   "outputs": [],
   "source": [
    "comps = lang_worked.multiply( devs['CompTotalUSD']/1000, axis=\"index\").round(decimals=0).replace(0, np.NaN).median().astype('int')"
   ]
  },
  {
   "cell_type": "markdown",
   "id": "potential-elements",
   "metadata": {
    "papermill": {
     "duration": 0.013231,
     "end_time": "2022-06-06T00:51:52.983180",
     "exception": false,
     "start_time": "2022-06-06T00:51:52.969949",
     "status": "completed"
    },
    "tags": []
   },
   "source": [
    "Calculamos el porcentaje de uso de cada lenguaje respecto del total.\n",
    "Como vamos a comparar años distintos con encuestados distintos por año, el porcentaje anual es una forma de nivelar y poder realizar la comparacion."
   ]
  },
  {
   "cell_type": "code",
   "execution_count": 10,
   "id": "ideal-wrist",
   "metadata": {
    "execution": {
     "iopub.execute_input": "2022-06-06T00:51:53.019787Z",
     "iopub.status.busy": "2022-06-06T00:51:53.019292Z",
     "iopub.status.idle": "2022-06-06T00:51:53.025727Z",
     "shell.execute_reply": "2022-06-06T00:51:53.025243Z"
    },
    "papermill": {
     "duration": 0.024477,
     "end_time": "2022-06-06T00:51:53.025854",
     "exception": false,
     "start_time": "2022-06-06T00:51:53.001377",
     "status": "completed"
    },
    "tags": []
   },
   "outputs": [],
   "source": [
    "worked = lang_worked.sum() / len(lang_worked)\n",
    "wanted = lang_want.sum() / len(lang_want)"
   ]
  },
  {
   "cell_type": "markdown",
   "id": "narrative-poster",
   "metadata": {
    "papermill": {
     "duration": 0.011248,
     "end_time": "2022-06-06T00:51:53.048488",
     "exception": false,
     "start_time": "2022-06-06T00:51:53.037240",
     "status": "completed"
    },
    "tags": []
   },
   "source": [
    "Unimos los dataframes de lenguajes trabajados en el año, lenguajes en los que se quiere trabajar, la compensacion y el año."
   ]
  },
  {
   "cell_type": "code",
   "execution_count": 11,
   "id": "conditional-shopper",
   "metadata": {
    "execution": {
     "iopub.execute_input": "2022-06-06T00:51:53.091680Z",
     "iopub.status.busy": "2022-06-06T00:51:53.091190Z",
     "iopub.status.idle": "2022-06-06T00:51:53.093923Z",
     "shell.execute_reply": "2022-06-06T00:51:53.094316Z"
    },
    "papermill": {
     "duration": 0.034207,
     "end_time": "2022-06-06T00:51:53.094476",
     "exception": false,
     "start_time": "2022-06-06T00:51:53.060269",
     "status": "completed"
    },
    "tags": []
   },
   "outputs": [],
   "source": [
    "w_df = pd.DataFrame(worked, columns= ['Worked'])\n",
    "w_df['Worked_per'] = (w_df['Worked'] * 100).round(1)\n",
    "wa_df = pd.DataFrame(wanted, columns= ['Wanted'])\n",
    "wa_df['Wanted_per'] = (w_df['Worked'] * 100).round(1)\n",
    "langs = pd.concat([w_df, wa_df, comps], axis=1)\n",
    "langs['Year'] = year\n",
    "langs.rename(columns={0: \"Salary\"}, inplace = True)\n",
    "langs['Category'] = category"
   ]
  },
  {
   "cell_type": "markdown",
   "id": "persistent-serial",
   "metadata": {
    "papermill": {
     "duration": 0.0125,
     "end_time": "2022-06-06T00:51:53.120178",
     "exception": false,
     "start_time": "2022-06-06T00:51:53.107678",
     "status": "completed"
    },
    "tags": []
   },
   "source": [
    "Exportamos los datos procesados del año."
   ]
  },
  {
   "cell_type": "code",
   "execution_count": 12,
   "id": "abandoned-framing",
   "metadata": {
    "execution": {
     "iopub.execute_input": "2022-06-06T00:51:53.151920Z",
     "iopub.status.busy": "2022-06-06T00:51:53.151387Z",
     "iopub.status.idle": "2022-06-06T00:51:53.157506Z",
     "shell.execute_reply": "2022-06-06T00:51:53.158117Z"
    },
    "papermill": {
     "duration": 0.02398,
     "end_time": "2022-06-06T00:51:53.158306",
     "exception": false,
     "start_time": "2022-06-06T00:51:53.134326",
     "status": "completed"
    },
    "tags": []
   },
   "outputs": [],
   "source": [
    "langs.to_csv(f'../out/{year}_{category}.csv', index=True, index_label='Language')"
   ]
  }
 ],
 "metadata": {
  "celltoolbar": "Tags",
  "interpreter": {
   "hash": "9e4d46cb2e7439cd377379e4187049771cc0b6089dc8d4ad323c0b3c23302069"
  },
  "kernelspec": {
   "display_name": "Python 3 (ipykernel)",
   "language": "python",
   "name": "python3"
  },
  "language_info": {
   "codemirror_mode": {
    "name": "ipython",
    "version": 3
   },
   "file_extension": ".py",
   "mimetype": "text/x-python",
   "name": "python",
   "nbconvert_exporter": "python",
   "pygments_lexer": "ipython3",
   "version": "3.9.1"
  },
  "papermill": {
   "default_parameters": {},
   "duration": 4.453486,
   "end_time": "2022-06-06T00:51:53.485277",
   "environment_variables": {},
   "exception": null,
   "input_path": "data/jupyters/so_template_2017_2021.ipynb",
   "output_path": "data/jupyters/2017_Database.ipynb",
   "parameters": {
    "category": "Database",
    "colwanted": "WantWorkDatabase",
    "colworked": "HaveWorkedDatabase",
    "currency": null,
    "salary": "Salary",
    "salaryType": "SalaryType",
    "year": 2017
   },
   "start_time": "2022-06-06T00:51:49.031791",
   "version": "2.3.4"
  }
 },
 "nbformat": 4,
 "nbformat_minor": 5
}