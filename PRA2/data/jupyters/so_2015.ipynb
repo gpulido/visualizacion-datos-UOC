{
 "cells": [
  {
   "cell_type": "code",
   "execution_count": 11,
   "metadata": {},
   "outputs": [],
   "source": [
    "#!pip install matplotlib-venn\n",
    "import numpy as np\n",
    "import pandas as pd\n",
    "import zipfile"
   ]
  },
  {
   "cell_type": "markdown",
   "metadata": {},
   "source": [
    "Cargamos los datos "
   ]
  },
  {
   "cell_type": "code",
   "execution_count": 12,
   "metadata": {},
   "outputs": [],
   "source": [
    "year = 2015\n",
    "category = 'Programming'\n",
    "name = \"Stack Overflow Developer Survey Responses.csv\"\n",
    "\n",
    "zf = zipfile.ZipFile(f'../surveys/stack-overflow-developer-survey-{year}.zip') \n",
    "\n",
    "devs = pd.read_csv(zf.open(f'{year} {name}'), low_memory=False, header=1)"
   ]
  },
  {
   "cell_type": "code",
   "execution_count": 13,
   "metadata": {},
   "outputs": [],
   "source": [
    "current_columns = [col for col in devs.columns if col.startswith(\"Current Lang & Tech:\")]\n",
    "future_columns = [col for col in devs.columns if col.startswith(\"Future Lang & Tech:\")]"
   ]
  },
  {
   "cell_type": "code",
   "execution_count": 14,
   "metadata": {},
   "outputs": [],
   "source": [
    "lang_worked = devs[current_columns].notnull().astype('int')\n",
    "lang_worked.columns = lang_worked.columns.str.replace(r\"Current Lang & Tech: \", \"\")\n",
    "lang_want = devs[future_columns].notnull().astype('int')\n",
    "lang_want.columns = lang_worked.columns.str.replace(r\"Future Lang & Tech: \", \"\")"
   ]
  },
  {
   "cell_type": "code",
   "execution_count": 15,
   "metadata": {},
   "outputs": [],
   "source": [
    "devs['Compensation: midpoint'] = pd.to_numeric(devs['Compensation: midpoint'], errors='coerce')"
   ]
  },
  {
   "cell_type": "code",
   "execution_count": 16,
   "metadata": {},
   "outputs": [],
   "source": [
    "comps = lang_worked.multiply( devs['Compensation: midpoint']/1000, axis=\"index\").round(decimals=0).replace(0, np.NaN).median().astype('int')"
   ]
  },
  {
   "cell_type": "code",
   "execution_count": 17,
   "metadata": {},
   "outputs": [],
   "source": [
    "worked = lang_worked.sum() / len(lang_worked)\n",
    "wanted = lang_want.sum() / len(lang_want)"
   ]
  },
  {
   "cell_type": "code",
   "execution_count": 18,
   "metadata": {},
   "outputs": [],
   "source": [
    "w_df = pd.DataFrame(worked, columns= ['Worked'])\n",
    "w_df['Worked_per'] = (w_df['Worked'] * 100).round(1)\n",
    "wa_df = pd.DataFrame(wanted, columns= ['Wanted'])\n",
    "wa_df['Wanted_per'] = (w_df['Worked'] * 100).round(1)\n",
    "langs = pd.concat([w_df, wa_df, comps], axis=1)\n",
    "langs = pd.concat([w_df, wa_df, comps], axis=1)\n",
    "langs['Year'] = year\n",
    "langs.rename(columns = {0:'Salary'}, inplace = True)\n",
    "langs['Category'] = category"
   ]
  },
  {
   "cell_type": "code",
   "execution_count": 21,
   "metadata": {},
   "outputs": [],
   "source": [
    "langs.to_csv(f'../out/{year}.csv', index=True, index_label='Language')"
   ]
  }
 ],
 "metadata": {
  "interpreter": {
   "hash": "9e4d46cb2e7439cd377379e4187049771cc0b6089dc8d4ad323c0b3c23302069"
  },
  "kernelspec": {
   "display_name": "Python 3.8.3 ('base')",
   "language": "python",
   "name": "python3"
  },
  "language_info": {
   "codemirror_mode": {
    "name": "ipython",
    "version": 3
   },
   "file_extension": ".py",
   "mimetype": "text/x-python",
   "name": "python",
   "nbconvert_exporter": "python",
   "pygments_lexer": "ipython3",
   "version": "3.8.5"
  }
 },
 "nbformat": 4,
 "nbformat_minor": 4
}
