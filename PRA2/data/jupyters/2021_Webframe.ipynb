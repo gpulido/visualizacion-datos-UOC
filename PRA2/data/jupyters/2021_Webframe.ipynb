{
 "cells": [
  {
   "cell_type": "code",
   "execution_count": 1,
   "id": "split-pressing",
   "metadata": {
    "execution": {
     "iopub.execute_input": "2022-06-06T00:49:08.283636Z",
     "iopub.status.busy": "2022-06-06T00:49:08.283150Z",
     "iopub.status.idle": "2022-06-06T00:49:08.524462Z",
     "shell.execute_reply": "2022-06-06T00:49:08.524869Z"
    },
    "papermill": {
     "duration": 0.257073,
     "end_time": "2022-06-06T00:49:08.525095",
     "exception": false,
     "start_time": "2022-06-06T00:49:08.268022",
     "status": "completed"
    },
    "tags": []
   },
   "outputs": [],
   "source": [
    "#!pip install matplotlib-venn\n",
    "import numpy as np\n",
    "import pandas as pd\n",
    "import zipfile\n",
    "import json"
   ]
  },
  {
   "cell_type": "code",
   "execution_count": 2,
   "id": "fuzzy-latest",
   "metadata": {
    "execution": {
     "iopub.execute_input": "2022-06-06T00:49:08.554409Z",
     "iopub.status.busy": "2022-06-06T00:49:08.553618Z",
     "iopub.status.idle": "2022-06-06T00:49:08.556794Z",
     "shell.execute_reply": "2022-06-06T00:49:08.557460Z"
    },
    "papermill": {
     "duration": 0.020309,
     "end_time": "2022-06-06T00:49:08.557703",
     "exception": false,
     "start_time": "2022-06-06T00:49:08.537394",
     "status": "completed"
    },
    "tags": []
   },
   "outputs": [],
   "source": [
    "comp = {'Monthly': 12, 'Yearly': 1, 'Weekly':52}\n",
    "\n",
    "def comp_level(x):\n",
    "    if x[salaryType] != x[salaryType]:\n",
    "        return x[salaryType]   \n",
    "    return x[salary] * comp[x[salaryType]] / x[0]"
   ]
  },
  {
   "cell_type": "code",
   "execution_count": 3,
   "id": "after-twins",
   "metadata": {
    "execution": {
     "iopub.execute_input": "2022-06-06T00:49:08.599269Z",
     "iopub.status.busy": "2022-06-06T00:49:08.598422Z",
     "iopub.status.idle": "2022-06-06T00:49:08.601355Z",
     "shell.execute_reply": "2022-06-06T00:49:08.600584Z"
    },
    "papermill": {
     "duration": 0.02587,
     "end_time": "2022-06-06T00:49:08.601557",
     "exception": false,
     "start_time": "2022-06-06T00:49:08.575687",
     "status": "completed"
    },
    "tags": [
     "parameters"
    ]
   },
   "outputs": [],
   "source": [
    "year = 2021\n",
    "category= 'Programming'\n",
    "colworked = 'LanguageHaveWorkedWith'\n",
    "colwanted = 'LanguageWantToWorkWith'\n",
    "currency = 'Currency'\n",
    "salary = \"CompTotal\"\n",
    "salaryType = \"CompFreq\""
   ]
  },
  {
   "cell_type": "code",
   "execution_count": 4,
   "id": "unavailable-spending",
   "metadata": {
    "execution": {
     "iopub.execute_input": "2022-06-06T00:49:08.643180Z",
     "iopub.status.busy": "2022-06-06T00:49:08.642418Z",
     "iopub.status.idle": "2022-06-06T00:49:08.644090Z",
     "shell.execute_reply": "2022-06-06T00:49:08.644681Z"
    },
    "papermill": {
     "duration": 0.025245,
     "end_time": "2022-06-06T00:49:08.644904",
     "exception": false,
     "start_time": "2022-06-06T00:49:08.619659",
     "status": "completed"
    },
    "tags": [
     "injected-parameters"
    ]
   },
   "outputs": [],
   "source": [
    "# Parameters\n",
    "year = 2021\n",
    "colworked = \"WebframeHaveWorkedWith\"\n",
    "colwanted = \"WebframeWantToWorkWith\"\n",
    "currency = \"Currency\"\n",
    "salary = \"CompTotal\"\n",
    "salaryType = \"CompFreq\"\n",
    "category = \"Webframe\"\n"
   ]
  },
  {
   "cell_type": "markdown",
   "id": "photographic-station",
   "metadata": {
    "papermill": {
     "duration": 0.01417,
     "end_time": "2022-06-06T00:49:08.678801",
     "exception": false,
     "start_time": "2022-06-06T00:49:08.664631",
     "status": "completed"
    },
    "tags": []
   },
   "source": [
    "Cargamos los datos y mostramos su contenido"
   ]
  },
  {
   "cell_type": "code",
   "execution_count": 5,
   "id": "literary-maple",
   "metadata": {
    "execution": {
     "iopub.execute_input": "2022-06-06T00:49:08.710537Z",
     "iopub.status.busy": "2022-06-06T00:49:08.709741Z",
     "iopub.status.idle": "2022-06-06T00:49:10.146493Z",
     "shell.execute_reply": "2022-06-06T00:49:10.146026Z"
    },
    "papermill": {
     "duration": 1.452481,
     "end_time": "2022-06-06T00:49:10.146630",
     "exception": false,
     "start_time": "2022-06-06T00:49:08.694149",
     "status": "completed"
    },
    "tags": []
   },
   "outputs": [],
   "source": [
    "\n",
    "zf = zipfile.ZipFile(f'../surveys/stack-overflow-developer-survey-{year}.zip') \n",
    "devs = pd.read_csv(zf.open('survey_results_public.csv'))\n",
    "# Cargamos los ratios de conversion de las monedas a 1 de Diciembre de cada año.\n",
    "with open(f'../rates/rates-{year}.json', 'r') as f:\n",
    "  data = json.loads(f.read())\n",
    "rates = pd.json_normalize(data['rates']).transpose()"
   ]
  },
  {
   "cell_type": "markdown",
   "id": "english-thailand",
   "metadata": {
    "papermill": {
     "duration": 0.011701,
     "end_time": "2022-06-06T00:49:10.171384",
     "exception": false,
     "start_time": "2022-06-06T00:49:10.159683",
     "status": "completed"
    },
    "tags": []
   },
   "source": [
    "Eliminamos los nulos de las dos  propiedades que nos intersan"
   ]
  },
  {
   "cell_type": "code",
   "execution_count": 6,
   "id": "false-shelf",
   "metadata": {
    "execution": {
     "iopub.execute_input": "2022-06-06T00:49:10.216363Z",
     "iopub.status.busy": "2022-06-06T00:49:10.210786Z",
     "iopub.status.idle": "2022-06-06T00:49:10.220759Z",
     "shell.execute_reply": "2022-06-06T00:49:10.220238Z"
    },
    "papermill": {
     "duration": 0.033015,
     "end_time": "2022-06-06T00:49:10.220887",
     "exception": false,
     "start_time": "2022-06-06T00:49:10.187872",
     "status": "completed"
    },
    "tags": []
   },
   "outputs": [],
   "source": [
    "devs[colworked] = devs[colworked].fillna(\"\")\n",
    "devs[colwanted] = devs[colwanted].fillna(\"\")\n",
    "devs[salary]= devs[salary].replace(\"nan\", np.NaN)\n",
    "devs[salary]= pd.to_numeric(devs[salary], errors='coerce')"
   ]
  },
  {
   "cell_type": "code",
   "execution_count": 7,
   "id": "seventh-surgery",
   "metadata": {
    "execution": {
     "iopub.execute_input": "2022-06-06T00:49:10.253577Z",
     "iopub.status.busy": "2022-06-06T00:49:10.252853Z",
     "iopub.status.idle": "2022-06-06T00:49:12.781527Z",
     "shell.execute_reply": "2022-06-06T00:49:12.781027Z"
    },
    "papermill": {
     "duration": 2.5492,
     "end_time": "2022-06-06T00:49:12.781654",
     "exception": false,
     "start_time": "2022-06-06T00:49:10.232454",
     "status": "completed"
    },
    "tags": []
   },
   "outputs": [],
   "source": [
    "lang_worked = devs[colworked].str.replace(' ', '').str.get_dummies(sep=';')\n",
    "lang_want = devs[colwanted].str.replace(' ', '').str.get_dummies(sep=';')"
   ]
  },
  {
   "cell_type": "markdown",
   "id": "answering-peoples",
   "metadata": {
    "papermill": {
     "duration": 0.013396,
     "end_time": "2022-06-06T00:49:12.809092",
     "exception": false,
     "start_time": "2022-06-06T00:49:12.795696",
     "status": "completed"
    },
    "tags": []
   },
   "source": [
    "Se nivela la compensacion para obtener el valor anual aproximado en USD, aplicando el cambio de divisa cargado del año"
   ]
  },
  {
   "cell_type": "code",
   "execution_count": 8,
   "id": "becoming-uruguay",
   "metadata": {
    "execution": {
     "iopub.execute_input": "2022-06-06T00:49:12.844827Z",
     "iopub.status.busy": "2022-06-06T00:49:12.844328Z",
     "iopub.status.idle": "2022-06-06T00:49:15.072724Z",
     "shell.execute_reply": "2022-06-06T00:49:15.072229Z"
    },
    "papermill": {
     "duration": 2.248012,
     "end_time": "2022-06-06T00:49:15.072863",
     "exception": false,
     "start_time": "2022-06-06T00:49:12.824851",
     "status": "completed"
    },
    "tags": []
   },
   "outputs": [],
   "source": [
    "if currency:\n",
    "    devs[currency] = devs[currency].str[:3]\n",
    "    devs = pd.merge(devs, rates, left_on=currency, right_index=True)\n",
    "    devs['CompTotalUSD'] = devs.apply(comp_level, axis=1)\n",
    "else:\n",
    "    devs['CompTotalUSD'] = devs[salary]\n"
   ]
  },
  {
   "cell_type": "markdown",
   "id": "solid-effect",
   "metadata": {
    "papermill": {
     "duration": 0.011681,
     "end_time": "2022-06-06T00:49:15.099312",
     "exception": false,
     "start_time": "2022-06-06T00:49:15.087631",
     "status": "completed"
    },
    "tags": []
   },
   "source": [
    "Obtenemos el dataframe con los distintos lenguajes y su compensacion"
   ]
  },
  {
   "cell_type": "code",
   "execution_count": 9,
   "id": "quiet-point",
   "metadata": {
    "execution": {
     "iopub.execute_input": "2022-06-06T00:49:15.133693Z",
     "iopub.status.busy": "2022-06-06T00:49:15.133216Z",
     "iopub.status.idle": "2022-06-06T00:49:15.192616Z",
     "shell.execute_reply": "2022-06-06T00:49:15.193012Z"
    },
    "papermill": {
     "duration": 0.077073,
     "end_time": "2022-06-06T00:49:15.193172",
     "exception": false,
     "start_time": "2022-06-06T00:49:15.116099",
     "status": "completed"
    },
    "tags": []
   },
   "outputs": [],
   "source": [
    "comps = lang_worked.multiply( devs['CompTotalUSD']/1000, axis=\"index\").round(decimals=0).replace(0, np.NaN).median().astype('int')"
   ]
  },
  {
   "cell_type": "markdown",
   "id": "certified-draft",
   "metadata": {
    "papermill": {
     "duration": 0.012937,
     "end_time": "2022-06-06T00:49:15.219923",
     "exception": false,
     "start_time": "2022-06-06T00:49:15.206986",
     "status": "completed"
    },
    "tags": []
   },
   "source": [
    "Calculamos el porcentaje de uso de cada lenguaje respecto del total.\n",
    "Como vamos a comparar años distintos con encuestados distintos por año, el porcentaje anual es una forma de nivelar y poder realizar la comparacion."
   ]
  },
  {
   "cell_type": "code",
   "execution_count": 10,
   "id": "broken-serbia",
   "metadata": {
    "execution": {
     "iopub.execute_input": "2022-06-06T00:49:15.252243Z",
     "iopub.status.busy": "2022-06-06T00:49:15.251651Z",
     "iopub.status.idle": "2022-06-06T00:49:15.259027Z",
     "shell.execute_reply": "2022-06-06T00:49:15.259593Z"
    },
    "papermill": {
     "duration": 0.026422,
     "end_time": "2022-06-06T00:49:15.259822",
     "exception": false,
     "start_time": "2022-06-06T00:49:15.233400",
     "status": "completed"
    },
    "tags": []
   },
   "outputs": [],
   "source": [
    "worked = lang_worked.sum() / len(lang_worked)\n",
    "wanted = lang_want.sum() / len(lang_want)"
   ]
  },
  {
   "cell_type": "markdown",
   "id": "naughty-language",
   "metadata": {
    "papermill": {
     "duration": 0.021127,
     "end_time": "2022-06-06T00:49:15.303472",
     "exception": false,
     "start_time": "2022-06-06T00:49:15.282345",
     "status": "completed"
    },
    "tags": []
   },
   "source": [
    "Unimos los dataframes de lenguajes trabajados en el año, lenguajes en los que se quiere trabajar, la compensacion y el año."
   ]
  },
  {
   "cell_type": "code",
   "execution_count": 11,
   "id": "superior-mayor",
   "metadata": {
    "execution": {
     "iopub.execute_input": "2022-06-06T00:49:15.373531Z",
     "iopub.status.busy": "2022-06-06T00:49:15.371310Z",
     "iopub.status.idle": "2022-06-06T00:49:15.390242Z",
     "shell.execute_reply": "2022-06-06T00:49:15.391528Z"
    },
    "papermill": {
     "duration": 0.064101,
     "end_time": "2022-06-06T00:49:15.391823",
     "exception": false,
     "start_time": "2022-06-06T00:49:15.327722",
     "status": "completed"
    },
    "tags": []
   },
   "outputs": [],
   "source": [
    "w_df = pd.DataFrame(worked, columns= ['Worked'])\n",
    "w_df['Worked_per'] = (w_df['Worked'] * 100).round(1)\n",
    "wa_df = pd.DataFrame(wanted, columns= ['Wanted'])\n",
    "wa_df['Wanted_per'] = (w_df['Worked'] * 100).round(1)\n",
    "langs = pd.concat([w_df, wa_df, comps], axis=1)\n",
    "langs['Year'] = year\n",
    "langs.rename(columns={0: \"Salary\"}, inplace = True)\n",
    "langs['Category'] = category"
   ]
  },
  {
   "cell_type": "markdown",
   "id": "advanced-contamination",
   "metadata": {
    "papermill": {
     "duration": 0.036427,
     "end_time": "2022-06-06T00:49:15.448771",
     "exception": false,
     "start_time": "2022-06-06T00:49:15.412344",
     "status": "completed"
    },
    "tags": []
   },
   "source": [
    "Exportamos los datos procesados del año."
   ]
  },
  {
   "cell_type": "code",
   "execution_count": 12,
   "id": "psychological-lexington",
   "metadata": {
    "execution": {
     "iopub.execute_input": "2022-06-06T00:49:15.503584Z",
     "iopub.status.busy": "2022-06-06T00:49:15.502725Z",
     "iopub.status.idle": "2022-06-06T00:49:15.508134Z",
     "shell.execute_reply": "2022-06-06T00:49:15.507612Z"
    },
    "papermill": {
     "duration": 0.02317,
     "end_time": "2022-06-06T00:49:15.508267",
     "exception": false,
     "start_time": "2022-06-06T00:49:15.485097",
     "status": "completed"
    },
    "tags": []
   },
   "outputs": [],
   "source": [
    "langs.to_csv(f'../out/{year}_{category}.csv', index=True, index_label='Language')"
   ]
  }
 ],
 "metadata": {
  "celltoolbar": "Tags",
  "interpreter": {
   "hash": "9e4d46cb2e7439cd377379e4187049771cc0b6089dc8d4ad323c0b3c23302069"
  },
  "kernelspec": {
   "display_name": "Python 3 (ipykernel)",
   "language": "python",
   "name": "python3"
  },
  "language_info": {
   "codemirror_mode": {
    "name": "ipython",
    "version": 3
   },
   "file_extension": ".py",
   "mimetype": "text/x-python",
   "name": "python",
   "nbconvert_exporter": "python",
   "pygments_lexer": "ipython3",
   "version": "3.9.1"
  },
  "papermill": {
   "default_parameters": {},
   "duration": 8.295228,
   "end_time": "2022-06-06T00:49:15.832266",
   "environment_variables": {},
   "exception": null,
   "input_path": "data/jupyters/so_template_2017_2021.ipynb",
   "output_path": "data/jupyters/2021_Webframe.ipynb",
   "parameters": {
    "category": "Webframe",
    "colwanted": "WebframeWantToWorkWith",
    "colworked": "WebframeHaveWorkedWith",
    "currency": "Currency",
    "salary": "CompTotal",
    "salaryType": "CompFreq",
    "year": 2021
   },
   "start_time": "2022-06-06T00:49:07.537038",
   "version": "2.3.4"
  }
 },
 "nbformat": 4,
 "nbformat_minor": 5
}