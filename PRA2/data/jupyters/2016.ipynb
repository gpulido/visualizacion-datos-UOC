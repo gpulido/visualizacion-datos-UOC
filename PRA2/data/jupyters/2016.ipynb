{
 "cells": [
  {
   "cell_type": "code",
   "execution_count": 1,
   "id": "balanced-technology",
   "metadata": {
    "execution": {
     "iopub.execute_input": "2022-06-06T00:56:51.807382Z",
     "iopub.status.busy": "2022-06-06T00:56:51.806234Z",
     "iopub.status.idle": "2022-06-06T00:56:52.269636Z",
     "shell.execute_reply": "2022-06-06T00:56:52.269052Z"
    },
    "papermill": {
     "duration": 0.4847,
     "end_time": "2022-06-06T00:56:52.269792",
     "exception": false,
     "start_time": "2022-06-06T00:56:51.785092",
     "status": "completed"
    },
    "tags": []
   },
   "outputs": [],
   "source": [
    "#!pip install matplotlib-venn\n",
    "import numpy as np\n",
    "import pandas as pd\n",
    "import zipfile\n",
    "from collections import defaultdict\n",
    "from matplotlib import pyplot as plt\n",
    "%matplotlib inline"
   ]
  },
  {
   "cell_type": "markdown",
   "id": "baking-resort",
   "metadata": {
    "papermill": {
     "duration": 0.017726,
     "end_time": "2022-06-06T00:56:52.303432",
     "exception": false,
     "start_time": "2022-06-06T00:56:52.285706",
     "status": "completed"
    },
    "tags": []
   },
   "source": [
    "Cargamos los datos y mostramos su contenido"
   ]
  },
  {
   "cell_type": "code",
   "execution_count": 2,
   "id": "endangered-sheffield",
   "metadata": {
    "execution": {
     "iopub.execute_input": "2022-06-06T00:56:52.334399Z",
     "iopub.status.busy": "2022-06-06T00:56:52.333512Z",
     "iopub.status.idle": "2022-06-06T00:56:53.260755Z",
     "shell.execute_reply": "2022-06-06T00:56:53.260005Z"
    },
    "papermill": {
     "duration": 0.945119,
     "end_time": "2022-06-06T00:56:53.260971",
     "exception": false,
     "start_time": "2022-06-06T00:56:52.315852",
     "status": "completed"
    },
    "tags": []
   },
   "outputs": [],
   "source": [
    "\n",
    "year = 2016\n",
    "colworked = 'tech_do'\n",
    "colwanted = 'tech_want'\n",
    "category = 'Programming'\n",
    "\n",
    "zf = zipfile.ZipFile(f'../surveys/stack-overflow-developer-survey-{year}.zip') \n",
    "devs = pd.read_csv(zf.open(f'{year} Stack Overflow Survey Results/{year} Stack Overflow Survey Responses.csv'))"
   ]
  },
  {
   "cell_type": "markdown",
   "id": "chubby-boston",
   "metadata": {
    "papermill": {
     "duration": 0.008279,
     "end_time": "2022-06-06T00:56:53.278033",
     "exception": false,
     "start_time": "2022-06-06T00:56:53.269754",
     "status": "completed"
    },
    "tags": []
   },
   "source": [
    "Eliminamos los nulos de las dos  propiedades que nos intersan"
   ]
  },
  {
   "cell_type": "code",
   "execution_count": 3,
   "id": "emotional-angle",
   "metadata": {
    "execution": {
     "iopub.execute_input": "2022-06-06T00:56:53.303738Z",
     "iopub.status.busy": "2022-06-06T00:56:53.303212Z",
     "iopub.status.idle": "2022-06-06T00:56:53.315070Z",
     "shell.execute_reply": "2022-06-06T00:56:53.314327Z"
    },
    "papermill": {
     "duration": 0.028214,
     "end_time": "2022-06-06T00:56:53.315281",
     "exception": false,
     "start_time": "2022-06-06T00:56:53.287067",
     "status": "completed"
    },
    "tags": []
   },
   "outputs": [],
   "source": [
    "devs[colworked] = devs[colworked].fillna(\"\")\n",
    "devs[colwanted] = devs[colwanted].fillna(\"\")"
   ]
  },
  {
   "cell_type": "code",
   "execution_count": 4,
   "id": "lesbian-referral",
   "metadata": {
    "execution": {
     "iopub.execute_input": "2022-06-06T00:56:53.342537Z",
     "iopub.status.busy": "2022-06-06T00:56:53.342060Z",
     "iopub.status.idle": "2022-06-06T00:56:57.185168Z",
     "shell.execute_reply": "2022-06-06T00:56:57.184566Z"
    },
    "papermill": {
     "duration": 3.859751,
     "end_time": "2022-06-06T00:56:57.185403",
     "exception": false,
     "start_time": "2022-06-06T00:56:53.325652",
     "status": "completed"
    },
    "tags": []
   },
   "outputs": [],
   "source": [
    "lang_worked = devs[colworked].str.replace(' ', '').str.get_dummies(sep=';')\n",
    "lang_want = devs[colwanted].str.replace(' ', '').str.get_dummies(sep=';')"
   ]
  },
  {
   "cell_type": "code",
   "execution_count": 5,
   "id": "numeric-density",
   "metadata": {
    "execution": {
     "iopub.execute_input": "2022-06-06T00:56:57.207544Z",
     "iopub.status.busy": "2022-06-06T00:56:57.206376Z",
     "iopub.status.idle": "2022-06-06T00:56:57.277274Z",
     "shell.execute_reply": "2022-06-06T00:56:57.276869Z"
    },
    "papermill": {
     "duration": 0.083937,
     "end_time": "2022-06-06T00:56:57.277406",
     "exception": false,
     "start_time": "2022-06-06T00:56:57.193469",
     "status": "completed"
    },
    "tags": []
   },
   "outputs": [],
   "source": [
    "comps = lang_worked.multiply( devs['salary_midpoint']/1000, axis=\"index\").round(decimals=0).replace(0, np.NaN).median().astype('int')"
   ]
  },
  {
   "cell_type": "code",
   "execution_count": 6,
   "id": "legitimate-resort",
   "metadata": {
    "execution": {
     "iopub.execute_input": "2022-06-06T00:56:57.304983Z",
     "iopub.status.busy": "2022-06-06T00:56:57.304285Z",
     "iopub.status.idle": "2022-06-06T00:56:57.313140Z",
     "shell.execute_reply": "2022-06-06T00:56:57.312369Z"
    },
    "papermill": {
     "duration": 0.028262,
     "end_time": "2022-06-06T00:56:57.313333",
     "exception": false,
     "start_time": "2022-06-06T00:56:57.285071",
     "status": "completed"
    },
    "tags": []
   },
   "outputs": [],
   "source": [
    "worked = lang_worked.sum() / len(lang_worked)\n",
    "wanted = lang_want.sum() / len(lang_want)"
   ]
  },
  {
   "cell_type": "code",
   "execution_count": 7,
   "id": "intimate-south",
   "metadata": {
    "execution": {
     "iopub.execute_input": "2022-06-06T00:56:57.347596Z",
     "iopub.status.busy": "2022-06-06T00:56:57.347050Z",
     "iopub.status.idle": "2022-06-06T00:56:57.348896Z",
     "shell.execute_reply": "2022-06-06T00:56:57.349272Z"
    },
    "papermill": {
     "duration": 0.023698,
     "end_time": "2022-06-06T00:56:57.349426",
     "exception": false,
     "start_time": "2022-06-06T00:56:57.325728",
     "status": "completed"
    },
    "tags": []
   },
   "outputs": [],
   "source": [
    "w_df = pd.DataFrame(worked, columns= ['Worked'])\n",
    "w_df['Worked_per'] = (w_df['Worked'] * 100).round(1)\n",
    "wa_df = pd.DataFrame(wanted, columns= ['Wanted'])\n",
    "wa_df['Wanted_per'] = (w_df['Worked'] * 100).round(1)\n",
    "langs = pd.concat([w_df, wa_df, comps], axis=1)\n",
    "langs['Year'] = year\n",
    "langs.rename(columns = {0:'Salary'}, inplace = True)\n",
    "langs['Category'] = category"
   ]
  },
  {
   "cell_type": "code",
   "execution_count": 8,
   "id": "alien-steal",
   "metadata": {
    "execution": {
     "iopub.execute_input": "2022-06-06T00:56:57.371188Z",
     "iopub.status.busy": "2022-06-06T00:56:57.370407Z",
     "iopub.status.idle": "2022-06-06T00:56:57.374823Z",
     "shell.execute_reply": "2022-06-06T00:56:57.374344Z"
    },
    "papermill": {
     "duration": 0.016239,
     "end_time": "2022-06-06T00:56:57.374985",
     "exception": false,
     "start_time": "2022-06-06T00:56:57.358746",
     "status": "completed"
    },
    "tags": []
   },
   "outputs": [],
   "source": [
    "langs.to_csv(f'../out/{year}.csv', index=True, index_label='Language')"
   ]
  }
 ],
 "metadata": {
  "interpreter": {
   "hash": "9e4d46cb2e7439cd377379e4187049771cc0b6089dc8d4ad323c0b3c23302069"
  },
  "kernelspec": {
   "display_name": "Python 3.8.3 ('base')",
   "language": "python",
   "name": "python3"
  },
  "language_info": {
   "codemirror_mode": {
    "name": "ipython",
    "version": 3
   },
   "file_extension": ".py",
   "mimetype": "text/x-python",
   "name": "python",
   "nbconvert_exporter": "python",
   "pygments_lexer": "ipython3",
   "version": "3.9.1"
  },
  "papermill": {
   "default_parameters": {},
   "duration": 6.679814,
   "end_time": "2022-06-06T00:56:57.694040",
   "environment_variables": {},
   "exception": null,
   "input_path": "data/jupyters/so_2016.ipynb",
   "output_path": "data/jupyters/2016.ipynb",
   "parameters": {},
   "start_time": "2022-06-06T00:56:51.014226",
   "version": "2.3.4"
  }
 },
 "nbformat": 4,
 "nbformat_minor": 5
}