{
 "cells": [
  {
   "cell_type": "code",
   "execution_count": 1,
   "id": "fresh-scheduling",
   "metadata": {
    "execution": {
     "iopub.execute_input": "2022-06-06T00:50:57.770778Z",
     "iopub.status.busy": "2022-06-06T00:50:57.770260Z",
     "iopub.status.idle": "2022-06-06T00:50:58.003365Z",
     "shell.execute_reply": "2022-06-06T00:50:58.002901Z"
    },
    "papermill": {
     "duration": 0.249042,
     "end_time": "2022-06-06T00:50:58.003507",
     "exception": false,
     "start_time": "2022-06-06T00:50:57.754465",
     "status": "completed"
    },
    "tags": []
   },
   "outputs": [],
   "source": [
    "#!pip install matplotlib-venn\n",
    "import numpy as np\n",
    "import pandas as pd\n",
    "import zipfile\n",
    "import json"
   ]
  },
  {
   "cell_type": "code",
   "execution_count": 2,
   "id": "immediate-documentation",
   "metadata": {
    "execution": {
     "iopub.execute_input": "2022-06-06T00:50:58.043869Z",
     "iopub.status.busy": "2022-06-06T00:50:58.043367Z",
     "iopub.status.idle": "2022-06-06T00:50:58.044976Z",
     "shell.execute_reply": "2022-06-06T00:50:58.045435Z"
    },
    "papermill": {
     "duration": 0.023733,
     "end_time": "2022-06-06T00:50:58.045591",
     "exception": false,
     "start_time": "2022-06-06T00:50:58.021858",
     "status": "completed"
    },
    "tags": []
   },
   "outputs": [],
   "source": [
    "comp = {'Monthly': 12, 'Yearly': 1, 'Weekly':52}\n",
    "\n",
    "def comp_level(x):\n",
    "    if x[salaryType] != x[salaryType]:\n",
    "        return x[salaryType]   \n",
    "    return x[salary] * comp[x[salaryType]] / x[0]"
   ]
  },
  {
   "cell_type": "code",
   "execution_count": 3,
   "id": "rural-danger",
   "metadata": {
    "execution": {
     "iopub.execute_input": "2022-06-06T00:50:58.080822Z",
     "iopub.status.busy": "2022-06-06T00:50:58.080344Z",
     "iopub.status.idle": "2022-06-06T00:50:58.082836Z",
     "shell.execute_reply": "2022-06-06T00:50:58.083236Z"
    },
    "papermill": {
     "duration": 0.023928,
     "end_time": "2022-06-06T00:50:58.083394",
     "exception": false,
     "start_time": "2022-06-06T00:50:58.059466",
     "status": "completed"
    },
    "tags": [
     "parameters"
    ]
   },
   "outputs": [],
   "source": [
    "year = 2021\n",
    "category= 'Programming'\n",
    "colworked = 'LanguageHaveWorkedWith'\n",
    "colwanted = 'LanguageWantToWorkWith'\n",
    "currency = 'Currency'\n",
    "salary = \"CompTotal\"\n",
    "salaryType = \"CompFreq\""
   ]
  },
  {
   "cell_type": "code",
   "execution_count": 4,
   "id": "painful-window",
   "metadata": {
    "execution": {
     "iopub.execute_input": "2022-06-06T00:50:58.112282Z",
     "iopub.status.busy": "2022-06-06T00:50:58.111805Z",
     "iopub.status.idle": "2022-06-06T00:50:58.114090Z",
     "shell.execute_reply": "2022-06-06T00:50:58.113613Z"
    },
    "papermill": {
     "duration": 0.019513,
     "end_time": "2022-06-06T00:50:58.114215",
     "exception": false,
     "start_time": "2022-06-06T00:50:58.094702",
     "status": "completed"
    },
    "tags": [
     "injected-parameters"
    ]
   },
   "outputs": [],
   "source": [
    "# Parameters\n",
    "year = 2018\n",
    "colworked = \"LanguageWorkedWith\"\n",
    "colwanted = \"LanguageDesireNextYear\"\n",
    "currency = \"CurrencySymbol\"\n",
    "salary = \"Salary\"\n",
    "salaryType = \"SalaryType\"\n",
    "category = \"Programming\"\n"
   ]
  },
  {
   "cell_type": "markdown",
   "id": "played-specification",
   "metadata": {
    "papermill": {
     "duration": 0.014376,
     "end_time": "2022-06-06T00:50:58.140934",
     "exception": false,
     "start_time": "2022-06-06T00:50:58.126558",
     "status": "completed"
    },
    "tags": []
   },
   "source": [
    "Cargamos los datos y mostramos su contenido"
   ]
  },
  {
   "cell_type": "code",
   "execution_count": 5,
   "id": "understanding-gregory",
   "metadata": {
    "execution": {
     "iopub.execute_input": "2022-06-06T00:50:58.173375Z",
     "iopub.status.busy": "2022-06-06T00:50:58.172871Z",
     "iopub.status.idle": "2022-06-06T00:51:01.219424Z",
     "shell.execute_reply": "2022-06-06T00:51:01.219787Z"
    },
    "papermill": {
     "duration": 3.063389,
     "end_time": "2022-06-06T00:51:01.219944",
     "exception": false,
     "start_time": "2022-06-06T00:50:58.156555",
     "status": "completed"
    },
    "tags": []
   },
   "outputs": [
    {
     "name": "stderr",
     "output_type": "stream",
     "text": [
      "/home/gpt/app/anaconda3/envs/uoc20202pec1/lib/python3.9/site-packages/IPython/core/interactiveshell.py:3165: DtypeWarning: Columns (8,12,13,14,15,16,50,51,52,53,55,56,57,58,59,60,61,62,63,64,65,66,67,68,69,70,71,72,73,74,75,76,77,78,79,80,81,82,83,84,85,93,94,95,96,97,98,99,100,101,102,103,104,105,106,107,108,109,110,111,112,113,114,115,116,117,118,119,120,121,122,123,124,125,126,127,128) have mixed types.Specify dtype option on import or set low_memory=False.\n",
      "  has_raised = await self.run_ast_nodes(code_ast.body, cell_name,\n"
     ]
    }
   ],
   "source": [
    "\n",
    "zf = zipfile.ZipFile(f'../surveys/stack-overflow-developer-survey-{year}.zip') \n",
    "devs = pd.read_csv(zf.open('survey_results_public.csv'))\n",
    "# Cargamos los ratios de conversion de las monedas a 1 de Diciembre de cada año.\n",
    "with open(f'../rates/rates-{year}.json', 'r') as f:\n",
    "  data = json.loads(f.read())\n",
    "rates = pd.json_normalize(data['rates']).transpose()"
   ]
  },
  {
   "cell_type": "markdown",
   "id": "approximate-emerald",
   "metadata": {
    "papermill": {
     "duration": 0.028435,
     "end_time": "2022-06-06T00:51:01.261507",
     "exception": false,
     "start_time": "2022-06-06T00:51:01.233072",
     "status": "completed"
    },
    "tags": []
   },
   "source": [
    "Eliminamos los nulos de las dos  propiedades que nos intersan"
   ]
  },
  {
   "cell_type": "code",
   "execution_count": 6,
   "id": "reported-might",
   "metadata": {
    "execution": {
     "iopub.execute_input": "2022-06-06T00:51:01.309224Z",
     "iopub.status.busy": "2022-06-06T00:51:01.308714Z",
     "iopub.status.idle": "2022-06-06T00:51:01.424811Z",
     "shell.execute_reply": "2022-06-06T00:51:01.425639Z"
    },
    "papermill": {
     "duration": 0.141295,
     "end_time": "2022-06-06T00:51:01.425962",
     "exception": false,
     "start_time": "2022-06-06T00:51:01.284667",
     "status": "completed"
    },
    "tags": []
   },
   "outputs": [],
   "source": [
    "devs[colworked] = devs[colworked].fillna(\"\")\n",
    "devs[colwanted] = devs[colwanted].fillna(\"\")\n",
    "devs[salary]= devs[salary].replace(\"nan\", np.NaN)\n",
    "devs[salary]= pd.to_numeric(devs[salary], errors='coerce')"
   ]
  },
  {
   "cell_type": "code",
   "execution_count": 7,
   "id": "opposed-laser",
   "metadata": {
    "execution": {
     "iopub.execute_input": "2022-06-06T00:51:01.474051Z",
     "iopub.status.busy": "2022-06-06T00:51:01.462776Z",
     "iopub.status.idle": "2022-06-06T00:51:07.064663Z",
     "shell.execute_reply": "2022-06-06T00:51:07.064266Z"
    },
    "papermill": {
     "duration": 5.623218,
     "end_time": "2022-06-06T00:51:07.064796",
     "exception": false,
     "start_time": "2022-06-06T00:51:01.441578",
     "status": "completed"
    },
    "tags": []
   },
   "outputs": [],
   "source": [
    "lang_worked = devs[colworked].str.replace(' ', '').str.get_dummies(sep=';')\n",
    "lang_want = devs[colwanted].str.replace(' ', '').str.get_dummies(sep=';')"
   ]
  },
  {
   "cell_type": "markdown",
   "id": "enclosed-zealand",
   "metadata": {
    "papermill": {
     "duration": 0.024234,
     "end_time": "2022-06-06T00:51:07.109040",
     "exception": false,
     "start_time": "2022-06-06T00:51:07.084806",
     "status": "completed"
    },
    "tags": []
   },
   "source": [
    "Se nivela la compensacion para obtener el valor anual aproximado en USD, aplicando el cambio de divisa cargado del año"
   ]
  },
  {
   "cell_type": "code",
   "execution_count": 8,
   "id": "heated-dominican",
   "metadata": {
    "execution": {
     "iopub.execute_input": "2022-06-06T00:51:07.153697Z",
     "iopub.status.busy": "2022-06-06T00:51:07.153186Z",
     "iopub.status.idle": "2022-06-06T00:51:09.520867Z",
     "shell.execute_reply": "2022-06-06T00:51:09.519765Z"
    },
    "papermill": {
     "duration": 2.392309,
     "end_time": "2022-06-06T00:51:09.521142",
     "exception": false,
     "start_time": "2022-06-06T00:51:07.128833",
     "status": "completed"
    },
    "tags": []
   },
   "outputs": [],
   "source": [
    "if currency:\n",
    "    devs[currency] = devs[currency].str[:3]\n",
    "    devs = pd.merge(devs, rates, left_on=currency, right_index=True)\n",
    "    devs['CompTotalUSD'] = devs.apply(comp_level, axis=1)\n",
    "else:\n",
    "    devs['CompTotalUSD'] = devs[salary]\n"
   ]
  },
  {
   "cell_type": "markdown",
   "id": "confirmed-estonia",
   "metadata": {
    "papermill": {
     "duration": 0.026651,
     "end_time": "2022-06-06T00:51:09.575486",
     "exception": false,
     "start_time": "2022-06-06T00:51:09.548835",
     "status": "completed"
    },
    "tags": []
   },
   "source": [
    "Obtenemos el dataframe con los distintos lenguajes y su compensacion"
   ]
  },
  {
   "cell_type": "code",
   "execution_count": 9,
   "id": "genuine-rings",
   "metadata": {
    "execution": {
     "iopub.execute_input": "2022-06-06T00:51:09.612680Z",
     "iopub.status.busy": "2022-06-06T00:51:09.611899Z",
     "iopub.status.idle": "2022-06-06T00:51:09.728500Z",
     "shell.execute_reply": "2022-06-06T00:51:09.728060Z"
    },
    "papermill": {
     "duration": 0.136647,
     "end_time": "2022-06-06T00:51:09.728626",
     "exception": false,
     "start_time": "2022-06-06T00:51:09.591979",
     "status": "completed"
    },
    "tags": []
   },
   "outputs": [],
   "source": [
    "comps = lang_worked.multiply( devs['CompTotalUSD']/1000, axis=\"index\").round(decimals=0).replace(0, np.NaN).median().astype('int')"
   ]
  },
  {
   "cell_type": "markdown",
   "id": "extra-orlando",
   "metadata": {
    "papermill": {
     "duration": 0.012679,
     "end_time": "2022-06-06T00:51:09.755320",
     "exception": false,
     "start_time": "2022-06-06T00:51:09.742641",
     "status": "completed"
    },
    "tags": []
   },
   "source": [
    "Calculamos el porcentaje de uso de cada lenguaje respecto del total.\n",
    "Como vamos a comparar años distintos con encuestados distintos por año, el porcentaje anual es una forma de nivelar y poder realizar la comparacion."
   ]
  },
  {
   "cell_type": "code",
   "execution_count": 10,
   "id": "destroyed-gateway",
   "metadata": {
    "execution": {
     "iopub.execute_input": "2022-06-06T00:51:09.787090Z",
     "iopub.status.busy": "2022-06-06T00:51:09.786144Z",
     "iopub.status.idle": "2022-06-06T00:51:09.796201Z",
     "shell.execute_reply": "2022-06-06T00:51:09.795714Z"
    },
    "papermill": {
     "duration": 0.026053,
     "end_time": "2022-06-06T00:51:09.796331",
     "exception": false,
     "start_time": "2022-06-06T00:51:09.770278",
     "status": "completed"
    },
    "tags": []
   },
   "outputs": [],
   "source": [
    "worked = lang_worked.sum() / len(lang_worked)\n",
    "wanted = lang_want.sum() / len(lang_want)"
   ]
  },
  {
   "cell_type": "markdown",
   "id": "completed-alarm",
   "metadata": {
    "papermill": {
     "duration": 0.011906,
     "end_time": "2022-06-06T00:51:09.820094",
     "exception": false,
     "start_time": "2022-06-06T00:51:09.808188",
     "status": "completed"
    },
    "tags": []
   },
   "source": [
    "Unimos los dataframes de lenguajes trabajados en el año, lenguajes en los que se quiere trabajar, la compensacion y el año."
   ]
  },
  {
   "cell_type": "code",
   "execution_count": 11,
   "id": "informal-psychiatry",
   "metadata": {
    "execution": {
     "iopub.execute_input": "2022-06-06T00:51:09.863010Z",
     "iopub.status.busy": "2022-06-06T00:51:09.862114Z",
     "iopub.status.idle": "2022-06-06T00:51:09.864617Z",
     "shell.execute_reply": "2022-06-06T00:51:09.864157Z"
    },
    "papermill": {
     "duration": 0.03241,
     "end_time": "2022-06-06T00:51:09.864782",
     "exception": false,
     "start_time": "2022-06-06T00:51:09.832372",
     "status": "completed"
    },
    "tags": []
   },
   "outputs": [],
   "source": [
    "w_df = pd.DataFrame(worked, columns= ['Worked'])\n",
    "w_df['Worked_per'] = (w_df['Worked'] * 100).round(1)\n",
    "wa_df = pd.DataFrame(wanted, columns= ['Wanted'])\n",
    "wa_df['Wanted_per'] = (w_df['Worked'] * 100).round(1)\n",
    "langs = pd.concat([w_df, wa_df, comps], axis=1)\n",
    "langs['Year'] = year\n",
    "langs.rename(columns={0: \"Salary\"}, inplace = True)\n",
    "langs['Category'] = category"
   ]
  },
  {
   "cell_type": "markdown",
   "id": "adolescent-catholic",
   "metadata": {
    "papermill": {
     "duration": 0.013391,
     "end_time": "2022-06-06T00:51:09.892098",
     "exception": false,
     "start_time": "2022-06-06T00:51:09.878707",
     "status": "completed"
    },
    "tags": []
   },
   "source": [
    "Exportamos los datos procesados del año."
   ]
  },
  {
   "cell_type": "code",
   "execution_count": 12,
   "id": "unlikely-force",
   "metadata": {
    "execution": {
     "iopub.execute_input": "2022-06-06T00:51:09.927167Z",
     "iopub.status.busy": "2022-06-06T00:51:09.926306Z",
     "iopub.status.idle": "2022-06-06T00:51:09.929143Z",
     "shell.execute_reply": "2022-06-06T00:51:09.929535Z"
    },
    "papermill": {
     "duration": 0.022388,
     "end_time": "2022-06-06T00:51:09.929688",
     "exception": false,
     "start_time": "2022-06-06T00:51:09.907300",
     "status": "completed"
    },
    "tags": []
   },
   "outputs": [],
   "source": [
    "langs.to_csv(f'../out/{year}_{category}.csv', index=True, index_label='Language')"
   ]
  }
 ],
 "metadata": {
  "celltoolbar": "Tags",
  "interpreter": {
   "hash": "9e4d46cb2e7439cd377379e4187049771cc0b6089dc8d4ad323c0b3c23302069"
  },
  "kernelspec": {
   "display_name": "Python 3 (ipykernel)",
   "language": "python",
   "name": "python3"
  },
  "language_info": {
   "codemirror_mode": {
    "name": "ipython",
    "version": 3
   },
   "file_extension": ".py",
   "mimetype": "text/x-python",
   "name": "python",
   "nbconvert_exporter": "python",
   "pygments_lexer": "ipython3",
   "version": "3.9.1"
  },
  "papermill": {
   "default_parameters": {},
   "duration": 13.199819,
   "end_time": "2022-06-06T00:51:10.251819",
   "environment_variables": {},
   "exception": null,
   "input_path": "data/jupyters/so_template_2017_2021.ipynb",
   "output_path": "data/jupyters/2018_Programming.ipynb",
   "parameters": {
    "category": "Programming",
    "colwanted": "LanguageDesireNextYear",
    "colworked": "LanguageWorkedWith",
    "currency": "CurrencySymbol",
    "salary": "Salary",
    "salaryType": "SalaryType",
    "year": 2018
   },
   "start_time": "2022-06-06T00:50:57.052000",
   "version": "2.3.4"
  }
 },
 "nbformat": 4,
 "nbformat_minor": 5
}