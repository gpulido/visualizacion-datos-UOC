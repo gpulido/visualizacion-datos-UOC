{
 "cells": [
  {
   "cell_type": "code",
   "execution_count": 1,
   "id": "abroad-naples",
   "metadata": {
    "execution": {
     "iopub.execute_input": "2022-06-06T00:50:00.462677Z",
     "iopub.status.busy": "2022-06-06T00:50:00.462191Z",
     "iopub.status.idle": "2022-06-06T00:50:00.704904Z",
     "shell.execute_reply": "2022-06-06T00:50:00.704198Z"
    },
    "papermill": {
     "duration": 0.258521,
     "end_time": "2022-06-06T00:50:00.705051",
     "exception": false,
     "start_time": "2022-06-06T00:50:00.446530",
     "status": "completed"
    },
    "tags": []
   },
   "outputs": [],
   "source": [
    "#!pip install matplotlib-venn\n",
    "import numpy as np\n",
    "import pandas as pd\n",
    "import zipfile\n",
    "import json"
   ]
  },
  {
   "cell_type": "code",
   "execution_count": 2,
   "id": "monetary-romania",
   "metadata": {
    "execution": {
     "iopub.execute_input": "2022-06-06T00:50:00.734649Z",
     "iopub.status.busy": "2022-06-06T00:50:00.733874Z",
     "iopub.status.idle": "2022-06-06T00:50:00.736621Z",
     "shell.execute_reply": "2022-06-06T00:50:00.736056Z"
    },
    "papermill": {
     "duration": 0.019709,
     "end_time": "2022-06-06T00:50:00.736755",
     "exception": false,
     "start_time": "2022-06-06T00:50:00.717046",
     "status": "completed"
    },
    "tags": []
   },
   "outputs": [],
   "source": [
    "comp = {'Monthly': 12, 'Yearly': 1, 'Weekly':52}\n",
    "\n",
    "def comp_level(x):\n",
    "    if x[salaryType] != x[salaryType]:\n",
    "        return x[salaryType]   \n",
    "    return x[salary] * comp[x[salaryType]] / x[0]"
   ]
  },
  {
   "cell_type": "code",
   "execution_count": 3,
   "id": "proprietary-daughter",
   "metadata": {
    "execution": {
     "iopub.execute_input": "2022-06-06T00:50:00.764688Z",
     "iopub.status.busy": "2022-06-06T00:50:00.764127Z",
     "iopub.status.idle": "2022-06-06T00:50:00.765889Z",
     "shell.execute_reply": "2022-06-06T00:50:00.766354Z"
    },
    "papermill": {
     "duration": 0.018678,
     "end_time": "2022-06-06T00:50:00.766511",
     "exception": false,
     "start_time": "2022-06-06T00:50:00.747833",
     "status": "completed"
    },
    "tags": [
     "parameters"
    ]
   },
   "outputs": [],
   "source": [
    "year = 2021\n",
    "category= 'Programming'\n",
    "colworked = 'LanguageHaveWorkedWith'\n",
    "colwanted = 'LanguageWantToWorkWith'\n",
    "currency = 'Currency'\n",
    "salary = \"CompTotal\"\n",
    "salaryType = \"CompFreq\""
   ]
  },
  {
   "cell_type": "code",
   "execution_count": 4,
   "id": "registered-robert",
   "metadata": {
    "execution": {
     "iopub.execute_input": "2022-06-06T00:50:00.799194Z",
     "iopub.status.busy": "2022-06-06T00:50:00.798458Z",
     "iopub.status.idle": "2022-06-06T00:50:00.800439Z",
     "shell.execute_reply": "2022-06-06T00:50:00.800862Z"
    },
    "papermill": {
     "duration": 0.020079,
     "end_time": "2022-06-06T00:50:00.801022",
     "exception": false,
     "start_time": "2022-06-06T00:50:00.780943",
     "status": "completed"
    },
    "tags": [
     "injected-parameters"
    ]
   },
   "outputs": [],
   "source": [
    "# Parameters\n",
    "year = 2020\n",
    "colworked = \"PlatformWorkedWith\"\n",
    "colwanted = \"PlatformDesireNextYear\"\n",
    "currency = \"CurrencySymbol\"\n",
    "salary = \"CompTotal\"\n",
    "salaryType = \"CompFreq\"\n",
    "category = \"Platforms\"\n"
   ]
  },
  {
   "cell_type": "markdown",
   "id": "permanent-surname",
   "metadata": {
    "papermill": {
     "duration": 0.011812,
     "end_time": "2022-06-06T00:50:00.825369",
     "exception": false,
     "start_time": "2022-06-06T00:50:00.813557",
     "status": "completed"
    },
    "tags": []
   },
   "source": [
    "Cargamos los datos y mostramos su contenido"
   ]
  },
  {
   "cell_type": "code",
   "execution_count": 5,
   "id": "metric-workstation",
   "metadata": {
    "execution": {
     "iopub.execute_input": "2022-06-06T00:50:00.868897Z",
     "iopub.status.busy": "2022-06-06T00:50:00.867926Z",
     "iopub.status.idle": "2022-06-06T00:50:02.360200Z",
     "shell.execute_reply": "2022-06-06T00:50:02.360579Z"
    },
    "papermill": {
     "duration": 1.52282,
     "end_time": "2022-06-06T00:50:02.360757",
     "exception": false,
     "start_time": "2022-06-06T00:50:00.837937",
     "status": "completed"
    },
    "tags": []
   },
   "outputs": [],
   "source": [
    "\n",
    "zf = zipfile.ZipFile(f'../surveys/stack-overflow-developer-survey-{year}.zip') \n",
    "devs = pd.read_csv(zf.open('survey_results_public.csv'))\n",
    "# Cargamos los ratios de conversion de las monedas a 1 de Diciembre de cada año.\n",
    "with open(f'../rates/rates-{year}.json', 'r') as f:\n",
    "  data = json.loads(f.read())\n",
    "rates = pd.json_normalize(data['rates']).transpose()"
   ]
  },
  {
   "cell_type": "markdown",
   "id": "endless-investment",
   "metadata": {
    "papermill": {
     "duration": 0.013058,
     "end_time": "2022-06-06T00:50:02.387336",
     "exception": false,
     "start_time": "2022-06-06T00:50:02.374278",
     "status": "completed"
    },
    "tags": []
   },
   "source": [
    "Eliminamos los nulos de las dos  propiedades que nos intersan"
   ]
  },
  {
   "cell_type": "code",
   "execution_count": 6,
   "id": "saved-margin",
   "metadata": {
    "execution": {
     "iopub.execute_input": "2022-06-06T00:50:02.433640Z",
     "iopub.status.busy": "2022-06-06T00:50:02.427227Z",
     "iopub.status.idle": "2022-06-06T00:50:02.441378Z",
     "shell.execute_reply": "2022-06-06T00:50:02.441799Z"
    },
    "papermill": {
     "duration": 0.039506,
     "end_time": "2022-06-06T00:50:02.441957",
     "exception": false,
     "start_time": "2022-06-06T00:50:02.402451",
     "status": "completed"
    },
    "tags": []
   },
   "outputs": [],
   "source": [
    "devs[colworked] = devs[colworked].fillna(\"\")\n",
    "devs[colwanted] = devs[colwanted].fillna(\"\")\n",
    "devs[salary]= devs[salary].replace(\"nan\", np.NaN)\n",
    "devs[salary]= pd.to_numeric(devs[salary], errors='coerce')"
   ]
  },
  {
   "cell_type": "code",
   "execution_count": 7,
   "id": "dominant-colorado",
   "metadata": {
    "execution": {
     "iopub.execute_input": "2022-06-06T00:50:02.473880Z",
     "iopub.status.busy": "2022-06-06T00:50:02.473183Z",
     "iopub.status.idle": "2022-06-06T00:50:04.205679Z",
     "shell.execute_reply": "2022-06-06T00:50:04.206134Z"
    },
    "papermill": {
     "duration": 1.753458,
     "end_time": "2022-06-06T00:50:04.206332",
     "exception": false,
     "start_time": "2022-06-06T00:50:02.452874",
     "status": "completed"
    },
    "tags": []
   },
   "outputs": [],
   "source": [
    "lang_worked = devs[colworked].str.replace(' ', '').str.get_dummies(sep=';')\n",
    "lang_want = devs[colwanted].str.replace(' ', '').str.get_dummies(sep=';')"
   ]
  },
  {
   "cell_type": "markdown",
   "id": "center-collins",
   "metadata": {
    "papermill": {
     "duration": 0.019552,
     "end_time": "2022-06-06T00:50:04.243992",
     "exception": false,
     "start_time": "2022-06-06T00:50:04.224440",
     "status": "completed"
    },
    "tags": []
   },
   "source": [
    "Se nivela la compensacion para obtener el valor anual aproximado en USD, aplicando el cambio de divisa cargado del año"
   ]
  },
  {
   "cell_type": "code",
   "execution_count": 8,
   "id": "olympic-virtue",
   "metadata": {
    "execution": {
     "iopub.execute_input": "2022-06-06T00:50:04.298700Z",
     "iopub.status.busy": "2022-06-06T00:50:04.293632Z",
     "iopub.status.idle": "2022-06-06T00:50:05.766759Z",
     "shell.execute_reply": "2022-06-06T00:50:05.765631Z"
    },
    "papermill": {
     "duration": 1.498445,
     "end_time": "2022-06-06T00:50:05.767061",
     "exception": false,
     "start_time": "2022-06-06T00:50:04.268616",
     "status": "completed"
    },
    "tags": []
   },
   "outputs": [],
   "source": [
    "if currency:\n",
    "    devs[currency] = devs[currency].str[:3]\n",
    "    devs = pd.merge(devs, rates, left_on=currency, right_index=True)\n",
    "    devs['CompTotalUSD'] = devs.apply(comp_level, axis=1)\n",
    "else:\n",
    "    devs['CompTotalUSD'] = devs[salary]\n"
   ]
  },
  {
   "cell_type": "markdown",
   "id": "under-massachusetts",
   "metadata": {
    "papermill": {
     "duration": 0.026281,
     "end_time": "2022-06-06T00:50:05.816814",
     "exception": false,
     "start_time": "2022-06-06T00:50:05.790533",
     "status": "completed"
    },
    "tags": []
   },
   "source": [
    "Obtenemos el dataframe con los distintos lenguajes y su compensacion"
   ]
  },
  {
   "cell_type": "code",
   "execution_count": 9,
   "id": "israeli-church",
   "metadata": {
    "execution": {
     "iopub.execute_input": "2022-06-06T00:50:05.858214Z",
     "iopub.status.busy": "2022-06-06T00:50:05.857738Z",
     "iopub.status.idle": "2022-06-06T00:50:05.900077Z",
     "shell.execute_reply": "2022-06-06T00:50:05.899617Z"
    },
    "papermill": {
     "duration": 0.063038,
     "end_time": "2022-06-06T00:50:05.900224",
     "exception": false,
     "start_time": "2022-06-06T00:50:05.837186",
     "status": "completed"
    },
    "tags": []
   },
   "outputs": [],
   "source": [
    "comps = lang_worked.multiply( devs['CompTotalUSD']/1000, axis=\"index\").round(decimals=0).replace(0, np.NaN).median().astype('int')"
   ]
  },
  {
   "cell_type": "markdown",
   "id": "corresponding-breathing",
   "metadata": {
    "papermill": {
     "duration": 0.014994,
     "end_time": "2022-06-06T00:50:05.930896",
     "exception": false,
     "start_time": "2022-06-06T00:50:05.915902",
     "status": "completed"
    },
    "tags": []
   },
   "source": [
    "Calculamos el porcentaje de uso de cada lenguaje respecto del total.\n",
    "Como vamos a comparar años distintos con encuestados distintos por año, el porcentaje anual es una forma de nivelar y poder realizar la comparacion."
   ]
  },
  {
   "cell_type": "code",
   "execution_count": 10,
   "id": "deluxe-position",
   "metadata": {
    "execution": {
     "iopub.execute_input": "2022-06-06T00:50:05.968243Z",
     "iopub.status.busy": "2022-06-06T00:50:05.967450Z",
     "iopub.status.idle": "2022-06-06T00:50:05.974342Z",
     "shell.execute_reply": "2022-06-06T00:50:05.973843Z"
    },
    "papermill": {
     "duration": 0.025105,
     "end_time": "2022-06-06T00:50:05.974472",
     "exception": false,
     "start_time": "2022-06-06T00:50:05.949367",
     "status": "completed"
    },
    "tags": []
   },
   "outputs": [],
   "source": [
    "worked = lang_worked.sum() / len(lang_worked)\n",
    "wanted = lang_want.sum() / len(lang_want)"
   ]
  },
  {
   "cell_type": "markdown",
   "id": "american-rubber",
   "metadata": {
    "papermill": {
     "duration": 0.011517,
     "end_time": "2022-06-06T00:50:05.997523",
     "exception": false,
     "start_time": "2022-06-06T00:50:05.986006",
     "status": "completed"
    },
    "tags": []
   },
   "source": [
    "Unimos los dataframes de lenguajes trabajados en el año, lenguajes en los que se quiere trabajar, la compensacion y el año."
   ]
  },
  {
   "cell_type": "code",
   "execution_count": 11,
   "id": "quick-skirt",
   "metadata": {
    "execution": {
     "iopub.execute_input": "2022-06-06T00:50:06.035700Z",
     "iopub.status.busy": "2022-06-06T00:50:06.035207Z",
     "iopub.status.idle": "2022-06-06T00:50:06.038239Z",
     "shell.execute_reply": "2022-06-06T00:50:06.037367Z"
    },
    "papermill": {
     "duration": 0.02929,
     "end_time": "2022-06-06T00:50:06.038460",
     "exception": false,
     "start_time": "2022-06-06T00:50:06.009170",
     "status": "completed"
    },
    "tags": []
   },
   "outputs": [],
   "source": [
    "w_df = pd.DataFrame(worked, columns= ['Worked'])\n",
    "w_df['Worked_per'] = (w_df['Worked'] * 100).round(1)\n",
    "wa_df = pd.DataFrame(wanted, columns= ['Wanted'])\n",
    "wa_df['Wanted_per'] = (w_df['Worked'] * 100).round(1)\n",
    "langs = pd.concat([w_df, wa_df, comps], axis=1)\n",
    "langs['Year'] = year\n",
    "langs.rename(columns={0: \"Salary\"}, inplace = True)\n",
    "langs['Category'] = category"
   ]
  },
  {
   "cell_type": "markdown",
   "id": "clean-holocaust",
   "metadata": {
    "papermill": {
     "duration": 0.01267,
     "end_time": "2022-06-06T00:50:06.065241",
     "exception": false,
     "start_time": "2022-06-06T00:50:06.052571",
     "status": "completed"
    },
    "tags": []
   },
   "source": [
    "Exportamos los datos procesados del año."
   ]
  },
  {
   "cell_type": "code",
   "execution_count": 12,
   "id": "specific-delhi",
   "metadata": {
    "execution": {
     "iopub.execute_input": "2022-06-06T00:50:06.099699Z",
     "iopub.status.busy": "2022-06-06T00:50:06.099033Z",
     "iopub.status.idle": "2022-06-06T00:50:06.104274Z",
     "shell.execute_reply": "2022-06-06T00:50:06.104689Z"
    },
    "papermill": {
     "duration": 0.025136,
     "end_time": "2022-06-06T00:50:06.104866",
     "exception": false,
     "start_time": "2022-06-06T00:50:06.079730",
     "status": "completed"
    },
    "tags": []
   },
   "outputs": [],
   "source": [
    "langs.to_csv(f'../out/{year}_{category}.csv', index=True, index_label='Language')"
   ]
  }
 ],
 "metadata": {
  "celltoolbar": "Tags",
  "interpreter": {
   "hash": "9e4d46cb2e7439cd377379e4187049771cc0b6089dc8d4ad323c0b3c23302069"
  },
  "kernelspec": {
   "display_name": "Python 3 (ipykernel)",
   "language": "python",
   "name": "python3"
  },
  "language_info": {
   "codemirror_mode": {
    "name": "ipython",
    "version": 3
   },
   "file_extension": ".py",
   "mimetype": "text/x-python",
   "name": "python",
   "nbconvert_exporter": "python",
   "pygments_lexer": "ipython3",
   "version": "3.9.1"
  },
  "papermill": {
   "default_parameters": {},
   "duration": 6.723429,
   "end_time": "2022-06-06T00:50:06.426964",
   "environment_variables": {},
   "exception": null,
   "input_path": "data/jupyters/so_template_2017_2021.ipynb",
   "output_path": "data/jupyters/2020_Platforms.ipynb",
   "parameters": {
    "category": "Platforms",
    "colwanted": "PlatformDesireNextYear",
    "colworked": "PlatformWorkedWith",
    "currency": "CurrencySymbol",
    "salary": "CompTotal",
    "salaryType": "CompFreq",
    "year": 2020
   },
   "start_time": "2022-06-06T00:49:59.703535",
   "version": "2.3.4"
  }
 },
 "nbformat": 4,
 "nbformat_minor": 5
}