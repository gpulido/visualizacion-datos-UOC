{
 "cells": [
  {
   "cell_type": "code",
   "execution_count": 1,
   "id": "egyptian-breakdown",
   "metadata": {
    "execution": {
     "iopub.execute_input": "2022-06-06T00:51:54.338049Z",
     "iopub.status.busy": "2022-06-06T00:51:54.337263Z",
     "iopub.status.idle": "2022-06-06T00:51:54.565737Z",
     "shell.execute_reply": "2022-06-06T00:51:54.565266Z"
    },
    "papermill": {
     "duration": 0.243892,
     "end_time": "2022-06-06T00:51:54.565888",
     "exception": false,
     "start_time": "2022-06-06T00:51:54.321996",
     "status": "completed"
    },
    "tags": []
   },
   "outputs": [],
   "source": [
    "#!pip install matplotlib-venn\n",
    "import numpy as np\n",
    "import pandas as pd\n",
    "import zipfile\n",
    "import json"
   ]
  },
  {
   "cell_type": "code",
   "execution_count": 2,
   "id": "concerned-subscriber",
   "metadata": {
    "execution": {
     "iopub.execute_input": "2022-06-06T00:51:54.615000Z",
     "iopub.status.busy": "2022-06-06T00:51:54.614000Z",
     "iopub.status.idle": "2022-06-06T00:51:54.616644Z",
     "shell.execute_reply": "2022-06-06T00:51:54.615968Z"
    },
    "papermill": {
     "duration": 0.033012,
     "end_time": "2022-06-06T00:51:54.616867",
     "exception": false,
     "start_time": "2022-06-06T00:51:54.583855",
     "status": "completed"
    },
    "tags": []
   },
   "outputs": [],
   "source": [
    "comp = {'Monthly': 12, 'Yearly': 1, 'Weekly':52}\n",
    "\n",
    "def comp_level(x):\n",
    "    if x[salaryType] != x[salaryType]:\n",
    "        return x[salaryType]   \n",
    "    return x[salary] * comp[x[salaryType]] / x[0]"
   ]
  },
  {
   "cell_type": "code",
   "execution_count": 3,
   "id": "worthy-video",
   "metadata": {
    "execution": {
     "iopub.execute_input": "2022-06-06T00:51:54.661332Z",
     "iopub.status.busy": "2022-06-06T00:51:54.660531Z",
     "iopub.status.idle": "2022-06-06T00:51:54.662183Z",
     "shell.execute_reply": "2022-06-06T00:51:54.662809Z"
    },
    "papermill": {
     "duration": 0.025801,
     "end_time": "2022-06-06T00:51:54.663087",
     "exception": false,
     "start_time": "2022-06-06T00:51:54.637286",
     "status": "completed"
    },
    "tags": [
     "parameters"
    ]
   },
   "outputs": [],
   "source": [
    "year = 2021\n",
    "category= 'Programming'\n",
    "colworked = 'LanguageHaveWorkedWith'\n",
    "colwanted = 'LanguageWantToWorkWith'\n",
    "currency = 'Currency'\n",
    "salary = \"CompTotal\"\n",
    "salaryType = \"CompFreq\""
   ]
  },
  {
   "cell_type": "code",
   "execution_count": 4,
   "id": "competitive-sally",
   "metadata": {
    "execution": {
     "iopub.execute_input": "2022-06-06T00:51:54.702224Z",
     "iopub.status.busy": "2022-06-06T00:51:54.701296Z",
     "iopub.status.idle": "2022-06-06T00:51:54.704042Z",
     "shell.execute_reply": "2022-06-06T00:51:54.703485Z"
    },
    "papermill": {
     "duration": 0.020887,
     "end_time": "2022-06-06T00:51:54.704175",
     "exception": false,
     "start_time": "2022-06-06T00:51:54.683288",
     "status": "completed"
    },
    "tags": [
     "injected-parameters"
    ]
   },
   "outputs": [],
   "source": [
    "# Parameters\n",
    "year = 2017\n",
    "colworked = \"HaveWorkedFramework\"\n",
    "colwanted = \"WantWorkFramework\"\n",
    "currency = None\n",
    "salary = \"Salary\"\n",
    "salaryType = \"SalaryType\"\n",
    "category = \"Webframe\"\n"
   ]
  },
  {
   "cell_type": "markdown",
   "id": "operating-tourist",
   "metadata": {
    "papermill": {
     "duration": 0.012605,
     "end_time": "2022-06-06T00:51:54.727535",
     "exception": false,
     "start_time": "2022-06-06T00:51:54.714930",
     "status": "completed"
    },
    "tags": []
   },
   "source": [
    "Cargamos los datos y mostramos su contenido"
   ]
  },
  {
   "cell_type": "code",
   "execution_count": 5,
   "id": "thorough-nepal",
   "metadata": {
    "execution": {
     "iopub.execute_input": "2022-06-06T00:51:54.756523Z",
     "iopub.status.busy": "2022-06-06T00:51:54.756010Z",
     "iopub.status.idle": "2022-06-06T00:51:56.415466Z",
     "shell.execute_reply": "2022-06-06T00:51:56.415855Z"
    },
    "papermill": {
     "duration": 1.676301,
     "end_time": "2022-06-06T00:51:56.416014",
     "exception": false,
     "start_time": "2022-06-06T00:51:54.739713",
     "status": "completed"
    },
    "tags": []
   },
   "outputs": [],
   "source": [
    "\n",
    "zf = zipfile.ZipFile(f'../surveys/stack-overflow-developer-survey-{year}.zip') \n",
    "devs = pd.read_csv(zf.open('survey_results_public.csv'))\n",
    "# Cargamos los ratios de conversion de las monedas a 1 de Diciembre de cada año.\n",
    "with open(f'../rates/rates-{year}.json', 'r') as f:\n",
    "  data = json.loads(f.read())\n",
    "rates = pd.json_normalize(data['rates']).transpose()"
   ]
  },
  {
   "cell_type": "markdown",
   "id": "musical-philip",
   "metadata": {
    "papermill": {
     "duration": 0.012736,
     "end_time": "2022-06-06T00:51:56.441234",
     "exception": false,
     "start_time": "2022-06-06T00:51:56.428498",
     "status": "completed"
    },
    "tags": []
   },
   "source": [
    "Eliminamos los nulos de las dos  propiedades que nos intersan"
   ]
  },
  {
   "cell_type": "code",
   "execution_count": 6,
   "id": "immune-summit",
   "metadata": {
    "execution": {
     "iopub.execute_input": "2022-06-06T00:51:56.483128Z",
     "iopub.status.busy": "2022-06-06T00:51:56.478878Z",
     "iopub.status.idle": "2022-06-06T00:51:56.488801Z",
     "shell.execute_reply": "2022-06-06T00:51:56.488304Z"
    },
    "papermill": {
     "duration": 0.030759,
     "end_time": "2022-06-06T00:51:56.488939",
     "exception": false,
     "start_time": "2022-06-06T00:51:56.458180",
     "status": "completed"
    },
    "tags": []
   },
   "outputs": [],
   "source": [
    "devs[colworked] = devs[colworked].fillna(\"\")\n",
    "devs[colwanted] = devs[colwanted].fillna(\"\")\n",
    "devs[salary]= devs[salary].replace(\"nan\", np.NaN)\n",
    "devs[salary]= pd.to_numeric(devs[salary], errors='coerce')"
   ]
  },
  {
   "cell_type": "code",
   "execution_count": 7,
   "id": "dedicated-match",
   "metadata": {
    "execution": {
     "iopub.execute_input": "2022-06-06T00:51:56.519313Z",
     "iopub.status.busy": "2022-06-06T00:51:56.516616Z",
     "iopub.status.idle": "2022-06-06T00:51:57.427223Z",
     "shell.execute_reply": "2022-06-06T00:51:57.426405Z"
    },
    "papermill": {
     "duration": 0.926949,
     "end_time": "2022-06-06T00:51:57.427367",
     "exception": false,
     "start_time": "2022-06-06T00:51:56.500418",
     "status": "completed"
    },
    "tags": []
   },
   "outputs": [],
   "source": [
    "lang_worked = devs[colworked].str.replace(' ', '').str.get_dummies(sep=';')\n",
    "lang_want = devs[colwanted].str.replace(' ', '').str.get_dummies(sep=';')"
   ]
  },
  {
   "cell_type": "markdown",
   "id": "productive-village",
   "metadata": {
    "papermill": {
     "duration": 0.013243,
     "end_time": "2022-06-06T00:51:57.454336",
     "exception": false,
     "start_time": "2022-06-06T00:51:57.441093",
     "status": "completed"
    },
    "tags": []
   },
   "source": [
    "Se nivela la compensacion para obtener el valor anual aproximado en USD, aplicando el cambio de divisa cargado del año"
   ]
  },
  {
   "cell_type": "code",
   "execution_count": 8,
   "id": "tamil-granny",
   "metadata": {
    "execution": {
     "iopub.execute_input": "2022-06-06T00:51:57.489948Z",
     "iopub.status.busy": "2022-06-06T00:51:57.489012Z",
     "iopub.status.idle": "2022-06-06T00:51:57.491194Z",
     "shell.execute_reply": "2022-06-06T00:51:57.491762Z"
    },
    "papermill": {
     "duration": 0.020416,
     "end_time": "2022-06-06T00:51:57.491933",
     "exception": false,
     "start_time": "2022-06-06T00:51:57.471517",
     "status": "completed"
    },
    "tags": []
   },
   "outputs": [],
   "source": [
    "if currency:\n",
    "    devs[currency] = devs[currency].str[:3]\n",
    "    devs = pd.merge(devs, rates, left_on=currency, right_index=True)\n",
    "    devs['CompTotalUSD'] = devs.apply(comp_level, axis=1)\n",
    "else:\n",
    "    devs['CompTotalUSD'] = devs[salary]\n"
   ]
  },
  {
   "cell_type": "markdown",
   "id": "convertible-editor",
   "metadata": {
    "papermill": {
     "duration": 0.011528,
     "end_time": "2022-06-06T00:51:57.515880",
     "exception": false,
     "start_time": "2022-06-06T00:51:57.504352",
     "status": "completed"
    },
    "tags": []
   },
   "source": [
    "Obtenemos el dataframe con los distintos lenguajes y su compensacion"
   ]
  },
  {
   "cell_type": "code",
   "execution_count": 9,
   "id": "practical-platinum",
   "metadata": {
    "execution": {
     "iopub.execute_input": "2022-06-06T00:51:57.545650Z",
     "iopub.status.busy": "2022-06-06T00:51:57.544986Z",
     "iopub.status.idle": "2022-06-06T00:51:57.564140Z",
     "shell.execute_reply": "2022-06-06T00:51:57.563636Z"
    },
    "papermill": {
     "duration": 0.03707,
     "end_time": "2022-06-06T00:51:57.564278",
     "exception": false,
     "start_time": "2022-06-06T00:51:57.527208",
     "status": "completed"
    },
    "tags": []
   },
   "outputs": [],
   "source": [
    "comps = lang_worked.multiply( devs['CompTotalUSD']/1000, axis=\"index\").round(decimals=0).replace(0, np.NaN).median().astype('int')"
   ]
  },
  {
   "cell_type": "markdown",
   "id": "described-labor",
   "metadata": {
    "papermill": {
     "duration": 0.011869,
     "end_time": "2022-06-06T00:51:57.588329",
     "exception": false,
     "start_time": "2022-06-06T00:51:57.576460",
     "status": "completed"
    },
    "tags": []
   },
   "source": [
    "Calculamos el porcentaje de uso de cada lenguaje respecto del total.\n",
    "Como vamos a comparar años distintos con encuestados distintos por año, el porcentaje anual es una forma de nivelar y poder realizar la comparacion."
   ]
  },
  {
   "cell_type": "code",
   "execution_count": 10,
   "id": "directed-composer",
   "metadata": {
    "execution": {
     "iopub.execute_input": "2022-06-06T00:51:57.620971Z",
     "iopub.status.busy": "2022-06-06T00:51:57.620491Z",
     "iopub.status.idle": "2022-06-06T00:51:57.624781Z",
     "shell.execute_reply": "2022-06-06T00:51:57.624311Z"
    },
    "papermill": {
     "duration": 0.021577,
     "end_time": "2022-06-06T00:51:57.624920",
     "exception": false,
     "start_time": "2022-06-06T00:51:57.603343",
     "status": "completed"
    },
    "tags": []
   },
   "outputs": [],
   "source": [
    "worked = lang_worked.sum() / len(lang_worked)\n",
    "wanted = lang_want.sum() / len(lang_want)"
   ]
  },
  {
   "cell_type": "markdown",
   "id": "honey-bradley",
   "metadata": {
    "papermill": {
     "duration": 0.013561,
     "end_time": "2022-06-06T00:51:57.650191",
     "exception": false,
     "start_time": "2022-06-06T00:51:57.636630",
     "status": "completed"
    },
    "tags": []
   },
   "source": [
    "Unimos los dataframes de lenguajes trabajados en el año, lenguajes en los que se quiere trabajar, la compensacion y el año."
   ]
  },
  {
   "cell_type": "code",
   "execution_count": 11,
   "id": "mobile-gravity",
   "metadata": {
    "execution": {
     "iopub.execute_input": "2022-06-06T00:51:57.690091Z",
     "iopub.status.busy": "2022-06-06T00:51:57.689605Z",
     "iopub.status.idle": "2022-06-06T00:51:57.693549Z",
     "shell.execute_reply": "2022-06-06T00:51:57.692442Z"
    },
    "papermill": {
     "duration": 0.030748,
     "end_time": "2022-06-06T00:51:57.693819",
     "exception": false,
     "start_time": "2022-06-06T00:51:57.663071",
     "status": "completed"
    },
    "tags": []
   },
   "outputs": [],
   "source": [
    "w_df = pd.DataFrame(worked, columns= ['Worked'])\n",
    "w_df['Worked_per'] = (w_df['Worked'] * 100).round(1)\n",
    "wa_df = pd.DataFrame(wanted, columns= ['Wanted'])\n",
    "wa_df['Wanted_per'] = (w_df['Worked'] * 100).round(1)\n",
    "langs = pd.concat([w_df, wa_df, comps], axis=1)\n",
    "langs['Year'] = year\n",
    "langs.rename(columns={0: \"Salary\"}, inplace = True)\n",
    "langs['Category'] = category"
   ]
  },
  {
   "cell_type": "markdown",
   "id": "crude-casting",
   "metadata": {
    "papermill": {
     "duration": 0.012684,
     "end_time": "2022-06-06T00:51:57.719900",
     "exception": false,
     "start_time": "2022-06-06T00:51:57.707216",
     "status": "completed"
    },
    "tags": []
   },
   "source": [
    "Exportamos los datos procesados del año."
   ]
  },
  {
   "cell_type": "code",
   "execution_count": 12,
   "id": "minimal-supplier",
   "metadata": {
    "execution": {
     "iopub.execute_input": "2022-06-06T00:51:57.754190Z",
     "iopub.status.busy": "2022-06-06T00:51:57.753667Z",
     "iopub.status.idle": "2022-06-06T00:51:57.758187Z",
     "shell.execute_reply": "2022-06-06T00:51:57.758562Z"
    },
    "papermill": {
     "duration": 0.02309,
     "end_time": "2022-06-06T00:51:57.758722",
     "exception": false,
     "start_time": "2022-06-06T00:51:57.735632",
     "status": "completed"
    },
    "tags": []
   },
   "outputs": [],
   "source": [
    "langs.to_csv(f'../out/{year}_{category}.csv', index=True, index_label='Language')"
   ]
  }
 ],
 "metadata": {
  "celltoolbar": "Tags",
  "interpreter": {
   "hash": "9e4d46cb2e7439cd377379e4187049771cc0b6089dc8d4ad323c0b3c23302069"
  },
  "kernelspec": {
   "display_name": "Python 3 (ipykernel)",
   "language": "python",
   "name": "python3"
  },
  "language_info": {
   "codemirror_mode": {
    "name": "ipython",
    "version": 3
   },
   "file_extension": ".py",
   "mimetype": "text/x-python",
   "name": "python",
   "nbconvert_exporter": "python",
   "pygments_lexer": "ipython3",
   "version": "3.9.1"
  },
  "papermill": {
   "default_parameters": {},
   "duration": 4.498977,
   "end_time": "2022-06-06T00:51:58.080647",
   "environment_variables": {},
   "exception": null,
   "input_path": "data/jupyters/so_template_2017_2021.ipynb",
   "output_path": "data/jupyters/2017_Webframe.ipynb",
   "parameters": {
    "category": "Webframe",
    "colwanted": "WantWorkFramework",
    "colworked": "HaveWorkedFramework",
    "currency": null,
    "salary": "Salary",
    "salaryType": "SalaryType",
    "year": 2017
   },
   "start_time": "2022-06-06T00:51:53.581670",
   "version": "2.3.4"
  }
 },
 "nbformat": 4,
 "nbformat_minor": 5
}