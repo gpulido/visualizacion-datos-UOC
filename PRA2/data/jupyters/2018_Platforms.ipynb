{
 "cells": [
  {
   "cell_type": "code",
   "execution_count": 1,
   "id": "floating-colombia",
   "metadata": {
    "execution": {
     "iopub.execute_input": "2022-06-06T00:51:31.821238Z",
     "iopub.status.busy": "2022-06-06T00:51:31.820732Z",
     "iopub.status.idle": "2022-06-06T00:51:32.036973Z",
     "shell.execute_reply": "2022-06-06T00:51:32.036520Z"
    },
    "papermill": {
     "duration": 0.237274,
     "end_time": "2022-06-06T00:51:32.037115",
     "exception": false,
     "start_time": "2022-06-06T00:51:31.799841",
     "status": "completed"
    },
    "tags": []
   },
   "outputs": [],
   "source": [
    "#!pip install matplotlib-venn\n",
    "import numpy as np\n",
    "import pandas as pd\n",
    "import zipfile\n",
    "import json"
   ]
  },
  {
   "cell_type": "code",
   "execution_count": 2,
   "id": "behavioral-olive",
   "metadata": {
    "execution": {
     "iopub.execute_input": "2022-06-06T00:51:32.067092Z",
     "iopub.status.busy": "2022-06-06T00:51:32.066294Z",
     "iopub.status.idle": "2022-06-06T00:51:32.068800Z",
     "shell.execute_reply": "2022-06-06T00:51:32.069513Z"
    },
    "papermill": {
     "duration": 0.020167,
     "end_time": "2022-06-06T00:51:32.069772",
     "exception": false,
     "start_time": "2022-06-06T00:51:32.049605",
     "status": "completed"
    },
    "tags": []
   },
   "outputs": [],
   "source": [
    "comp = {'Monthly': 12, 'Yearly': 1, 'Weekly':52}\n",
    "\n",
    "def comp_level(x):\n",
    "    if x[salaryType] != x[salaryType]:\n",
    "        return x[salaryType]   \n",
    "    return x[salary] * comp[x[salaryType]] / x[0]"
   ]
  },
  {
   "cell_type": "code",
   "execution_count": 3,
   "id": "composed-likelihood",
   "metadata": {
    "execution": {
     "iopub.execute_input": "2022-06-06T00:51:32.100050Z",
     "iopub.status.busy": "2022-06-06T00:51:32.099540Z",
     "iopub.status.idle": "2022-06-06T00:51:32.101103Z",
     "shell.execute_reply": "2022-06-06T00:51:32.101470Z"
    },
    "papermill": {
     "duration": 0.019107,
     "end_time": "2022-06-06T00:51:32.101628",
     "exception": false,
     "start_time": "2022-06-06T00:51:32.082521",
     "status": "completed"
    },
    "tags": [
     "parameters"
    ]
   },
   "outputs": [],
   "source": [
    "year = 2021\n",
    "category= 'Programming'\n",
    "colworked = 'LanguageHaveWorkedWith'\n",
    "colwanted = 'LanguageWantToWorkWith'\n",
    "currency = 'Currency'\n",
    "salary = \"CompTotal\"\n",
    "salaryType = \"CompFreq\""
   ]
  },
  {
   "cell_type": "code",
   "execution_count": 4,
   "id": "southwest-piece",
   "metadata": {
    "execution": {
     "iopub.execute_input": "2022-06-06T00:51:32.134265Z",
     "iopub.status.busy": "2022-06-06T00:51:32.133766Z",
     "iopub.status.idle": "2022-06-06T00:51:32.136416Z",
     "shell.execute_reply": "2022-06-06T00:51:32.135854Z"
    },
    "papermill": {
     "duration": 0.023831,
     "end_time": "2022-06-06T00:51:32.136539",
     "exception": false,
     "start_time": "2022-06-06T00:51:32.112708",
     "status": "completed"
    },
    "tags": [
     "injected-parameters"
    ]
   },
   "outputs": [],
   "source": [
    "# Parameters\n",
    "year = 2018\n",
    "colworked = \"PlatformWorkedWith\"\n",
    "colwanted = \"PlatformDesireNextYear\"\n",
    "currency = \"CurrencySymbol\"\n",
    "salary = \"Salary\"\n",
    "salaryType = \"SalaryType\"\n",
    "category = \"Platforms\"\n"
   ]
  },
  {
   "cell_type": "markdown",
   "id": "opening-identifier",
   "metadata": {
    "papermill": {
     "duration": 0.01647,
     "end_time": "2022-06-06T00:51:32.163611",
     "exception": false,
     "start_time": "2022-06-06T00:51:32.147141",
     "status": "completed"
    },
    "tags": []
   },
   "source": [
    "Cargamos los datos y mostramos su contenido"
   ]
  },
  {
   "cell_type": "code",
   "execution_count": 5,
   "id": "perceived-accordance",
   "metadata": {
    "execution": {
     "iopub.execute_input": "2022-06-06T00:51:32.192621Z",
     "iopub.status.busy": "2022-06-06T00:51:32.192128Z",
     "iopub.status.idle": "2022-06-06T00:51:35.250154Z",
     "shell.execute_reply": "2022-06-06T00:51:35.249741Z"
    },
    "papermill": {
     "duration": 3.073915,
     "end_time": "2022-06-06T00:51:35.250286",
     "exception": false,
     "start_time": "2022-06-06T00:51:32.176371",
     "status": "completed"
    },
    "tags": []
   },
   "outputs": [
    {
     "name": "stderr",
     "output_type": "stream",
     "text": [
      "/home/gpt/app/anaconda3/envs/uoc20202pec1/lib/python3.9/site-packages/IPython/core/interactiveshell.py:3165: DtypeWarning: Columns (8,12,13,14,15,16,50,51,52,53,55,56,57,58,59,60,61,62,63,64,65,66,67,68,69,70,71,72,73,74,75,76,77,78,79,80,81,82,83,84,85,93,94,95,96,97,98,99,100,101,102,103,104,105,106,107,108,109,110,111,112,113,114,115,116,117,118,119,120,121,122,123,124,125,126,127,128) have mixed types.Specify dtype option on import or set low_memory=False.\n",
      "  has_raised = await self.run_ast_nodes(code_ast.body, cell_name,\n"
     ]
    }
   ],
   "source": [
    "\n",
    "zf = zipfile.ZipFile(f'../surveys/stack-overflow-developer-survey-{year}.zip') \n",
    "devs = pd.read_csv(zf.open('survey_results_public.csv'))\n",
    "# Cargamos los ratios de conversion de las monedas a 1 de Diciembre de cada año.\n",
    "with open(f'../rates/rates-{year}.json', 'r') as f:\n",
    "  data = json.loads(f.read())\n",
    "rates = pd.json_normalize(data['rates']).transpose()"
   ]
  },
  {
   "cell_type": "markdown",
   "id": "multiple-freeze",
   "metadata": {
    "papermill": {
     "duration": 0.022736,
     "end_time": "2022-06-06T00:51:35.287300",
     "exception": false,
     "start_time": "2022-06-06T00:51:35.264564",
     "status": "completed"
    },
    "tags": []
   },
   "source": [
    "Eliminamos los nulos de las dos  propiedades que nos intersan"
   ]
  },
  {
   "cell_type": "code",
   "execution_count": 6,
   "id": "tired-punishment",
   "metadata": {
    "execution": {
     "iopub.execute_input": "2022-06-06T00:51:35.333564Z",
     "iopub.status.busy": "2022-06-06T00:51:35.332769Z",
     "iopub.status.idle": "2022-06-06T00:51:35.449514Z",
     "shell.execute_reply": "2022-06-06T00:51:35.449075Z"
    },
    "papermill": {
     "duration": 0.143224,
     "end_time": "2022-06-06T00:51:35.449650",
     "exception": false,
     "start_time": "2022-06-06T00:51:35.306426",
     "status": "completed"
    },
    "tags": []
   },
   "outputs": [],
   "source": [
    "devs[colworked] = devs[colworked].fillna(\"\")\n",
    "devs[colwanted] = devs[colwanted].fillna(\"\")\n",
    "devs[salary]= devs[salary].replace(\"nan\", np.NaN)\n",
    "devs[salary]= pd.to_numeric(devs[salary], errors='coerce')"
   ]
  },
  {
   "cell_type": "code",
   "execution_count": 7,
   "id": "frequent-reproduction",
   "metadata": {
    "execution": {
     "iopub.execute_input": "2022-06-06T00:51:35.491257Z",
     "iopub.status.busy": "2022-06-06T00:51:35.484890Z",
     "iopub.status.idle": "2022-06-06T00:51:39.450117Z",
     "shell.execute_reply": "2022-06-06T00:51:39.449611Z"
    },
    "papermill": {
     "duration": 3.987597,
     "end_time": "2022-06-06T00:51:39.450249",
     "exception": false,
     "start_time": "2022-06-06T00:51:35.462652",
     "status": "completed"
    },
    "tags": []
   },
   "outputs": [],
   "source": [
    "lang_worked = devs[colworked].str.replace(' ', '').str.get_dummies(sep=';')\n",
    "lang_want = devs[colwanted].str.replace(' ', '').str.get_dummies(sep=';')"
   ]
  },
  {
   "cell_type": "markdown",
   "id": "accurate-implementation",
   "metadata": {
    "papermill": {
     "duration": 0.023796,
     "end_time": "2022-06-06T00:51:39.496862",
     "exception": false,
     "start_time": "2022-06-06T00:51:39.473066",
     "status": "completed"
    },
    "tags": []
   },
   "source": [
    "Se nivela la compensacion para obtener el valor anual aproximado en USD, aplicando el cambio de divisa cargado del año"
   ]
  },
  {
   "cell_type": "code",
   "execution_count": 8,
   "id": "later-thumbnail",
   "metadata": {
    "execution": {
     "iopub.execute_input": "2022-06-06T00:51:39.553286Z",
     "iopub.status.busy": "2022-06-06T00:51:39.537700Z",
     "iopub.status.idle": "2022-06-06T00:51:41.789472Z",
     "shell.execute_reply": "2022-06-06T00:51:41.788399Z"
    },
    "papermill": {
     "duration": 2.274964,
     "end_time": "2022-06-06T00:51:41.789747",
     "exception": false,
     "start_time": "2022-06-06T00:51:39.514783",
     "status": "completed"
    },
    "tags": []
   },
   "outputs": [],
   "source": [
    "if currency:\n",
    "    devs[currency] = devs[currency].str[:3]\n",
    "    devs = pd.merge(devs, rates, left_on=currency, right_index=True)\n",
    "    devs['CompTotalUSD'] = devs.apply(comp_level, axis=1)\n",
    "else:\n",
    "    devs['CompTotalUSD'] = devs[salary]\n"
   ]
  },
  {
   "cell_type": "markdown",
   "id": "tested-detail",
   "metadata": {
    "papermill": {
     "duration": 0.021503,
     "end_time": "2022-06-06T00:51:41.835995",
     "exception": false,
     "start_time": "2022-06-06T00:51:41.814492",
     "status": "completed"
    },
    "tags": []
   },
   "source": [
    "Obtenemos el dataframe con los distintos lenguajes y su compensacion"
   ]
  },
  {
   "cell_type": "code",
   "execution_count": 9,
   "id": "heavy-infrastructure",
   "metadata": {
    "execution": {
     "iopub.execute_input": "2022-06-06T00:51:41.871150Z",
     "iopub.status.busy": "2022-06-06T00:51:41.870646Z",
     "iopub.status.idle": "2022-06-06T00:51:41.948926Z",
     "shell.execute_reply": "2022-06-06T00:51:41.949315Z"
    },
    "papermill": {
     "duration": 0.097179,
     "end_time": "2022-06-06T00:51:41.949470",
     "exception": false,
     "start_time": "2022-06-06T00:51:41.852291",
     "status": "completed"
    },
    "tags": []
   },
   "outputs": [],
   "source": [
    "comps = lang_worked.multiply( devs['CompTotalUSD']/1000, axis=\"index\").round(decimals=0).replace(0, np.NaN).median().astype('int')"
   ]
  },
  {
   "cell_type": "markdown",
   "id": "apart-tulsa",
   "metadata": {
    "papermill": {
     "duration": 0.01479,
     "end_time": "2022-06-06T00:51:41.978164",
     "exception": false,
     "start_time": "2022-06-06T00:51:41.963374",
     "status": "completed"
    },
    "tags": []
   },
   "source": [
    "Calculamos el porcentaje de uso de cada lenguaje respecto del total.\n",
    "Como vamos a comparar años distintos con encuestados distintos por año, el porcentaje anual es una forma de nivelar y poder realizar la comparacion."
   ]
  },
  {
   "cell_type": "code",
   "execution_count": 10,
   "id": "nonprofit-classic",
   "metadata": {
    "execution": {
     "iopub.execute_input": "2022-06-06T00:51:42.011326Z",
     "iopub.status.busy": "2022-06-06T00:51:42.010608Z",
     "iopub.status.idle": "2022-06-06T00:51:42.018789Z",
     "shell.execute_reply": "2022-06-06T00:51:42.019185Z"
    },
    "papermill": {
     "duration": 0.025595,
     "end_time": "2022-06-06T00:51:42.019351",
     "exception": false,
     "start_time": "2022-06-06T00:51:41.993756",
     "status": "completed"
    },
    "tags": []
   },
   "outputs": [],
   "source": [
    "worked = lang_worked.sum() / len(lang_worked)\n",
    "wanted = lang_want.sum() / len(lang_want)"
   ]
  },
  {
   "cell_type": "markdown",
   "id": "viral-combat",
   "metadata": {
    "papermill": {
     "duration": 0.01227,
     "end_time": "2022-06-06T00:51:42.043655",
     "exception": false,
     "start_time": "2022-06-06T00:51:42.031385",
     "status": "completed"
    },
    "tags": []
   },
   "source": [
    "Unimos los dataframes de lenguajes trabajados en el año, lenguajes en los que se quiere trabajar, la compensacion y el año."
   ]
  },
  {
   "cell_type": "code",
   "execution_count": 11,
   "id": "remarkable-lucas",
   "metadata": {
    "execution": {
     "iopub.execute_input": "2022-06-06T00:51:42.079027Z",
     "iopub.status.busy": "2022-06-06T00:51:42.075370Z",
     "iopub.status.idle": "2022-06-06T00:51:42.085447Z",
     "shell.execute_reply": "2022-06-06T00:51:42.085036Z"
    },
    "papermill": {
     "duration": 0.030157,
     "end_time": "2022-06-06T00:51:42.085582",
     "exception": false,
     "start_time": "2022-06-06T00:51:42.055425",
     "status": "completed"
    },
    "tags": []
   },
   "outputs": [],
   "source": [
    "w_df = pd.DataFrame(worked, columns= ['Worked'])\n",
    "w_df['Worked_per'] = (w_df['Worked'] * 100).round(1)\n",
    "wa_df = pd.DataFrame(wanted, columns= ['Wanted'])\n",
    "wa_df['Wanted_per'] = (w_df['Worked'] * 100).round(1)\n",
    "langs = pd.concat([w_df, wa_df, comps], axis=1)\n",
    "langs['Year'] = year\n",
    "langs.rename(columns={0: \"Salary\"}, inplace = True)\n",
    "langs['Category'] = category"
   ]
  },
  {
   "cell_type": "markdown",
   "id": "regulated-bermuda",
   "metadata": {
    "papermill": {
     "duration": 0.012952,
     "end_time": "2022-06-06T00:51:42.111765",
     "exception": false,
     "start_time": "2022-06-06T00:51:42.098813",
     "status": "completed"
    },
    "tags": []
   },
   "source": [
    "Exportamos los datos procesados del año."
   ]
  },
  {
   "cell_type": "code",
   "execution_count": 12,
   "id": "defined-convergence",
   "metadata": {
    "execution": {
     "iopub.execute_input": "2022-06-06T00:51:42.143404Z",
     "iopub.status.busy": "2022-06-06T00:51:42.142588Z",
     "iopub.status.idle": "2022-06-06T00:51:42.147702Z",
     "shell.execute_reply": "2022-06-06T00:51:42.148123Z"
    },
    "papermill": {
     "duration": 0.022635,
     "end_time": "2022-06-06T00:51:42.148285",
     "exception": false,
     "start_time": "2022-06-06T00:51:42.125650",
     "status": "completed"
    },
    "tags": []
   },
   "outputs": [],
   "source": [
    "langs.to_csv(f'../out/{year}_{category}.csv', index=True, index_label='Language')"
   ]
  }
 ],
 "metadata": {
  "celltoolbar": "Tags",
  "interpreter": {
   "hash": "9e4d46cb2e7439cd377379e4187049771cc0b6089dc8d4ad323c0b3c23302069"
  },
  "kernelspec": {
   "display_name": "Python 3 (ipykernel)",
   "language": "python",
   "name": "python3"
  },
  "language_info": {
   "codemirror_mode": {
    "name": "ipython",
    "version": 3
   },
   "file_extension": ".py",
   "mimetype": "text/x-python",
   "name": "python",
   "nbconvert_exporter": "python",
   "pygments_lexer": "ipython3",
   "version": "3.9.1"
  },
  "papermill": {
   "default_parameters": {},
   "duration": 11.443716,
   "end_time": "2022-06-06T00:51:42.570059",
   "environment_variables": {},
   "exception": null,
   "input_path": "data/jupyters/so_template_2017_2021.ipynb",
   "output_path": "data/jupyters/2018_Platforms.ipynb",
   "parameters": {
    "category": "Platforms",
    "colwanted": "PlatformDesireNextYear",
    "colworked": "PlatformWorkedWith",
    "currency": "CurrencySymbol",
    "salary": "Salary",
    "salaryType": "SalaryType",
    "year": 2018
   },
   "start_time": "2022-06-06T00:51:31.126343",
   "version": "2.3.4"
  }
 },
 "nbformat": 4,
 "nbformat_minor": 5
}