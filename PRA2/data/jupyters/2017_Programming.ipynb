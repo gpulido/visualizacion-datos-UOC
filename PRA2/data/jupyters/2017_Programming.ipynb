{
 "cells": [
  {
   "cell_type": "code",
   "execution_count": 1,
   "id": "vocational-field",
   "metadata": {
    "execution": {
     "iopub.execute_input": "2022-06-06T00:51:43.366540Z",
     "iopub.status.busy": "2022-06-06T00:51:43.365675Z",
     "iopub.status.idle": "2022-06-06T00:51:43.584958Z",
     "shell.execute_reply": "2022-06-06T00:51:43.585342Z"
    },
    "papermill": {
     "duration": 0.238311,
     "end_time": "2022-06-06T00:51:43.585554",
     "exception": false,
     "start_time": "2022-06-06T00:51:43.347243",
     "status": "completed"
    },
    "tags": []
   },
   "outputs": [],
   "source": [
    "#!pip install matplotlib-venn\n",
    "import numpy as np\n",
    "import pandas as pd\n",
    "import zipfile\n",
    "import json"
   ]
  },
  {
   "cell_type": "code",
   "execution_count": 2,
   "id": "accomplished-laugh",
   "metadata": {
    "execution": {
     "iopub.execute_input": "2022-06-06T00:51:43.641451Z",
     "iopub.status.busy": "2022-06-06T00:51:43.640811Z",
     "iopub.status.idle": "2022-06-06T00:51:43.643946Z",
     "shell.execute_reply": "2022-06-06T00:51:43.643462Z"
    },
    "papermill": {
     "duration": 0.03477,
     "end_time": "2022-06-06T00:51:43.644076",
     "exception": false,
     "start_time": "2022-06-06T00:51:43.609306",
     "status": "completed"
    },
    "tags": []
   },
   "outputs": [],
   "source": [
    "comp = {'Monthly': 12, 'Yearly': 1, 'Weekly':52}\n",
    "\n",
    "def comp_level(x):\n",
    "    if x[salaryType] != x[salaryType]:\n",
    "        return x[salaryType]   \n",
    "    return x[salary] * comp[x[salaryType]] / x[0]"
   ]
  },
  {
   "cell_type": "code",
   "execution_count": 3,
   "id": "respiratory-relations",
   "metadata": {
    "execution": {
     "iopub.execute_input": "2022-06-06T00:51:43.681268Z",
     "iopub.status.busy": "2022-06-06T00:51:43.680483Z",
     "iopub.status.idle": "2022-06-06T00:51:43.683101Z",
     "shell.execute_reply": "2022-06-06T00:51:43.682415Z"
    },
    "papermill": {
     "duration": 0.022208,
     "end_time": "2022-06-06T00:51:43.683261",
     "exception": false,
     "start_time": "2022-06-06T00:51:43.661053",
     "status": "completed"
    },
    "tags": [
     "parameters"
    ]
   },
   "outputs": [],
   "source": [
    "year = 2021\n",
    "category= 'Programming'\n",
    "colworked = 'LanguageHaveWorkedWith'\n",
    "colwanted = 'LanguageWantToWorkWith'\n",
    "currency = 'Currency'\n",
    "salary = \"CompTotal\"\n",
    "salaryType = \"CompFreq\""
   ]
  },
  {
   "cell_type": "code",
   "execution_count": 4,
   "id": "serial-content",
   "metadata": {
    "execution": {
     "iopub.execute_input": "2022-06-06T00:51:43.716745Z",
     "iopub.status.busy": "2022-06-06T00:51:43.716244Z",
     "iopub.status.idle": "2022-06-06T00:51:43.718663Z",
     "shell.execute_reply": "2022-06-06T00:51:43.718149Z"
    },
    "papermill": {
     "duration": 0.020597,
     "end_time": "2022-06-06T00:51:43.718808",
     "exception": false,
     "start_time": "2022-06-06T00:51:43.698211",
     "status": "completed"
    },
    "tags": [
     "injected-parameters"
    ]
   },
   "outputs": [],
   "source": [
    "# Parameters\n",
    "year = 2017\n",
    "colworked = \"HaveWorkedLanguage\"\n",
    "colwanted = \"WantWorkLanguage\"\n",
    "currency = None\n",
    "salary = \"Salary\"\n",
    "salaryType = \"SalaryType\"\n",
    "category = \"Programming\"\n"
   ]
  },
  {
   "cell_type": "markdown",
   "id": "oriental-marks",
   "metadata": {
    "papermill": {
     "duration": 0.011851,
     "end_time": "2022-06-06T00:51:43.745883",
     "exception": false,
     "start_time": "2022-06-06T00:51:43.734032",
     "status": "completed"
    },
    "tags": []
   },
   "source": [
    "Cargamos los datos y mostramos su contenido"
   ]
  },
  {
   "cell_type": "code",
   "execution_count": 5,
   "id": "mediterranean-quantum",
   "metadata": {
    "execution": {
     "iopub.execute_input": "2022-06-06T00:51:43.777958Z",
     "iopub.status.busy": "2022-06-06T00:51:43.777466Z",
     "iopub.status.idle": "2022-06-06T00:51:45.427683Z",
     "shell.execute_reply": "2022-06-06T00:51:45.428039Z"
    },
    "papermill": {
     "duration": 1.670365,
     "end_time": "2022-06-06T00:51:45.428194",
     "exception": false,
     "start_time": "2022-06-06T00:51:43.757829",
     "status": "completed"
    },
    "tags": []
   },
   "outputs": [],
   "source": [
    "\n",
    "zf = zipfile.ZipFile(f'../surveys/stack-overflow-developer-survey-{year}.zip') \n",
    "devs = pd.read_csv(zf.open('survey_results_public.csv'))\n",
    "# Cargamos los ratios de conversion de las monedas a 1 de Diciembre de cada año.\n",
    "with open(f'../rates/rates-{year}.json', 'r') as f:\n",
    "  data = json.loads(f.read())\n",
    "rates = pd.json_normalize(data['rates']).transpose()"
   ]
  },
  {
   "cell_type": "markdown",
   "id": "virtual-uncertainty",
   "metadata": {
    "papermill": {
     "duration": 0.013737,
     "end_time": "2022-06-06T00:51:45.454936",
     "exception": false,
     "start_time": "2022-06-06T00:51:45.441199",
     "status": "completed"
    },
    "tags": []
   },
   "source": [
    "Eliminamos los nulos de las dos  propiedades que nos intersan"
   ]
  },
  {
   "cell_type": "code",
   "execution_count": 6,
   "id": "dangerous-hebrew",
   "metadata": {
    "execution": {
     "iopub.execute_input": "2022-06-06T00:51:45.494953Z",
     "iopub.status.busy": "2022-06-06T00:51:45.492164Z",
     "iopub.status.idle": "2022-06-06T00:51:45.500055Z",
     "shell.execute_reply": "2022-06-06T00:51:45.499652Z"
    },
    "papermill": {
     "duration": 0.028873,
     "end_time": "2022-06-06T00:51:45.500187",
     "exception": false,
     "start_time": "2022-06-06T00:51:45.471314",
     "status": "completed"
    },
    "tags": []
   },
   "outputs": [],
   "source": [
    "devs[colworked] = devs[colworked].fillna(\"\")\n",
    "devs[colwanted] = devs[colwanted].fillna(\"\")\n",
    "devs[salary]= devs[salary].replace(\"nan\", np.NaN)\n",
    "devs[salary]= pd.to_numeric(devs[salary], errors='coerce')"
   ]
  },
  {
   "cell_type": "code",
   "execution_count": 7,
   "id": "liquid-auditor",
   "metadata": {
    "execution": {
     "iopub.execute_input": "2022-06-06T00:51:45.534728Z",
     "iopub.status.busy": "2022-06-06T00:51:45.530704Z",
     "iopub.status.idle": "2022-06-06T00:51:48.232163Z",
     "shell.execute_reply": "2022-06-06T00:51:48.232558Z"
    },
    "papermill": {
     "duration": 2.72102,
     "end_time": "2022-06-06T00:51:48.232716",
     "exception": false,
     "start_time": "2022-06-06T00:51:45.511696",
     "status": "completed"
    },
    "tags": []
   },
   "outputs": [],
   "source": [
    "lang_worked = devs[colworked].str.replace(' ', '').str.get_dummies(sep=';')\n",
    "lang_want = devs[colwanted].str.replace(' ', '').str.get_dummies(sep=';')"
   ]
  },
  {
   "cell_type": "markdown",
   "id": "creative-chart",
   "metadata": {
    "papermill": {
     "duration": 0.02314,
     "end_time": "2022-06-06T00:51:48.273706",
     "exception": false,
     "start_time": "2022-06-06T00:51:48.250566",
     "status": "completed"
    },
    "tags": []
   },
   "source": [
    "Se nivela la compensacion para obtener el valor anual aproximado en USD, aplicando el cambio de divisa cargado del año"
   ]
  },
  {
   "cell_type": "code",
   "execution_count": 8,
   "id": "fatty-scratch",
   "metadata": {
    "execution": {
     "iopub.execute_input": "2022-06-06T00:51:48.317007Z",
     "iopub.status.busy": "2022-06-06T00:51:48.316518Z",
     "iopub.status.idle": "2022-06-06T00:51:48.319168Z",
     "shell.execute_reply": "2022-06-06T00:51:48.318754Z"
    },
    "papermill": {
     "duration": 0.022015,
     "end_time": "2022-06-06T00:51:48.319301",
     "exception": false,
     "start_time": "2022-06-06T00:51:48.297286",
     "status": "completed"
    },
    "tags": []
   },
   "outputs": [],
   "source": [
    "if currency:\n",
    "    devs[currency] = devs[currency].str[:3]\n",
    "    devs = pd.merge(devs, rates, left_on=currency, right_index=True)\n",
    "    devs['CompTotalUSD'] = devs.apply(comp_level, axis=1)\n",
    "else:\n",
    "    devs['CompTotalUSD'] = devs[salary]\n"
   ]
  },
  {
   "cell_type": "markdown",
   "id": "perceived-benchmark",
   "metadata": {
    "papermill": {
     "duration": 0.012762,
     "end_time": "2022-06-06T00:51:48.344620",
     "exception": false,
     "start_time": "2022-06-06T00:51:48.331858",
     "status": "completed"
    },
    "tags": []
   },
   "source": [
    "Obtenemos el dataframe con los distintos lenguajes y su compensacion"
   ]
  },
  {
   "cell_type": "code",
   "execution_count": 9,
   "id": "creative-family",
   "metadata": {
    "execution": {
     "iopub.execute_input": "2022-06-06T00:51:48.375347Z",
     "iopub.status.busy": "2022-06-06T00:51:48.374716Z",
     "iopub.status.idle": "2022-06-06T00:51:48.437850Z",
     "shell.execute_reply": "2022-06-06T00:51:48.438210Z"
    },
    "papermill": {
     "duration": 0.080467,
     "end_time": "2022-06-06T00:51:48.438366",
     "exception": false,
     "start_time": "2022-06-06T00:51:48.357899",
     "status": "completed"
    },
    "tags": []
   },
   "outputs": [],
   "source": [
    "comps = lang_worked.multiply( devs['CompTotalUSD']/1000, axis=\"index\").round(decimals=0).replace(0, np.NaN).median().astype('int')"
   ]
  },
  {
   "cell_type": "markdown",
   "id": "muslim-publication",
   "metadata": {
    "papermill": {
     "duration": 0.01137,
     "end_time": "2022-06-06T00:51:48.460888",
     "exception": false,
     "start_time": "2022-06-06T00:51:48.449518",
     "status": "completed"
    },
    "tags": []
   },
   "source": [
    "Calculamos el porcentaje de uso de cada lenguaje respecto del total.\n",
    "Como vamos a comparar años distintos con encuestados distintos por año, el porcentaje anual es una forma de nivelar y poder realizar la comparacion."
   ]
  },
  {
   "cell_type": "code",
   "execution_count": 10,
   "id": "precious-result",
   "metadata": {
    "execution": {
     "iopub.execute_input": "2022-06-06T00:51:48.491486Z",
     "iopub.status.busy": "2022-06-06T00:51:48.490789Z",
     "iopub.status.idle": "2022-06-06T00:51:48.498751Z",
     "shell.execute_reply": "2022-06-06T00:51:48.498283Z"
    },
    "papermill": {
     "duration": 0.025007,
     "end_time": "2022-06-06T00:51:48.498902",
     "exception": false,
     "start_time": "2022-06-06T00:51:48.473895",
     "status": "completed"
    },
    "tags": []
   },
   "outputs": [],
   "source": [
    "worked = lang_worked.sum() / len(lang_worked)\n",
    "wanted = lang_want.sum() / len(lang_want)"
   ]
  },
  {
   "cell_type": "markdown",
   "id": "alone-editing",
   "metadata": {
    "papermill": {
     "duration": 0.013002,
     "end_time": "2022-06-06T00:51:48.523961",
     "exception": false,
     "start_time": "2022-06-06T00:51:48.510959",
     "status": "completed"
    },
    "tags": []
   },
   "source": [
    "Unimos los dataframes de lenguajes trabajados en el año, lenguajes en los que se quiere trabajar, la compensacion y el año."
   ]
  },
  {
   "cell_type": "code",
   "execution_count": 11,
   "id": "deluxe-socket",
   "metadata": {
    "execution": {
     "iopub.execute_input": "2022-06-06T00:51:48.560864Z",
     "iopub.status.busy": "2022-06-06T00:51:48.560391Z",
     "iopub.status.idle": "2022-06-06T00:51:48.562983Z",
     "shell.execute_reply": "2022-06-06T00:51:48.562472Z"
    },
    "papermill": {
     "duration": 0.026365,
     "end_time": "2022-06-06T00:51:48.563110",
     "exception": false,
     "start_time": "2022-06-06T00:51:48.536745",
     "status": "completed"
    },
    "tags": []
   },
   "outputs": [],
   "source": [
    "w_df = pd.DataFrame(worked, columns= ['Worked'])\n",
    "w_df['Worked_per'] = (w_df['Worked'] * 100).round(1)\n",
    "wa_df = pd.DataFrame(wanted, columns= ['Wanted'])\n",
    "wa_df['Wanted_per'] = (w_df['Worked'] * 100).round(1)\n",
    "langs = pd.concat([w_df, wa_df, comps], axis=1)\n",
    "langs['Year'] = year\n",
    "langs.rename(columns={0: \"Salary\"}, inplace = True)\n",
    "langs['Category'] = category"
   ]
  },
  {
   "cell_type": "markdown",
   "id": "relevant-swiss",
   "metadata": {
    "papermill": {
     "duration": 0.013876,
     "end_time": "2022-06-06T00:51:48.590783",
     "exception": false,
     "start_time": "2022-06-06T00:51:48.576907",
     "status": "completed"
    },
    "tags": []
   },
   "source": [
    "Exportamos los datos procesados del año."
   ]
  },
  {
   "cell_type": "code",
   "execution_count": 12,
   "id": "portuguese-switzerland",
   "metadata": {
    "execution": {
     "iopub.execute_input": "2022-06-06T00:51:48.624011Z",
     "iopub.status.busy": "2022-06-06T00:51:48.623202Z",
     "iopub.status.idle": "2022-06-06T00:51:48.628204Z",
     "shell.execute_reply": "2022-06-06T00:51:48.627803Z"
    },
    "papermill": {
     "duration": 0.024253,
     "end_time": "2022-06-06T00:51:48.628337",
     "exception": false,
     "start_time": "2022-06-06T00:51:48.604084",
     "status": "completed"
    },
    "tags": []
   },
   "outputs": [],
   "source": [
    "langs.to_csv(f'../out/{year}_{category}.csv', index=True, index_label='Language')"
   ]
  }
 ],
 "metadata": {
  "celltoolbar": "Tags",
  "interpreter": {
   "hash": "9e4d46cb2e7439cd377379e4187049771cc0b6089dc8d4ad323c0b3c23302069"
  },
  "kernelspec": {
   "display_name": "Python 3 (ipykernel)",
   "language": "python",
   "name": "python3"
  },
  "language_info": {
   "codemirror_mode": {
    "name": "ipython",
    "version": 3
   },
   "file_extension": ".py",
   "mimetype": "text/x-python",
   "name": "python",
   "nbconvert_exporter": "python",
   "pygments_lexer": "ipython3",
   "version": "3.9.1"
  },
  "papermill": {
   "default_parameters": {},
   "duration": 6.311046,
   "end_time": "2022-06-06T00:51:48.950062",
   "environment_variables": {},
   "exception": null,
   "input_path": "data/jupyters/so_template_2017_2021.ipynb",
   "output_path": "data/jupyters/2017_Programming.ipynb",
   "parameters": {
    "category": "Programming",
    "colwanted": "WantWorkLanguage",
    "colworked": "HaveWorkedLanguage",
    "currency": null,
    "salary": "Salary",
    "salaryType": "SalaryType",
    "year": 2017
   },
   "start_time": "2022-06-06T00:51:42.639016",
   "version": "2.3.4"
  }
 },
 "nbformat": 4,
 "nbformat_minor": 5
}