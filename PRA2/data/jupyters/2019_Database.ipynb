{
 "cells": [
  {
   "cell_type": "code",
   "execution_count": 1,
   "id": "upper-education",
   "metadata": {
    "execution": {
     "iopub.execute_input": "2022-06-06T00:50:18.634114Z",
     "iopub.status.busy": "2022-06-06T00:50:18.633516Z",
     "iopub.status.idle": "2022-06-06T00:50:18.863336Z",
     "shell.execute_reply": "2022-06-06T00:50:18.862848Z"
    },
    "papermill": {
     "duration": 0.25695,
     "end_time": "2022-06-06T00:50:18.863473",
     "exception": false,
     "start_time": "2022-06-06T00:50:18.606523",
     "status": "completed"
    },
    "tags": []
   },
   "outputs": [],
   "source": [
    "#!pip install matplotlib-venn\n",
    "import numpy as np\n",
    "import pandas as pd\n",
    "import zipfile\n",
    "import json"
   ]
  },
  {
   "cell_type": "code",
   "execution_count": 2,
   "id": "sporting-module",
   "metadata": {
    "execution": {
     "iopub.execute_input": "2022-06-06T00:50:18.911643Z",
     "iopub.status.busy": "2022-06-06T00:50:18.911072Z",
     "iopub.status.idle": "2022-06-06T00:50:18.912995Z",
     "shell.execute_reply": "2022-06-06T00:50:18.913491Z"
    },
    "papermill": {
     "duration": 0.028077,
     "end_time": "2022-06-06T00:50:18.913767",
     "exception": false,
     "start_time": "2022-06-06T00:50:18.885690",
     "status": "completed"
    },
    "tags": []
   },
   "outputs": [],
   "source": [
    "comp = {'Monthly': 12, 'Yearly': 1, 'Weekly':52}\n",
    "\n",
    "def comp_level(x):\n",
    "    if x[salaryType] != x[salaryType]:\n",
    "        return x[salaryType]   \n",
    "    return x[salary] * comp[x[salaryType]] / x[0]"
   ]
  },
  {
   "cell_type": "code",
   "execution_count": 3,
   "id": "collected-vintage",
   "metadata": {
    "execution": {
     "iopub.execute_input": "2022-06-06T00:50:18.945360Z",
     "iopub.status.busy": "2022-06-06T00:50:18.944863Z",
     "iopub.status.idle": "2022-06-06T00:50:18.946420Z",
     "shell.execute_reply": "2022-06-06T00:50:18.946825Z"
    },
    "papermill": {
     "duration": 0.020609,
     "end_time": "2022-06-06T00:50:18.946994",
     "exception": false,
     "start_time": "2022-06-06T00:50:18.926385",
     "status": "completed"
    },
    "tags": [
     "parameters"
    ]
   },
   "outputs": [],
   "source": [
    "year = 2021\n",
    "category= 'Programming'\n",
    "colworked = 'LanguageHaveWorkedWith'\n",
    "colwanted = 'LanguageWantToWorkWith'\n",
    "currency = 'Currency'\n",
    "salary = \"CompTotal\"\n",
    "salaryType = \"CompFreq\""
   ]
  },
  {
   "cell_type": "code",
   "execution_count": 4,
   "id": "guided-procurement",
   "metadata": {
    "execution": {
     "iopub.execute_input": "2022-06-06T00:50:18.974148Z",
     "iopub.status.busy": "2022-06-06T00:50:18.973675Z",
     "iopub.status.idle": "2022-06-06T00:50:18.976003Z",
     "shell.execute_reply": "2022-06-06T00:50:18.975520Z"
    },
    "papermill": {
     "duration": 0.017602,
     "end_time": "2022-06-06T00:50:18.976130",
     "exception": false,
     "start_time": "2022-06-06T00:50:18.958528",
     "status": "completed"
    },
    "tags": [
     "injected-parameters"
    ]
   },
   "outputs": [],
   "source": [
    "# Parameters\n",
    "year = 2019\n",
    "colworked = \"DatabaseWorkedWith\"\n",
    "colwanted = \"DatabaseDesireNextYear\"\n",
    "currency = \"CurrencySymbol\"\n",
    "salary = \"CompTotal\"\n",
    "salaryType = \"CompFreq\"\n",
    "category = \"Database\"\n"
   ]
  },
  {
   "cell_type": "markdown",
   "id": "partial-riverside",
   "metadata": {
    "papermill": {
     "duration": 0.012118,
     "end_time": "2022-06-06T00:50:19.000568",
     "exception": false,
     "start_time": "2022-06-06T00:50:18.988450",
     "status": "completed"
    },
    "tags": []
   },
   "source": [
    "Cargamos los datos y mostramos su contenido"
   ]
  },
  {
   "cell_type": "code",
   "execution_count": 5,
   "id": "lesbian-gossip",
   "metadata": {
    "execution": {
     "iopub.execute_input": "2022-06-06T00:50:19.030516Z",
     "iopub.status.busy": "2022-06-06T00:50:19.029776Z",
     "iopub.status.idle": "2022-06-06T00:50:21.671017Z",
     "shell.execute_reply": "2022-06-06T00:50:21.670385Z"
    },
    "papermill": {
     "duration": 2.657856,
     "end_time": "2022-06-06T00:50:21.671205",
     "exception": false,
     "start_time": "2022-06-06T00:50:19.013349",
     "status": "completed"
    },
    "tags": []
   },
   "outputs": [],
   "source": [
    "\n",
    "zf = zipfile.ZipFile(f'../surveys/stack-overflow-developer-survey-{year}.zip') \n",
    "devs = pd.read_csv(zf.open('survey_results_public.csv'))\n",
    "# Cargamos los ratios de conversion de las monedas a 1 de Diciembre de cada año.\n",
    "with open(f'../rates/rates-{year}.json', 'r') as f:\n",
    "  data = json.loads(f.read())\n",
    "rates = pd.json_normalize(data['rates']).transpose()"
   ]
  },
  {
   "cell_type": "markdown",
   "id": "correct-cosmetic",
   "metadata": {
    "papermill": {
     "duration": 0.018736,
     "end_time": "2022-06-06T00:50:21.709787",
     "exception": false,
     "start_time": "2022-06-06T00:50:21.691051",
     "status": "completed"
    },
    "tags": []
   },
   "source": [
    "Eliminamos los nulos de las dos  propiedades que nos intersan"
   ]
  },
  {
   "cell_type": "code",
   "execution_count": 6,
   "id": "burning-doubt",
   "metadata": {
    "execution": {
     "iopub.execute_input": "2022-06-06T00:50:21.747512Z",
     "iopub.status.busy": "2022-06-06T00:50:21.747036Z",
     "iopub.status.idle": "2022-06-06T00:50:21.757374Z",
     "shell.execute_reply": "2022-06-06T00:50:21.756806Z"
    },
    "papermill": {
     "duration": 0.031803,
     "end_time": "2022-06-06T00:50:21.757512",
     "exception": false,
     "start_time": "2022-06-06T00:50:21.725709",
     "status": "completed"
    },
    "tags": []
   },
   "outputs": [],
   "source": [
    "devs[colworked] = devs[colworked].fillna(\"\")\n",
    "devs[colwanted] = devs[colwanted].fillna(\"\")\n",
    "devs[salary]= devs[salary].replace(\"nan\", np.NaN)\n",
    "devs[salary]= pd.to_numeric(devs[salary], errors='coerce')"
   ]
  },
  {
   "cell_type": "code",
   "execution_count": 7,
   "id": "annoying-accommodation",
   "metadata": {
    "execution": {
     "iopub.execute_input": "2022-06-06T00:50:21.791764Z",
     "iopub.status.busy": "2022-06-06T00:50:21.791180Z",
     "iopub.status.idle": "2022-06-06T00:50:23.820480Z",
     "shell.execute_reply": "2022-06-06T00:50:23.820050Z"
    },
    "papermill": {
     "duration": 2.05106,
     "end_time": "2022-06-06T00:50:23.820609",
     "exception": false,
     "start_time": "2022-06-06T00:50:21.769549",
     "status": "completed"
    },
    "tags": []
   },
   "outputs": [],
   "source": [
    "lang_worked = devs[colworked].str.replace(' ', '').str.get_dummies(sep=';')\n",
    "lang_want = devs[colwanted].str.replace(' ', '').str.get_dummies(sep=';')"
   ]
  },
  {
   "cell_type": "markdown",
   "id": "historical-officer",
   "metadata": {
    "papermill": {
     "duration": 0.014008,
     "end_time": "2022-06-06T00:50:23.846676",
     "exception": false,
     "start_time": "2022-06-06T00:50:23.832668",
     "status": "completed"
    },
    "tags": []
   },
   "source": [
    "Se nivela la compensacion para obtener el valor anual aproximado en USD, aplicando el cambio de divisa cargado del año"
   ]
  },
  {
   "cell_type": "code",
   "execution_count": 8,
   "id": "assigned-recognition",
   "metadata": {
    "execution": {
     "iopub.execute_input": "2022-06-06T00:50:23.890702Z",
     "iopub.status.busy": "2022-06-06T00:50:23.884958Z",
     "iopub.status.idle": "2022-06-06T00:50:26.454406Z",
     "shell.execute_reply": "2022-06-06T00:50:26.453365Z"
    },
    "papermill": {
     "duration": 2.593528,
     "end_time": "2022-06-06T00:50:26.454624",
     "exception": false,
     "start_time": "2022-06-06T00:50:23.861096",
     "status": "completed"
    },
    "tags": []
   },
   "outputs": [],
   "source": [
    "if currency:\n",
    "    devs[currency] = devs[currency].str[:3]\n",
    "    devs = pd.merge(devs, rates, left_on=currency, right_index=True)\n",
    "    devs['CompTotalUSD'] = devs.apply(comp_level, axis=1)\n",
    "else:\n",
    "    devs['CompTotalUSD'] = devs[salary]\n"
   ]
  },
  {
   "cell_type": "markdown",
   "id": "incorporated-minority",
   "metadata": {
    "papermill": {
     "duration": 0.02104,
     "end_time": "2022-06-06T00:50:26.500633",
     "exception": false,
     "start_time": "2022-06-06T00:50:26.479593",
     "status": "completed"
    },
    "tags": []
   },
   "source": [
    "Obtenemos el dataframe con los distintos lenguajes y su compensacion"
   ]
  },
  {
   "cell_type": "code",
   "execution_count": 9,
   "id": "solar-stretch",
   "metadata": {
    "execution": {
     "iopub.execute_input": "2022-06-06T00:50:26.538216Z",
     "iopub.status.busy": "2022-06-06T00:50:26.537619Z",
     "iopub.status.idle": "2022-06-06T00:50:26.588963Z",
     "shell.execute_reply": "2022-06-06T00:50:26.589354Z"
    },
    "papermill": {
     "duration": 0.07145,
     "end_time": "2022-06-06T00:50:26.589518",
     "exception": false,
     "start_time": "2022-06-06T00:50:26.518068",
     "status": "completed"
    },
    "tags": []
   },
   "outputs": [],
   "source": [
    "comps = lang_worked.multiply( devs['CompTotalUSD']/1000, axis=\"index\").round(decimals=0).replace(0, np.NaN).median().astype('int')"
   ]
  },
  {
   "cell_type": "markdown",
   "id": "nuclear-stream",
   "metadata": {
    "papermill": {
     "duration": 0.014993,
     "end_time": "2022-06-06T00:50:26.619701",
     "exception": false,
     "start_time": "2022-06-06T00:50:26.604708",
     "status": "completed"
    },
    "tags": []
   },
   "source": [
    "Calculamos el porcentaje de uso de cada lenguaje respecto del total.\n",
    "Como vamos a comparar años distintos con encuestados distintos por año, el porcentaje anual es una forma de nivelar y poder realizar la comparacion."
   ]
  },
  {
   "cell_type": "code",
   "execution_count": 10,
   "id": "painful-brunswick",
   "metadata": {
    "execution": {
     "iopub.execute_input": "2022-06-06T00:50:26.652915Z",
     "iopub.status.busy": "2022-06-06T00:50:26.652385Z",
     "iopub.status.idle": "2022-06-06T00:50:26.658571Z",
     "shell.execute_reply": "2022-06-06T00:50:26.658989Z"
    },
    "papermill": {
     "duration": 0.023485,
     "end_time": "2022-06-06T00:50:26.659149",
     "exception": false,
     "start_time": "2022-06-06T00:50:26.635664",
     "status": "completed"
    },
    "tags": []
   },
   "outputs": [],
   "source": [
    "worked = lang_worked.sum() / len(lang_worked)\n",
    "wanted = lang_want.sum() / len(lang_want)"
   ]
  },
  {
   "cell_type": "markdown",
   "id": "after-chicken",
   "metadata": {
    "papermill": {
     "duration": 0.011478,
     "end_time": "2022-06-06T00:50:26.682914",
     "exception": false,
     "start_time": "2022-06-06T00:50:26.671436",
     "status": "completed"
    },
    "tags": []
   },
   "source": [
    "Unimos los dataframes de lenguajes trabajados en el año, lenguajes en los que se quiere trabajar, la compensacion y el año."
   ]
  },
  {
   "cell_type": "code",
   "execution_count": 11,
   "id": "binding-atlantic",
   "metadata": {
    "execution": {
     "iopub.execute_input": "2022-06-06T00:50:26.723906Z",
     "iopub.status.busy": "2022-06-06T00:50:26.723406Z",
     "iopub.status.idle": "2022-06-06T00:50:26.725129Z",
     "shell.execute_reply": "2022-06-06T00:50:26.725513Z"
    },
    "papermill": {
     "duration": 0.029809,
     "end_time": "2022-06-06T00:50:26.725680",
     "exception": false,
     "start_time": "2022-06-06T00:50:26.695871",
     "status": "completed"
    },
    "tags": []
   },
   "outputs": [],
   "source": [
    "w_df = pd.DataFrame(worked, columns= ['Worked'])\n",
    "w_df['Worked_per'] = (w_df['Worked'] * 100).round(1)\n",
    "wa_df = pd.DataFrame(wanted, columns= ['Wanted'])\n",
    "wa_df['Wanted_per'] = (w_df['Worked'] * 100).round(1)\n",
    "langs = pd.concat([w_df, wa_df, comps], axis=1)\n",
    "langs['Year'] = year\n",
    "langs.rename(columns={0: \"Salary\"}, inplace = True)\n",
    "langs['Category'] = category"
   ]
  },
  {
   "cell_type": "markdown",
   "id": "expected-trauma",
   "metadata": {
    "papermill": {
     "duration": 0.012238,
     "end_time": "2022-06-06T00:50:26.751222",
     "exception": false,
     "start_time": "2022-06-06T00:50:26.738984",
     "status": "completed"
    },
    "tags": []
   },
   "source": [
    "Exportamos los datos procesados del año."
   ]
  },
  {
   "cell_type": "code",
   "execution_count": 12,
   "id": "engaged-schema",
   "metadata": {
    "execution": {
     "iopub.execute_input": "2022-06-06T00:50:26.782930Z",
     "iopub.status.busy": "2022-06-06T00:50:26.782379Z",
     "iopub.status.idle": "2022-06-06T00:50:26.786156Z",
     "shell.execute_reply": "2022-06-06T00:50:26.786554Z"
    },
    "papermill": {
     "duration": 0.021488,
     "end_time": "2022-06-06T00:50:26.786760",
     "exception": false,
     "start_time": "2022-06-06T00:50:26.765272",
     "status": "completed"
    },
    "tags": []
   },
   "outputs": [],
   "source": [
    "langs.to_csv(f'../out/{year}_{category}.csv', index=True, index_label='Language')"
   ]
  }
 ],
 "metadata": {
  "celltoolbar": "Tags",
  "interpreter": {
   "hash": "9e4d46cb2e7439cd377379e4187049771cc0b6089dc8d4ad323c0b3c23302069"
  },
  "kernelspec": {
   "display_name": "Python 3 (ipykernel)",
   "language": "python",
   "name": "python3"
  },
  "language_info": {
   "codemirror_mode": {
    "name": "ipython",
    "version": 3
   },
   "file_extension": ".py",
   "mimetype": "text/x-python",
   "name": "python",
   "nbconvert_exporter": "python",
   "pygments_lexer": "ipython3",
   "version": "3.9.1"
  },
  "papermill": {
   "default_parameters": {},
   "duration": 9.244374,
   "end_time": "2022-06-06T00:50:27.108077",
   "environment_variables": {},
   "exception": null,
   "input_path": "data/jupyters/so_template_2017_2021.ipynb",
   "output_path": "data/jupyters/2019_Database.ipynb",
   "parameters": {
    "category": "Database",
    "colwanted": "DatabaseDesireNextYear",
    "colworked": "DatabaseWorkedWith",
    "currency": "CurrencySymbol",
    "salary": "CompTotal",
    "salaryType": "CompFreq",
    "year": 2019
   },
   "start_time": "2022-06-06T00:50:17.863703",
   "version": "2.3.4"
  }
 },
 "nbformat": 4,
 "nbformat_minor": 5
}