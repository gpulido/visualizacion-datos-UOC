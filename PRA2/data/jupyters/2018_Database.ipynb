{
 "cells": [
  {
   "cell_type": "code",
   "execution_count": 1,
   "id": "female-association",
   "metadata": {
    "execution": {
     "iopub.execute_input": "2022-06-06T00:51:11.036143Z",
     "iopub.status.busy": "2022-06-06T00:51:11.035660Z",
     "iopub.status.idle": "2022-06-06T00:51:11.263444Z",
     "shell.execute_reply": "2022-06-06T00:51:11.262997Z"
    },
    "papermill": {
     "duration": 0.247746,
     "end_time": "2022-06-06T00:51:11.263586",
     "exception": false,
     "start_time": "2022-06-06T00:51:11.015840",
     "status": "completed"
    },
    "tags": []
   },
   "outputs": [],
   "source": [
    "#!pip install matplotlib-venn\n",
    "import numpy as np\n",
    "import pandas as pd\n",
    "import zipfile\n",
    "import json"
   ]
  },
  {
   "cell_type": "code",
   "execution_count": 2,
   "id": "green-shooting",
   "metadata": {
    "execution": {
     "iopub.execute_input": "2022-06-06T00:51:11.309516Z",
     "iopub.status.busy": "2022-06-06T00:51:11.308823Z",
     "iopub.status.idle": "2022-06-06T00:51:11.311400Z",
     "shell.execute_reply": "2022-06-06T00:51:11.310967Z"
    },
    "papermill": {
     "duration": 0.031174,
     "end_time": "2022-06-06T00:51:11.311547",
     "exception": false,
     "start_time": "2022-06-06T00:51:11.280373",
     "status": "completed"
    },
    "tags": []
   },
   "outputs": [],
   "source": [
    "comp = {'Monthly': 12, 'Yearly': 1, 'Weekly':52}\n",
    "\n",
    "def comp_level(x):\n",
    "    if x[salaryType] != x[salaryType]:\n",
    "        return x[salaryType]   \n",
    "    return x[salary] * comp[x[salaryType]] / x[0]"
   ]
  },
  {
   "cell_type": "code",
   "execution_count": 3,
   "id": "czech-three",
   "metadata": {
    "execution": {
     "iopub.execute_input": "2022-06-06T00:51:11.347983Z",
     "iopub.status.busy": "2022-06-06T00:51:11.347177Z",
     "iopub.status.idle": "2022-06-06T00:51:11.349334Z",
     "shell.execute_reply": "2022-06-06T00:51:11.349940Z"
    },
    "papermill": {
     "duration": 0.020859,
     "end_time": "2022-06-06T00:51:11.350116",
     "exception": false,
     "start_time": "2022-06-06T00:51:11.329257",
     "status": "completed"
    },
    "tags": [
     "parameters"
    ]
   },
   "outputs": [],
   "source": [
    "year = 2021\n",
    "category= 'Programming'\n",
    "colworked = 'LanguageHaveWorkedWith'\n",
    "colwanted = 'LanguageWantToWorkWith'\n",
    "currency = 'Currency'\n",
    "salary = \"CompTotal\"\n",
    "salaryType = \"CompFreq\""
   ]
  },
  {
   "cell_type": "code",
   "execution_count": 4,
   "id": "important-developer",
   "metadata": {
    "execution": {
     "iopub.execute_input": "2022-06-06T00:51:11.383481Z",
     "iopub.status.busy": "2022-06-06T00:51:11.382412Z",
     "iopub.status.idle": "2022-06-06T00:51:11.384320Z",
     "shell.execute_reply": "2022-06-06T00:51:11.384943Z"
    },
    "papermill": {
     "duration": 0.021983,
     "end_time": "2022-06-06T00:51:11.385188",
     "exception": false,
     "start_time": "2022-06-06T00:51:11.363205",
     "status": "completed"
    },
    "tags": [
     "injected-parameters"
    ]
   },
   "outputs": [],
   "source": [
    "# Parameters\n",
    "year = 2018\n",
    "colworked = \"DatabaseWorkedWith\"\n",
    "colwanted = \"DatabaseDesireNextYear\"\n",
    "currency = \"CurrencySymbol\"\n",
    "salary = \"Salary\"\n",
    "salaryType = \"SalaryType\"\n",
    "category = \"Database\"\n"
   ]
  },
  {
   "cell_type": "markdown",
   "id": "bizarre-dakota",
   "metadata": {
    "papermill": {
     "duration": 0.017137,
     "end_time": "2022-06-06T00:51:11.423482",
     "exception": false,
     "start_time": "2022-06-06T00:51:11.406345",
     "status": "completed"
    },
    "tags": []
   },
   "source": [
    "Cargamos los datos y mostramos su contenido"
   ]
  },
  {
   "cell_type": "code",
   "execution_count": 5,
   "id": "suspended-bidder",
   "metadata": {
    "execution": {
     "iopub.execute_input": "2022-06-06T00:51:11.455248Z",
     "iopub.status.busy": "2022-06-06T00:51:11.454428Z",
     "iopub.status.idle": "2022-06-06T00:51:14.514507Z",
     "shell.execute_reply": "2022-06-06T00:51:14.514049Z"
    },
    "papermill": {
     "duration": 3.077666,
     "end_time": "2022-06-06T00:51:14.514628",
     "exception": false,
     "start_time": "2022-06-06T00:51:11.436962",
     "status": "completed"
    },
    "tags": []
   },
   "outputs": [
    {
     "name": "stderr",
     "output_type": "stream",
     "text": [
      "/home/gpt/app/anaconda3/envs/uoc20202pec1/lib/python3.9/site-packages/IPython/core/interactiveshell.py:3165: DtypeWarning: Columns (8,12,13,14,15,16,50,51,52,53,55,56,57,58,59,60,61,62,63,64,65,66,67,68,69,70,71,72,73,74,75,76,77,78,79,80,81,82,83,84,85,93,94,95,96,97,98,99,100,101,102,103,104,105,106,107,108,109,110,111,112,113,114,115,116,117,118,119,120,121,122,123,124,125,126,127,128) have mixed types.Specify dtype option on import or set low_memory=False.\n",
      "  has_raised = await self.run_ast_nodes(code_ast.body, cell_name,\n"
     ]
    }
   ],
   "source": [
    "\n",
    "zf = zipfile.ZipFile(f'../surveys/stack-overflow-developer-survey-{year}.zip') \n",
    "devs = pd.read_csv(zf.open('survey_results_public.csv'))\n",
    "# Cargamos los ratios de conversion de las monedas a 1 de Diciembre de cada año.\n",
    "with open(f'../rates/rates-{year}.json', 'r') as f:\n",
    "  data = json.loads(f.read())\n",
    "rates = pd.json_normalize(data['rates']).transpose()"
   ]
  },
  {
   "cell_type": "markdown",
   "id": "appointed-friendly",
   "metadata": {
    "papermill": {
     "duration": 0.026089,
     "end_time": "2022-06-06T00:51:14.564237",
     "exception": false,
     "start_time": "2022-06-06T00:51:14.538148",
     "status": "completed"
    },
    "tags": []
   },
   "source": [
    "Eliminamos los nulos de las dos  propiedades que nos intersan"
   ]
  },
  {
   "cell_type": "code",
   "execution_count": 6,
   "id": "induced-affiliation",
   "metadata": {
    "execution": {
     "iopub.execute_input": "2022-06-06T00:51:14.607443Z",
     "iopub.status.busy": "2022-06-06T00:51:14.606582Z",
     "iopub.status.idle": "2022-06-06T00:51:14.733873Z",
     "shell.execute_reply": "2022-06-06T00:51:14.733407Z"
    },
    "papermill": {
     "duration": 0.149765,
     "end_time": "2022-06-06T00:51:14.734010",
     "exception": false,
     "start_time": "2022-06-06T00:51:14.584245",
     "status": "completed"
    },
    "tags": []
   },
   "outputs": [],
   "source": [
    "devs[colworked] = devs[colworked].fillna(\"\")\n",
    "devs[colwanted] = devs[colwanted].fillna(\"\")\n",
    "devs[salary]= devs[salary].replace(\"nan\", np.NaN)\n",
    "devs[salary]= pd.to_numeric(devs[salary], errors='coerce')"
   ]
  },
  {
   "cell_type": "code",
   "execution_count": 7,
   "id": "colonial-advantage",
   "metadata": {
    "execution": {
     "iopub.execute_input": "2022-06-06T00:51:14.775368Z",
     "iopub.status.busy": "2022-06-06T00:51:14.774869Z",
     "iopub.status.idle": "2022-06-06T00:51:18.040648Z",
     "shell.execute_reply": "2022-06-06T00:51:18.039962Z"
    },
    "papermill": {
     "duration": 3.293108,
     "end_time": "2022-06-06T00:51:18.040850",
     "exception": false,
     "start_time": "2022-06-06T00:51:14.747742",
     "status": "completed"
    },
    "tags": []
   },
   "outputs": [],
   "source": [
    "lang_worked = devs[colworked].str.replace(' ', '').str.get_dummies(sep=';')\n",
    "lang_want = devs[colwanted].str.replace(' ', '').str.get_dummies(sep=';')"
   ]
  },
  {
   "cell_type": "markdown",
   "id": "exact-yorkshire",
   "metadata": {
    "papermill": {
     "duration": 0.026959,
     "end_time": "2022-06-06T00:51:18.088610",
     "exception": false,
     "start_time": "2022-06-06T00:51:18.061651",
     "status": "completed"
    },
    "tags": []
   },
   "source": [
    "Se nivela la compensacion para obtener el valor anual aproximado en USD, aplicando el cambio de divisa cargado del año"
   ]
  },
  {
   "cell_type": "code",
   "execution_count": 8,
   "id": "responsible-introduction",
   "metadata": {
    "execution": {
     "iopub.execute_input": "2022-06-06T00:51:18.133521Z",
     "iopub.status.busy": "2022-06-06T00:51:18.128605Z",
     "iopub.status.idle": "2022-06-06T00:51:20.396349Z",
     "shell.execute_reply": "2022-06-06T00:51:20.395913Z"
    },
    "papermill": {
     "duration": 2.293351,
     "end_time": "2022-06-06T00:51:20.396481",
     "exception": false,
     "start_time": "2022-06-06T00:51:18.103130",
     "status": "completed"
    },
    "tags": []
   },
   "outputs": [],
   "source": [
    "if currency:\n",
    "    devs[currency] = devs[currency].str[:3]\n",
    "    devs = pd.merge(devs, rates, left_on=currency, right_index=True)\n",
    "    devs['CompTotalUSD'] = devs.apply(comp_level, axis=1)\n",
    "else:\n",
    "    devs['CompTotalUSD'] = devs[salary]\n"
   ]
  },
  {
   "cell_type": "markdown",
   "id": "familiar-words",
   "metadata": {
    "papermill": {
     "duration": 0.023041,
     "end_time": "2022-06-06T00:51:20.443186",
     "exception": false,
     "start_time": "2022-06-06T00:51:20.420145",
     "status": "completed"
    },
    "tags": []
   },
   "source": [
    "Obtenemos el dataframe con los distintos lenguajes y su compensacion"
   ]
  },
  {
   "cell_type": "code",
   "execution_count": 9,
   "id": "wanted-style",
   "metadata": {
    "execution": {
     "iopub.execute_input": "2022-06-06T00:51:20.480551Z",
     "iopub.status.busy": "2022-06-06T00:51:20.480031Z",
     "iopub.status.idle": "2022-06-06T00:51:20.549101Z",
     "shell.execute_reply": "2022-06-06T00:51:20.549652Z"
    },
    "papermill": {
     "duration": 0.089656,
     "end_time": "2022-06-06T00:51:20.549885",
     "exception": false,
     "start_time": "2022-06-06T00:51:20.460229",
     "status": "completed"
    },
    "tags": []
   },
   "outputs": [],
   "source": [
    "comps = lang_worked.multiply( devs['CompTotalUSD']/1000, axis=\"index\").round(decimals=0).replace(0, np.NaN).median().astype('int')"
   ]
  },
  {
   "cell_type": "markdown",
   "id": "incorporated-unemployment",
   "metadata": {
    "papermill": {
     "duration": 0.012651,
     "end_time": "2022-06-06T00:51:20.580379",
     "exception": false,
     "start_time": "2022-06-06T00:51:20.567728",
     "status": "completed"
    },
    "tags": []
   },
   "source": [
    "Calculamos el porcentaje de uso de cada lenguaje respecto del total.\n",
    "Como vamos a comparar años distintos con encuestados distintos por año, el porcentaje anual es una forma de nivelar y poder realizar la comparacion."
   ]
  },
  {
   "cell_type": "code",
   "execution_count": 10,
   "id": "hollow-vacation",
   "metadata": {
    "execution": {
     "iopub.execute_input": "2022-06-06T00:51:20.612533Z",
     "iopub.status.busy": "2022-06-06T00:51:20.611881Z",
     "iopub.status.idle": "2022-06-06T00:51:20.619819Z",
     "shell.execute_reply": "2022-06-06T00:51:20.619309Z"
    },
    "papermill": {
     "duration": 0.024569,
     "end_time": "2022-06-06T00:51:20.619955",
     "exception": false,
     "start_time": "2022-06-06T00:51:20.595386",
     "status": "completed"
    },
    "tags": []
   },
   "outputs": [],
   "source": [
    "worked = lang_worked.sum() / len(lang_worked)\n",
    "wanted = lang_want.sum() / len(lang_want)"
   ]
  },
  {
   "cell_type": "markdown",
   "id": "welsh-interface",
   "metadata": {
    "papermill": {
     "duration": 0.011577,
     "end_time": "2022-06-06T00:51:20.643761",
     "exception": false,
     "start_time": "2022-06-06T00:51:20.632184",
     "status": "completed"
    },
    "tags": []
   },
   "source": [
    "Unimos los dataframes de lenguajes trabajados en el año, lenguajes en los que se quiere trabajar, la compensacion y el año."
   ]
  },
  {
   "cell_type": "code",
   "execution_count": 11,
   "id": "introductory-treatment",
   "metadata": {
    "execution": {
     "iopub.execute_input": "2022-06-06T00:51:20.681727Z",
     "iopub.status.busy": "2022-06-06T00:51:20.681236Z",
     "iopub.status.idle": "2022-06-06T00:51:20.683996Z",
     "shell.execute_reply": "2022-06-06T00:51:20.683563Z"
    },
    "papermill": {
     "duration": 0.02823,
     "end_time": "2022-06-06T00:51:20.684127",
     "exception": false,
     "start_time": "2022-06-06T00:51:20.655897",
     "status": "completed"
    },
    "tags": []
   },
   "outputs": [],
   "source": [
    "w_df = pd.DataFrame(worked, columns= ['Worked'])\n",
    "w_df['Worked_per'] = (w_df['Worked'] * 100).round(1)\n",
    "wa_df = pd.DataFrame(wanted, columns= ['Wanted'])\n",
    "wa_df['Wanted_per'] = (w_df['Worked'] * 100).round(1)\n",
    "langs = pd.concat([w_df, wa_df, comps], axis=1)\n",
    "langs['Year'] = year\n",
    "langs.rename(columns={0: \"Salary\"}, inplace = True)\n",
    "langs['Category'] = category"
   ]
  },
  {
   "cell_type": "markdown",
   "id": "editorial-accent",
   "metadata": {
    "papermill": {
     "duration": 0.013447,
     "end_time": "2022-06-06T00:51:20.710550",
     "exception": false,
     "start_time": "2022-06-06T00:51:20.697103",
     "status": "completed"
    },
    "tags": []
   },
   "source": [
    "Exportamos los datos procesados del año."
   ]
  },
  {
   "cell_type": "code",
   "execution_count": 12,
   "id": "southeast-truck",
   "metadata": {
    "execution": {
     "iopub.execute_input": "2022-06-06T00:51:20.743967Z",
     "iopub.status.busy": "2022-06-06T00:51:20.743429Z",
     "iopub.status.idle": "2022-06-06T00:51:20.747657Z",
     "shell.execute_reply": "2022-06-06T00:51:20.747259Z"
    },
    "papermill": {
     "duration": 0.022474,
     "end_time": "2022-06-06T00:51:20.747782",
     "exception": false,
     "start_time": "2022-06-06T00:51:20.725308",
     "status": "completed"
    },
    "tags": []
   },
   "outputs": [],
   "source": [
    "langs.to_csv(f'../out/{year}_{category}.csv', index=True, index_label='Language')"
   ]
  }
 ],
 "metadata": {
  "celltoolbar": "Tags",
  "interpreter": {
   "hash": "9e4d46cb2e7439cd377379e4187049771cc0b6089dc8d4ad323c0b3c23302069"
  },
  "kernelspec": {
   "display_name": "Python 3 (ipykernel)",
   "language": "python",
   "name": "python3"
  },
  "language_info": {
   "codemirror_mode": {
    "name": "ipython",
    "version": 3
   },
   "file_extension": ".py",
   "mimetype": "text/x-python",
   "name": "python",
   "nbconvert_exporter": "python",
   "pygments_lexer": "ipython3",
   "version": "3.9.1"
  },
  "papermill": {
   "default_parameters": {},
   "duration": 10.832124,
   "end_time": "2022-06-06T00:51:21.169353",
   "environment_variables": {},
   "exception": null,
   "input_path": "data/jupyters/so_template_2017_2021.ipynb",
   "output_path": "data/jupyters/2018_Database.ipynb",
   "parameters": {
    "category": "Database",
    "colwanted": "DatabaseDesireNextYear",
    "colworked": "DatabaseWorkedWith",
    "currency": "CurrencySymbol",
    "salary": "Salary",
    "salaryType": "SalaryType",
    "year": 2018
   },
   "start_time": "2022-06-06T00:51:10.337229",
   "version": "2.3.4"
  }
 },
 "nbformat": 4,
 "nbformat_minor": 5
}