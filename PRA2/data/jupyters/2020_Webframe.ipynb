{
 "cells": [
  {
   "cell_type": "code",
   "execution_count": 1,
   "id": "palestinian-amber",
   "metadata": {
    "execution": {
     "iopub.execute_input": "2022-06-06T00:49:45.748877Z",
     "iopub.status.busy": "2022-06-06T00:49:45.748382Z",
     "iopub.status.idle": "2022-06-06T00:49:45.985585Z",
     "shell.execute_reply": "2022-06-06T00:49:45.986004Z"
    },
    "papermill": {
     "duration": 0.252669,
     "end_time": "2022-06-06T00:49:45.986221",
     "exception": false,
     "start_time": "2022-06-06T00:49:45.733552",
     "status": "completed"
    },
    "tags": []
   },
   "outputs": [],
   "source": [
    "#!pip install matplotlib-venn\n",
    "import numpy as np\n",
    "import pandas as pd\n",
    "import zipfile\n",
    "import json"
   ]
  },
  {
   "cell_type": "code",
   "execution_count": 2,
   "id": "prescription-binding",
   "metadata": {
    "execution": {
     "iopub.execute_input": "2022-06-06T00:49:46.028353Z",
     "iopub.status.busy": "2022-06-06T00:49:46.027562Z",
     "iopub.status.idle": "2022-06-06T00:49:46.030026Z",
     "shell.execute_reply": "2022-06-06T00:49:46.029543Z"
    },
    "papermill": {
     "duration": 0.026676,
     "end_time": "2022-06-06T00:49:46.030167",
     "exception": false,
     "start_time": "2022-06-06T00:49:46.003491",
     "status": "completed"
    },
    "tags": []
   },
   "outputs": [],
   "source": [
    "comp = {'Monthly': 12, 'Yearly': 1, 'Weekly':52}\n",
    "\n",
    "def comp_level(x):\n",
    "    if x[salaryType] != x[salaryType]:\n",
    "        return x[salaryType]   \n",
    "    return x[salary] * comp[x[salaryType]] / x[0]"
   ]
  },
  {
   "cell_type": "code",
   "execution_count": 3,
   "id": "korean-badge",
   "metadata": {
    "execution": {
     "iopub.execute_input": "2022-06-06T00:49:46.062580Z",
     "iopub.status.busy": "2022-06-06T00:49:46.062098Z",
     "iopub.status.idle": "2022-06-06T00:49:46.065346Z",
     "shell.execute_reply": "2022-06-06T00:49:46.064591Z"
    },
    "papermill": {
     "duration": 0.02018,
     "end_time": "2022-06-06T00:49:46.065583",
     "exception": false,
     "start_time": "2022-06-06T00:49:46.045403",
     "status": "completed"
    },
    "tags": [
     "parameters"
    ]
   },
   "outputs": [],
   "source": [
    "year = 2021\n",
    "category= 'Programming'\n",
    "colworked = 'LanguageHaveWorkedWith'\n",
    "colwanted = 'LanguageWantToWorkWith'\n",
    "currency = 'Currency'\n",
    "salary = \"CompTotal\"\n",
    "salaryType = \"CompFreq\""
   ]
  },
  {
   "cell_type": "code",
   "execution_count": 4,
   "id": "recent-bumper",
   "metadata": {
    "execution": {
     "iopub.execute_input": "2022-06-06T00:49:46.094999Z",
     "iopub.status.busy": "2022-06-06T00:49:46.094504Z",
     "iopub.status.idle": "2022-06-06T00:49:46.096158Z",
     "shell.execute_reply": "2022-06-06T00:49:46.096519Z"
    },
    "papermill": {
     "duration": 0.017744,
     "end_time": "2022-06-06T00:49:46.096661",
     "exception": false,
     "start_time": "2022-06-06T00:49:46.078917",
     "status": "completed"
    },
    "tags": [
     "injected-parameters"
    ]
   },
   "outputs": [],
   "source": [
    "# Parameters\n",
    "year = 2020\n",
    "colworked = \"WebframeWorkedWith\"\n",
    "colwanted = \"WebframeDesireNextYear\"\n",
    "currency = \"CurrencySymbol\"\n",
    "salary = \"CompTotal\"\n",
    "salaryType = \"CompFreq\"\n",
    "category = \"Webframe\"\n"
   ]
  },
  {
   "cell_type": "markdown",
   "id": "educated-faith",
   "metadata": {
    "papermill": {
     "duration": 0.011398,
     "end_time": "2022-06-06T00:49:46.120175",
     "exception": false,
     "start_time": "2022-06-06T00:49:46.108777",
     "status": "completed"
    },
    "tags": []
   },
   "source": [
    "Cargamos los datos y mostramos su contenido"
   ]
  },
  {
   "cell_type": "code",
   "execution_count": 5,
   "id": "thrown-medicaid",
   "metadata": {
    "execution": {
     "iopub.execute_input": "2022-06-06T00:49:46.149440Z",
     "iopub.status.busy": "2022-06-06T00:49:46.148968Z",
     "iopub.status.idle": "2022-06-06T00:49:47.531877Z",
     "shell.execute_reply": "2022-06-06T00:49:47.532573Z"
    },
    "papermill": {
     "duration": 1.399569,
     "end_time": "2022-06-06T00:49:47.532819",
     "exception": false,
     "start_time": "2022-06-06T00:49:46.133250",
     "status": "completed"
    },
    "tags": []
   },
   "outputs": [],
   "source": [
    "\n",
    "zf = zipfile.ZipFile(f'../surveys/stack-overflow-developer-survey-{year}.zip') \n",
    "devs = pd.read_csv(zf.open('survey_results_public.csv'))\n",
    "# Cargamos los ratios de conversion de las monedas a 1 de Diciembre de cada año.\n",
    "with open(f'../rates/rates-{year}.json', 'r') as f:\n",
    "  data = json.loads(f.read())\n",
    "rates = pd.json_normalize(data['rates']).transpose()"
   ]
  },
  {
   "cell_type": "markdown",
   "id": "provincial-mambo",
   "metadata": {
    "papermill": {
     "duration": 0.014943,
     "end_time": "2022-06-06T00:49:47.569366",
     "exception": false,
     "start_time": "2022-06-06T00:49:47.554423",
     "status": "completed"
    },
    "tags": []
   },
   "source": [
    "Eliminamos los nulos de las dos  propiedades que nos intersan"
   ]
  },
  {
   "cell_type": "code",
   "execution_count": 6,
   "id": "mediterranean-blowing",
   "metadata": {
    "execution": {
     "iopub.execute_input": "2022-06-06T00:49:47.599686Z",
     "iopub.status.busy": "2022-06-06T00:49:47.599188Z",
     "iopub.status.idle": "2022-06-06T00:49:47.607454Z",
     "shell.execute_reply": "2022-06-06T00:49:47.607822Z"
    },
    "papermill": {
     "duration": 0.026988,
     "end_time": "2022-06-06T00:49:47.607998",
     "exception": false,
     "start_time": "2022-06-06T00:49:47.581010",
     "status": "completed"
    },
    "tags": []
   },
   "outputs": [],
   "source": [
    "devs[colworked] = devs[colworked].fillna(\"\")\n",
    "devs[colwanted] = devs[colwanted].fillna(\"\")\n",
    "devs[salary]= devs[salary].replace(\"nan\", np.NaN)\n",
    "devs[salary]= pd.to_numeric(devs[salary], errors='coerce')"
   ]
  },
  {
   "cell_type": "code",
   "execution_count": 7,
   "id": "freelance-court",
   "metadata": {
    "execution": {
     "iopub.execute_input": "2022-06-06T00:49:47.667037Z",
     "iopub.status.busy": "2022-06-06T00:49:47.661710Z",
     "iopub.status.idle": "2022-06-06T00:49:49.246690Z",
     "shell.execute_reply": "2022-06-06T00:49:49.247121Z"
    },
    "papermill": {
     "duration": 1.627987,
     "end_time": "2022-06-06T00:49:49.247379",
     "exception": false,
     "start_time": "2022-06-06T00:49:47.619392",
     "status": "completed"
    },
    "tags": []
   },
   "outputs": [],
   "source": [
    "lang_worked = devs[colworked].str.replace(' ', '').str.get_dummies(sep=';')\n",
    "lang_want = devs[colwanted].str.replace(' ', '').str.get_dummies(sep=';')"
   ]
  },
  {
   "cell_type": "markdown",
   "id": "virgin-toddler",
   "metadata": {
    "papermill": {
     "duration": 0.022569,
     "end_time": "2022-06-06T00:49:49.288617",
     "exception": false,
     "start_time": "2022-06-06T00:49:49.266048",
     "status": "completed"
    },
    "tags": []
   },
   "source": [
    "Se nivela la compensacion para obtener el valor anual aproximado en USD, aplicando el cambio de divisa cargado del año"
   ]
  },
  {
   "cell_type": "code",
   "execution_count": 8,
   "id": "committed-grave",
   "metadata": {
    "execution": {
     "iopub.execute_input": "2022-06-06T00:49:49.330042Z",
     "iopub.status.busy": "2022-06-06T00:49:49.326703Z",
     "iopub.status.idle": "2022-06-06T00:49:50.847652Z",
     "shell.execute_reply": "2022-06-06T00:49:50.847200Z"
    },
    "papermill": {
     "duration": 1.540775,
     "end_time": "2022-06-06T00:49:50.847781",
     "exception": false,
     "start_time": "2022-06-06T00:49:49.307006",
     "status": "completed"
    },
    "tags": []
   },
   "outputs": [],
   "source": [
    "if currency:\n",
    "    devs[currency] = devs[currency].str[:3]\n",
    "    devs = pd.merge(devs, rates, left_on=currency, right_index=True)\n",
    "    devs['CompTotalUSD'] = devs.apply(comp_level, axis=1)\n",
    "else:\n",
    "    devs['CompTotalUSD'] = devs[salary]\n"
   ]
  },
  {
   "cell_type": "markdown",
   "id": "exempt-victoria",
   "metadata": {
    "papermill": {
     "duration": 0.012783,
     "end_time": "2022-06-06T00:49:50.873539",
     "exception": false,
     "start_time": "2022-06-06T00:49:50.860756",
     "status": "completed"
    },
    "tags": []
   },
   "source": [
    "Obtenemos el dataframe con los distintos lenguajes y su compensacion"
   ]
  },
  {
   "cell_type": "code",
   "execution_count": 9,
   "id": "impressed-queen",
   "metadata": {
    "execution": {
     "iopub.execute_input": "2022-06-06T00:49:50.905571Z",
     "iopub.status.busy": "2022-06-06T00:49:50.904702Z",
     "iopub.status.idle": "2022-06-06T00:49:50.956547Z",
     "shell.execute_reply": "2022-06-06T00:49:50.956111Z"
    },
    "papermill": {
     "duration": 0.069062,
     "end_time": "2022-06-06T00:49:50.956676",
     "exception": false,
     "start_time": "2022-06-06T00:49:50.887614",
     "status": "completed"
    },
    "tags": []
   },
   "outputs": [],
   "source": [
    "comps = lang_worked.multiply( devs['CompTotalUSD']/1000, axis=\"index\").round(decimals=0).replace(0, np.NaN).median().astype('int')"
   ]
  },
  {
   "cell_type": "markdown",
   "id": "cross-bishop",
   "metadata": {
    "papermill": {
     "duration": 0.012567,
     "end_time": "2022-06-06T00:49:50.981819",
     "exception": false,
     "start_time": "2022-06-06T00:49:50.969252",
     "status": "completed"
    },
    "tags": []
   },
   "source": [
    "Calculamos el porcentaje de uso de cada lenguaje respecto del total.\n",
    "Como vamos a comparar años distintos con encuestados distintos por año, el porcentaje anual es una forma de nivelar y poder realizar la comparacion."
   ]
  },
  {
   "cell_type": "code",
   "execution_count": 10,
   "id": "corrected-champion",
   "metadata": {
    "execution": {
     "iopub.execute_input": "2022-06-06T00:49:51.015048Z",
     "iopub.status.busy": "2022-06-06T00:49:51.013904Z",
     "iopub.status.idle": "2022-06-06T00:49:51.019612Z",
     "shell.execute_reply": "2022-06-06T00:49:51.020046Z"
    },
    "papermill": {
     "duration": 0.026436,
     "end_time": "2022-06-06T00:49:51.020226",
     "exception": false,
     "start_time": "2022-06-06T00:49:50.993790",
     "status": "completed"
    },
    "tags": []
   },
   "outputs": [],
   "source": [
    "worked = lang_worked.sum() / len(lang_worked)\n",
    "wanted = lang_want.sum() / len(lang_want)"
   ]
  },
  {
   "cell_type": "markdown",
   "id": "departmental-peoples",
   "metadata": {
    "papermill": {
     "duration": 0.011708,
     "end_time": "2022-06-06T00:49:51.044346",
     "exception": false,
     "start_time": "2022-06-06T00:49:51.032638",
     "status": "completed"
    },
    "tags": []
   },
   "source": [
    "Unimos los dataframes de lenguajes trabajados en el año, lenguajes en los que se quiere trabajar, la compensacion y el año."
   ]
  },
  {
   "cell_type": "code",
   "execution_count": 11,
   "id": "elect-institute",
   "metadata": {
    "execution": {
     "iopub.execute_input": "2022-06-06T00:49:51.077278Z",
     "iopub.status.busy": "2022-06-06T00:49:51.076521Z",
     "iopub.status.idle": "2022-06-06T00:49:51.080263Z",
     "shell.execute_reply": "2022-06-06T00:49:51.080649Z"
    },
    "papermill": {
     "duration": 0.02475,
     "end_time": "2022-06-06T00:49:51.080805",
     "exception": false,
     "start_time": "2022-06-06T00:49:51.056055",
     "status": "completed"
    },
    "tags": []
   },
   "outputs": [],
   "source": [
    "w_df = pd.DataFrame(worked, columns= ['Worked'])\n",
    "w_df['Worked_per'] = (w_df['Worked'] * 100).round(1)\n",
    "wa_df = pd.DataFrame(wanted, columns= ['Wanted'])\n",
    "wa_df['Wanted_per'] = (w_df['Worked'] * 100).round(1)\n",
    "langs = pd.concat([w_df, wa_df, comps], axis=1)\n",
    "langs['Year'] = year\n",
    "langs.rename(columns={0: \"Salary\"}, inplace = True)\n",
    "langs['Category'] = category"
   ]
  },
  {
   "cell_type": "markdown",
   "id": "swedish-third",
   "metadata": {
    "papermill": {
     "duration": 0.014224,
     "end_time": "2022-06-06T00:49:51.108062",
     "exception": false,
     "start_time": "2022-06-06T00:49:51.093838",
     "status": "completed"
    },
    "tags": []
   },
   "source": [
    "Exportamos los datos procesados del año."
   ]
  },
  {
   "cell_type": "code",
   "execution_count": 12,
   "id": "dense-throw",
   "metadata": {
    "execution": {
     "iopub.execute_input": "2022-06-06T00:49:51.138463Z",
     "iopub.status.busy": "2022-06-06T00:49:51.137951Z",
     "iopub.status.idle": "2022-06-06T00:49:51.143839Z",
     "shell.execute_reply": "2022-06-06T00:49:51.143419Z"
    },
    "papermill": {
     "duration": 0.021725,
     "end_time": "2022-06-06T00:49:51.143967",
     "exception": false,
     "start_time": "2022-06-06T00:49:51.122242",
     "status": "completed"
    },
    "tags": []
   },
   "outputs": [],
   "source": [
    "langs.to_csv(f'../out/{year}_{category}.csv', index=True, index_label='Language')"
   ]
  }
 ],
 "metadata": {
  "celltoolbar": "Tags",
  "interpreter": {
   "hash": "9e4d46cb2e7439cd377379e4187049771cc0b6089dc8d4ad323c0b3c23302069"
  },
  "kernelspec": {
   "display_name": "Python 3 (ipykernel)",
   "language": "python",
   "name": "python3"
  },
  "language_info": {
   "codemirror_mode": {
    "name": "ipython",
    "version": 3
   },
   "file_extension": ".py",
   "mimetype": "text/x-python",
   "name": "python",
   "nbconvert_exporter": "python",
   "pygments_lexer": "ipython3",
   "version": "3.9.1"
  },
  "papermill": {
   "default_parameters": {},
   "duration": 6.45647,
   "end_time": "2022-06-06T00:49:51.465162",
   "environment_variables": {},
   "exception": null,
   "input_path": "data/jupyters/so_template_2017_2021.ipynb",
   "output_path": "data/jupyters/2020_Webframe.ipynb",
   "parameters": {
    "category": "Webframe",
    "colwanted": "WebframeDesireNextYear",
    "colworked": "WebframeWorkedWith",
    "currency": "CurrencySymbol",
    "salary": "CompTotal",
    "salaryType": "CompFreq",
    "year": 2020
   },
   "start_time": "2022-06-06T00:49:45.008692",
   "version": "2.3.4"
  }
 },
 "nbformat": 4,
 "nbformat_minor": 5
}